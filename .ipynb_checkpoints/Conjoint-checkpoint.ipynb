{
 "cells": [
  {
   "cell_type": "markdown",
   "id": "82f674f6974efde8",
   "metadata": {},
   "source": [
    "# **CONJOINT ANALYSIS**\n",
    "---\n",
    "## Table of Contents\n",
    "\n",
    "### 1. Data Collection\n",
    "- 1.1. Product Selection and Attribute Definition\n",
    "- 1.1. Bundles' Choice\n",
    "\n",
    "### 2. Data Pre-Processing\n",
    "- 2.1. Data Manipulation\n",
    "- 2.2. EDA Analysis\n",
    "  - 2.2.1. Demographic Variables\n",
    "  - 2.2.2. Consumption Habits\n",
    "- 2.3. Potential Customers\n",
    "\n",
    "### 3. Conjoint Analysis\n",
    "- 3.1. Dataset Creation and Adjustments\n",
    "- 3.2. Analysis\n",
    "  - 3.2.1. Single Respondent\n",
    "  - 3.2.2. Total Conjoint\n",
    "  - 3.2.3. Existing Products Comparison\n",
    "  - 3.2.4. Attributes' Influences\n",
    "- 3.3. Market Share Estimation\n",
    "  - 3.3.1. Market Shares Using the Share-of-Preference Rule\n",
    "  - 3.3.2. Creating a Competitive Market Scenario\n",
    "  - 3.3.3. Market Shares Using the First-Choice Rule\n",
    "- 3.4. Potential Customers Analysis\n",
    "\n",
    "### 4. Choice-Based Conjoint Analysis\n",
    "- 4.3.1. Survey Design and Data Collection\n",
    "- 4.3.2. Analysis of Results\n",
    "- 4.3.3. Market Shares\n",
    "\n",
    "### 5. Conclusion"
   ]
  },
  {
   "cell_type": "markdown",
   "id": "46880c6235507343",
   "metadata": {},
   "source": [
    "---\n",
    "**Conjoint Analysis** is a marketing research technique used to understand how consumers evaluate and choose products based on various characteristics (attributes and levels). The goal is to measure the value that consumers place on each attribute, helping companies design products that better align with market preferences.\n",
    "\n",
    "In this context, our analysis specifically aims to evaluate whether the introduction of a B2C product (**fish skewer**) would be viable for MarePiù, given that the company currently operates primarily in the B2B market. By exploring consumer preferences through Conjoint Analysis, we can gain detailed insights into which combinations of attributes are most appreciated by consumers. "
   ]
  },
  {
   "cell_type": "code",
   "execution_count": 1,
   "id": "2e57f447cfcaa69b",
   "metadata": {
    "ExecuteTime": {
     "end_time": "2025-02-06T11:12:42.911046Z",
     "start_time": "2025-02-06T11:12:38.216828Z"
    }
   },
   "outputs": [],
   "source": [
    "suppressMessages(library(radiant))\n",
    "suppressMessages(library(tidyverse))\n",
    "suppressMessages(library(ggplot2))\n",
    "suppressMessages(library(dplyr))\n",
    "suppressMessages(library(tidyr))\n",
    "suppressMessages(library(gridExtra))\n",
    "suppressMessages(library(reshape2))\n",
    "suppressMessages(library(readxl))\n",
    "#No errors during the package loading -> suppressMessages() function to avoid displaying the warning, ensuring a smoother flow of the notebook."
   ]
  },
  {
   "cell_type": "markdown",
   "id": "990eb367ed419551",
   "metadata": {},
   "source": [
    "---\n",
    "\n",
    "\n",
    "## **1. Data collection**"
   ]
  },
  {
   "cell_type": "markdown",
   "id": "d6eb8eef5d8dbc8e",
   "metadata": {},
   "source": [
    "To collect the data, we designed a survey using Google Forms and distributed it via a link to our family and friends.\n",
    "\n",
    "The questionnaire consists of three sections:  \n",
    "- The first section gathers **demographic information** such as age, education level, and other relevant details.  \n",
    "- The second section explores **consumption habits**, focusing on the frequency of fish consumption, both in general and specifically for frozen fish.  \n",
    "- The core part of the survey, designed for the conjoint analysis, asks respondents to **evaluate in a range 0 to 10 different fish skewers** based on various attributes.\n",
    "\n",
    "We collected a total of **122 responses**, of which **95 were from frozen fish consumers** who provided the required evaluations for the analysis.\n",
    "\n",
    "---"
   ]
  },
  {
   "cell_type": "markdown",
   "id": "f3a597a2-278f-4bea-8503-b3fce671136c",
   "metadata": {},
   "source": [
    "### **1.1.  Product Selection and Attribute Definition**\n",
    "\n",
    "The product was selected for the conjoint analysis because the company under consideration offers *fish skewers* in various types for the **B2B** market. Our objective is to identify the best combination of attributes to introduce into the **B2C** market.\n",
    "\n",
    "To achieve this, we selected certain characteristics already listed on the **Marepiù** website and used them as attributes for the study.  \n",
    "\n",
    "Additionally, we incorporated other characteristics based on insights from our previous **segmentation analysis**, which highlighted the necessity of diversification in **packaging format** and **cooking time**. Given these findings, we decided to include them in the conjoint analysis.\n",
    "\n",
    "The **price** was excluded from the study because we lacked information on the company's production costs. Using generic price ranges (e.g., high, medium, low) would not have provided meaningful or actionable insights for the conjoint analysis.\n",
    "\n",
    "\n",
    "Attributes and Levels:\n",
    "- **Panatura** (nessuna, panko, gratinati)\n",
    "- **Tipo di pesce** (gambero, salmone, calamaro)\n",
    "- **Tempo di preparazione** (meno di 8 min, tra 8 e 15 min, più di 15 min)\n",
    "- **Formato confezione** (monoporzione, doppia porzione, formato famiglia)\n",
    "- **Spezie** (nessuna, prezzemolo e basilico, salvia e rosmarino)\n",
    "\n",
    "---"
   ]
  },
  {
   "cell_type": "markdown",
   "id": "cdb654a9-d25d-4ceb-9860-42dd59442a14",
   "metadata": {},
   "source": [
    "### **1.1. Bundles' Choice**"
   ]
  },
  {
   "cell_type": "markdown",
   "id": "a9b39364-a8c1-465f-87d9-636a68895285",
   "metadata": {},
   "source": [
    "To determine **how many** and **which** bundles to include in the survey, we used the *DOE (Design of Experiments)* function, which helps generate random combinations of attributes and understand the optimal number of bundles to propose, in order to avoid overwhelming the respondents."
   ]
  },
  {
   "cell_type": "code",
   "execution_count": 2,
   "id": "55f4aac4a7b59951",
   "metadata": {
    "ExecuteTime": {
     "end_time": "2025-02-06T11:12:42.963047Z",
     "start_time": "2025-02-06T11:12:42.935798Z"
    }
   },
   "outputs": [],
   "source": [
    "data.attribute1 <- \"Panatura; Nessuna; Panko; Gratinati\"\n",
    "data.attribute2 <- \"Tipo di pesce; Gambero; Salmone; Calamaro\"\n",
    "data.attribute3 <- \"Tempo di Preparazione; Meno di 8; Tra 8 e 15; Più di 15\"\n",
    "data.attribute4 <- \"Formato confezione; monoporzione; doppia porzione; formato famiglia\"\n",
    "data.attribute5 <- 'Spezie; Nessuna; Prezzemolo e Basilico; Salvia e Rosmarino'\n",
    "\n",
    "\n",
    "data.attributes <- c(data.attribute1, data.attribute2, data.attribute3, data.attribute4, data.attribute5)"
   ]
  },
  {
   "cell_type": "code",
   "execution_count": 3,
   "id": "c9ed1eb3d7b97737",
   "metadata": {
    "ExecuteTime": {
     "end_time": "2025-02-06T11:12:43.501240Z",
     "start_time": "2025-02-06T11:12:42.983841Z"
    }
   },
   "outputs": [
    {
     "name": "stdout",
     "output_type": "stream",
     "text": [
      "Experimental design\n",
      "# trials for partial factorial: 18 \n",
      "# trials for full factorial   : 243 \n",
      "Random seed                   : 42 \n",
      "\n",
      "Attributes and levels:\n",
      "Panatura: Nessuna, Panko, Gratinati \n",
      "Tipo_di_pesce: Gambero, Salmone, Calamaro \n",
      "Tempo_di_Preparazione: Meno_di_8, Tra_8_e_15, Più_di_15 \n",
      "Formato_confezione: monoporzione, doppia_porzione, formato_famiglia \n",
      "Spezie: Nessuna, Prezzemolo_e_Basilico, Salvia_e_Rosmarino \n",
      "\n",
      "Design efficiency:\n",
      " Trials D-efficiency Balanced\n",
      "     11        0.554    FALSE\n",
      "     12        0.731     TRUE\n",
      "     13        0.651    FALSE\n",
      "     14        0.704    FALSE\n",
      "     15        0.653     TRUE\n",
      "     16        0.703    FALSE\n",
      "     17        0.352    FALSE\n",
      "     18        1.000     TRUE\n",
      "\n",
      "Partial factorial design correlations:\n",
      "** Note: Variables are assumed to be ordinal **\n",
      "                      Panatura Tipo_di_pesce Tempo_di_Preparazione\n",
      "Panatura                     1             0                     0\n",
      "Tipo_di_pesce                0             1                     0\n",
      "Tempo_di_Preparazione        0             0                     1\n",
      "Formato_confezione           0             0                     0\n",
      "Spezie                       0             0                     0\n",
      "                      Formato_confezione Spezie\n",
      "Panatura                               0      0\n",
      "Tipo_di_pesce                          0      0\n",
      "Tempo_di_Preparazione                  0      0\n",
      "Formato_confezione                     1      0\n",
      "Spezie                                 0      1\n",
      "\n",
      "Partial factorial design:\n",
      " trial  Panatura Tipo_di_pesce Tempo_di_Preparazione Formato_confezione\n",
      "     7   Nessuna       Gambero             Meno_di_8   formato_famiglia\n",
      "    15   Nessuna       Gambero            Tra_8_e_15    doppia_porzione\n",
      "    29   Nessuna       Salmone             Meno_di_8       monoporzione\n",
      "    46   Nessuna       Salmone             Più_di_15       monoporzione\n",
      "    71   Nessuna      Calamaro            Tra_8_e_15   formato_famiglia\n",
      "    78   Nessuna      Calamaro             Più_di_15    doppia_porzione\n",
      "    86     Panko       Gambero             Meno_di_8    doppia_porzione\n",
      "   106     Panko       Gambero             Più_di_15   formato_famiglia\n",
      "   126     Panko       Salmone            Tra_8_e_15   formato_famiglia\n",
      "   131     Panko       Salmone             Più_di_15    doppia_porzione\n",
      "   138     Panko      Calamaro             Meno_di_8       monoporzione\n",
      "   145     Panko      Calamaro            Tra_8_e_15       monoporzione\n",
      "   173 Gratinati       Gambero            Tra_8_e_15       monoporzione\n",
      "   183 Gratinati       Gambero             Più_di_15       monoporzione\n",
      "   198 Gratinati       Salmone             Meno_di_8   formato_famiglia\n",
      "   202 Gratinati       Salmone            Tra_8_e_15    doppia_porzione\n",
      "   220 Gratinati      Calamaro             Meno_di_8    doppia_porzione\n",
      "   242 Gratinati      Calamaro             Più_di_15   formato_famiglia\n",
      "                Spezie\n",
      "               Nessuna\n",
      "    Salvia_e_Rosmarino\n",
      " Prezzemolo_e_Basilico\n",
      "               Nessuna\n",
      " Prezzemolo_e_Basilico\n",
      "    Salvia_e_Rosmarino\n",
      " Prezzemolo_e_Basilico\n",
      "               Nessuna\n",
      "    Salvia_e_Rosmarino\n",
      " Prezzemolo_e_Basilico\n",
      "    Salvia_e_Rosmarino\n",
      "               Nessuna\n",
      " Prezzemolo_e_Basilico\n",
      "    Salvia_e_Rosmarino\n",
      "    Salvia_e_Rosmarino\n",
      "               Nessuna\n",
      "               Nessuna\n",
      " Prezzemolo_e_Basilico\n",
      "\n",
      "Estimable effects from partial factorial design:\n",
      "\n",
      "  Panatura|Panko\n",
      "  Panatura|Gratinati\n",
      "  Tipo_di_pesce|Salmone\n",
      "  Tipo_di_pesce|Calamaro\n",
      "  Tempo_di_Preparazione|Tra_8_e_15\n",
      "  Tempo_di_Preparazione|Più_di_15\n",
      "  Formato_confezione|doppia_porzione\n",
      "  Formato_confezione|formato_famiglia\n",
      "  Spezie|Prezzemolo_e_Basilico\n",
      "  Spezie|Salvia_e_Rosmarino\n",
      "  Panatura|Panko:Tipo_di_pesce|Salmone\n",
      "  Panatura|Gratinati:Tipo_di_pesce|Salmone\n",
      "  Panatura|Panko:Tipo_di_pesce|Calamaro\n",
      "  Panatura|Panko:Tempo_di_Preparazione|Tra_8_e_15\n",
      "  Panatura|Gratinati:Tempo_di_Preparazione|Tra_8_e_15\n",
      "  Panatura|Panko:Tempo_di_Preparazione|Più_di_15\n",
      "  Panatura|Gratinati:Tempo_di_Preparazione|Più_di_15 \n",
      "\n",
      "Full factorial design:\n",
      " trial  Panatura Tipo_di_pesce Tempo_di_Preparazione Formato_confezione\n",
      "     1   Nessuna       Gambero             Meno_di_8       monoporzione\n",
      "     2   Nessuna       Gambero             Meno_di_8       monoporzione\n",
      "     3   Nessuna       Gambero             Meno_di_8       monoporzione\n",
      "     4   Nessuna       Gambero             Meno_di_8    doppia_porzione\n",
      "     5   Nessuna       Gambero             Meno_di_8    doppia_porzione\n",
      "     6   Nessuna       Gambero             Meno_di_8    doppia_porzione\n",
      "     7   Nessuna       Gambero             Meno_di_8   formato_famiglia\n",
      "     8   Nessuna       Gambero             Meno_di_8   formato_famiglia\n",
      "     9   Nessuna       Gambero             Meno_di_8   formato_famiglia\n",
      "    10   Nessuna       Gambero            Tra_8_e_15       monoporzione\n",
      "    11   Nessuna       Gambero            Tra_8_e_15       monoporzione\n",
      "    12   Nessuna       Gambero            Tra_8_e_15       monoporzione\n",
      "    13   Nessuna       Gambero            Tra_8_e_15    doppia_porzione\n",
      "    14   Nessuna       Gambero            Tra_8_e_15    doppia_porzione\n",
      "    15   Nessuna       Gambero            Tra_8_e_15    doppia_porzione\n",
      "    16   Nessuna       Gambero            Tra_8_e_15   formato_famiglia\n",
      "    17   Nessuna       Gambero            Tra_8_e_15   formato_famiglia\n",
      "    18   Nessuna       Gambero            Tra_8_e_15   formato_famiglia\n",
      "    19   Nessuna       Gambero             Più_di_15       monoporzione\n",
      "    20   Nessuna       Gambero             Più_di_15       monoporzione\n",
      "    21   Nessuna       Gambero             Più_di_15       monoporzione\n",
      "    22   Nessuna       Gambero             Più_di_15    doppia_porzione\n",
      "    23   Nessuna       Gambero             Più_di_15    doppia_porzione\n",
      "    24   Nessuna       Gambero             Più_di_15    doppia_porzione\n",
      "    25   Nessuna       Gambero             Più_di_15   formato_famiglia\n",
      "    26   Nessuna       Gambero             Più_di_15   formato_famiglia\n",
      "    27   Nessuna       Gambero             Più_di_15   formato_famiglia\n",
      "    28   Nessuna       Salmone             Meno_di_8       monoporzione\n",
      "    29   Nessuna       Salmone             Meno_di_8       monoporzione\n",
      "    30   Nessuna       Salmone             Meno_di_8       monoporzione\n",
      "    31   Nessuna       Salmone             Meno_di_8    doppia_porzione\n",
      "    32   Nessuna       Salmone             Meno_di_8    doppia_porzione\n",
      "    33   Nessuna       Salmone             Meno_di_8    doppia_porzione\n",
      "    34   Nessuna       Salmone             Meno_di_8   formato_famiglia\n",
      "    35   Nessuna       Salmone             Meno_di_8   formato_famiglia\n",
      "    36   Nessuna       Salmone             Meno_di_8   formato_famiglia\n",
      "    37   Nessuna       Salmone            Tra_8_e_15       monoporzione\n",
      "    38   Nessuna       Salmone            Tra_8_e_15       monoporzione\n",
      "    39   Nessuna       Salmone            Tra_8_e_15       monoporzione\n",
      "    40   Nessuna       Salmone            Tra_8_e_15    doppia_porzione\n",
      "    41   Nessuna       Salmone            Tra_8_e_15    doppia_porzione\n",
      "    42   Nessuna       Salmone            Tra_8_e_15    doppia_porzione\n",
      "    43   Nessuna       Salmone            Tra_8_e_15   formato_famiglia\n",
      "    44   Nessuna       Salmone            Tra_8_e_15   formato_famiglia\n",
      "    45   Nessuna       Salmone            Tra_8_e_15   formato_famiglia\n",
      "    46   Nessuna       Salmone             Più_di_15       monoporzione\n",
      "    47   Nessuna       Salmone             Più_di_15       monoporzione\n",
      "    48   Nessuna       Salmone             Più_di_15       monoporzione\n",
      "    49   Nessuna       Salmone             Più_di_15    doppia_porzione\n",
      "    50   Nessuna       Salmone             Più_di_15    doppia_porzione\n",
      "    51   Nessuna       Salmone             Più_di_15    doppia_porzione\n",
      "    52   Nessuna       Salmone             Più_di_15   formato_famiglia\n",
      "    53   Nessuna       Salmone             Più_di_15   formato_famiglia\n",
      "    54   Nessuna       Salmone             Più_di_15   formato_famiglia\n",
      "    55   Nessuna      Calamaro             Meno_di_8       monoporzione\n",
      "    56   Nessuna      Calamaro             Meno_di_8       monoporzione\n",
      "    57   Nessuna      Calamaro             Meno_di_8       monoporzione\n",
      "    58   Nessuna      Calamaro             Meno_di_8    doppia_porzione\n",
      "    59   Nessuna      Calamaro             Meno_di_8    doppia_porzione\n",
      "    60   Nessuna      Calamaro             Meno_di_8    doppia_porzione\n",
      "    61   Nessuna      Calamaro             Meno_di_8   formato_famiglia\n",
      "    62   Nessuna      Calamaro             Meno_di_8   formato_famiglia\n",
      "    63   Nessuna      Calamaro             Meno_di_8   formato_famiglia\n",
      "    64   Nessuna      Calamaro            Tra_8_e_15       monoporzione\n",
      "    65   Nessuna      Calamaro            Tra_8_e_15       monoporzione\n",
      "    66   Nessuna      Calamaro            Tra_8_e_15       monoporzione\n",
      "    67   Nessuna      Calamaro            Tra_8_e_15    doppia_porzione\n",
      "    68   Nessuna      Calamaro            Tra_8_e_15    doppia_porzione\n",
      "    69   Nessuna      Calamaro            Tra_8_e_15    doppia_porzione\n",
      "    70   Nessuna      Calamaro            Tra_8_e_15   formato_famiglia\n",
      "    71   Nessuna      Calamaro            Tra_8_e_15   formato_famiglia\n",
      "    72   Nessuna      Calamaro            Tra_8_e_15   formato_famiglia\n",
      "    73   Nessuna      Calamaro             Più_di_15       monoporzione\n",
      "    74   Nessuna      Calamaro             Più_di_15       monoporzione\n",
      "    75   Nessuna      Calamaro             Più_di_15       monoporzione\n",
      "    76   Nessuna      Calamaro             Più_di_15    doppia_porzione\n",
      "    77   Nessuna      Calamaro             Più_di_15    doppia_porzione\n",
      "    78   Nessuna      Calamaro             Più_di_15    doppia_porzione\n",
      "    79   Nessuna      Calamaro             Più_di_15   formato_famiglia\n",
      "    80   Nessuna      Calamaro             Più_di_15   formato_famiglia\n",
      "    81   Nessuna      Calamaro             Più_di_15   formato_famiglia\n",
      "    82     Panko       Gambero             Meno_di_8       monoporzione\n",
      "    83     Panko       Gambero             Meno_di_8       monoporzione\n",
      "    84     Panko       Gambero             Meno_di_8       monoporzione\n",
      "    85     Panko       Gambero             Meno_di_8    doppia_porzione\n",
      "    86     Panko       Gambero             Meno_di_8    doppia_porzione\n",
      "    87     Panko       Gambero             Meno_di_8    doppia_porzione\n",
      "    88     Panko       Gambero             Meno_di_8   formato_famiglia\n",
      "    89     Panko       Gambero             Meno_di_8   formato_famiglia\n",
      "    90     Panko       Gambero             Meno_di_8   formato_famiglia\n",
      "    91     Panko       Gambero            Tra_8_e_15       monoporzione\n",
      "    92     Panko       Gambero            Tra_8_e_15       monoporzione\n",
      "    93     Panko       Gambero            Tra_8_e_15       monoporzione\n",
      "    94     Panko       Gambero            Tra_8_e_15    doppia_porzione\n",
      "    95     Panko       Gambero            Tra_8_e_15    doppia_porzione\n",
      "    96     Panko       Gambero            Tra_8_e_15    doppia_porzione\n",
      "    97     Panko       Gambero            Tra_8_e_15   formato_famiglia\n",
      "    98     Panko       Gambero            Tra_8_e_15   formato_famiglia\n",
      "    99     Panko       Gambero            Tra_8_e_15   formato_famiglia\n",
      "   100     Panko       Gambero             Più_di_15       monoporzione\n",
      "   101     Panko       Gambero             Più_di_15       monoporzione\n",
      "   102     Panko       Gambero             Più_di_15       monoporzione\n",
      "   103     Panko       Gambero             Più_di_15    doppia_porzione\n",
      "   104     Panko       Gambero             Più_di_15    doppia_porzione\n",
      "   105     Panko       Gambero             Più_di_15    doppia_porzione\n",
      "   106     Panko       Gambero             Più_di_15   formato_famiglia\n",
      "   107     Panko       Gambero             Più_di_15   formato_famiglia\n",
      "   108     Panko       Gambero             Più_di_15   formato_famiglia\n",
      "   109     Panko       Salmone             Meno_di_8       monoporzione\n",
      "   110     Panko       Salmone             Meno_di_8       monoporzione\n",
      "   111     Panko       Salmone             Meno_di_8       monoporzione\n",
      "   112     Panko       Salmone             Meno_di_8    doppia_porzione\n",
      "   113     Panko       Salmone             Meno_di_8    doppia_porzione\n",
      "   114     Panko       Salmone             Meno_di_8    doppia_porzione\n",
      "   115     Panko       Salmone             Meno_di_8   formato_famiglia\n",
      "   116     Panko       Salmone             Meno_di_8   formato_famiglia\n",
      "   117     Panko       Salmone             Meno_di_8   formato_famiglia\n",
      "   118     Panko       Salmone            Tra_8_e_15       monoporzione\n",
      "   119     Panko       Salmone            Tra_8_e_15       monoporzione\n",
      "   120     Panko       Salmone            Tra_8_e_15       monoporzione\n",
      "   121     Panko       Salmone            Tra_8_e_15    doppia_porzione\n",
      "   122     Panko       Salmone            Tra_8_e_15    doppia_porzione\n",
      "   123     Panko       Salmone            Tra_8_e_15    doppia_porzione\n",
      "   124     Panko       Salmone            Tra_8_e_15   formato_famiglia\n",
      "   125     Panko       Salmone            Tra_8_e_15   formato_famiglia\n",
      "   126     Panko       Salmone            Tra_8_e_15   formato_famiglia\n",
      "   127     Panko       Salmone             Più_di_15       monoporzione\n",
      "   128     Panko       Salmone             Più_di_15       monoporzione\n",
      "   129     Panko       Salmone             Più_di_15       monoporzione\n",
      "   130     Panko       Salmone             Più_di_15    doppia_porzione\n",
      "   131     Panko       Salmone             Più_di_15    doppia_porzione\n",
      "   132     Panko       Salmone             Più_di_15    doppia_porzione\n",
      "   133     Panko       Salmone             Più_di_15   formato_famiglia\n",
      "   134     Panko       Salmone             Più_di_15   formato_famiglia\n",
      "   135     Panko       Salmone             Più_di_15   formato_famiglia\n",
      "   136     Panko      Calamaro             Meno_di_8       monoporzione\n",
      "   137     Panko      Calamaro             Meno_di_8       monoporzione\n",
      "   138     Panko      Calamaro             Meno_di_8       monoporzione\n",
      "   139     Panko      Calamaro             Meno_di_8    doppia_porzione\n",
      "   140     Panko      Calamaro             Meno_di_8    doppia_porzione\n",
      "   141     Panko      Calamaro             Meno_di_8    doppia_porzione\n",
      "   142     Panko      Calamaro             Meno_di_8   formato_famiglia\n",
      "   143     Panko      Calamaro             Meno_di_8   formato_famiglia\n",
      "   144     Panko      Calamaro             Meno_di_8   formato_famiglia\n",
      "   145     Panko      Calamaro            Tra_8_e_15       monoporzione\n",
      "   146     Panko      Calamaro            Tra_8_e_15       monoporzione\n",
      "   147     Panko      Calamaro            Tra_8_e_15       monoporzione\n",
      "   148     Panko      Calamaro            Tra_8_e_15    doppia_porzione\n",
      "   149     Panko      Calamaro            Tra_8_e_15    doppia_porzione\n",
      "   150     Panko      Calamaro            Tra_8_e_15    doppia_porzione\n",
      "   151     Panko      Calamaro            Tra_8_e_15   formato_famiglia\n",
      "   152     Panko      Calamaro            Tra_8_e_15   formato_famiglia\n",
      "   153     Panko      Calamaro            Tra_8_e_15   formato_famiglia\n",
      "   154     Panko      Calamaro             Più_di_15       monoporzione\n",
      "   155     Panko      Calamaro             Più_di_15       monoporzione\n",
      "   156     Panko      Calamaro             Più_di_15       monoporzione\n",
      "   157     Panko      Calamaro             Più_di_15    doppia_porzione\n",
      "   158     Panko      Calamaro             Più_di_15    doppia_porzione\n",
      "   159     Panko      Calamaro             Più_di_15    doppia_porzione\n",
      "   160     Panko      Calamaro             Più_di_15   formato_famiglia\n",
      "   161     Panko      Calamaro             Più_di_15   formato_famiglia\n",
      "   162     Panko      Calamaro             Più_di_15   formato_famiglia\n",
      "   163 Gratinati       Gambero             Meno_di_8       monoporzione\n",
      "   164 Gratinati       Gambero             Meno_di_8       monoporzione\n",
      "   165 Gratinati       Gambero             Meno_di_8       monoporzione\n",
      "   166 Gratinati       Gambero             Meno_di_8    doppia_porzione\n",
      "   167 Gratinati       Gambero             Meno_di_8    doppia_porzione\n",
      "   168 Gratinati       Gambero             Meno_di_8    doppia_porzione\n",
      "   169 Gratinati       Gambero             Meno_di_8   formato_famiglia\n",
      "   170 Gratinati       Gambero             Meno_di_8   formato_famiglia\n",
      "   171 Gratinati       Gambero             Meno_di_8   formato_famiglia\n",
      "   172 Gratinati       Gambero            Tra_8_e_15       monoporzione\n",
      "   173 Gratinati       Gambero            Tra_8_e_15       monoporzione\n",
      "   174 Gratinati       Gambero            Tra_8_e_15       monoporzione\n",
      "   175 Gratinati       Gambero            Tra_8_e_15    doppia_porzione\n",
      "   176 Gratinati       Gambero            Tra_8_e_15    doppia_porzione\n",
      "   177 Gratinati       Gambero            Tra_8_e_15    doppia_porzione\n",
      "   178 Gratinati       Gambero            Tra_8_e_15   formato_famiglia\n",
      "   179 Gratinati       Gambero            Tra_8_e_15   formato_famiglia\n",
      "   180 Gratinati       Gambero            Tra_8_e_15   formato_famiglia\n",
      "   181 Gratinati       Gambero             Più_di_15       monoporzione\n",
      "   182 Gratinati       Gambero             Più_di_15       monoporzione\n",
      "   183 Gratinati       Gambero             Più_di_15       monoporzione\n",
      "   184 Gratinati       Gambero             Più_di_15    doppia_porzione\n",
      "   185 Gratinati       Gambero             Più_di_15    doppia_porzione\n",
      "   186 Gratinati       Gambero             Più_di_15    doppia_porzione\n",
      "   187 Gratinati       Gambero             Più_di_15   formato_famiglia\n",
      "   188 Gratinati       Gambero             Più_di_15   formato_famiglia\n",
      "   189 Gratinati       Gambero             Più_di_15   formato_famiglia\n",
      "   190 Gratinati       Salmone             Meno_di_8       monoporzione\n",
      "   191 Gratinati       Salmone             Meno_di_8       monoporzione\n",
      "   192 Gratinati       Salmone             Meno_di_8       monoporzione\n",
      "   193 Gratinati       Salmone             Meno_di_8    doppia_porzione\n",
      "   194 Gratinati       Salmone             Meno_di_8    doppia_porzione\n",
      "   195 Gratinati       Salmone             Meno_di_8    doppia_porzione\n",
      "   196 Gratinati       Salmone             Meno_di_8   formato_famiglia\n",
      "   197 Gratinati       Salmone             Meno_di_8   formato_famiglia\n",
      "   198 Gratinati       Salmone             Meno_di_8   formato_famiglia\n",
      "   199 Gratinati       Salmone            Tra_8_e_15       monoporzione\n",
      "   200 Gratinati       Salmone            Tra_8_e_15       monoporzione\n",
      "   201 Gratinati       Salmone            Tra_8_e_15       monoporzione\n",
      "   202 Gratinati       Salmone            Tra_8_e_15    doppia_porzione\n",
      "   203 Gratinati       Salmone            Tra_8_e_15    doppia_porzione\n",
      "   204 Gratinati       Salmone            Tra_8_e_15    doppia_porzione\n",
      "   205 Gratinati       Salmone            Tra_8_e_15   formato_famiglia\n",
      "   206 Gratinati       Salmone            Tra_8_e_15   formato_famiglia\n",
      "   207 Gratinati       Salmone            Tra_8_e_15   formato_famiglia\n",
      "   208 Gratinati       Salmone             Più_di_15       monoporzione\n",
      "   209 Gratinati       Salmone             Più_di_15       monoporzione\n",
      "   210 Gratinati       Salmone             Più_di_15       monoporzione\n",
      "   211 Gratinati       Salmone             Più_di_15    doppia_porzione\n",
      "   212 Gratinati       Salmone             Più_di_15    doppia_porzione\n",
      "   213 Gratinati       Salmone             Più_di_15    doppia_porzione\n",
      "   214 Gratinati       Salmone             Più_di_15   formato_famiglia\n",
      "   215 Gratinati       Salmone             Più_di_15   formato_famiglia\n",
      "   216 Gratinati       Salmone             Più_di_15   formato_famiglia\n",
      "   217 Gratinati      Calamaro             Meno_di_8       monoporzione\n",
      "   218 Gratinati      Calamaro             Meno_di_8       monoporzione\n",
      "   219 Gratinati      Calamaro             Meno_di_8       monoporzione\n",
      "   220 Gratinati      Calamaro             Meno_di_8    doppia_porzione\n",
      "   221 Gratinati      Calamaro             Meno_di_8    doppia_porzione\n",
      "   222 Gratinati      Calamaro             Meno_di_8    doppia_porzione\n",
      "   223 Gratinati      Calamaro             Meno_di_8   formato_famiglia\n",
      "   224 Gratinati      Calamaro             Meno_di_8   formato_famiglia\n",
      "   225 Gratinati      Calamaro             Meno_di_8   formato_famiglia\n",
      "   226 Gratinati      Calamaro            Tra_8_e_15       monoporzione\n",
      "   227 Gratinati      Calamaro            Tra_8_e_15       monoporzione\n",
      "   228 Gratinati      Calamaro            Tra_8_e_15       monoporzione\n",
      "   229 Gratinati      Calamaro            Tra_8_e_15    doppia_porzione\n",
      "   230 Gratinati      Calamaro            Tra_8_e_15    doppia_porzione\n",
      "   231 Gratinati      Calamaro            Tra_8_e_15    doppia_porzione\n",
      "   232 Gratinati      Calamaro            Tra_8_e_15   formato_famiglia\n",
      "   233 Gratinati      Calamaro            Tra_8_e_15   formato_famiglia\n",
      "   234 Gratinati      Calamaro            Tra_8_e_15   formato_famiglia\n",
      "   235 Gratinati      Calamaro             Più_di_15       monoporzione\n",
      "   236 Gratinati      Calamaro             Più_di_15       monoporzione\n",
      "   237 Gratinati      Calamaro             Più_di_15       monoporzione\n",
      "   238 Gratinati      Calamaro             Più_di_15    doppia_porzione\n",
      "   239 Gratinati      Calamaro             Più_di_15    doppia_porzione\n",
      "   240 Gratinati      Calamaro             Più_di_15    doppia_porzione\n",
      "   241 Gratinati      Calamaro             Più_di_15   formato_famiglia\n",
      "   242 Gratinati      Calamaro             Più_di_15   formato_famiglia\n",
      "   243 Gratinati      Calamaro             Più_di_15   formato_famiglia\n",
      "                Spezie\n",
      "               Nessuna\n",
      " Prezzemolo_e_Basilico\n",
      "    Salvia_e_Rosmarino\n",
      "               Nessuna\n",
      " Prezzemolo_e_Basilico\n",
      "    Salvia_e_Rosmarino\n",
      "               Nessuna\n",
      " Prezzemolo_e_Basilico\n",
      "    Salvia_e_Rosmarino\n",
      "               Nessuna\n",
      " Prezzemolo_e_Basilico\n",
      "    Salvia_e_Rosmarino\n",
      "               Nessuna\n",
      " Prezzemolo_e_Basilico\n",
      "    Salvia_e_Rosmarino\n",
      "               Nessuna\n",
      " Prezzemolo_e_Basilico\n",
      "    Salvia_e_Rosmarino\n",
      "               Nessuna\n",
      " Prezzemolo_e_Basilico\n",
      "    Salvia_e_Rosmarino\n",
      "               Nessuna\n",
      " Prezzemolo_e_Basilico\n",
      "    Salvia_e_Rosmarino\n",
      "               Nessuna\n",
      " Prezzemolo_e_Basilico\n",
      "    Salvia_e_Rosmarino\n",
      "               Nessuna\n",
      " Prezzemolo_e_Basilico\n",
      "    Salvia_e_Rosmarino\n",
      "               Nessuna\n",
      " Prezzemolo_e_Basilico\n",
      "    Salvia_e_Rosmarino\n",
      "               Nessuna\n",
      " Prezzemolo_e_Basilico\n",
      "    Salvia_e_Rosmarino\n",
      "               Nessuna\n",
      " Prezzemolo_e_Basilico\n",
      "    Salvia_e_Rosmarino\n",
      "               Nessuna\n",
      " Prezzemolo_e_Basilico\n",
      "    Salvia_e_Rosmarino\n",
      "               Nessuna\n",
      " Prezzemolo_e_Basilico\n",
      "    Salvia_e_Rosmarino\n",
      "               Nessuna\n",
      " Prezzemolo_e_Basilico\n",
      "    Salvia_e_Rosmarino\n",
      "               Nessuna\n",
      " Prezzemolo_e_Basilico\n",
      "    Salvia_e_Rosmarino\n",
      "               Nessuna\n",
      " Prezzemolo_e_Basilico\n",
      "    Salvia_e_Rosmarino\n",
      "               Nessuna\n",
      " Prezzemolo_e_Basilico\n",
      "    Salvia_e_Rosmarino\n",
      "               Nessuna\n",
      " Prezzemolo_e_Basilico\n",
      "    Salvia_e_Rosmarino\n",
      "               Nessuna\n",
      " Prezzemolo_e_Basilico\n",
      "    Salvia_e_Rosmarino\n",
      "               Nessuna\n",
      " Prezzemolo_e_Basilico\n",
      "    Salvia_e_Rosmarino\n",
      "               Nessuna\n",
      " Prezzemolo_e_Basilico\n",
      "    Salvia_e_Rosmarino\n",
      "               Nessuna\n",
      " Prezzemolo_e_Basilico\n",
      "    Salvia_e_Rosmarino\n",
      "               Nessuna\n",
      " Prezzemolo_e_Basilico\n",
      "    Salvia_e_Rosmarino\n",
      "               Nessuna\n",
      " Prezzemolo_e_Basilico\n",
      "    Salvia_e_Rosmarino\n",
      "               Nessuna\n",
      " Prezzemolo_e_Basilico\n",
      "    Salvia_e_Rosmarino\n",
      "               Nessuna\n",
      " Prezzemolo_e_Basilico\n",
      "    Salvia_e_Rosmarino\n",
      "               Nessuna\n",
      " Prezzemolo_e_Basilico\n",
      "    Salvia_e_Rosmarino\n",
      "               Nessuna\n",
      " Prezzemolo_e_Basilico\n",
      "    Salvia_e_Rosmarino\n",
      "               Nessuna\n",
      " Prezzemolo_e_Basilico\n",
      "    Salvia_e_Rosmarino\n",
      "               Nessuna\n",
      " Prezzemolo_e_Basilico\n",
      "    Salvia_e_Rosmarino\n",
      "               Nessuna\n",
      " Prezzemolo_e_Basilico\n",
      "    Salvia_e_Rosmarino\n",
      "               Nessuna\n",
      " Prezzemolo_e_Basilico\n",
      "    Salvia_e_Rosmarino\n",
      "               Nessuna\n",
      " Prezzemolo_e_Basilico\n",
      "    Salvia_e_Rosmarino\n",
      "               Nessuna\n",
      " Prezzemolo_e_Basilico\n",
      "    Salvia_e_Rosmarino\n",
      "               Nessuna\n",
      " Prezzemolo_e_Basilico\n",
      "    Salvia_e_Rosmarino\n",
      "               Nessuna\n",
      " Prezzemolo_e_Basilico\n",
      "    Salvia_e_Rosmarino\n",
      "               Nessuna\n",
      " Prezzemolo_e_Basilico\n",
      "    Salvia_e_Rosmarino\n",
      "               Nessuna\n",
      " Prezzemolo_e_Basilico\n",
      "    Salvia_e_Rosmarino\n",
      "               Nessuna\n",
      " Prezzemolo_e_Basilico\n",
      "    Salvia_e_Rosmarino\n",
      "               Nessuna\n",
      " Prezzemolo_e_Basilico\n",
      "    Salvia_e_Rosmarino\n",
      "               Nessuna\n",
      " Prezzemolo_e_Basilico\n",
      "    Salvia_e_Rosmarino\n",
      "               Nessuna\n",
      " Prezzemolo_e_Basilico\n",
      "    Salvia_e_Rosmarino\n",
      "               Nessuna\n",
      " Prezzemolo_e_Basilico\n",
      "    Salvia_e_Rosmarino\n",
      "               Nessuna\n",
      " Prezzemolo_e_Basilico\n",
      "    Salvia_e_Rosmarino\n",
      "               Nessuna\n",
      " Prezzemolo_e_Basilico\n",
      "    Salvia_e_Rosmarino\n",
      "               Nessuna\n",
      " Prezzemolo_e_Basilico\n",
      "    Salvia_e_Rosmarino\n",
      "               Nessuna\n",
      " Prezzemolo_e_Basilico\n",
      "    Salvia_e_Rosmarino\n",
      "               Nessuna\n",
      " Prezzemolo_e_Basilico\n",
      "    Salvia_e_Rosmarino\n",
      "               Nessuna\n",
      " Prezzemolo_e_Basilico\n",
      "    Salvia_e_Rosmarino\n",
      "               Nessuna\n",
      " Prezzemolo_e_Basilico\n",
      "    Salvia_e_Rosmarino\n",
      "               Nessuna\n",
      " Prezzemolo_e_Basilico\n",
      "    Salvia_e_Rosmarino\n",
      "               Nessuna\n",
      " Prezzemolo_e_Basilico\n",
      "    Salvia_e_Rosmarino\n",
      "               Nessuna\n",
      " Prezzemolo_e_Basilico\n",
      "    Salvia_e_Rosmarino\n",
      "               Nessuna\n",
      " Prezzemolo_e_Basilico\n",
      "    Salvia_e_Rosmarino\n",
      "               Nessuna\n",
      " Prezzemolo_e_Basilico\n",
      "    Salvia_e_Rosmarino\n",
      "               Nessuna\n",
      " Prezzemolo_e_Basilico\n",
      "    Salvia_e_Rosmarino\n",
      "               Nessuna\n",
      " Prezzemolo_e_Basilico\n",
      "    Salvia_e_Rosmarino\n",
      "               Nessuna\n",
      " Prezzemolo_e_Basilico\n",
      "    Salvia_e_Rosmarino\n",
      "               Nessuna\n",
      " Prezzemolo_e_Basilico\n",
      "    Salvia_e_Rosmarino\n",
      "               Nessuna\n",
      " Prezzemolo_e_Basilico\n",
      "    Salvia_e_Rosmarino\n",
      "               Nessuna\n",
      " Prezzemolo_e_Basilico\n",
      "    Salvia_e_Rosmarino\n",
      "               Nessuna\n",
      " Prezzemolo_e_Basilico\n",
      "    Salvia_e_Rosmarino\n",
      "               Nessuna\n",
      " Prezzemolo_e_Basilico\n",
      "    Salvia_e_Rosmarino\n",
      "               Nessuna\n",
      " Prezzemolo_e_Basilico\n",
      "    Salvia_e_Rosmarino\n",
      "               Nessuna\n",
      " Prezzemolo_e_Basilico\n",
      "    Salvia_e_Rosmarino\n",
      "               Nessuna\n",
      " Prezzemolo_e_Basilico\n",
      "    Salvia_e_Rosmarino\n",
      "               Nessuna\n",
      " Prezzemolo_e_Basilico\n",
      "    Salvia_e_Rosmarino\n",
      "               Nessuna\n",
      " Prezzemolo_e_Basilico\n",
      "    Salvia_e_Rosmarino\n",
      "               Nessuna\n",
      " Prezzemolo_e_Basilico\n",
      "    Salvia_e_Rosmarino\n",
      "               Nessuna\n",
      " Prezzemolo_e_Basilico\n",
      "    Salvia_e_Rosmarino\n",
      "               Nessuna\n",
      " Prezzemolo_e_Basilico\n",
      "    Salvia_e_Rosmarino\n",
      "               Nessuna\n",
      " Prezzemolo_e_Basilico\n",
      "    Salvia_e_Rosmarino\n",
      "               Nessuna\n",
      " Prezzemolo_e_Basilico\n",
      "    Salvia_e_Rosmarino\n",
      "               Nessuna\n",
      " Prezzemolo_e_Basilico\n",
      "    Salvia_e_Rosmarino\n",
      "               Nessuna\n",
      " Prezzemolo_e_Basilico\n",
      "    Salvia_e_Rosmarino\n",
      "               Nessuna\n",
      " Prezzemolo_e_Basilico\n",
      "    Salvia_e_Rosmarino\n",
      "               Nessuna\n",
      " Prezzemolo_e_Basilico\n",
      "    Salvia_e_Rosmarino\n",
      "               Nessuna\n",
      " Prezzemolo_e_Basilico\n",
      "    Salvia_e_Rosmarino\n",
      "               Nessuna\n",
      " Prezzemolo_e_Basilico\n",
      "    Salvia_e_Rosmarino\n"
     ]
    }
   ],
   "source": [
    "summary(doe(data.attributes, seed = 42))"
   ]
  },
  {
   "cell_type": "markdown",
   "id": "a5c5b838-120c-4018-8df8-02093e9c93d7",
   "metadata": {},
   "source": [
    "The optimal number of bundles to propose was found to be **18**, as it corresponds to a **D-efficiency of 1**, meaning that the selection of bundles is balanced and complete when describing different attributes:"
   ]
  },
  {
   "cell_type": "code",
   "execution_count": 4,
   "id": "6664b1c21afd2054",
   "metadata": {
    "ExecuteTime": {
     "end_time": "2025-02-06T11:12:43.572367Z",
     "start_time": "2025-02-06T11:12:43.556848Z"
    }
   },
   "outputs": [
    {
     "data": {
      "text/html": [
       "<table class=\"dataframe\">\n",
       "<caption>A data.frame: 8 × 3</caption>\n",
       "<thead>\n",
       "\t<tr><th scope=col>Trials</th><th scope=col>D_efficiency</th><th scope=col>Balanced</th></tr>\n",
       "\t<tr><th scope=col>&lt;dbl&gt;</th><th scope=col>&lt;dbl&gt;</th><th scope=col>&lt;lgl&gt;</th></tr>\n",
       "</thead>\n",
       "<tbody>\n",
       "\t<tr><td>11</td><td>0.554</td><td>FALSE</td></tr>\n",
       "\t<tr><td>12</td><td>0.731</td><td> TRUE</td></tr>\n",
       "\t<tr><td>13</td><td>0.651</td><td>FALSE</td></tr>\n",
       "\t<tr><td>14</td><td>0.704</td><td>FALSE</td></tr>\n",
       "\t<tr><td>15</td><td>0.653</td><td> TRUE</td></tr>\n",
       "\t<tr><td>16</td><td>0.703</td><td>FALSE</td></tr>\n",
       "\t<tr><td>17</td><td>0.352</td><td>FALSE</td></tr>\n",
       "\t<tr><td>18</td><td>1.000</td><td> TRUE</td></tr>\n",
       "</tbody>\n",
       "</table>\n"
      ],
      "text/latex": [
       "A data.frame: 8 × 3\n",
       "\\begin{tabular}{lll}\n",
       " Trials & D\\_efficiency & Balanced\\\\\n",
       " <dbl> & <dbl> & <lgl>\\\\\n",
       "\\hline\n",
       "\t 11 & 0.554 & FALSE\\\\\n",
       "\t 12 & 0.731 &  TRUE\\\\\n",
       "\t 13 & 0.651 & FALSE\\\\\n",
       "\t 14 & 0.704 & FALSE\\\\\n",
       "\t 15 & 0.653 &  TRUE\\\\\n",
       "\t 16 & 0.703 & FALSE\\\\\n",
       "\t 17 & 0.352 & FALSE\\\\\n",
       "\t 18 & 1.000 &  TRUE\\\\\n",
       "\\end{tabular}\n"
      ],
      "text/markdown": [
       "\n",
       "A data.frame: 8 × 3\n",
       "\n",
       "| Trials &lt;dbl&gt; | D_efficiency &lt;dbl&gt; | Balanced &lt;lgl&gt; |\n",
       "|---|---|---|\n",
       "| 11 | 0.554 | FALSE |\n",
       "| 12 | 0.731 |  TRUE |\n",
       "| 13 | 0.651 | FALSE |\n",
       "| 14 | 0.704 | FALSE |\n",
       "| 15 | 0.653 |  TRUE |\n",
       "| 16 | 0.703 | FALSE |\n",
       "| 17 | 0.352 | FALSE |\n",
       "| 18 | 1.000 |  TRUE |\n",
       "\n"
      ],
      "text/plain": [
       "  Trials D_efficiency Balanced\n",
       "1 11     0.554        FALSE   \n",
       "2 12     0.731         TRUE   \n",
       "3 13     0.651        FALSE   \n",
       "4 14     0.704        FALSE   \n",
       "5 15     0.653         TRUE   \n",
       "6 16     0.703        FALSE   \n",
       "7 17     0.352        FALSE   \n",
       "8 18     1.000         TRUE   "
      ]
     },
     "metadata": {},
     "output_type": "display_data"
    }
   ],
   "source": [
    "design_efficiency <- data.frame(\n",
    "  Trials = c(11, 12, 13, 14, 15, 16, 17, 18),\n",
    "  D_efficiency = c(0.554, 0.731, 0.651, 0.704, 0.653, 0.703, 0.352, 1.000),\n",
    "  Balanced = c(FALSE, TRUE, FALSE, FALSE, TRUE, FALSE, FALSE, TRUE)\n",
    ")\n",
    "\n",
    "design_efficiency"
   ]
  },
  {
   "cell_type": "markdown",
   "id": "20a58bc3f1366cbe",
   "metadata": {},
   "source": [
    "Now, we proceed with the exact identification of the **18 bundles**."
   ]
  },
  {
   "cell_type": "code",
   "execution_count": 5,
   "id": "5ea9e9725508cd84",
   "metadata": {
    "ExecuteTime": {
     "end_time": "2025-02-06T11:12:43.821103Z",
     "start_time": "2025-02-06T11:12:43.648072Z"
    }
   },
   "outputs": [
    {
     "name": "stdout",
     "output_type": "stream",
     "text": [
      "Experimental design\n",
      "# trials for partial factorial: 18 \n",
      "# trials for full factorial   : 243 \n",
      "Random seed                   : 42 \n",
      "\n",
      "Attributes and levels:\n",
      "Panatura: Nessuna, Panko, Gratinati \n",
      "Tipo_di_pesce: Gambero, Salmone, Calamaro \n",
      "Tempo_di_Preparazione: Meno_di_8, Tra_8_e_15, Più_di_15 \n",
      "Formato_confezione: monoporzione, doppia_porzione, formato_famiglia \n",
      "Spezie: Nessuna, Prezzemolo_e_Basilico, Salvia_e_Rosmarino \n",
      "\n",
      "Design efficiency:\n",
      " Trials D-efficiency Balanced\n",
      "     18        1.000     TRUE\n",
      "\n",
      "Partial factorial design correlations:\n",
      "** Note: Variables are assumed to be ordinal **\n",
      "                      Panatura Tipo_di_pesce Tempo_di_Preparazione\n",
      "Panatura                     1             0                     0\n",
      "Tipo_di_pesce                0             1                     0\n",
      "Tempo_di_Preparazione        0             0                     1\n",
      "Formato_confezione           0             0                     0\n",
      "Spezie                       0             0                     0\n",
      "                      Formato_confezione Spezie\n",
      "Panatura                               0      0\n",
      "Tipo_di_pesce                          0      0\n",
      "Tempo_di_Preparazione                  0      0\n",
      "Formato_confezione                     1      0\n",
      "Spezie                                 0      1\n",
      "\n",
      "Partial factorial design:\n",
      " trial  Panatura Tipo_di_pesce Tempo_di_Preparazione Formato_confezione\n",
      "     7   Nessuna       Gambero             Meno_di_8   formato_famiglia\n",
      "    15   Nessuna       Gambero            Tra_8_e_15    doppia_porzione\n",
      "    29   Nessuna       Salmone             Meno_di_8       monoporzione\n",
      "    46   Nessuna       Salmone             Più_di_15       monoporzione\n",
      "    71   Nessuna      Calamaro            Tra_8_e_15   formato_famiglia\n",
      "    78   Nessuna      Calamaro             Più_di_15    doppia_porzione\n",
      "    86     Panko       Gambero             Meno_di_8    doppia_porzione\n",
      "   106     Panko       Gambero             Più_di_15   formato_famiglia\n",
      "   126     Panko       Salmone            Tra_8_e_15   formato_famiglia\n",
      "   131     Panko       Salmone             Più_di_15    doppia_porzione\n",
      "   138     Panko      Calamaro             Meno_di_8       monoporzione\n",
      "   145     Panko      Calamaro            Tra_8_e_15       monoporzione\n",
      "   173 Gratinati       Gambero            Tra_8_e_15       monoporzione\n",
      "   183 Gratinati       Gambero             Più_di_15       monoporzione\n",
      "   198 Gratinati       Salmone             Meno_di_8   formato_famiglia\n",
      "   202 Gratinati       Salmone            Tra_8_e_15    doppia_porzione\n",
      "   220 Gratinati      Calamaro             Meno_di_8    doppia_porzione\n",
      "   242 Gratinati      Calamaro             Più_di_15   formato_famiglia\n",
      "                Spezie\n",
      "               Nessuna\n",
      "    Salvia_e_Rosmarino\n",
      " Prezzemolo_e_Basilico\n",
      "               Nessuna\n",
      " Prezzemolo_e_Basilico\n",
      "    Salvia_e_Rosmarino\n",
      " Prezzemolo_e_Basilico\n",
      "               Nessuna\n",
      "    Salvia_e_Rosmarino\n",
      " Prezzemolo_e_Basilico\n",
      "    Salvia_e_Rosmarino\n",
      "               Nessuna\n",
      " Prezzemolo_e_Basilico\n",
      "    Salvia_e_Rosmarino\n",
      "    Salvia_e_Rosmarino\n",
      "               Nessuna\n",
      "               Nessuna\n",
      " Prezzemolo_e_Basilico\n",
      "\n",
      "Estimable effects from partial factorial design:\n",
      "\n",
      "  Panatura|Panko\n",
      "  Panatura|Gratinati\n",
      "  Tipo_di_pesce|Salmone\n",
      "  Tipo_di_pesce|Calamaro\n",
      "  Tempo_di_Preparazione|Tra_8_e_15\n",
      "  Tempo_di_Preparazione|Più_di_15\n",
      "  Formato_confezione|doppia_porzione\n",
      "  Formato_confezione|formato_famiglia\n",
      "  Spezie|Prezzemolo_e_Basilico\n",
      "  Spezie|Salvia_e_Rosmarino\n",
      "  Panatura|Panko:Tipo_di_pesce|Salmone\n",
      "  Panatura|Gratinati:Tipo_di_pesce|Salmone\n",
      "  Panatura|Panko:Tipo_di_pesce|Calamaro\n",
      "  Panatura|Panko:Tempo_di_Preparazione|Tra_8_e_15\n",
      "  Panatura|Gratinati:Tempo_di_Preparazione|Tra_8_e_15\n",
      "  Panatura|Panko:Tempo_di_Preparazione|Più_di_15\n",
      "  Panatura|Gratinati:Tempo_di_Preparazione|Più_di_15 \n",
      "\n",
      "Full factorial design:\n",
      " trial  Panatura Tipo_di_pesce Tempo_di_Preparazione Formato_confezione\n",
      "     1   Nessuna       Gambero             Meno_di_8       monoporzione\n",
      "     2   Nessuna       Gambero             Meno_di_8       monoporzione\n",
      "     3   Nessuna       Gambero             Meno_di_8       monoporzione\n",
      "     4   Nessuna       Gambero             Meno_di_8    doppia_porzione\n",
      "     5   Nessuna       Gambero             Meno_di_8    doppia_porzione\n",
      "     6   Nessuna       Gambero             Meno_di_8    doppia_porzione\n",
      "     7   Nessuna       Gambero             Meno_di_8   formato_famiglia\n",
      "     8   Nessuna       Gambero             Meno_di_8   formato_famiglia\n",
      "     9   Nessuna       Gambero             Meno_di_8   formato_famiglia\n",
      "    10   Nessuna       Gambero            Tra_8_e_15       monoporzione\n",
      "    11   Nessuna       Gambero            Tra_8_e_15       monoporzione\n",
      "    12   Nessuna       Gambero            Tra_8_e_15       monoporzione\n",
      "    13   Nessuna       Gambero            Tra_8_e_15    doppia_porzione\n",
      "    14   Nessuna       Gambero            Tra_8_e_15    doppia_porzione\n",
      "    15   Nessuna       Gambero            Tra_8_e_15    doppia_porzione\n",
      "    16   Nessuna       Gambero            Tra_8_e_15   formato_famiglia\n",
      "    17   Nessuna       Gambero            Tra_8_e_15   formato_famiglia\n",
      "    18   Nessuna       Gambero            Tra_8_e_15   formato_famiglia\n",
      "    19   Nessuna       Gambero             Più_di_15       monoporzione\n",
      "    20   Nessuna       Gambero             Più_di_15       monoporzione\n",
      "    21   Nessuna       Gambero             Più_di_15       monoporzione\n",
      "    22   Nessuna       Gambero             Più_di_15    doppia_porzione\n",
      "    23   Nessuna       Gambero             Più_di_15    doppia_porzione\n",
      "    24   Nessuna       Gambero             Più_di_15    doppia_porzione\n",
      "    25   Nessuna       Gambero             Più_di_15   formato_famiglia\n",
      "    26   Nessuna       Gambero             Più_di_15   formato_famiglia\n",
      "    27   Nessuna       Gambero             Più_di_15   formato_famiglia\n",
      "    28   Nessuna       Salmone             Meno_di_8       monoporzione\n",
      "    29   Nessuna       Salmone             Meno_di_8       monoporzione\n",
      "    30   Nessuna       Salmone             Meno_di_8       monoporzione\n",
      "    31   Nessuna       Salmone             Meno_di_8    doppia_porzione\n",
      "    32   Nessuna       Salmone             Meno_di_8    doppia_porzione\n",
      "    33   Nessuna       Salmone             Meno_di_8    doppia_porzione\n",
      "    34   Nessuna       Salmone             Meno_di_8   formato_famiglia\n",
      "    35   Nessuna       Salmone             Meno_di_8   formato_famiglia\n",
      "    36   Nessuna       Salmone             Meno_di_8   formato_famiglia\n",
      "    37   Nessuna       Salmone            Tra_8_e_15       monoporzione\n",
      "    38   Nessuna       Salmone            Tra_8_e_15       monoporzione\n",
      "    39   Nessuna       Salmone            Tra_8_e_15       monoporzione\n",
      "    40   Nessuna       Salmone            Tra_8_e_15    doppia_porzione\n",
      "    41   Nessuna       Salmone            Tra_8_e_15    doppia_porzione\n",
      "    42   Nessuna       Salmone            Tra_8_e_15    doppia_porzione\n",
      "    43   Nessuna       Salmone            Tra_8_e_15   formato_famiglia\n",
      "    44   Nessuna       Salmone            Tra_8_e_15   formato_famiglia\n",
      "    45   Nessuna       Salmone            Tra_8_e_15   formato_famiglia\n",
      "    46   Nessuna       Salmone             Più_di_15       monoporzione\n",
      "    47   Nessuna       Salmone             Più_di_15       monoporzione\n",
      "    48   Nessuna       Salmone             Più_di_15       monoporzione\n",
      "    49   Nessuna       Salmone             Più_di_15    doppia_porzione\n",
      "    50   Nessuna       Salmone             Più_di_15    doppia_porzione\n",
      "    51   Nessuna       Salmone             Più_di_15    doppia_porzione\n",
      "    52   Nessuna       Salmone             Più_di_15   formato_famiglia\n",
      "    53   Nessuna       Salmone             Più_di_15   formato_famiglia\n",
      "    54   Nessuna       Salmone             Più_di_15   formato_famiglia\n",
      "    55   Nessuna      Calamaro             Meno_di_8       monoporzione\n",
      "    56   Nessuna      Calamaro             Meno_di_8       monoporzione\n",
      "    57   Nessuna      Calamaro             Meno_di_8       monoporzione\n",
      "    58   Nessuna      Calamaro             Meno_di_8    doppia_porzione\n",
      "    59   Nessuna      Calamaro             Meno_di_8    doppia_porzione\n",
      "    60   Nessuna      Calamaro             Meno_di_8    doppia_porzione\n",
      "    61   Nessuna      Calamaro             Meno_di_8   formato_famiglia\n",
      "    62   Nessuna      Calamaro             Meno_di_8   formato_famiglia\n",
      "    63   Nessuna      Calamaro             Meno_di_8   formato_famiglia\n",
      "    64   Nessuna      Calamaro            Tra_8_e_15       monoporzione\n",
      "    65   Nessuna      Calamaro            Tra_8_e_15       monoporzione\n",
      "    66   Nessuna      Calamaro            Tra_8_e_15       monoporzione\n",
      "    67   Nessuna      Calamaro            Tra_8_e_15    doppia_porzione\n",
      "    68   Nessuna      Calamaro            Tra_8_e_15    doppia_porzione\n",
      "    69   Nessuna      Calamaro            Tra_8_e_15    doppia_porzione\n",
      "    70   Nessuna      Calamaro            Tra_8_e_15   formato_famiglia\n",
      "    71   Nessuna      Calamaro            Tra_8_e_15   formato_famiglia\n",
      "    72   Nessuna      Calamaro            Tra_8_e_15   formato_famiglia\n",
      "    73   Nessuna      Calamaro             Più_di_15       monoporzione\n",
      "    74   Nessuna      Calamaro             Più_di_15       monoporzione\n",
      "    75   Nessuna      Calamaro             Più_di_15       monoporzione\n",
      "    76   Nessuna      Calamaro             Più_di_15    doppia_porzione\n",
      "    77   Nessuna      Calamaro             Più_di_15    doppia_porzione\n",
      "    78   Nessuna      Calamaro             Più_di_15    doppia_porzione\n",
      "    79   Nessuna      Calamaro             Più_di_15   formato_famiglia\n",
      "    80   Nessuna      Calamaro             Più_di_15   formato_famiglia\n",
      "    81   Nessuna      Calamaro             Più_di_15   formato_famiglia\n",
      "    82     Panko       Gambero             Meno_di_8       monoporzione\n",
      "    83     Panko       Gambero             Meno_di_8       monoporzione\n",
      "    84     Panko       Gambero             Meno_di_8       monoporzione\n",
      "    85     Panko       Gambero             Meno_di_8    doppia_porzione\n",
      "    86     Panko       Gambero             Meno_di_8    doppia_porzione\n",
      "    87     Panko       Gambero             Meno_di_8    doppia_porzione\n",
      "    88     Panko       Gambero             Meno_di_8   formato_famiglia\n",
      "    89     Panko       Gambero             Meno_di_8   formato_famiglia\n",
      "    90     Panko       Gambero             Meno_di_8   formato_famiglia\n",
      "    91     Panko       Gambero            Tra_8_e_15       monoporzione\n",
      "    92     Panko       Gambero            Tra_8_e_15       monoporzione\n",
      "    93     Panko       Gambero            Tra_8_e_15       monoporzione\n",
      "    94     Panko       Gambero            Tra_8_e_15    doppia_porzione\n",
      "    95     Panko       Gambero            Tra_8_e_15    doppia_porzione\n",
      "    96     Panko       Gambero            Tra_8_e_15    doppia_porzione\n",
      "    97     Panko       Gambero            Tra_8_e_15   formato_famiglia\n",
      "    98     Panko       Gambero            Tra_8_e_15   formato_famiglia\n",
      "    99     Panko       Gambero            Tra_8_e_15   formato_famiglia\n",
      "   100     Panko       Gambero             Più_di_15       monoporzione\n",
      "   101     Panko       Gambero             Più_di_15       monoporzione\n",
      "   102     Panko       Gambero             Più_di_15       monoporzione\n",
      "   103     Panko       Gambero             Più_di_15    doppia_porzione\n",
      "   104     Panko       Gambero             Più_di_15    doppia_porzione\n",
      "   105     Panko       Gambero             Più_di_15    doppia_porzione\n",
      "   106     Panko       Gambero             Più_di_15   formato_famiglia\n",
      "   107     Panko       Gambero             Più_di_15   formato_famiglia\n",
      "   108     Panko       Gambero             Più_di_15   formato_famiglia\n",
      "   109     Panko       Salmone             Meno_di_8       monoporzione\n",
      "   110     Panko       Salmone             Meno_di_8       monoporzione\n",
      "   111     Panko       Salmone             Meno_di_8       monoporzione\n",
      "   112     Panko       Salmone             Meno_di_8    doppia_porzione\n",
      "   113     Panko       Salmone             Meno_di_8    doppia_porzione\n",
      "   114     Panko       Salmone             Meno_di_8    doppia_porzione\n",
      "   115     Panko       Salmone             Meno_di_8   formato_famiglia\n",
      "   116     Panko       Salmone             Meno_di_8   formato_famiglia\n",
      "   117     Panko       Salmone             Meno_di_8   formato_famiglia\n",
      "   118     Panko       Salmone            Tra_8_e_15       monoporzione\n",
      "   119     Panko       Salmone            Tra_8_e_15       monoporzione\n",
      "   120     Panko       Salmone            Tra_8_e_15       monoporzione\n",
      "   121     Panko       Salmone            Tra_8_e_15    doppia_porzione\n",
      "   122     Panko       Salmone            Tra_8_e_15    doppia_porzione\n",
      "   123     Panko       Salmone            Tra_8_e_15    doppia_porzione\n",
      "   124     Panko       Salmone            Tra_8_e_15   formato_famiglia\n",
      "   125     Panko       Salmone            Tra_8_e_15   formato_famiglia\n",
      "   126     Panko       Salmone            Tra_8_e_15   formato_famiglia\n",
      "   127     Panko       Salmone             Più_di_15       monoporzione\n",
      "   128     Panko       Salmone             Più_di_15       monoporzione\n",
      "   129     Panko       Salmone             Più_di_15       monoporzione\n",
      "   130     Panko       Salmone             Più_di_15    doppia_porzione\n",
      "   131     Panko       Salmone             Più_di_15    doppia_porzione\n",
      "   132     Panko       Salmone             Più_di_15    doppia_porzione\n",
      "   133     Panko       Salmone             Più_di_15   formato_famiglia\n",
      "   134     Panko       Salmone             Più_di_15   formato_famiglia\n",
      "   135     Panko       Salmone             Più_di_15   formato_famiglia\n",
      "   136     Panko      Calamaro             Meno_di_8       monoporzione\n",
      "   137     Panko      Calamaro             Meno_di_8       monoporzione\n",
      "   138     Panko      Calamaro             Meno_di_8       monoporzione\n",
      "   139     Panko      Calamaro             Meno_di_8    doppia_porzione\n",
      "   140     Panko      Calamaro             Meno_di_8    doppia_porzione\n",
      "   141     Panko      Calamaro             Meno_di_8    doppia_porzione\n",
      "   142     Panko      Calamaro             Meno_di_8   formato_famiglia\n",
      "   143     Panko      Calamaro             Meno_di_8   formato_famiglia\n",
      "   144     Panko      Calamaro             Meno_di_8   formato_famiglia\n",
      "   145     Panko      Calamaro            Tra_8_e_15       monoporzione\n",
      "   146     Panko      Calamaro            Tra_8_e_15       monoporzione\n",
      "   147     Panko      Calamaro            Tra_8_e_15       monoporzione\n",
      "   148     Panko      Calamaro            Tra_8_e_15    doppia_porzione\n",
      "   149     Panko      Calamaro            Tra_8_e_15    doppia_porzione\n",
      "   150     Panko      Calamaro            Tra_8_e_15    doppia_porzione\n",
      "   151     Panko      Calamaro            Tra_8_e_15   formato_famiglia\n",
      "   152     Panko      Calamaro            Tra_8_e_15   formato_famiglia\n",
      "   153     Panko      Calamaro            Tra_8_e_15   formato_famiglia\n",
      "   154     Panko      Calamaro             Più_di_15       monoporzione\n",
      "   155     Panko      Calamaro             Più_di_15       monoporzione\n",
      "   156     Panko      Calamaro             Più_di_15       monoporzione\n",
      "   157     Panko      Calamaro             Più_di_15    doppia_porzione\n",
      "   158     Panko      Calamaro             Più_di_15    doppia_porzione\n",
      "   159     Panko      Calamaro             Più_di_15    doppia_porzione\n",
      "   160     Panko      Calamaro             Più_di_15   formato_famiglia\n",
      "   161     Panko      Calamaro             Più_di_15   formato_famiglia\n",
      "   162     Panko      Calamaro             Più_di_15   formato_famiglia\n",
      "   163 Gratinati       Gambero             Meno_di_8       monoporzione\n",
      "   164 Gratinati       Gambero             Meno_di_8       monoporzione\n",
      "   165 Gratinati       Gambero             Meno_di_8       monoporzione\n",
      "   166 Gratinati       Gambero             Meno_di_8    doppia_porzione\n",
      "   167 Gratinati       Gambero             Meno_di_8    doppia_porzione\n",
      "   168 Gratinati       Gambero             Meno_di_8    doppia_porzione\n",
      "   169 Gratinati       Gambero             Meno_di_8   formato_famiglia\n",
      "   170 Gratinati       Gambero             Meno_di_8   formato_famiglia\n",
      "   171 Gratinati       Gambero             Meno_di_8   formato_famiglia\n",
      "   172 Gratinati       Gambero            Tra_8_e_15       monoporzione\n",
      "   173 Gratinati       Gambero            Tra_8_e_15       monoporzione\n",
      "   174 Gratinati       Gambero            Tra_8_e_15       monoporzione\n",
      "   175 Gratinati       Gambero            Tra_8_e_15    doppia_porzione\n",
      "   176 Gratinati       Gambero            Tra_8_e_15    doppia_porzione\n",
      "   177 Gratinati       Gambero            Tra_8_e_15    doppia_porzione\n",
      "   178 Gratinati       Gambero            Tra_8_e_15   formato_famiglia\n",
      "   179 Gratinati       Gambero            Tra_8_e_15   formato_famiglia\n",
      "   180 Gratinati       Gambero            Tra_8_e_15   formato_famiglia\n",
      "   181 Gratinati       Gambero             Più_di_15       monoporzione\n",
      "   182 Gratinati       Gambero             Più_di_15       monoporzione\n",
      "   183 Gratinati       Gambero             Più_di_15       monoporzione\n",
      "   184 Gratinati       Gambero             Più_di_15    doppia_porzione\n",
      "   185 Gratinati       Gambero             Più_di_15    doppia_porzione\n",
      "   186 Gratinati       Gambero             Più_di_15    doppia_porzione\n",
      "   187 Gratinati       Gambero             Più_di_15   formato_famiglia\n",
      "   188 Gratinati       Gambero             Più_di_15   formato_famiglia\n",
      "   189 Gratinati       Gambero             Più_di_15   formato_famiglia\n",
      "   190 Gratinati       Salmone             Meno_di_8       monoporzione\n",
      "   191 Gratinati       Salmone             Meno_di_8       monoporzione\n",
      "   192 Gratinati       Salmone             Meno_di_8       monoporzione\n",
      "   193 Gratinati       Salmone             Meno_di_8    doppia_porzione\n",
      "   194 Gratinati       Salmone             Meno_di_8    doppia_porzione\n",
      "   195 Gratinati       Salmone             Meno_di_8    doppia_porzione\n",
      "   196 Gratinati       Salmone             Meno_di_8   formato_famiglia\n",
      "   197 Gratinati       Salmone             Meno_di_8   formato_famiglia\n",
      "   198 Gratinati       Salmone             Meno_di_8   formato_famiglia\n",
      "   199 Gratinati       Salmone            Tra_8_e_15       monoporzione\n",
      "   200 Gratinati       Salmone            Tra_8_e_15       monoporzione\n",
      "   201 Gratinati       Salmone            Tra_8_e_15       monoporzione\n",
      "   202 Gratinati       Salmone            Tra_8_e_15    doppia_porzione\n",
      "   203 Gratinati       Salmone            Tra_8_e_15    doppia_porzione\n",
      "   204 Gratinati       Salmone            Tra_8_e_15    doppia_porzione\n",
      "   205 Gratinati       Salmone            Tra_8_e_15   formato_famiglia\n",
      "   206 Gratinati       Salmone            Tra_8_e_15   formato_famiglia\n",
      "   207 Gratinati       Salmone            Tra_8_e_15   formato_famiglia\n",
      "   208 Gratinati       Salmone             Più_di_15       monoporzione\n",
      "   209 Gratinati       Salmone             Più_di_15       monoporzione\n",
      "   210 Gratinati       Salmone             Più_di_15       monoporzione\n",
      "   211 Gratinati       Salmone             Più_di_15    doppia_porzione\n",
      "   212 Gratinati       Salmone             Più_di_15    doppia_porzione\n",
      "   213 Gratinati       Salmone             Più_di_15    doppia_porzione\n",
      "   214 Gratinati       Salmone             Più_di_15   formato_famiglia\n",
      "   215 Gratinati       Salmone             Più_di_15   formato_famiglia\n",
      "   216 Gratinati       Salmone             Più_di_15   formato_famiglia\n",
      "   217 Gratinati      Calamaro             Meno_di_8       monoporzione\n",
      "   218 Gratinati      Calamaro             Meno_di_8       monoporzione\n",
      "   219 Gratinati      Calamaro             Meno_di_8       monoporzione\n",
      "   220 Gratinati      Calamaro             Meno_di_8    doppia_porzione\n",
      "   221 Gratinati      Calamaro             Meno_di_8    doppia_porzione\n",
      "   222 Gratinati      Calamaro             Meno_di_8    doppia_porzione\n",
      "   223 Gratinati      Calamaro             Meno_di_8   formato_famiglia\n",
      "   224 Gratinati      Calamaro             Meno_di_8   formato_famiglia\n",
      "   225 Gratinati      Calamaro             Meno_di_8   formato_famiglia\n",
      "   226 Gratinati      Calamaro            Tra_8_e_15       monoporzione\n",
      "   227 Gratinati      Calamaro            Tra_8_e_15       monoporzione\n",
      "   228 Gratinati      Calamaro            Tra_8_e_15       monoporzione\n",
      "   229 Gratinati      Calamaro            Tra_8_e_15    doppia_porzione\n",
      "   230 Gratinati      Calamaro            Tra_8_e_15    doppia_porzione\n",
      "   231 Gratinati      Calamaro            Tra_8_e_15    doppia_porzione\n",
      "   232 Gratinati      Calamaro            Tra_8_e_15   formato_famiglia\n",
      "   233 Gratinati      Calamaro            Tra_8_e_15   formato_famiglia\n",
      "   234 Gratinati      Calamaro            Tra_8_e_15   formato_famiglia\n",
      "   235 Gratinati      Calamaro             Più_di_15       monoporzione\n",
      "   236 Gratinati      Calamaro             Più_di_15       monoporzione\n",
      "   237 Gratinati      Calamaro             Più_di_15       monoporzione\n",
      "   238 Gratinati      Calamaro             Più_di_15    doppia_porzione\n",
      "   239 Gratinati      Calamaro             Più_di_15    doppia_porzione\n",
      "   240 Gratinati      Calamaro             Più_di_15    doppia_porzione\n",
      "   241 Gratinati      Calamaro             Più_di_15   formato_famiglia\n",
      "   242 Gratinati      Calamaro             Più_di_15   formato_famiglia\n",
      "   243 Gratinati      Calamaro             Più_di_15   formato_famiglia\n",
      "                Spezie\n",
      "               Nessuna\n",
      " Prezzemolo_e_Basilico\n",
      "    Salvia_e_Rosmarino\n",
      "               Nessuna\n",
      " Prezzemolo_e_Basilico\n",
      "    Salvia_e_Rosmarino\n",
      "               Nessuna\n",
      " Prezzemolo_e_Basilico\n",
      "    Salvia_e_Rosmarino\n",
      "               Nessuna\n",
      " Prezzemolo_e_Basilico\n",
      "    Salvia_e_Rosmarino\n",
      "               Nessuna\n",
      " Prezzemolo_e_Basilico\n",
      "    Salvia_e_Rosmarino\n",
      "               Nessuna\n",
      " Prezzemolo_e_Basilico\n",
      "    Salvia_e_Rosmarino\n",
      "               Nessuna\n",
      " Prezzemolo_e_Basilico\n",
      "    Salvia_e_Rosmarino\n",
      "               Nessuna\n",
      " Prezzemolo_e_Basilico\n",
      "    Salvia_e_Rosmarino\n",
      "               Nessuna\n",
      " Prezzemolo_e_Basilico\n",
      "    Salvia_e_Rosmarino\n",
      "               Nessuna\n",
      " Prezzemolo_e_Basilico\n",
      "    Salvia_e_Rosmarino\n",
      "               Nessuna\n",
      " Prezzemolo_e_Basilico\n",
      "    Salvia_e_Rosmarino\n",
      "               Nessuna\n",
      " Prezzemolo_e_Basilico\n",
      "    Salvia_e_Rosmarino\n",
      "               Nessuna\n",
      " Prezzemolo_e_Basilico\n",
      "    Salvia_e_Rosmarino\n",
      "               Nessuna\n",
      " Prezzemolo_e_Basilico\n",
      "    Salvia_e_Rosmarino\n",
      "               Nessuna\n",
      " Prezzemolo_e_Basilico\n",
      "    Salvia_e_Rosmarino\n",
      "               Nessuna\n",
      " Prezzemolo_e_Basilico\n",
      "    Salvia_e_Rosmarino\n",
      "               Nessuna\n",
      " Prezzemolo_e_Basilico\n",
      "    Salvia_e_Rosmarino\n",
      "               Nessuna\n",
      " Prezzemolo_e_Basilico\n",
      "    Salvia_e_Rosmarino\n",
      "               Nessuna\n",
      " Prezzemolo_e_Basilico\n",
      "    Salvia_e_Rosmarino\n",
      "               Nessuna\n",
      " Prezzemolo_e_Basilico\n",
      "    Salvia_e_Rosmarino\n",
      "               Nessuna\n",
      " Prezzemolo_e_Basilico\n",
      "    Salvia_e_Rosmarino\n",
      "               Nessuna\n",
      " Prezzemolo_e_Basilico\n",
      "    Salvia_e_Rosmarino\n",
      "               Nessuna\n",
      " Prezzemolo_e_Basilico\n",
      "    Salvia_e_Rosmarino\n",
      "               Nessuna\n",
      " Prezzemolo_e_Basilico\n",
      "    Salvia_e_Rosmarino\n",
      "               Nessuna\n",
      " Prezzemolo_e_Basilico\n",
      "    Salvia_e_Rosmarino\n",
      "               Nessuna\n",
      " Prezzemolo_e_Basilico\n",
      "    Salvia_e_Rosmarino\n",
      "               Nessuna\n",
      " Prezzemolo_e_Basilico\n",
      "    Salvia_e_Rosmarino\n",
      "               Nessuna\n",
      " Prezzemolo_e_Basilico\n",
      "    Salvia_e_Rosmarino\n",
      "               Nessuna\n",
      " Prezzemolo_e_Basilico\n",
      "    Salvia_e_Rosmarino\n",
      "               Nessuna\n",
      " Prezzemolo_e_Basilico\n",
      "    Salvia_e_Rosmarino\n",
      "               Nessuna\n",
      " Prezzemolo_e_Basilico\n",
      "    Salvia_e_Rosmarino\n",
      "               Nessuna\n",
      " Prezzemolo_e_Basilico\n",
      "    Salvia_e_Rosmarino\n",
      "               Nessuna\n",
      " Prezzemolo_e_Basilico\n",
      "    Salvia_e_Rosmarino\n",
      "               Nessuna\n",
      " Prezzemolo_e_Basilico\n",
      "    Salvia_e_Rosmarino\n",
      "               Nessuna\n",
      " Prezzemolo_e_Basilico\n",
      "    Salvia_e_Rosmarino\n",
      "               Nessuna\n",
      " Prezzemolo_e_Basilico\n",
      "    Salvia_e_Rosmarino\n",
      "               Nessuna\n",
      " Prezzemolo_e_Basilico\n",
      "    Salvia_e_Rosmarino\n",
      "               Nessuna\n",
      " Prezzemolo_e_Basilico\n",
      "    Salvia_e_Rosmarino\n",
      "               Nessuna\n",
      " Prezzemolo_e_Basilico\n",
      "    Salvia_e_Rosmarino\n",
      "               Nessuna\n",
      " Prezzemolo_e_Basilico\n",
      "    Salvia_e_Rosmarino\n",
      "               Nessuna\n",
      " Prezzemolo_e_Basilico\n",
      "    Salvia_e_Rosmarino\n",
      "               Nessuna\n",
      " Prezzemolo_e_Basilico\n",
      "    Salvia_e_Rosmarino\n",
      "               Nessuna\n",
      " Prezzemolo_e_Basilico\n",
      "    Salvia_e_Rosmarino\n",
      "               Nessuna\n",
      " Prezzemolo_e_Basilico\n",
      "    Salvia_e_Rosmarino\n",
      "               Nessuna\n",
      " Prezzemolo_e_Basilico\n",
      "    Salvia_e_Rosmarino\n",
      "               Nessuna\n",
      " Prezzemolo_e_Basilico\n",
      "    Salvia_e_Rosmarino\n",
      "               Nessuna\n",
      " Prezzemolo_e_Basilico\n",
      "    Salvia_e_Rosmarino\n",
      "               Nessuna\n",
      " Prezzemolo_e_Basilico\n",
      "    Salvia_e_Rosmarino\n",
      "               Nessuna\n",
      " Prezzemolo_e_Basilico\n",
      "    Salvia_e_Rosmarino\n",
      "               Nessuna\n",
      " Prezzemolo_e_Basilico\n",
      "    Salvia_e_Rosmarino\n",
      "               Nessuna\n",
      " Prezzemolo_e_Basilico\n",
      "    Salvia_e_Rosmarino\n",
      "               Nessuna\n",
      " Prezzemolo_e_Basilico\n",
      "    Salvia_e_Rosmarino\n",
      "               Nessuna\n",
      " Prezzemolo_e_Basilico\n",
      "    Salvia_e_Rosmarino\n",
      "               Nessuna\n",
      " Prezzemolo_e_Basilico\n",
      "    Salvia_e_Rosmarino\n",
      "               Nessuna\n",
      " Prezzemolo_e_Basilico\n",
      "    Salvia_e_Rosmarino\n",
      "               Nessuna\n",
      " Prezzemolo_e_Basilico\n",
      "    Salvia_e_Rosmarino\n",
      "               Nessuna\n",
      " Prezzemolo_e_Basilico\n",
      "    Salvia_e_Rosmarino\n",
      "               Nessuna\n",
      " Prezzemolo_e_Basilico\n",
      "    Salvia_e_Rosmarino\n",
      "               Nessuna\n",
      " Prezzemolo_e_Basilico\n",
      "    Salvia_e_Rosmarino\n",
      "               Nessuna\n",
      " Prezzemolo_e_Basilico\n",
      "    Salvia_e_Rosmarino\n",
      "               Nessuna\n",
      " Prezzemolo_e_Basilico\n",
      "    Salvia_e_Rosmarino\n",
      "               Nessuna\n",
      " Prezzemolo_e_Basilico\n",
      "    Salvia_e_Rosmarino\n",
      "               Nessuna\n",
      " Prezzemolo_e_Basilico\n",
      "    Salvia_e_Rosmarino\n",
      "               Nessuna\n",
      " Prezzemolo_e_Basilico\n",
      "    Salvia_e_Rosmarino\n",
      "               Nessuna\n",
      " Prezzemolo_e_Basilico\n",
      "    Salvia_e_Rosmarino\n",
      "               Nessuna\n",
      " Prezzemolo_e_Basilico\n",
      "    Salvia_e_Rosmarino\n",
      "               Nessuna\n",
      " Prezzemolo_e_Basilico\n",
      "    Salvia_e_Rosmarino\n",
      "               Nessuna\n",
      " Prezzemolo_e_Basilico\n",
      "    Salvia_e_Rosmarino\n",
      "               Nessuna\n",
      " Prezzemolo_e_Basilico\n",
      "    Salvia_e_Rosmarino\n",
      "               Nessuna\n",
      " Prezzemolo_e_Basilico\n",
      "    Salvia_e_Rosmarino\n",
      "               Nessuna\n",
      " Prezzemolo_e_Basilico\n",
      "    Salvia_e_Rosmarino\n",
      "               Nessuna\n",
      " Prezzemolo_e_Basilico\n",
      "    Salvia_e_Rosmarino\n",
      "               Nessuna\n",
      " Prezzemolo_e_Basilico\n",
      "    Salvia_e_Rosmarino\n",
      "               Nessuna\n",
      " Prezzemolo_e_Basilico\n",
      "    Salvia_e_Rosmarino\n",
      "               Nessuna\n",
      " Prezzemolo_e_Basilico\n",
      "    Salvia_e_Rosmarino\n",
      "               Nessuna\n",
      " Prezzemolo_e_Basilico\n",
      "    Salvia_e_Rosmarino\n",
      "               Nessuna\n",
      " Prezzemolo_e_Basilico\n",
      "    Salvia_e_Rosmarino\n",
      "               Nessuna\n",
      " Prezzemolo_e_Basilico\n",
      "    Salvia_e_Rosmarino\n",
      "               Nessuna\n",
      " Prezzemolo_e_Basilico\n",
      "    Salvia_e_Rosmarino\n",
      "               Nessuna\n",
      " Prezzemolo_e_Basilico\n",
      "    Salvia_e_Rosmarino\n",
      "               Nessuna\n",
      " Prezzemolo_e_Basilico\n",
      "    Salvia_e_Rosmarino\n"
     ]
    }
   ],
   "source": [
    "summary(doe(data.attributes, seed = 42, trials = 18))"
   ]
  },
  {
   "cell_type": "markdown",
   "id": "094d69c7-021b-4276-b091-358974d19e61",
   "metadata": {
    "ExecuteTime": {
     "end_time": "2025-01-28T11:01:13.226036Z",
     "start_time": "2025-01-28T11:01:13.221952Z"
    }
   },
   "source": [
    "These are the 18 bundles to which the respondents will need to assign a **rating from 1 to 10** in the questionnaire:"
   ]
  },
  {
   "cell_type": "code",
   "execution_count": 6,
   "id": "55ebc700470b44ab",
   "metadata": {
    "ExecuteTime": {
     "end_time": "2025-02-06T11:12:44.256730Z",
     "start_time": "2025-02-06T11:12:44.238221Z"
    }
   },
   "outputs": [
    {
     "data": {
      "text/html": [
       "<table class=\"dataframe\">\n",
       "<caption>A data.frame: 18 × 5</caption>\n",
       "<thead>\n",
       "\t<tr><th scope=col>Panatura</th><th scope=col>Tipo_di_pesce</th><th scope=col>Tempo_di_Preparazione</th><th scope=col>Formato_confezione</th><th scope=col>Spezie</th></tr>\n",
       "\t<tr><th scope=col>&lt;chr&gt;</th><th scope=col>&lt;chr&gt;</th><th scope=col>&lt;chr&gt;</th><th scope=col>&lt;chr&gt;</th><th scope=col>&lt;chr&gt;</th></tr>\n",
       "</thead>\n",
       "<tbody>\n",
       "\t<tr><td>Nessuna  </td><td>Gambero </td><td>Meno_di_8 </td><td>formato_famiglia</td><td>Nessuna              </td></tr>\n",
       "\t<tr><td>Nessuna  </td><td>Gambero </td><td>Tra_8_e_15</td><td>doppia_porzione </td><td>Nessuna              </td></tr>\n",
       "\t<tr><td>Nessuna  </td><td>Salmone </td><td>Meno_di_8 </td><td>monoporzione    </td><td>Nessuna              </td></tr>\n",
       "\t<tr><td>Nessuna  </td><td>Salmone </td><td>Più_di_15 </td><td>monoporzione    </td><td>Nessuna              </td></tr>\n",
       "\t<tr><td>Nessuna  </td><td>Calamaro</td><td>Tra_8_e_15</td><td>formato_famiglia</td><td>Nessuna              </td></tr>\n",
       "\t<tr><td>Nessuna  </td><td>Calamaro</td><td>Più_di_15 </td><td>doppia_porzione </td><td>Nessuna              </td></tr>\n",
       "\t<tr><td>Panko    </td><td>Gambero </td><td>Meno_di_8 </td><td>doppia_porzione </td><td>Salvia_e_Rosmarino   </td></tr>\n",
       "\t<tr><td>Panko    </td><td>Gambero </td><td>Più_di_15 </td><td>formato_famiglia</td><td>Prezzemolo_e_Basilico</td></tr>\n",
       "\t<tr><td>Panko    </td><td>Salmone </td><td>Tra_8_e_15</td><td>formato_famiglia</td><td>Salvia_e_Rosmarino   </td></tr>\n",
       "\t<tr><td>Panko    </td><td>Salmone </td><td>Più_di_15 </td><td>doppia_porzione </td><td>Prezzemolo_e_Basilico</td></tr>\n",
       "\t<tr><td>Panko    </td><td>Calamaro</td><td>Meno_di_8 </td><td>monoporzione    </td><td>Salvia_e_Rosmarino   </td></tr>\n",
       "\t<tr><td>Panko    </td><td>Calamaro</td><td>Tra_8_e_15</td><td>monoporzione    </td><td>Prezzemolo_e_Basilico</td></tr>\n",
       "\t<tr><td>Gratinati</td><td>Gambero </td><td>Tra_8_e_15</td><td>monoporzione    </td><td>Salvia_e_Rosmarino   </td></tr>\n",
       "\t<tr><td>Gratinati</td><td>Gambero </td><td>Più_di_15 </td><td>monoporzione    </td><td>Prezzemolo_e_Basilico</td></tr>\n",
       "\t<tr><td>Gratinati</td><td>Salmone </td><td>Meno_di_8 </td><td>formato_famiglia</td><td>Salvia_e_Rosmarino   </td></tr>\n",
       "\t<tr><td>Gratinati</td><td>Salmone </td><td>Tra_8_e_15</td><td>doppia_porzione </td><td>Nessuna              </td></tr>\n",
       "\t<tr><td>Gratinati</td><td>Calamaro</td><td>Meno_di_8 </td><td>doppia_porzione </td><td>Nessuna              </td></tr>\n",
       "\t<tr><td>Gratinati</td><td>Calamaro</td><td>Più_di_15 </td><td>formato_famiglia</td><td>Prezzemolo_e_Basilico</td></tr>\n",
       "</tbody>\n",
       "</table>\n"
      ],
      "text/latex": [
       "A data.frame: 18 × 5\n",
       "\\begin{tabular}{lllll}\n",
       " Panatura & Tipo\\_di\\_pesce & Tempo\\_di\\_Preparazione & Formato\\_confezione & Spezie\\\\\n",
       " <chr> & <chr> & <chr> & <chr> & <chr>\\\\\n",
       "\\hline\n",
       "\t Nessuna   & Gambero  & Meno\\_di\\_8  & formato\\_famiglia & Nessuna              \\\\\n",
       "\t Nessuna   & Gambero  & Tra\\_8\\_e\\_15 & doppia\\_porzione  & Nessuna              \\\\\n",
       "\t Nessuna   & Salmone  & Meno\\_di\\_8  & monoporzione     & Nessuna              \\\\\n",
       "\t Nessuna   & Salmone  & Più\\_di\\_15  & monoporzione     & Nessuna              \\\\\n",
       "\t Nessuna   & Calamaro & Tra\\_8\\_e\\_15 & formato\\_famiglia & Nessuna              \\\\\n",
       "\t Nessuna   & Calamaro & Più\\_di\\_15  & doppia\\_porzione  & Nessuna              \\\\\n",
       "\t Panko     & Gambero  & Meno\\_di\\_8  & doppia\\_porzione  & Salvia\\_e\\_Rosmarino   \\\\\n",
       "\t Panko     & Gambero  & Più\\_di\\_15  & formato\\_famiglia & Prezzemolo\\_e\\_Basilico\\\\\n",
       "\t Panko     & Salmone  & Tra\\_8\\_e\\_15 & formato\\_famiglia & Salvia\\_e\\_Rosmarino   \\\\\n",
       "\t Panko     & Salmone  & Più\\_di\\_15  & doppia\\_porzione  & Prezzemolo\\_e\\_Basilico\\\\\n",
       "\t Panko     & Calamaro & Meno\\_di\\_8  & monoporzione     & Salvia\\_e\\_Rosmarino   \\\\\n",
       "\t Panko     & Calamaro & Tra\\_8\\_e\\_15 & monoporzione     & Prezzemolo\\_e\\_Basilico\\\\\n",
       "\t Gratinati & Gambero  & Tra\\_8\\_e\\_15 & monoporzione     & Salvia\\_e\\_Rosmarino   \\\\\n",
       "\t Gratinati & Gambero  & Più\\_di\\_15  & monoporzione     & Prezzemolo\\_e\\_Basilico\\\\\n",
       "\t Gratinati & Salmone  & Meno\\_di\\_8  & formato\\_famiglia & Salvia\\_e\\_Rosmarino   \\\\\n",
       "\t Gratinati & Salmone  & Tra\\_8\\_e\\_15 & doppia\\_porzione  & Nessuna              \\\\\n",
       "\t Gratinati & Calamaro & Meno\\_di\\_8  & doppia\\_porzione  & Nessuna              \\\\\n",
       "\t Gratinati & Calamaro & Più\\_di\\_15  & formato\\_famiglia & Prezzemolo\\_e\\_Basilico\\\\\n",
       "\\end{tabular}\n"
      ],
      "text/markdown": [
       "\n",
       "A data.frame: 18 × 5\n",
       "\n",
       "| Panatura &lt;chr&gt; | Tipo_di_pesce &lt;chr&gt; | Tempo_di_Preparazione &lt;chr&gt; | Formato_confezione &lt;chr&gt; | Spezie &lt;chr&gt; |\n",
       "|---|---|---|---|---|\n",
       "| Nessuna   | Gambero  | Meno_di_8  | formato_famiglia | Nessuna               |\n",
       "| Nessuna   | Gambero  | Tra_8_e_15 | doppia_porzione  | Nessuna               |\n",
       "| Nessuna   | Salmone  | Meno_di_8  | monoporzione     | Nessuna               |\n",
       "| Nessuna   | Salmone  | Più_di_15  | monoporzione     | Nessuna               |\n",
       "| Nessuna   | Calamaro | Tra_8_e_15 | formato_famiglia | Nessuna               |\n",
       "| Nessuna   | Calamaro | Più_di_15  | doppia_porzione  | Nessuna               |\n",
       "| Panko     | Gambero  | Meno_di_8  | doppia_porzione  | Salvia_e_Rosmarino    |\n",
       "| Panko     | Gambero  | Più_di_15  | formato_famiglia | Prezzemolo_e_Basilico |\n",
       "| Panko     | Salmone  | Tra_8_e_15 | formato_famiglia | Salvia_e_Rosmarino    |\n",
       "| Panko     | Salmone  | Più_di_15  | doppia_porzione  | Prezzemolo_e_Basilico |\n",
       "| Panko     | Calamaro | Meno_di_8  | monoporzione     | Salvia_e_Rosmarino    |\n",
       "| Panko     | Calamaro | Tra_8_e_15 | monoporzione     | Prezzemolo_e_Basilico |\n",
       "| Gratinati | Gambero  | Tra_8_e_15 | monoporzione     | Salvia_e_Rosmarino    |\n",
       "| Gratinati | Gambero  | Più_di_15  | monoporzione     | Prezzemolo_e_Basilico |\n",
       "| Gratinati | Salmone  | Meno_di_8  | formato_famiglia | Salvia_e_Rosmarino    |\n",
       "| Gratinati | Salmone  | Tra_8_e_15 | doppia_porzione  | Nessuna               |\n",
       "| Gratinati | Calamaro | Meno_di_8  | doppia_porzione  | Nessuna               |\n",
       "| Gratinati | Calamaro | Più_di_15  | formato_famiglia | Prezzemolo_e_Basilico |\n",
       "\n"
      ],
      "text/plain": [
       "   Panatura  Tipo_di_pesce Tempo_di_Preparazione Formato_confezione\n",
       "1  Nessuna   Gambero       Meno_di_8             formato_famiglia  \n",
       "2  Nessuna   Gambero       Tra_8_e_15            doppia_porzione   \n",
       "3  Nessuna   Salmone       Meno_di_8             monoporzione      \n",
       "4  Nessuna   Salmone       Più_di_15             monoporzione      \n",
       "5  Nessuna   Calamaro      Tra_8_e_15            formato_famiglia  \n",
       "6  Nessuna   Calamaro      Più_di_15             doppia_porzione   \n",
       "7  Panko     Gambero       Meno_di_8             doppia_porzione   \n",
       "8  Panko     Gambero       Più_di_15             formato_famiglia  \n",
       "9  Panko     Salmone       Tra_8_e_15            formato_famiglia  \n",
       "10 Panko     Salmone       Più_di_15             doppia_porzione   \n",
       "11 Panko     Calamaro      Meno_di_8             monoporzione      \n",
       "12 Panko     Calamaro      Tra_8_e_15            monoporzione      \n",
       "13 Gratinati Gambero       Tra_8_e_15            monoporzione      \n",
       "14 Gratinati Gambero       Più_di_15             monoporzione      \n",
       "15 Gratinati Salmone       Meno_di_8             formato_famiglia  \n",
       "16 Gratinati Salmone       Tra_8_e_15            doppia_porzione   \n",
       "17 Gratinati Calamaro      Meno_di_8             doppia_porzione   \n",
       "18 Gratinati Calamaro      Più_di_15             formato_famiglia  \n",
       "   Spezie               \n",
       "1  Nessuna              \n",
       "2  Nessuna              \n",
       "3  Nessuna              \n",
       "4  Nessuna              \n",
       "5  Nessuna              \n",
       "6  Nessuna              \n",
       "7  Salvia_e_Rosmarino   \n",
       "8  Prezzemolo_e_Basilico\n",
       "9  Salvia_e_Rosmarino   \n",
       "10 Prezzemolo_e_Basilico\n",
       "11 Salvia_e_Rosmarino   \n",
       "12 Prezzemolo_e_Basilico\n",
       "13 Salvia_e_Rosmarino   \n",
       "14 Prezzemolo_e_Basilico\n",
       "15 Salvia_e_Rosmarino   \n",
       "16 Nessuna              \n",
       "17 Nessuna              \n",
       "18 Prezzemolo_e_Basilico"
      ]
     },
     "metadata": {},
     "output_type": "display_data"
    }
   ],
   "source": [
    "bundles <- data.frame(\n",
    "  Panatura = c(\"Nessuna\", \"Nessuna\", \"Nessuna\", \"Nessuna\", \"Nessuna\", \"Nessuna\", \"Panko\", \"Panko\", \"Panko\", \"Panko\", \"Panko\", \"Panko\", \"Gratinati\", \"Gratinati\", \"Gratinati\", \"Gratinati\", \"Gratinati\", \"Gratinati\"),\n",
    "  Tipo_di_pesce = c(\"Gambero\", \"Gambero\", \"Salmone\", \"Salmone\", \"Calamaro\", \"Calamaro\", \"Gambero\", \"Gambero\", \"Salmone\", \"Salmone\", \"Calamaro\", \"Calamaro\", \"Gambero\", \"Gambero\", \"Salmone\", \"Salmone\", \"Calamaro\", \"Calamaro\"),\n",
    "  Tempo_di_Preparazione = c(\"Meno_di_8\", \"Tra_8_e_15\", \"Meno_di_8\", \"Più_di_15\", \"Tra_8_e_15\", \"Più_di_15\", \"Meno_di_8\", \"Più_di_15\", \"Tra_8_e_15\", \"Più_di_15\", \"Meno_di_8\", \"Tra_8_e_15\", \"Tra_8_e_15\", \"Più_di_15\", \"Meno_di_8\", \"Tra_8_e_15\", \"Meno_di_8\", \"Più_di_15\"),\n",
    "  Formato_confezione = c(\"formato_famiglia\", \"doppia_porzione\", \"monoporzione\", \"monoporzione\", \"formato_famiglia\", \"doppia_porzione\", \"doppia_porzione\", \"formato_famiglia\", \"formato_famiglia\", \"doppia_porzione\", \"monoporzione\", \"monoporzione\", \"monoporzione\", \"monoporzione\", \"formato_famiglia\", \"doppia_porzione\", \"doppia_porzione\", \"formato_famiglia\"),\n",
    "  Spezie = c(\"Nessuna\", \"Nessuna\", \"Nessuna\", \"Nessuna\", \"Nessuna\", \"Nessuna\", \"Salvia_e_Rosmarino\", \"Prezzemolo_e_Basilico\", \"Salvia_e_Rosmarino\", \"Prezzemolo_e_Basilico\", \"Salvia_e_Rosmarino\", \"Prezzemolo_e_Basilico\", \"Salvia_e_Rosmarino\", \"Prezzemolo_e_Basilico\", \"Salvia_e_Rosmarino\", \"Nessuna\", \"Nessuna\", \"Prezzemolo_e_Basilico\")\n",
    ")\n",
    "\n",
    "bundles"
   ]
  },
  {
   "cell_type": "markdown",
   "id": "6af9369a-fa43-4361-a210-1b3945146c57",
   "metadata": {},
   "source": [
    "---\n",
    "\n",
    "## **2. Data Pre-Processing**"
   ]
  },
  {
   "cell_type": "code",
   "execution_count": 7,
   "id": "de471da9-9fcd-4014-a739-57f9b24bd3e3",
   "metadata": {
    "ExecuteTime": {
     "end_time": "2025-02-06T11:12:44.625652Z",
     "start_time": "2025-02-06T11:12:44.596990Z"
    }
   },
   "outputs": [
    {
     "data": {
      "text/html": [
       "<table class=\"dataframe\">\n",
       "<caption>A data.frame: 6 × 33</caption>\n",
       "<thead>\n",
       "\t<tr><th></th><th scope=col>Informazioni.cronologiche</th><th scope=col>In.che.genere.ti.identifichi.</th><th scope=col>Qual.è.la.tua.età.</th><th scope=col>Qual.è.la.tua.occupazione.</th><th scope=col>Da.quante.persone.è.composto.il.tuo.nucleo.familiare.</th><th scope=col>Dove.abiti.al.momento.</th><th scope=col>Quanto.spesso.consumi.pesce.</th><th scope=col>In.media..quante.delle.volte.che.consumi.pesce..il.pesce.è.surgelato.</th><th scope=col>Che.tipo.di.pesce.surgelato.consumi...Puoi.selezionare.più.risposte.</th><th scope=col>Hai.una.marca.di.fiducia.per.l.acquisto.di.prodotti.di.pesce.surgelati.</th><th scope=col>⋯</th><th scope=col>X10..Spiedino.di.Salmone.croccanti.al.Panko.e.con.Prezzemolo.e.Basilico..pronto.in.più.di.15.minuti.e.venduto.in.confezioni.per.due.persone</th><th scope=col>X11..Spiedino.di.Calamaro.croccanti.al.Panko.e.con.Salvia.e.Rosmarino..pronto.in.meno.di.8.minuti.e.venduto.in.monoporzioni</th><th scope=col>X12..Spiedino.di.Calamaro.croccanti.al.Panko.e.con.nessuna.spezia..pronto.in.8.15.minuti.e.venduto.in.monoporzioni</th><th scope=col>X13..Spiedino.di.Gambero.Gratinato.con.Prezzemolo.e.Basilico..pronto.in.8.15.minuti.e.venduto.in.monoporzioni</th><th scope=col>X14..Spiedino.di.Gambero.Gratinato.con.Salvia.e.Rosmarino..pronto.in.più.di.15.minuti.e.venduto.in.monoporzioni</th><th scope=col>X15..Spiedino.di.Salmone.Gratinato.con.Salvia.e.Rosmarino..pronto.in.meno.di.8.minuti.e.venduto.in.confezioni.famiglia</th><th scope=col>X16..Spiedino.di.Salmone.Gratinato.con.nessuna.spezia..pronto.in.8.15.minuti.e.venduto.in.confezioni.per.due.persone</th><th scope=col>X17..Spiedino.di.Calamaro.Gratinato.con.nessuna.spezia..pronto.in.meno.di.8.minuti.e.venduto.in.confezioni.per.due.persone</th><th scope=col>X18..Spiedino.di.Calamaro.Gratinato.con.Prezzemolo.e.Basilico..pronto.in.più.di.15.minuti.e.venduto.in.confezioni.famiglia</th><th scope=col>Quali.sono.le.caratteristiche.che.hanno.influenzato.di.più.la.tua.valutazione...Puoi.selezionare.più.risposte.</th></tr>\n",
       "\t<tr><th></th><th scope=col>&lt;chr&gt;</th><th scope=col>&lt;chr&gt;</th><th scope=col>&lt;chr&gt;</th><th scope=col>&lt;chr&gt;</th><th scope=col>&lt;chr&gt;</th><th scope=col>&lt;chr&gt;</th><th scope=col>&lt;chr&gt;</th><th scope=col>&lt;chr&gt;</th><th scope=col>&lt;chr&gt;</th><th scope=col>&lt;chr&gt;</th><th scope=col>⋯</th><th scope=col>&lt;int&gt;</th><th scope=col>&lt;int&gt;</th><th scope=col>&lt;int&gt;</th><th scope=col>&lt;int&gt;</th><th scope=col>&lt;int&gt;</th><th scope=col>&lt;int&gt;</th><th scope=col>&lt;int&gt;</th><th scope=col>&lt;int&gt;</th><th scope=col>&lt;int&gt;</th><th scope=col>&lt;chr&gt;</th></tr>\n",
       "</thead>\n",
       "<tbody>\n",
       "\t<tr><th scope=row>1</th><td>2025/01/24 10:32:13 AM CET</td><td>Femminile</td><td>18-25</td><td>Studente  </td><td>2-4</td><td>Nord Italia       </td><td>Una volta a settimana</td><td>Poche volte</td><td>Piatti pronti;Tranci/Filetti di pesce              </td><td>No</td><td>⋯</td><td> 9</td><td> 8</td><td> 2</td><td> 8</td><td> 7</td><td> 2</td><td> 8</td><td> 3</td><td> 4</td><td>Tipo di pesce utilizzato per lo spiedino surgelato;Presenza e tipo di panatura                                  </td></tr>\n",
       "\t<tr><th scope=row>2</th><td>2025/01/24 10:33:56 AM CET</td><td>Femminile</td><td>18-25</td><td>Lavoratore</td><td>4+ </td><td>Nord Italia       </td><td>Mai                  </td><td>           </td><td>                                                   </td><td>  </td><td>⋯</td><td>NA</td><td>NA</td><td>NA</td><td>NA</td><td>NA</td><td>NA</td><td>NA</td><td>NA</td><td>NA</td><td>                                                                                                                </td></tr>\n",
       "\t<tr><th scope=row>3</th><td>2025/01/24 10:52:44 AM CET</td><td>Maschile </td><td>18-25</td><td>Studente  </td><td>2-4</td><td>Nord Italia       </td><td>Una volta a settimana</td><td>Poche volte</td><td>Piatti pronti                                      </td><td>Si</td><td>⋯</td><td> 7</td><td>10</td><td> 9</td><td> 8</td><td> 8</td><td> 7</td><td> 8</td><td>10</td><td> 9</td><td>Tipo di pesce utilizzato per lo spiedino surgelato;Presenza e tipo di panatura;Presenza e combinazione di spezie</td></tr>\n",
       "\t<tr><th scope=row>4</th><td>2025/01/24 11:58:14 AM CET</td><td>Femminile</td><td>60-70</td><td>Lavoratore</td><td>1  </td><td>Nord Italia       </td><td>Una/due volte al mese</td><td>Spesso     </td><td>Condimenti per pasta o riso;Tranci/Filetti di pesce</td><td>No</td><td>⋯</td><td> 8</td><td> 4</td><td> 2</td><td>10</td><td>10</td><td> 1</td><td> 8</td><td> 3</td><td> 0</td><td>Tipo di pesce utilizzato per lo spiedino surgelato;Formato confezione                                           </td></tr>\n",
       "\t<tr><th scope=row>5</th><td>2025/01/24 11:59:33 AM CET</td><td>Maschile </td><td>26-35</td><td>Lavoratore</td><td>1  </td><td>Nord Italia       </td><td>Più volte a settimana</td><td>Spesso     </td><td>Condimenti per pasta o riso;Tranci/Filetti di pesce</td><td>No</td><td>⋯</td><td> 7</td><td> 6</td><td> 6</td><td> 5</td><td> 5</td><td> 9</td><td> 7</td><td> 7</td><td> 9</td><td>Tipo di pesce utilizzato per lo spiedino surgelato;Presenza e tipo di panatura;Formato confezione               </td></tr>\n",
       "\t<tr><th scope=row>6</th><td>2025/01/24 12:48:20 PM CET</td><td>Femminile</td><td>60-70</td><td>Lavoratore</td><td>2-4</td><td>Sud Italia e Isole</td><td>Più volte a settimana</td><td>Spesso     </td><td>Condimenti per pasta o riso;                       </td><td>Si</td><td>⋯</td><td> 6</td><td> 8</td><td> 6</td><td> 7</td><td> 6</td><td> 7</td><td> 5</td><td> 8</td><td> 8</td><td>Tipo di pesce utilizzato per lo spiedino surgelato;Presenza e tipo di panatura;Tempo di preparazione            </td></tr>\n",
       "</tbody>\n",
       "</table>\n"
      ],
      "text/latex": [
       "A data.frame: 6 × 33\n",
       "\\begin{tabular}{r|lllllllllllllllllllll}\n",
       "  & Informazioni.cronologiche & In.che.genere.ti.identifichi. & Qual.è.la.tua.età. & Qual.è.la.tua.occupazione. & Da.quante.persone.è.composto.il.tuo.nucleo.familiare. & Dove.abiti.al.momento. & Quanto.spesso.consumi.pesce. & In.media..quante.delle.volte.che.consumi.pesce..il.pesce.è.surgelato. & Che.tipo.di.pesce.surgelato.consumi...Puoi.selezionare.più.risposte. & Hai.una.marca.di.fiducia.per.l.acquisto.di.prodotti.di.pesce.surgelati. & ⋯ & X10..Spiedino.di.Salmone.croccanti.al.Panko.e.con.Prezzemolo.e.Basilico..pronto.in.più.di.15.minuti.e.venduto.in.confezioni.per.due.persone & X11..Spiedino.di.Calamaro.croccanti.al.Panko.e.con.Salvia.e.Rosmarino..pronto.in.meno.di.8.minuti.e.venduto.in.monoporzioni & X12..Spiedino.di.Calamaro.croccanti.al.Panko.e.con.nessuna.spezia..pronto.in.8.15.minuti.e.venduto.in.monoporzioni & X13..Spiedino.di.Gambero.Gratinato.con.Prezzemolo.e.Basilico..pronto.in.8.15.minuti.e.venduto.in.monoporzioni & X14..Spiedino.di.Gambero.Gratinato.con.Salvia.e.Rosmarino..pronto.in.più.di.15.minuti.e.venduto.in.monoporzioni & X15..Spiedino.di.Salmone.Gratinato.con.Salvia.e.Rosmarino..pronto.in.meno.di.8.minuti.e.venduto.in.confezioni.famiglia & X16..Spiedino.di.Salmone.Gratinato.con.nessuna.spezia..pronto.in.8.15.minuti.e.venduto.in.confezioni.per.due.persone & X17..Spiedino.di.Calamaro.Gratinato.con.nessuna.spezia..pronto.in.meno.di.8.minuti.e.venduto.in.confezioni.per.due.persone & X18..Spiedino.di.Calamaro.Gratinato.con.Prezzemolo.e.Basilico..pronto.in.più.di.15.minuti.e.venduto.in.confezioni.famiglia & Quali.sono.le.caratteristiche.che.hanno.influenzato.di.più.la.tua.valutazione...Puoi.selezionare.più.risposte.\\\\\n",
       "  & <chr> & <chr> & <chr> & <chr> & <chr> & <chr> & <chr> & <chr> & <chr> & <chr> & ⋯ & <int> & <int> & <int> & <int> & <int> & <int> & <int> & <int> & <int> & <chr>\\\\\n",
       "\\hline\n",
       "\t1 & 2025/01/24 10:32:13 AM CET & Femminile & 18-25 & Studente   & 2-4 & Nord Italia        & Una volta a settimana & Poche volte & Piatti pronti;Tranci/Filetti di pesce               & No & ⋯ &  9 &  8 &  2 &  8 &  7 &  2 &  8 &  3 &  4 & Tipo di pesce utilizzato per lo spiedino surgelato;Presenza e tipo di panatura                                  \\\\\n",
       "\t2 & 2025/01/24 10:33:56 AM CET & Femminile & 18-25 & Lavoratore & 4+  & Nord Italia        & Mai                   &             &                                                     &    & ⋯ & NA & NA & NA & NA & NA & NA & NA & NA & NA &                                                                                                                 \\\\\n",
       "\t3 & 2025/01/24 10:52:44 AM CET & Maschile  & 18-25 & Studente   & 2-4 & Nord Italia        & Una volta a settimana & Poche volte & Piatti pronti                                       & Si & ⋯ &  7 & 10 &  9 &  8 &  8 &  7 &  8 & 10 &  9 & Tipo di pesce utilizzato per lo spiedino surgelato;Presenza e tipo di panatura;Presenza e combinazione di spezie\\\\\n",
       "\t4 & 2025/01/24 11:58:14 AM CET & Femminile & 60-70 & Lavoratore & 1   & Nord Italia        & Una/due volte al mese & Spesso      & Condimenti per pasta o riso;Tranci/Filetti di pesce & No & ⋯ &  8 &  4 &  2 & 10 & 10 &  1 &  8 &  3 &  0 & Tipo di pesce utilizzato per lo spiedino surgelato;Formato confezione                                           \\\\\n",
       "\t5 & 2025/01/24 11:59:33 AM CET & Maschile  & 26-35 & Lavoratore & 1   & Nord Italia        & Più volte a settimana & Spesso      & Condimenti per pasta o riso;Tranci/Filetti di pesce & No & ⋯ &  7 &  6 &  6 &  5 &  5 &  9 &  7 &  7 &  9 & Tipo di pesce utilizzato per lo spiedino surgelato;Presenza e tipo di panatura;Formato confezione               \\\\\n",
       "\t6 & 2025/01/24 12:48:20 PM CET & Femminile & 60-70 & Lavoratore & 2-4 & Sud Italia e Isole & Più volte a settimana & Spesso      & Condimenti per pasta o riso;                        & Si & ⋯ &  6 &  8 &  6 &  7 &  6 &  7 &  5 &  8 &  8 & Tipo di pesce utilizzato per lo spiedino surgelato;Presenza e tipo di panatura;Tempo di preparazione            \\\\\n",
       "\\end{tabular}\n"
      ],
      "text/markdown": [
       "\n",
       "A data.frame: 6 × 33\n",
       "\n",
       "| <!--/--> | Informazioni.cronologiche &lt;chr&gt; | In.che.genere.ti.identifichi. &lt;chr&gt; | Qual.è.la.tua.età. &lt;chr&gt; | Qual.è.la.tua.occupazione. &lt;chr&gt; | Da.quante.persone.è.composto.il.tuo.nucleo.familiare. &lt;chr&gt; | Dove.abiti.al.momento. &lt;chr&gt; | Quanto.spesso.consumi.pesce. &lt;chr&gt; | In.media..quante.delle.volte.che.consumi.pesce..il.pesce.è.surgelato. &lt;chr&gt; | Che.tipo.di.pesce.surgelato.consumi...Puoi.selezionare.più.risposte. &lt;chr&gt; | Hai.una.marca.di.fiducia.per.l.acquisto.di.prodotti.di.pesce.surgelati. &lt;chr&gt; | ⋯ ⋯ | X10..Spiedino.di.Salmone.croccanti.al.Panko.e.con.Prezzemolo.e.Basilico..pronto.in.più.di.15.minuti.e.venduto.in.confezioni.per.due.persone &lt;int&gt; | X11..Spiedino.di.Calamaro.croccanti.al.Panko.e.con.Salvia.e.Rosmarino..pronto.in.meno.di.8.minuti.e.venduto.in.monoporzioni &lt;int&gt; | X12..Spiedino.di.Calamaro.croccanti.al.Panko.e.con.nessuna.spezia..pronto.in.8.15.minuti.e.venduto.in.monoporzioni &lt;int&gt; | X13..Spiedino.di.Gambero.Gratinato.con.Prezzemolo.e.Basilico..pronto.in.8.15.minuti.e.venduto.in.monoporzioni &lt;int&gt; | X14..Spiedino.di.Gambero.Gratinato.con.Salvia.e.Rosmarino..pronto.in.più.di.15.minuti.e.venduto.in.monoporzioni &lt;int&gt; | X15..Spiedino.di.Salmone.Gratinato.con.Salvia.e.Rosmarino..pronto.in.meno.di.8.minuti.e.venduto.in.confezioni.famiglia &lt;int&gt; | X16..Spiedino.di.Salmone.Gratinato.con.nessuna.spezia..pronto.in.8.15.minuti.e.venduto.in.confezioni.per.due.persone &lt;int&gt; | X17..Spiedino.di.Calamaro.Gratinato.con.nessuna.spezia..pronto.in.meno.di.8.minuti.e.venduto.in.confezioni.per.due.persone &lt;int&gt; | X18..Spiedino.di.Calamaro.Gratinato.con.Prezzemolo.e.Basilico..pronto.in.più.di.15.minuti.e.venduto.in.confezioni.famiglia &lt;int&gt; | Quali.sono.le.caratteristiche.che.hanno.influenzato.di.più.la.tua.valutazione...Puoi.selezionare.più.risposte. &lt;chr&gt; |\n",
       "|---|---|---|---|---|---|---|---|---|---|---|---|---|---|---|---|---|---|---|---|---|---|\n",
       "| 1 | 2025/01/24 10:32:13 AM CET | Femminile | 18-25 | Studente   | 2-4 | Nord Italia        | Una volta a settimana | Poche volte | Piatti pronti;Tranci/Filetti di pesce               | No | ⋯ |  9 |  8 |  2 |  8 |  7 |  2 |  8 |  3 |  4 | Tipo di pesce utilizzato per lo spiedino surgelato;Presenza e tipo di panatura                                   |\n",
       "| 2 | 2025/01/24 10:33:56 AM CET | Femminile | 18-25 | Lavoratore | 4+  | Nord Italia        | Mai                   | <!----> | <!----> | <!----> | ⋯ | NA | NA | NA | NA | NA | NA | NA | NA | NA | <!----> |\n",
       "| 3 | 2025/01/24 10:52:44 AM CET | Maschile  | 18-25 | Studente   | 2-4 | Nord Italia        | Una volta a settimana | Poche volte | Piatti pronti                                       | Si | ⋯ |  7 | 10 |  9 |  8 |  8 |  7 |  8 | 10 |  9 | Tipo di pesce utilizzato per lo spiedino surgelato;Presenza e tipo di panatura;Presenza e combinazione di spezie |\n",
       "| 4 | 2025/01/24 11:58:14 AM CET | Femminile | 60-70 | Lavoratore | 1   | Nord Italia        | Una/due volte al mese | Spesso      | Condimenti per pasta o riso;Tranci/Filetti di pesce | No | ⋯ |  8 |  4 |  2 | 10 | 10 |  1 |  8 |  3 |  0 | Tipo di pesce utilizzato per lo spiedino surgelato;Formato confezione                                            |\n",
       "| 5 | 2025/01/24 11:59:33 AM CET | Maschile  | 26-35 | Lavoratore | 1   | Nord Italia        | Più volte a settimana | Spesso      | Condimenti per pasta o riso;Tranci/Filetti di pesce | No | ⋯ |  7 |  6 |  6 |  5 |  5 |  9 |  7 |  7 |  9 | Tipo di pesce utilizzato per lo spiedino surgelato;Presenza e tipo di panatura;Formato confezione                |\n",
       "| 6 | 2025/01/24 12:48:20 PM CET | Femminile | 60-70 | Lavoratore | 2-4 | Sud Italia e Isole | Più volte a settimana | Spesso      | Condimenti per pasta o riso;                        | Si | ⋯ |  6 |  8 |  6 |  7 |  6 |  7 |  5 |  8 |  8 | Tipo di pesce utilizzato per lo spiedino surgelato;Presenza e tipo di panatura;Tempo di preparazione             |\n",
       "\n"
      ],
      "text/plain": [
       "  Informazioni.cronologiche  In.che.genere.ti.identifichi. Qual.è.la.tua.età.\n",
       "1 2025/01/24 10:32:13 AM CET Femminile                     18-25             \n",
       "2 2025/01/24 10:33:56 AM CET Femminile                     18-25             \n",
       "3 2025/01/24 10:52:44 AM CET Maschile                      18-25             \n",
       "4 2025/01/24 11:58:14 AM CET Femminile                     60-70             \n",
       "5 2025/01/24 11:59:33 AM CET Maschile                      26-35             \n",
       "6 2025/01/24 12:48:20 PM CET Femminile                     60-70             \n",
       "  Qual.è.la.tua.occupazione.\n",
       "1 Studente                  \n",
       "2 Lavoratore                \n",
       "3 Studente                  \n",
       "4 Lavoratore                \n",
       "5 Lavoratore                \n",
       "6 Lavoratore                \n",
       "  Da.quante.persone.è.composto.il.tuo.nucleo.familiare. Dove.abiti.al.momento.\n",
       "1 2-4                                                   Nord Italia           \n",
       "2 4+                                                    Nord Italia           \n",
       "3 2-4                                                   Nord Italia           \n",
       "4 1                                                     Nord Italia           \n",
       "5 1                                                     Nord Italia           \n",
       "6 2-4                                                   Sud Italia e Isole    \n",
       "  Quanto.spesso.consumi.pesce.\n",
       "1 Una volta a settimana       \n",
       "2 Mai                         \n",
       "3 Una volta a settimana       \n",
       "4 Una/due volte al mese       \n",
       "5 Più volte a settimana       \n",
       "6 Più volte a settimana       \n",
       "  In.media..quante.delle.volte.che.consumi.pesce..il.pesce.è.surgelato.\n",
       "1 Poche volte                                                          \n",
       "2                                                                      \n",
       "3 Poche volte                                                          \n",
       "4 Spesso                                                               \n",
       "5 Spesso                                                               \n",
       "6 Spesso                                                               \n",
       "  Che.tipo.di.pesce.surgelato.consumi...Puoi.selezionare.più.risposte.\n",
       "1 Piatti pronti;Tranci/Filetti di pesce                               \n",
       "2                                                                     \n",
       "3 Piatti pronti                                                       \n",
       "4 Condimenti per pasta o riso;Tranci/Filetti di pesce                 \n",
       "5 Condimenti per pasta o riso;Tranci/Filetti di pesce                 \n",
       "6 Condimenti per pasta o riso;                                        \n",
       "  Hai.una.marca.di.fiducia.per.l.acquisto.di.prodotti.di.pesce.surgelati. ⋯\n",
       "1 No                                                                      ⋯\n",
       "2                                                                         ⋯\n",
       "3 Si                                                                      ⋯\n",
       "4 No                                                                      ⋯\n",
       "5 No                                                                      ⋯\n",
       "6 Si                                                                      ⋯\n",
       "  X10..Spiedino.di.Salmone.croccanti.al.Panko.e.con.Prezzemolo.e.Basilico..pronto.in.più.di.15.minuti.e.venduto.in.confezioni.per.due.persone\n",
       "1  9                                                                                                                                         \n",
       "2 NA                                                                                                                                         \n",
       "3  7                                                                                                                                         \n",
       "4  8                                                                                                                                         \n",
       "5  7                                                                                                                                         \n",
       "6  6                                                                                                                                         \n",
       "  X11..Spiedino.di.Calamaro.croccanti.al.Panko.e.con.Salvia.e.Rosmarino..pronto.in.meno.di.8.minuti.e.venduto.in.monoporzioni\n",
       "1  8                                                                                                                         \n",
       "2 NA                                                                                                                         \n",
       "3 10                                                                                                                         \n",
       "4  4                                                                                                                         \n",
       "5  6                                                                                                                         \n",
       "6  8                                                                                                                         \n",
       "  X12..Spiedino.di.Calamaro.croccanti.al.Panko.e.con.nessuna.spezia..pronto.in.8.15.minuti.e.venduto.in.monoporzioni\n",
       "1  2                                                                                                                \n",
       "2 NA                                                                                                                \n",
       "3  9                                                                                                                \n",
       "4  2                                                                                                                \n",
       "5  6                                                                                                                \n",
       "6  6                                                                                                                \n",
       "  X13..Spiedino.di.Gambero.Gratinato.con.Prezzemolo.e.Basilico..pronto.in.8.15.minuti.e.venduto.in.monoporzioni\n",
       "1  8                                                                                                           \n",
       "2 NA                                                                                                           \n",
       "3  8                                                                                                           \n",
       "4 10                                                                                                           \n",
       "5  5                                                                                                           \n",
       "6  7                                                                                                           \n",
       "  X14..Spiedino.di.Gambero.Gratinato.con.Salvia.e.Rosmarino..pronto.in.più.di.15.minuti.e.venduto.in.monoporzioni\n",
       "1  7                                                                                                             \n",
       "2 NA                                                                                                             \n",
       "3  8                                                                                                             \n",
       "4 10                                                                                                             \n",
       "5  5                                                                                                             \n",
       "6  6                                                                                                             \n",
       "  X15..Spiedino.di.Salmone.Gratinato.con.Salvia.e.Rosmarino..pronto.in.meno.di.8.minuti.e.venduto.in.confezioni.famiglia\n",
       "1  2                                                                                                                    \n",
       "2 NA                                                                                                                    \n",
       "3  7                                                                                                                    \n",
       "4  1                                                                                                                    \n",
       "5  9                                                                                                                    \n",
       "6  7                                                                                                                    \n",
       "  X16..Spiedino.di.Salmone.Gratinato.con.nessuna.spezia..pronto.in.8.15.minuti.e.venduto.in.confezioni.per.due.persone\n",
       "1  8                                                                                                                  \n",
       "2 NA                                                                                                                  \n",
       "3  8                                                                                                                  \n",
       "4  8                                                                                                                  \n",
       "5  7                                                                                                                  \n",
       "6  5                                                                                                                  \n",
       "  X17..Spiedino.di.Calamaro.Gratinato.con.nessuna.spezia..pronto.in.meno.di.8.minuti.e.venduto.in.confezioni.per.due.persone\n",
       "1  3                                                                                                                        \n",
       "2 NA                                                                                                                        \n",
       "3 10                                                                                                                        \n",
       "4  3                                                                                                                        \n",
       "5  7                                                                                                                        \n",
       "6  8                                                                                                                        \n",
       "  X18..Spiedino.di.Calamaro.Gratinato.con.Prezzemolo.e.Basilico..pronto.in.più.di.15.minuti.e.venduto.in.confezioni.famiglia\n",
       "1  4                                                                                                                        \n",
       "2 NA                                                                                                                        \n",
       "3  9                                                                                                                        \n",
       "4  0                                                                                                                        \n",
       "5  9                                                                                                                        \n",
       "6  8                                                                                                                        \n",
       "  Quali.sono.le.caratteristiche.che.hanno.influenzato.di.più.la.tua.valutazione...Puoi.selezionare.più.risposte.  \n",
       "1 Tipo di pesce utilizzato per lo spiedino surgelato;Presenza e tipo di panatura                                  \n",
       "2                                                                                                                 \n",
       "3 Tipo di pesce utilizzato per lo spiedino surgelato;Presenza e tipo di panatura;Presenza e combinazione di spezie\n",
       "4 Tipo di pesce utilizzato per lo spiedino surgelato;Formato confezione                                           \n",
       "5 Tipo di pesce utilizzato per lo spiedino surgelato;Presenza e tipo di panatura;Formato confezione               \n",
       "6 Tipo di pesce utilizzato per lo spiedino surgelato;Presenza e tipo di panatura;Tempo di preparazione            "
      ]
     },
     "metadata": {},
     "output_type": "display_data"
    }
   ],
   "source": [
    "#The answers of the questionnaire are imported\n",
    "file_csv <- \"data/conjoint_rawdata.csv\"\n",
    "survey_raw <- read.csv(file_csv)\n",
    "head(survey_raw)"
   ]
  },
  {
   "cell_type": "markdown",
   "id": "1aa2e9e4-a879-4595-941a-6613d28fb566",
   "metadata": {},
   "source": [
    "---\n",
    "\n",
    "#### **2.1. Data Manipulation**"
   ]
  },
  {
   "cell_type": "markdown",
   "id": "70b5ad10-7578-4bb5-895c-c1e79bd53444",
   "metadata": {},
   "source": [
    "We removed useless columns..."
   ]
  },
  {
   "cell_type": "code",
   "execution_count": 8,
   "id": "74054930-be5c-4eb0-84a8-8bff2fa1b5c6",
   "metadata": {
    "ExecuteTime": {
     "end_time": "2025-02-06T11:12:44.840748Z",
     "start_time": "2025-02-06T11:12:44.827616Z"
    }
   },
   "outputs": [],
   "source": [
    "survey_raw <- survey_raw[, !colnames(survey_raw) %in% c(\"Informazioni.cronologiche\")]"
   ]
  },
  {
   "cell_type": "markdown",
   "id": "bd25a55b-245f-4df7-9f10-e335810e22ce",
   "metadata": {},
   "source": [
    ".. and renamed the remaining ones in order to simplify the analysis."
   ]
  },
  {
   "cell_type": "code",
   "execution_count": 9,
   "id": "9dc02c1f-4996-4c9e-9f0a-38b9b32b1327",
   "metadata": {
    "ExecuteTime": {
     "end_time": "2025-02-06T11:12:45.218080Z",
     "start_time": "2025-02-06T11:12:45.209034Z"
    }
   },
   "outputs": [],
   "source": [
    "renamed_col <- c(\n",
    "  'In.che.genere.ti.identifichi.' = 'gender',\n",
    "  'Qual.è.la.tua.età.' = 'age',\n",
    "  'Qual.è.la.tua.occupazione.' = 'occupation',\n",
    "  'Da.quante.persone.è.composto.il.tuo.nucleo.familiare.' = 'family_size',\n",
    "  'Dove.abiti.al.momento.' = 'location',\n",
    "  'Quanto.spesso.consumi.pesce.' = 'fish_consumption_frequency',\n",
    "  'In.media..quante.delle.volte.che.consumi.pesce..il.pesce.è.surgelato.' = 'frozen_fish_consumption_frequency',\n",
    "  'Che.tipo.di.pesce.surgelato.consumi...Puoi.selezionare.più.risposte.' = 'frozen_fish_type',\n",
    "  'Hai.una.marca.di.fiducia.per.l.acquisto.di.prodotti.di.pesce.surgelati.' = 'trusted_brand',\n",
    "  'Quali.caratteristiche.di.una.marca.ti.portano.a.sceglierla.come.la.tua.marca.di.fiducia..' = 'reason_to_trust',\n",
    "  'Tendi.ad.acquistare.sempre.il.prodotto.di.pesce.surgelato.più.economico.' = 'buy_cheapest_frozen_fish',\n",
    "  'Qual.è.la.ragione.principale.per.cui.non.consumi.pesce.' = 'reason_to_not_consume',\n",
    "  'A.quali.condizioni.considereresti.l.acquisto.di.prodotti.di.pesce.surgelati.' = 'conditions_to_consume',\n",
    "  'X1..Spiedino.di.Gambero.con.nessuna.panatura.e.nessuna.spezia..pronto.in.meno.di.8.minuti.e.venduto.in.confezioni.famiglia' = 'Gambero_Nessuna_Nessuna_MenoDi8_Famiglia',\n",
    "  'X2..Spiedino.di.Gambero.con.nessuna.panatura.ma.con.Salvia.e.Rosmarino..pronto.in.8.15.minuti.e.venduto.in.confezioni.per.2.persone' = 'Gambero_Nessuna_SalviaRosmarino_8-15_Doppia',\n",
    "  'X3..Spiedino.di.salmone.con.nessuna.panatura.ma.con.Prezzemolo.e.Basilico..pronto.in.meno.di.8.minuti.e.venduto.in.monoporzioni' = 'Salmone_Nessuna_PrezzemoloBasilico_MenoDi8_Mono',\n",
    "  'X4..Spiedino.di.Salmone.con.nessuna.panatura.e.nessuna.spezia..pronto.in.Più.di.15.minuti.e.venduto.in.Monoporzioni' = 'Salmone_Nessuna_Nessuna_PiùDi15_Mono',\n",
    "  'X5..Spiedino.di.Calamaro.con.Nessuna.panatura.ma.con.Prezzemolo.e.Basilico..pronto.in.8.15.minuti.e.venduto.in.confezioni.famiglia' = 'Calamaro_Nessuna_PrezzemoloBasilico_8-15_Famiglia',\n",
    "  'X6..Spiedino.di.Calamaro.con.nessuna.panatura.ma.con.Salvia.e.Rosmarino..pronto.in.più.di.15.minuti.e.venduto.in.confezioni.da.due.persone' = 'Calamaro_Nessuna_SalviaRosmarino_PiùDi15_Doppia',\n",
    "  'X7..Spiedino.di.Gambero.croccanti.al.Panko.e.con.Prezzemolo.e.Basilico..pronto.in.meno.di.8.minuti.e.venduto.in.confezioni.per.due.persone.NB..La.panatura..Panko..è.fatto.con.la.sola.mollica.di.pane.bianco.e.rende.le.fritture.particolarmente.croccanti' = 'Gambero_Panko_PrezzemoloBasilico_MenoDi8_Doppia',\n",
    "  'X8..Spiedino.di.Gambero.croccanti.al.Panko.e.nessuna.spezia..pronto.in.più.di.15.minuti.e.venduto.in.confezioni.famiglia' = 'Gambero_Panko_Nessuna_PiùDi15_Famiglia',\n",
    "  'X9..Spiedino.di..Salmone.croccanti.al.Panko.e.con.Salvia.e.Rosmarino..pronto.in.8.15.minuti.e.venduto.in.confezioni.famiglia' = 'Salmone_Panko_SalviaRosmarino_8-15_Famiglia',\n",
    "  'X10..Spiedino.di.Salmone.croccanti.al.Panko.e.con.Prezzemolo.e.Basilico..pronto.in.più.di.15.minuti.e.venduto.in.confezioni.per.due.persone' = 'Salmone_Panko_PrezzemoloBasilico_PiùDi15_Doppia',\n",
    "  'X11..Spiedino.di.Calamaro.croccanti.al.Panko.e.con.Salvia.e.Rosmarino..pronto.in.meno.di.8.minuti.e.venduto.in.monoporzioni' = 'Calamaro_Panko_SalviaRosmarino_MenoDi8_Mono',\n",
    "  'X12..Spiedino.di.Calamaro.croccanti.al.Panko.e.con.nessuna.spezia..pronto.in.8.15.minuti.e.venduto.in.monoporzioni' = 'Calamaro_Panko_Nessuna_8-15_Mono',\n",
    "  'X13..Spiedino.di.Gambero.Gratinato.con.Prezzemolo.e.Basilico..pronto.in.8.15.minuti.e.venduto.in.monoporzioni' = 'Gambero_Gratinato_PrezzemoloBasilico_8-15_Mono',\n",
    "  'X14..Spiedino.di.Gambero.Gratinato.con.Salvia.e.Rosmarino..pronto.in.più.di.15.minuti.e.venduto.in.monoporzioni' = 'Gambero_Gratinato_SalviaRosmarino_PiùDi15_Mono',\n",
    "  'X15..Spiedino.di.Salmone.Gratinato.con.Salvia.e.Rosmarino..pronto.in.meno.di.8.minuti.e.venduto.in.confezioni.famiglia' = 'Salmone_Gratinato_SalviaRosmarino_MenoDi8_Famiglia',\n",
    "  'X16..Spiedino.di.Salmone.Gratinato.con.nessuna.spezia..pronto.in.8.15.minuti.e.venduto.in.confezioni.per.due.persone' = 'Salmone_Gratinato_Nessuna_8-15_Doppia',\n",
    "  'X17..Spiedino.di.Calamaro.Gratinato.con.nessuna.spezia..pronto.in.meno.di.8.minuti.e.venduto.in.confezioni.per.due.persone' = 'Calamaro_Gratinato_Nessuna_MenoDi8_Doppia',\n",
    "  'X18..Spiedino.di.Calamaro.Gratinato.con.Prezzemolo.e.Basilico..pronto.in.più.di.15.minuti.e.venduto.in.confezioni.famiglia' = 'Calamaro_Gratinato_PrezzemoloBasilico_PiùDi15_Famiglia',\n",
    "  'Quali.sono.le.caratteristiche.che.hanno.influenzato.di.più.la.tua.valutazione...Puoi.selezionare.più.risposte.' = 'major_influences'\n",
    ")\n",
    "\n",
    "colnames(survey_raw) <- renamed_col[colnames(survey_raw)]"
   ]
  },
  {
   "cell_type": "code",
   "execution_count": 10,
   "id": "362f84be-c332-4c67-af0c-18f82bff8810",
   "metadata": {
    "ExecuteTime": {
     "end_time": "2025-02-06T11:12:45.507098Z",
     "start_time": "2025-02-06T11:12:45.484041Z"
    }
   },
   "outputs": [
    {
     "data": {
      "text/html": [
       "<table class=\"dataframe\">\n",
       "<caption>A data.frame: 6 × 32</caption>\n",
       "<thead>\n",
       "\t<tr><th></th><th scope=col>gender</th><th scope=col>age</th><th scope=col>occupation</th><th scope=col>family_size</th><th scope=col>location</th><th scope=col>fish_consumption_frequency</th><th scope=col>frozen_fish_consumption_frequency</th><th scope=col>frozen_fish_type</th><th scope=col>trusted_brand</th><th scope=col>reason_to_trust</th><th scope=col>⋯</th><th scope=col>Salmone_Panko_PrezzemoloBasilico_PiùDi15_Doppia</th><th scope=col>Calamaro_Panko_SalviaRosmarino_MenoDi8_Mono</th><th scope=col>Calamaro_Panko_Nessuna_8-15_Mono</th><th scope=col>Gambero_Gratinato_PrezzemoloBasilico_8-15_Mono</th><th scope=col>Gambero_Gratinato_SalviaRosmarino_PiùDi15_Mono</th><th scope=col>Salmone_Gratinato_SalviaRosmarino_MenoDi8_Famiglia</th><th scope=col>Salmone_Gratinato_Nessuna_8-15_Doppia</th><th scope=col>Calamaro_Gratinato_Nessuna_MenoDi8_Doppia</th><th scope=col>Calamaro_Gratinato_PrezzemoloBasilico_PiùDi15_Famiglia</th><th scope=col>major_influences</th></tr>\n",
       "\t<tr><th></th><th scope=col>&lt;chr&gt;</th><th scope=col>&lt;chr&gt;</th><th scope=col>&lt;chr&gt;</th><th scope=col>&lt;chr&gt;</th><th scope=col>&lt;chr&gt;</th><th scope=col>&lt;chr&gt;</th><th scope=col>&lt;chr&gt;</th><th scope=col>&lt;chr&gt;</th><th scope=col>&lt;chr&gt;</th><th scope=col>&lt;chr&gt;</th><th scope=col>⋯</th><th scope=col>&lt;int&gt;</th><th scope=col>&lt;int&gt;</th><th scope=col>&lt;int&gt;</th><th scope=col>&lt;int&gt;</th><th scope=col>&lt;int&gt;</th><th scope=col>&lt;int&gt;</th><th scope=col>&lt;int&gt;</th><th scope=col>&lt;int&gt;</th><th scope=col>&lt;int&gt;</th><th scope=col>&lt;chr&gt;</th></tr>\n",
       "</thead>\n",
       "<tbody>\n",
       "\t<tr><th scope=row>1</th><td>Femminile</td><td>18-25</td><td>Studente  </td><td>2-4</td><td>Nord Italia       </td><td>Una volta a settimana</td><td>Poche volte</td><td>Piatti pronti;Tranci/Filetti di pesce              </td><td>No</td><td>                         </td><td>⋯</td><td> 9</td><td> 8</td><td> 2</td><td> 8</td><td> 7</td><td> 2</td><td> 8</td><td> 3</td><td> 4</td><td>Tipo di pesce utilizzato per lo spiedino surgelato;Presenza e tipo di panatura                                  </td></tr>\n",
       "\t<tr><th scope=row>2</th><td>Femminile</td><td>18-25</td><td>Lavoratore</td><td>4+ </td><td>Nord Italia       </td><td>Mai                  </td><td>           </td><td>                                                   </td><td>  </td><td>                         </td><td>⋯</td><td>NA</td><td>NA</td><td>NA</td><td>NA</td><td>NA</td><td>NA</td><td>NA</td><td>NA</td><td>NA</td><td>                                                                                                                </td></tr>\n",
       "\t<tr><th scope=row>3</th><td>Maschile </td><td>18-25</td><td>Studente  </td><td>2-4</td><td>Nord Italia       </td><td>Una volta a settimana</td><td>Poche volte</td><td>Piatti pronti                                      </td><td>Si</td><td>Gusto e convenienza      </td><td>⋯</td><td> 7</td><td>10</td><td> 9</td><td> 8</td><td> 8</td><td> 7</td><td> 8</td><td>10</td><td> 9</td><td>Tipo di pesce utilizzato per lo spiedino surgelato;Presenza e tipo di panatura;Presenza e combinazione di spezie</td></tr>\n",
       "\t<tr><th scope=row>4</th><td>Femminile</td><td>60-70</td><td>Lavoratore</td><td>1  </td><td>Nord Italia       </td><td>Una/due volte al mese</td><td>Spesso     </td><td>Condimenti per pasta o riso;Tranci/Filetti di pesce</td><td>No</td><td>                         </td><td>⋯</td><td> 8</td><td> 4</td><td> 2</td><td>10</td><td>10</td><td> 1</td><td> 8</td><td> 3</td><td> 0</td><td>Tipo di pesce utilizzato per lo spiedino surgelato;Formato confezione                                           </td></tr>\n",
       "\t<tr><th scope=row>5</th><td>Maschile </td><td>26-35</td><td>Lavoratore</td><td>1  </td><td>Nord Italia       </td><td>Più volte a settimana</td><td>Spesso     </td><td>Condimenti per pasta o riso;Tranci/Filetti di pesce</td><td>No</td><td>                         </td><td>⋯</td><td> 7</td><td> 6</td><td> 6</td><td> 5</td><td> 5</td><td> 9</td><td> 7</td><td> 7</td><td> 9</td><td>Tipo di pesce utilizzato per lo spiedino surgelato;Presenza e tipo di panatura;Formato confezione               </td></tr>\n",
       "\t<tr><th scope=row>6</th><td>Femminile</td><td>60-70</td><td>Lavoratore</td><td>2-4</td><td>Sud Italia e Isole</td><td>Più volte a settimana</td><td>Spesso     </td><td>Condimenti per pasta o riso;                       </td><td>Si</td><td>Il sapore,la consistenza </td><td>⋯</td><td> 6</td><td> 8</td><td> 6</td><td> 7</td><td> 6</td><td> 7</td><td> 5</td><td> 8</td><td> 8</td><td>Tipo di pesce utilizzato per lo spiedino surgelato;Presenza e tipo di panatura;Tempo di preparazione            </td></tr>\n",
       "</tbody>\n",
       "</table>\n"
      ],
      "text/latex": [
       "A data.frame: 6 × 32\n",
       "\\begin{tabular}{r|lllllllllllllllllllll}\n",
       "  & gender & age & occupation & family\\_size & location & fish\\_consumption\\_frequency & frozen\\_fish\\_consumption\\_frequency & frozen\\_fish\\_type & trusted\\_brand & reason\\_to\\_trust & ⋯ & Salmone\\_Panko\\_PrezzemoloBasilico\\_PiùDi15\\_Doppia & Calamaro\\_Panko\\_SalviaRosmarino\\_MenoDi8\\_Mono & Calamaro\\_Panko\\_Nessuna\\_8-15\\_Mono & Gambero\\_Gratinato\\_PrezzemoloBasilico\\_8-15\\_Mono & Gambero\\_Gratinato\\_SalviaRosmarino\\_PiùDi15\\_Mono & Salmone\\_Gratinato\\_SalviaRosmarino\\_MenoDi8\\_Famiglia & Salmone\\_Gratinato\\_Nessuna\\_8-15\\_Doppia & Calamaro\\_Gratinato\\_Nessuna\\_MenoDi8\\_Doppia & Calamaro\\_Gratinato\\_PrezzemoloBasilico\\_PiùDi15\\_Famiglia & major\\_influences\\\\\n",
       "  & <chr> & <chr> & <chr> & <chr> & <chr> & <chr> & <chr> & <chr> & <chr> & <chr> & ⋯ & <int> & <int> & <int> & <int> & <int> & <int> & <int> & <int> & <int> & <chr>\\\\\n",
       "\\hline\n",
       "\t1 & Femminile & 18-25 & Studente   & 2-4 & Nord Italia        & Una volta a settimana & Poche volte & Piatti pronti;Tranci/Filetti di pesce               & No &                           & ⋯ &  9 &  8 &  2 &  8 &  7 &  2 &  8 &  3 &  4 & Tipo di pesce utilizzato per lo spiedino surgelato;Presenza e tipo di panatura                                  \\\\\n",
       "\t2 & Femminile & 18-25 & Lavoratore & 4+  & Nord Italia        & Mai                   &             &                                                     &    &                           & ⋯ & NA & NA & NA & NA & NA & NA & NA & NA & NA &                                                                                                                 \\\\\n",
       "\t3 & Maschile  & 18-25 & Studente   & 2-4 & Nord Italia        & Una volta a settimana & Poche volte & Piatti pronti                                       & Si & Gusto e convenienza       & ⋯ &  7 & 10 &  9 &  8 &  8 &  7 &  8 & 10 &  9 & Tipo di pesce utilizzato per lo spiedino surgelato;Presenza e tipo di panatura;Presenza e combinazione di spezie\\\\\n",
       "\t4 & Femminile & 60-70 & Lavoratore & 1   & Nord Italia        & Una/due volte al mese & Spesso      & Condimenti per pasta o riso;Tranci/Filetti di pesce & No &                           & ⋯ &  8 &  4 &  2 & 10 & 10 &  1 &  8 &  3 &  0 & Tipo di pesce utilizzato per lo spiedino surgelato;Formato confezione                                           \\\\\n",
       "\t5 & Maschile  & 26-35 & Lavoratore & 1   & Nord Italia        & Più volte a settimana & Spesso      & Condimenti per pasta o riso;Tranci/Filetti di pesce & No &                           & ⋯ &  7 &  6 &  6 &  5 &  5 &  9 &  7 &  7 &  9 & Tipo di pesce utilizzato per lo spiedino surgelato;Presenza e tipo di panatura;Formato confezione               \\\\\n",
       "\t6 & Femminile & 60-70 & Lavoratore & 2-4 & Sud Italia e Isole & Più volte a settimana & Spesso      & Condimenti per pasta o riso;                        & Si & Il sapore,la consistenza  & ⋯ &  6 &  8 &  6 &  7 &  6 &  7 &  5 &  8 &  8 & Tipo di pesce utilizzato per lo spiedino surgelato;Presenza e tipo di panatura;Tempo di preparazione            \\\\\n",
       "\\end{tabular}\n"
      ],
      "text/markdown": [
       "\n",
       "A data.frame: 6 × 32\n",
       "\n",
       "| <!--/--> | gender &lt;chr&gt; | age &lt;chr&gt; | occupation &lt;chr&gt; | family_size &lt;chr&gt; | location &lt;chr&gt; | fish_consumption_frequency &lt;chr&gt; | frozen_fish_consumption_frequency &lt;chr&gt; | frozen_fish_type &lt;chr&gt; | trusted_brand &lt;chr&gt; | reason_to_trust &lt;chr&gt; | ⋯ ⋯ | Salmone_Panko_PrezzemoloBasilico_PiùDi15_Doppia &lt;int&gt; | Calamaro_Panko_SalviaRosmarino_MenoDi8_Mono &lt;int&gt; | Calamaro_Panko_Nessuna_8-15_Mono &lt;int&gt; | Gambero_Gratinato_PrezzemoloBasilico_8-15_Mono &lt;int&gt; | Gambero_Gratinato_SalviaRosmarino_PiùDi15_Mono &lt;int&gt; | Salmone_Gratinato_SalviaRosmarino_MenoDi8_Famiglia &lt;int&gt; | Salmone_Gratinato_Nessuna_8-15_Doppia &lt;int&gt; | Calamaro_Gratinato_Nessuna_MenoDi8_Doppia &lt;int&gt; | Calamaro_Gratinato_PrezzemoloBasilico_PiùDi15_Famiglia &lt;int&gt; | major_influences &lt;chr&gt; |\n",
       "|---|---|---|---|---|---|---|---|---|---|---|---|---|---|---|---|---|---|---|---|---|---|\n",
       "| 1 | Femminile | 18-25 | Studente   | 2-4 | Nord Italia        | Una volta a settimana | Poche volte | Piatti pronti;Tranci/Filetti di pesce               | No | <!----> | ⋯ |  9 |  8 |  2 |  8 |  7 |  2 |  8 |  3 |  4 | Tipo di pesce utilizzato per lo spiedino surgelato;Presenza e tipo di panatura                                   |\n",
       "| 2 | Femminile | 18-25 | Lavoratore | 4+  | Nord Italia        | Mai                   | <!----> | <!----> | <!----> | <!----> | ⋯ | NA | NA | NA | NA | NA | NA | NA | NA | NA | <!----> |\n",
       "| 3 | Maschile  | 18-25 | Studente   | 2-4 | Nord Italia        | Una volta a settimana | Poche volte | Piatti pronti                                       | Si | Gusto e convenienza       | ⋯ |  7 | 10 |  9 |  8 |  8 |  7 |  8 | 10 |  9 | Tipo di pesce utilizzato per lo spiedino surgelato;Presenza e tipo di panatura;Presenza e combinazione di spezie |\n",
       "| 4 | Femminile | 60-70 | Lavoratore | 1   | Nord Italia        | Una/due volte al mese | Spesso      | Condimenti per pasta o riso;Tranci/Filetti di pesce | No | <!----> | ⋯ |  8 |  4 |  2 | 10 | 10 |  1 |  8 |  3 |  0 | Tipo di pesce utilizzato per lo spiedino surgelato;Formato confezione                                            |\n",
       "| 5 | Maschile  | 26-35 | Lavoratore | 1   | Nord Italia        | Più volte a settimana | Spesso      | Condimenti per pasta o riso;Tranci/Filetti di pesce | No | <!----> | ⋯ |  7 |  6 |  6 |  5 |  5 |  9 |  7 |  7 |  9 | Tipo di pesce utilizzato per lo spiedino surgelato;Presenza e tipo di panatura;Formato confezione                |\n",
       "| 6 | Femminile | 60-70 | Lavoratore | 2-4 | Sud Italia e Isole | Più volte a settimana | Spesso      | Condimenti per pasta o riso;                        | Si | Il sapore,la consistenza  | ⋯ |  6 |  8 |  6 |  7 |  6 |  7 |  5 |  8 |  8 | Tipo di pesce utilizzato per lo spiedino surgelato;Presenza e tipo di panatura;Tempo di preparazione             |\n",
       "\n"
      ],
      "text/plain": [
       "  gender    age   occupation family_size location          \n",
       "1 Femminile 18-25 Studente   2-4         Nord Italia       \n",
       "2 Femminile 18-25 Lavoratore 4+          Nord Italia       \n",
       "3 Maschile  18-25 Studente   2-4         Nord Italia       \n",
       "4 Femminile 60-70 Lavoratore 1           Nord Italia       \n",
       "5 Maschile  26-35 Lavoratore 1           Nord Italia       \n",
       "6 Femminile 60-70 Lavoratore 2-4         Sud Italia e Isole\n",
       "  fish_consumption_frequency frozen_fish_consumption_frequency\n",
       "1 Una volta a settimana      Poche volte                      \n",
       "2 Mai                                                         \n",
       "3 Una volta a settimana      Poche volte                      \n",
       "4 Una/due volte al mese      Spesso                           \n",
       "5 Più volte a settimana      Spesso                           \n",
       "6 Più volte a settimana      Spesso                           \n",
       "  frozen_fish_type                                    trusted_brand\n",
       "1 Piatti pronti;Tranci/Filetti di pesce               No           \n",
       "2                                                                  \n",
       "3 Piatti pronti                                       Si           \n",
       "4 Condimenti per pasta o riso;Tranci/Filetti di pesce No           \n",
       "5 Condimenti per pasta o riso;Tranci/Filetti di pesce No           \n",
       "6 Condimenti per pasta o riso;                        Si           \n",
       "  reason_to_trust           ⋯ Salmone_Panko_PrezzemoloBasilico_PiùDi15_Doppia\n",
       "1                           ⋯  9                                             \n",
       "2                           ⋯ NA                                             \n",
       "3 Gusto e convenienza       ⋯  7                                             \n",
       "4                           ⋯  8                                             \n",
       "5                           ⋯  7                                             \n",
       "6 Il sapore,la consistenza  ⋯  6                                             \n",
       "  Calamaro_Panko_SalviaRosmarino_MenoDi8_Mono Calamaro_Panko_Nessuna_8-15_Mono\n",
       "1  8                                           2                              \n",
       "2 NA                                          NA                              \n",
       "3 10                                           9                              \n",
       "4  4                                           2                              \n",
       "5  6                                           6                              \n",
       "6  8                                           6                              \n",
       "  Gambero_Gratinato_PrezzemoloBasilico_8-15_Mono\n",
       "1  8                                            \n",
       "2 NA                                            \n",
       "3  8                                            \n",
       "4 10                                            \n",
       "5  5                                            \n",
       "6  7                                            \n",
       "  Gambero_Gratinato_SalviaRosmarino_PiùDi15_Mono\n",
       "1  7                                            \n",
       "2 NA                                            \n",
       "3  8                                            \n",
       "4 10                                            \n",
       "5  5                                            \n",
       "6  6                                            \n",
       "  Salmone_Gratinato_SalviaRosmarino_MenoDi8_Famiglia\n",
       "1  2                                                \n",
       "2 NA                                                \n",
       "3  7                                                \n",
       "4  1                                                \n",
       "5  9                                                \n",
       "6  7                                                \n",
       "  Salmone_Gratinato_Nessuna_8-15_Doppia\n",
       "1  8                                   \n",
       "2 NA                                   \n",
       "3  8                                   \n",
       "4  8                                   \n",
       "5  7                                   \n",
       "6  5                                   \n",
       "  Calamaro_Gratinato_Nessuna_MenoDi8_Doppia\n",
       "1  3                                       \n",
       "2 NA                                       \n",
       "3 10                                       \n",
       "4  3                                       \n",
       "5  7                                       \n",
       "6  8                                       \n",
       "  Calamaro_Gratinato_PrezzemoloBasilico_PiùDi15_Famiglia\n",
       "1  4                                                    \n",
       "2 NA                                                    \n",
       "3  9                                                    \n",
       "4  0                                                    \n",
       "5  9                                                    \n",
       "6  8                                                    \n",
       "  major_influences                                                                                                \n",
       "1 Tipo di pesce utilizzato per lo spiedino surgelato;Presenza e tipo di panatura                                  \n",
       "2                                                                                                                 \n",
       "3 Tipo di pesce utilizzato per lo spiedino surgelato;Presenza e tipo di panatura;Presenza e combinazione di spezie\n",
       "4 Tipo di pesce utilizzato per lo spiedino surgelato;Formato confezione                                           \n",
       "5 Tipo di pesce utilizzato per lo spiedino surgelato;Presenza e tipo di panatura;Formato confezione               \n",
       "6 Tipo di pesce utilizzato per lo spiedino surgelato;Presenza e tipo di panatura;Tempo di preparazione            "
      ]
     },
     "metadata": {},
     "output_type": "display_data"
    }
   ],
   "source": [
    "# Adjusted dataset\n",
    "head(survey_raw)"
   ]
  },
  {
   "cell_type": "markdown",
   "id": "97588b64-5f30-4347-a3da-f22cf9886428",
   "metadata": {},
   "source": [
    "---\n",
    "\n",
    "### **2.2. EDA Analysis**"
   ]
  },
  {
   "cell_type": "markdown",
   "id": "97e45359-1840-4828-b6fe-a13a9a532cbc",
   "metadata": {},
   "source": [
    "Some exploratory data analysis to visualize the distribution of answers for demographic and consumption habit variables."
   ]
  },
  {
   "cell_type": "markdown",
   "id": "fc84621b-6f71-47f4-b155-61a5a582f5be",
   "metadata": {},
   "source": [
    "#### **2.2.1 Demographic variables**"
   ]
  },
  {
   "cell_type": "code",
   "execution_count": 11,
   "id": "cd7f93e4-97f1-4693-85d5-1341b6b7a25d",
   "metadata": {
    "ExecuteTime": {
     "end_time": "2025-02-06T11:12:45.795049Z",
     "start_time": "2025-02-06T11:12:45.788151Z"
    }
   },
   "outputs": [],
   "source": [
    "df <- survey_raw[, 1:5]"
   ]
  },
  {
   "cell_type": "code",
   "execution_count": 12,
   "id": "46bf657e-fddd-4c9e-a81b-767879df5913",
   "metadata": {
    "ExecuteTime": {
     "end_time": "2025-02-06T11:12:46.362576Z",
     "start_time": "2025-02-06T11:12:45.862123Z"
    }
   },
   "outputs": [
    {
     "name": "stdout",
     "output_type": "stream",
     "text": [
      "Distributions of Demographic Variables:\n"
     ]
    },
    {
     "data": {
      "image/png": "[encoded data removed]",
      "text/plain": [
       "plot without title"
      ]
     },
     "metadata": {
      "image/png": {
       "height": 420,
       "width": 420
      }
     },
     "output_type": "display_data"
    }
   ],
   "source": [
    "cat(\"Distributions of Demographic Variables:\\n\")\n",
    "\n",
    "p1 <- ggplot(df, aes(x = gender)) +\n",
    "  geom_bar(fill = \"steelblue\") +\n",
    "  ggtitle(\"Gender\") +\n",
    "  theme_minimal()+\n",
    "  theme(plot.title = element_text(hjust = 0.5))\n",
    "\n",
    "p2 <- ggplot(df, aes(x = age)) +\n",
    "  geom_bar(fill = \"tomato\") +\n",
    "  ggtitle(\"Age\") +\n",
    "  theme_minimal()+\n",
    "  theme(plot.title = element_text(hjust = 0.5))\n",
    "\n",
    "p3 <- ggplot(df, aes(x = occupation)) +\n",
    "  geom_bar(fill = \"seagreen\") +\n",
    "  ggtitle(\"Working status\") +\n",
    "  theme_minimal()+\n",
    "  theme(plot.title = element_text(hjust = 0.5))\n",
    "\n",
    "p4 <- ggplot(df, aes(x = family_size)) +\n",
    "  geom_bar(fill = \"purple\") +\n",
    "  ggtitle(\"Family size\")+\n",
    "  theme_minimal()+\n",
    "  theme(plot.title = element_text(hjust = 0.5))\n",
    "\n",
    "p5 <- ggplot(df, aes(x = location)) +\n",
    "  geom_bar(fill = \"goldenrod\") +\n",
    "  ggtitle(\"Geographic position\")+\n",
    "  theme_minimal()+\n",
    "  theme(plot.title = element_text(hjust = 0.5))\n",
    "\n",
    "grid.arrange(p1, p2, p3, p4, p5, ncol = 2)\n"
   ]
  },
  {
   "cell_type": "markdown",
   "id": "02ea02fe-2d11-4006-b186-0bff39865c30",
   "metadata": {},
   "source": [
    "Our sample consists primarily of *females*, representing approximately 80% of respondents, with a majority of respondents being *middle-aged* (46-60 years). A significant portion of the sample also includes individuals aged 18-25. Most respondents are *workers* residing in *southern Italy* and on the islands, followed by those in northern Italy. The most common family size ranges from *2 to 4 members*.\n",
    "\n",
    "Given these considerations, it is clear that our sample is **not representative**, as it is a **convenience sample** obtained through interviews with family and friends."
   ]
  },
  {
   "cell_type": "markdown",
   "id": "ed08ea32-eda1-49d2-8aa8-0cba3f0cfd40",
   "metadata": {},
   "source": [
    "#### **2.2.2 Consumption Habits**"
   ]
  },
  {
   "cell_type": "code",
   "execution_count": 13,
   "id": "9bf608a7-81a6-4a05-85d6-d14f721d89c5",
   "metadata": {
    "ExecuteTime": {
     "end_time": "2025-02-06T11:12:46.801799Z",
     "start_time": "2025-02-06T11:12:46.615852Z"
    }
   },
   "outputs": [
    {
     "name": "stdout",
     "output_type": "stream",
     "text": [
      "Distributions of Consumption Habits Variables:\n"
     ]
    },
    {
     "data": {
      "image/png": "[encoded data removed]",
      "text/plain": [
       "plot without title"
      ]
     },
     "metadata": {
      "image/png": {
       "height": 420,
       "width": 420
      }
     },
     "output_type": "display_data"
    }
   ],
   "source": [
    "cat(\"Distributions of Consumption Habits Variables:\\n\")\n",
    "\n",
    "p6 <- ggplot(survey_raw, aes(x = fish_consumption_frequency)) +\n",
    "  geom_bar(fill = \"lightblue\") +\n",
    "  ggtitle(\"Fish Consumption Frequency\") +\n",
    "  theme_minimal()+\n",
    "  theme(plot.title = element_text(hjust = 0.5))+\n",
    "  theme(axis.text.x = element_text(angle = 30, hjust = 1))\n",
    "\n",
    "p7 <- ggplot(survey_raw, aes(x = frozen_fish_consumption_frequency)) +\n",
    "  geom_bar(fill = \"steelblue\") +\n",
    "  ggtitle(\"Frozen fish Consumption Frequency\") +\n",
    "  theme_minimal()+\n",
    "  theme(plot.title = element_text(hjust = 0.5))+\n",
    "  theme(axis.text.x = element_text(angle = 30, hjust = 1))\n",
    "\n",
    "grid.arrange(p6, p7, ncol = 2)"
   ]
  },
  {
   "cell_type": "markdown",
   "id": "dcef731c-d7f7-40ad-8350-6071288b4842",
   "metadata": {},
   "source": [
    "In the second graph, the first column represents respondents who don't consume any kind of fish, while the second column are respondents who consume only fresh fish.\n",
    "\n",
    "In our sample, a significant portion of respondents eat fish at least once a week. However, only a few always consume frozen fish. In fact, the majority of respondents consume it only occasionally compared to their overall fish consumption."
   ]
  },
  {
   "cell_type": "code",
   "execution_count": 14,
   "id": "22005dc9-c42f-415f-a9bf-bd29becc79e7",
   "metadata": {
    "ExecuteTime": {
     "end_time": "2025-02-06T11:12:46.943361Z",
     "start_time": "2025-02-06T11:12:46.932287Z"
    }
   },
   "outputs": [
    {
     "name": "stdout",
     "output_type": "stream",
     "text": [
      "Contingency table (percentages):\n"
     ]
    },
    {
     "data": {
      "text/plain": [
       "                       \n",
       "                                Mai Poche volte Sempre Spesso\n",
       "  Mai                    6.56  0.00        0.00   0.00   0.00\n",
       "  Più volte a settimana  0.00  4.10        8.20   2.46   4.10\n",
       "  Una volta a settimana  0.00  7.38       22.95   3.28  13.93\n",
       "  Una/due volte al mese  0.00  4.10       13.11   2.46   7.38"
      ]
     },
     "metadata": {},
     "output_type": "display_data"
    }
   ],
   "source": [
    "table_consumption <- table(survey_raw$fish_consumption_frequency, survey_raw$frozen_fish_consumption_frequency)\n",
    "table_percentage <- prop.table(table_consumption) * 100\n",
    "cat(\"Contingency table (percentages):\\n\")\n",
    "round(table_percentage, 2)"
   ]
  },
  {
   "cell_type": "markdown",
   "id": "2cad34ff-df8c-498c-8f16-c5966379c288",
   "metadata": {},
   "source": [
    "This table shows the relationship between overall *fish consumption frequency* (rows) and *frozen fish consumption frequency* (columns). It suggests that while fish consumption is regular for many respondents, frozen fish is generally a secondary choice."
   ]
  },
  {
   "cell_type": "markdown",
   "id": "7488ba1e-847f-49f9-875e-df4998b27def",
   "metadata": {},
   "source": [
    "---\n",
    "\n",
    "#### **2.3. Potential Costumers**"
   ]
  },
  {
   "cell_type": "markdown",
   "id": "77676846-b93f-4013-bda3-8ed51a274aa0",
   "metadata": {},
   "source": [
    "We wanted to understand the **percentage of respondents who never eat fish or frozen fish**, as their answers do not provide valuable information for the conjoint analysis."
   ]
  },
  {
   "cell_type": "code",
   "execution_count": 15,
   "id": "bc5623e3-fb13-4735-abb1-c8732717d6f6",
   "metadata": {
    "ExecuteTime": {
     "end_time": "2025-02-06T11:12:47.107650Z",
     "start_time": "2025-02-06T11:12:47.096054Z"
    }
   },
   "outputs": [
    {
     "name": "stdout",
     "output_type": "stream",
     "text": [
      "According to our data, the percentage of respondents who don't eat fish is 6.56%\n"
     ]
    }
   ],
   "source": [
    "count_mai <- sum(survey_raw$fish_consumption_frequency == \"Mai\", na.rm = TRUE)\n",
    "total_rows <- nrow(survey_raw)\n",
    "\n",
    "percentage_mai <- (count_mai / total_rows) * 100\n",
    "\n",
    "cat(sprintf(\"According to our data, the percentage of respondents who don't eat fish is %.2f%%\\n\", percentage_mai))"
   ]
  },
  {
   "cell_type": "code",
   "execution_count": 16,
   "id": "d33652d2-241b-483a-8924-38f8e9721f29",
   "metadata": {
    "ExecuteTime": {
     "end_time": "2025-02-06T11:12:47.185765Z",
     "start_time": "2025-02-06T11:12:47.173871Z"
    }
   },
   "outputs": [
    {
     "name": "stdout",
     "output_type": "stream",
     "text": [
      "The percentage of respondents who don't eat frozen fish is 16.67%\n"
     ]
    }
   ],
   "source": [
    "count_nofrozen <- sum(survey_raw$frozen_fish_consumption_frequency == \"Mai\", na.rm = TRUE)\n",
    "total_responses_frozen <- sum(survey_raw$fish_consumption_frequency != \"Mai\", na.rm = TRUE)\n",
    "\n",
    "percentage_nofrozen <- (count_nofrozen / total_responses_frozen) * 100\n",
    "\n",
    "cat(sprintf(\"The percentage of respondents who don't eat frozen fish is %.2f%%\\n\", percentage_nofrozen))"
   ]
  },
  {
   "cell_type": "markdown",
   "id": "64eaa921d7a20392",
   "metadata": {},
   "source": [
    "In the survey, we added a question asking if they would consider consuming frozen fish under certain conditions:\n",
    "\n",
    "_\"A quali condizioni considereresti l'acquisto di prodotti di pesce surgelati?\"_"
   ]
  },
  {
   "cell_type": "code",
   "execution_count": 17,
   "id": "231d87445d07587e",
   "metadata": {
    "ExecuteTime": {
     "end_time": "2025-02-06T11:12:47.305891Z",
     "start_time": "2025-02-06T11:12:47.294271Z"
    }
   },
   "outputs": [
    {
     "data": {
      "text/html": [
       "<style>\n",
       ".list-inline {list-style: none; margin:0; padding: 0}\n",
       ".list-inline>li {display: inline-block}\n",
       ".list-inline>li:not(:last-child)::after {content: \"\\00b7\"; padding: 0 .5ex}\n",
       "</style>\n",
       "<ol class=list-inline><li>''</li><li>'Se so che sono stati pescati '</li><li>'Se mio marito non facesse lo schifiltoso'</li><li>'Mai'</li><li>'In luoghi lontani dal mare'</li><li>'Solo se non riesco ad andare in pescheria per comprarlo fresco. Piuttosto faccio la scorta e me lo sporziono e lo congelo nel mio freezer '</li><li>'Se non abitassi in un posto di mare'</li><li>'non lo considererei, sì solo ai bastoncini di pesce'</li><li>'?'</li><li>'In caso di emergenza'</li><li>'Non li acquisterei mai '</li><li>'Che sia congelato correttamente '</li><li>'Per fare pietanze cotte'</li><li>'Non lo prendo in considerazione mai'</li><li>'Non lo mangerei mai surgelato '</li><li>'Mai, perché abito in una città sul mare'</li><li>'Per necessità urgente in mancanza di pescato'</li></ol>\n"
      ],
      "text/latex": [
       "\\begin{enumerate*}\n",
       "\\item ''\n",
       "\\item 'Se so che sono stati pescati '\n",
       "\\item 'Se mio marito non facesse lo schifiltoso'\n",
       "\\item 'Mai'\n",
       "\\item 'In luoghi lontani dal mare'\n",
       "\\item 'Solo se non riesco ad andare in pescheria per comprarlo fresco. Piuttosto faccio la scorta e me lo sporziono e lo congelo nel mio freezer '\n",
       "\\item 'Se non abitassi in un posto di mare'\n",
       "\\item 'non lo considererei, sì solo ai bastoncini di pesce'\n",
       "\\item '?'\n",
       "\\item 'In caso di emergenza'\n",
       "\\item 'Non li acquisterei mai '\n",
       "\\item 'Che sia congelato correttamente '\n",
       "\\item 'Per fare pietanze cotte'\n",
       "\\item 'Non lo prendo in considerazione mai'\n",
       "\\item 'Non lo mangerei mai surgelato '\n",
       "\\item 'Mai, perché abito in una città sul mare'\n",
       "\\item 'Per necessità urgente in mancanza di pescato'\n",
       "\\end{enumerate*}\n"
      ],
      "text/markdown": [
       "1. ''\n",
       "2. 'Se so che sono stati pescati '\n",
       "3. 'Se mio marito non facesse lo schifiltoso'\n",
       "4. 'Mai'\n",
       "5. 'In luoghi lontani dal mare'\n",
       "6. 'Solo se non riesco ad andare in pescheria per comprarlo fresco. Piuttosto faccio la scorta e me lo sporziono e lo congelo nel mio freezer '\n",
       "7. 'Se non abitassi in un posto di mare'\n",
       "8. 'non lo considererei, sì solo ai bastoncini di pesce'\n",
       "9. '?'\n",
       "10. 'In caso di emergenza'\n",
       "11. 'Non li acquisterei mai '\n",
       "12. 'Che sia congelato correttamente '\n",
       "13. 'Per fare pietanze cotte'\n",
       "14. 'Non lo prendo in considerazione mai'\n",
       "15. 'Non lo mangerei mai surgelato '\n",
       "16. 'Mai, perché abito in una città sul mare'\n",
       "17. 'Per necessità urgente in mancanza di pescato'\n",
       "\n",
       "\n"
      ],
      "text/plain": [
       " [1] \"\"                                                                                                                                          \n",
       " [2] \"Se so che sono stati pescati \"                                                                                                             \n",
       " [3] \"Se mio marito non facesse lo schifiltoso\"                                                                                                  \n",
       " [4] \"Mai\"                                                                                                                                       \n",
       " [5] \"In luoghi lontani dal mare\"                                                                                                                \n",
       " [6] \"Solo se non riesco ad andare in pescheria per comprarlo fresco. Piuttosto faccio la scorta e me lo sporziono e lo congelo nel mio freezer \"\n",
       " [7] \"Se non abitassi in un posto di mare\"                                                                                                       \n",
       " [8] \"non lo considererei, sì solo ai bastoncini di pesce\"                                                                                       \n",
       " [9] \"?\"                                                                                                                                         \n",
       "[10] \"In caso di emergenza\"                                                                                                                      \n",
       "[11] \"Non li acquisterei mai \"                                                                                                                   \n",
       "[12] \"Che sia congelato correttamente \"                                                                                                          \n",
       "[13] \"Per fare pietanze cotte\"                                                                                                                   \n",
       "[14] \"Non lo prendo in considerazione mai\"                                                                                                       \n",
       "[15] \"Non lo mangerei mai surgelato \"                                                                                                            \n",
       "[16] \"Mai, perché abito in una città sul mare\"                                                                                                   \n",
       "[17] \"Per necessità urgente in mancanza di pescato\"                                                                                              "
      ]
     },
     "metadata": {},
     "output_type": "display_data"
    }
   ],
   "source": [
    "unique_values_conditions <- unique(survey_raw$conditions_to_consume) \n",
    "\n",
    "unique_values_conditions"
   ]
  },
  {
   "cell_type": "markdown",
   "id": "57e29615-e445-4aba-ae35-7ea4fec5de7f",
   "metadata": {},
   "source": [
    "In the sample, there are **no particular conditions for acquiring new potential customers**. However, it is important to note the significance of transparency towards the customer. Some respondents state that they would buy frozen fish products if they were reassured about the origin and the freezing method of the product."
   ]
  },
  {
   "cell_type": "markdown",
   "id": "169f7666-b860-484e-9722-98bf6d30c79c",
   "metadata": {},
   "source": [
    "After obtaining these two results, we can compute the percentage of potential customers."
   ]
  },
  {
   "cell_type": "code",
   "execution_count": 18,
   "id": "2891ff9b-4e55-4698-b79a-c4fbee1d06cb",
   "metadata": {
    "ExecuteTime": {
     "end_time": "2025-02-06T11:12:47.396990Z",
     "start_time": "2025-02-06T11:12:47.387761Z"
    }
   },
   "outputs": [
    {
     "name": "stdout",
     "output_type": "stream",
     "text": [
      "The percentage of potential customers is 77.87% of the sample.\n"
     ]
    }
   ],
   "source": [
    "eat_fish <- total_rows * (1 - percentage_mai / 100)\n",
    "potential_customers <- eat_fish * (1 - percentage_nofrozen / 100)\n",
    "percentage_potential_customers <- round((potential_customers / total_rows) * 100, 2)\n",
    "\n",
    "cat(sprintf(\"The percentage of potential customers is %.2f%% of the sample.\\n\", percentage_potential_customers))"
   ]
  },
  {
   "cell_type": "markdown",
   "id": "98e82cad-4d41-4b2a-8e84-de9cb2605f73",
   "metadata": {},
   "source": [
    "Also, we wanted to understand how many people would be willing to pay a higher price for frozen fish products characterized by higher quality:\n",
    "\n",
    "_\"Tendi ad acquistare sempre il prodotto di pesce surgelato più economico?\"_"
   ]
  },
  {
   "cell_type": "code",
   "execution_count": 19,
   "id": "83072c79-33ab-4b87-8304-7b87e06e92dc",
   "metadata": {
    "ExecuteTime": {
     "end_time": "2025-02-06T11:12:47.495111Z",
     "start_time": "2025-02-06T11:12:47.485784Z"
    }
   },
   "outputs": [
    {
     "name": "stdout",
     "output_type": "stream",
     "text": [
      "The percentage of people who always buy the cheapest option is 21.05% of the sample.\n"
     ]
    }
   ],
   "source": [
    "count_cheapest <- sum(survey_raw$buy_cheapest_frozen_fish == \"Sì\", na.rm = TRUE)\n",
    "percentage_cheapest <- (count_cheapest / total_responses_frozen) * 100\n",
    "\n",
    "cat(sprintf(\"The percentage of people who always buy the cheapest option is %.2f%% of the sample.\\n\", percentage_cheapest))"
   ]
  },
  {
   "cell_type": "markdown",
   "id": "61457b23-f8ef-426b-9352-05755a0af8e3",
   "metadata": {},
   "source": [
    "This finding suggests that **price sensitivity** is a key factor in the market, as we already understood by segmentation analysis. \n",
    "\n",
    "The **21,05%** of our sample states that they always purchase the most affordable option.\n",
    "\n",
    "If the company wants to attract customers who prioritize price, it must remain competitive by offering budget-friendly options or investing sufficiently in marketing to convince them that its products are worth the extra cost."
   ]
  },
  {
   "cell_type": "markdown",
   "id": "092ce873-854c-44cc-9689-bf6a561d8c77",
   "metadata": {},
   "source": [
    "We also wanted to understand the reasons why a customer considers a particular brand to be their trusted brand:\n",
    "\n",
    "_\"Quali caratteristiche di una marca ti portano a sceglierla come la tua marca di fiducia?\"_"
   ]
  },
  {
   "cell_type": "code",
   "execution_count": 20,
   "id": "da4aaa89-c46c-439a-bd32-b27f24bc639b",
   "metadata": {
    "ExecuteTime": {
     "end_time": "2025-02-06T11:12:47.616817Z",
     "start_time": "2025-02-06T11:12:47.594034Z"
    }
   },
   "outputs": [
    {
     "data": {
      "text/html": [
       "<style>\n",
       ".list-inline {list-style: none; margin:0; padding: 0}\n",
       ".list-inline>li {display: inline-block}\n",
       ".list-inline>li:not(:last-child)::after {content: \"\\00b7\"; padding: 0 .5ex}\n",
       "</style>\n",
       "<ol class=list-inline><li>''</li><li>'Gusto e convenienza '</li><li>'Il sapore,la consistenza '</li><li>'Capitan findus mio eroe '</li><li>'Panatura che non si stacca'</li><li><span style=white-space:pre-wrap>'  La qualità la provenienza '</span></li><li>'L\\'affidabilità della marca'</li><li>'Qualità '</li><li>'La bontà '</li><li>'La qualità '</li><li>'Sapore , facilità nel cucinare '</li><li>'Marca conosciuta- provenienza del pesce'</li><li>'Il pesce che venga surgelato entro 24 ore dalla pesca'</li><li>'Qualità'</li><li>'Buona qualità '</li><li>'Il fatto che sia una marca storica'</li><li>'Il tipo di pesce e scadenza '</li><li>'La tradizione '</li><li>'Freschezza, data di scadenza'</li><li>'Il sapore buono'</li><li>'Il sapore di mare che persiste nonostante il congelamento '</li><li>'Il rapporto qualità prezzo '</li><li>'Essere sul mercato da tantissimo tempo'</li><li>'La bontà del prodotto'</li><li>'Certificazioni'</li><li>'Conoscerla da tempo '</li><li>'Zone di pesca, sapore'</li><li>'Il gusto'</li><li>'La fama'</li><li>'La qualità ed il sapore'</li><li>'Pesce abbattuto'</li><li>'La pulizia del pesce '</li><li>'App Yuca'</li></ol>\n"
      ],
      "text/latex": [
       "\\begin{enumerate*}\n",
       "\\item ''\n",
       "\\item 'Gusto e convenienza '\n",
       "\\item 'Il sapore,la consistenza '\n",
       "\\item 'Capitan findus mio eroe '\n",
       "\\item 'Panatura che non si stacca'\n",
       "\\item '  La qualità la provenienza '\n",
       "\\item 'L\\textbackslash{}'affidabilità della marca'\n",
       "\\item 'Qualità '\n",
       "\\item 'La bontà '\n",
       "\\item 'La qualità '\n",
       "\\item 'Sapore , facilità nel cucinare '\n",
       "\\item 'Marca conosciuta- provenienza del pesce'\n",
       "\\item 'Il pesce che venga surgelato entro 24 ore dalla pesca'\n",
       "\\item 'Qualità'\n",
       "\\item 'Buona qualità '\n",
       "\\item 'Il fatto che sia una marca storica'\n",
       "\\item 'Il tipo di pesce e scadenza '\n",
       "\\item 'La tradizione '\n",
       "\\item 'Freschezza, data di scadenza'\n",
       "\\item 'Il sapore buono'\n",
       "\\item 'Il sapore di mare che persiste nonostante il congelamento '\n",
       "\\item 'Il rapporto qualità prezzo '\n",
       "\\item 'Essere sul mercato da tantissimo tempo'\n",
       "\\item 'La bontà del prodotto'\n",
       "\\item 'Certificazioni'\n",
       "\\item 'Conoscerla da tempo '\n",
       "\\item 'Zone di pesca, sapore'\n",
       "\\item 'Il gusto'\n",
       "\\item 'La fama'\n",
       "\\item 'La qualità ed il sapore'\n",
       "\\item 'Pesce abbattuto'\n",
       "\\item 'La pulizia del pesce '\n",
       "\\item 'App Yuca'\n",
       "\\end{enumerate*}\n"
      ],
      "text/markdown": [
       "1. ''\n",
       "2. 'Gusto e convenienza '\n",
       "3. 'Il sapore,la consistenza '\n",
       "4. 'Capitan findus mio eroe '\n",
       "5. 'Panatura che non si stacca'\n",
       "6. <span style=white-space:pre-wrap>'  La qualità la provenienza '</span>\n",
       "7. 'L\\'affidabilità della marca'\n",
       "8. 'Qualità '\n",
       "9. 'La bontà '\n",
       "10. 'La qualità '\n",
       "11. 'Sapore , facilità nel cucinare '\n",
       "12. 'Marca conosciuta- provenienza del pesce'\n",
       "13. 'Il pesce che venga surgelato entro 24 ore dalla pesca'\n",
       "14. 'Qualità'\n",
       "15. 'Buona qualità '\n",
       "16. 'Il fatto che sia una marca storica'\n",
       "17. 'Il tipo di pesce e scadenza '\n",
       "18. 'La tradizione '\n",
       "19. 'Freschezza, data di scadenza'\n",
       "20. 'Il sapore buono'\n",
       "21. 'Il sapore di mare che persiste nonostante il congelamento '\n",
       "22. 'Il rapporto qualità prezzo '\n",
       "23. 'Essere sul mercato da tantissimo tempo'\n",
       "24. 'La bontà del prodotto'\n",
       "25. 'Certificazioni'\n",
       "26. 'Conoscerla da tempo '\n",
       "27. 'Zone di pesca, sapore'\n",
       "28. 'Il gusto'\n",
       "29. 'La fama'\n",
       "30. 'La qualità ed il sapore'\n",
       "31. 'Pesce abbattuto'\n",
       "32. 'La pulizia del pesce '\n",
       "33. 'App Yuca'\n",
       "\n",
       "\n"
      ],
      "text/plain": [
       " [1] \"\"                                                          \n",
       " [2] \"Gusto e convenienza \"                                      \n",
       " [3] \"Il sapore,la consistenza \"                                 \n",
       " [4] \"Capitan findus mio eroe \"                                  \n",
       " [5] \"Panatura che non si stacca\"                                \n",
       " [6] \"  La qualità la provenienza \"                              \n",
       " [7] \"L'affidabilità della marca\"                                \n",
       " [8] \"Qualità \"                                                  \n",
       " [9] \"La bontà \"                                                 \n",
       "[10] \"La qualità \"                                               \n",
       "[11] \"Sapore , facilità nel cucinare \"                           \n",
       "[12] \"Marca conosciuta- provenienza del pesce\"                   \n",
       "[13] \"Il pesce che venga surgelato entro 24 ore dalla pesca\"     \n",
       "[14] \"Qualità\"                                                   \n",
       "[15] \"Buona qualità \"                                            \n",
       "[16] \"Il fatto che sia una marca storica\"                        \n",
       "[17] \"Il tipo di pesce e scadenza \"                              \n",
       "[18] \"La tradizione \"                                            \n",
       "[19] \"Freschezza, data di scadenza\"                              \n",
       "[20] \"Il sapore buono\"                                           \n",
       "[21] \"Il sapore di mare che persiste nonostante il congelamento \"\n",
       "[22] \"Il rapporto qualità prezzo \"                               \n",
       "[23] \"Essere sul mercato da tantissimo tempo\"                    \n",
       "[24] \"La bontà del prodotto\"                                     \n",
       "[25] \"Certificazioni\"                                            \n",
       "[26] \"Conoscerla da tempo \"                                      \n",
       "[27] \"Zone di pesca, sapore\"                                     \n",
       "[28] \"Il gusto\"                                                  \n",
       "[29] \"La fama\"                                                   \n",
       "[30] \"La qualità ed il sapore\"                                   \n",
       "[31] \"Pesce abbattuto\"                                           \n",
       "[32] \"La pulizia del pesce \"                                     \n",
       "[33] \"App Yuca\"                                                  "
      ]
     },
     "metadata": {},
     "output_type": "display_data"
    }
   ],
   "source": [
    "unique_values_trust <- unique(survey_raw$reason_to_trust) \n",
    "\n",
    "unique_values_trust"
   ]
  },
  {
   "cell_type": "markdown",
   "id": "ffeb0a4e-102b-4459-80d5-7902db3ef4e7",
   "metadata": {},
   "source": [
    "Based on the responses, \"**quality**\" and \"**taste**\" are frequently mentioned as key factors in choosing a trusted brand. This is a positive sign for our company, as two of its strengths are the high quality and excellent taste of its products. These attributes could serve as a strong foundation for building brand loyalty among potential new customers.\n",
    "\n",
    "Another recurring theme is \"**provenance**\" of the fish, highlighting once again the importance of transparency: providing precise details on the origin of the fish could be a crucial factor in gaining consumers' trust."
   ]
  },
  {
   "cell_type": "markdown",
   "id": "b3aa5b5b-7013-439e-8b2b-983007fd3f43",
   "metadata": {},
   "source": [
    "After this initial analysis, we will consider only those who consume frozen fish to proceed with our work."
   ]
  },
  {
   "cell_type": "code",
   "execution_count": 21,
   "id": "7a75fabd-c5da-469d-bc84-a6360aa01270",
   "metadata": {
    "ExecuteTime": {
     "end_time": "2025-02-06T11:12:47.705108Z",
     "start_time": "2025-02-06T11:12:47.693734Z"
    }
   },
   "outputs": [],
   "source": [
    "filtered_survey_raw <- survey_raw %>%\n",
    "  filter(!(fish_consumption_frequency == 'Mai' | frozen_fish_consumption_frequency == 'Mai'))"
   ]
  },
  {
   "cell_type": "markdown",
   "id": "3b903025-295d-435b-8b8a-31eddfac56c1",
   "metadata": {},
   "source": [
    "Analysis of **demographic characteristics** of our potential consumers:"
   ]
  },
  {
   "cell_type": "code",
   "execution_count": 22,
   "id": "37e809e6-e9d0-40ab-89b1-c5dc2b39881c",
   "metadata": {
    "ExecuteTime": {
     "end_time": "2025-02-06T11:12:48.130254Z",
     "start_time": "2025-02-06T11:12:47.736496Z"
    }
   },
   "outputs": [
    {
     "name": "stdout",
     "output_type": "stream",
     "text": [
      "Distributions of Demographic Variables after non-consumers removal:\n"
     ]
    },
    {
     "data": {
      "image/png": "[encoded data removed]",
      "text/plain": [
       "plot without title"
      ]
     },
     "metadata": {
      "image/png": {
       "height": 420,
       "width": 420
      }
     },
     "output_type": "display_data"
    }
   ],
   "source": [
    "cat(\"Distributions of Demographic Variables after non-consumers removal:\\n\")\n",
    "\n",
    "df2 <- filtered_survey_raw[, 1:5]\n",
    "p1 <- ggplot(df2, aes(x = gender)) +\n",
    "  geom_bar(fill = \"steelblue\") +\n",
    "  ggtitle(\"Gender\") +\n",
    "  theme_minimal()+\n",
    "  theme(plot.title = element_text(hjust = 0.5))\n",
    "\n",
    "p2 <- ggplot(df2, aes(x = age)) +\n",
    "  geom_bar(fill = \"tomato\") +\n",
    "  ggtitle(\"Age\") +\n",
    "  theme_minimal()+\n",
    "  theme(plot.title = element_text(hjust = 0.5))\n",
    "\n",
    "p3 <- ggplot(df2, aes(x = occupation)) +\n",
    "  geom_bar(fill = \"seagreen\") +\n",
    "  ggtitle(\"Working status\") +\n",
    "  theme_minimal()+\n",
    "  theme(plot.title = element_text(hjust = 0.5))\n",
    "\n",
    "p4 <- ggplot(df2, aes(x = family_size)) +\n",
    "  geom_bar(fill = \"purple\") +\n",
    "  ggtitle(\"Family size\")+\n",
    "  theme_minimal()+\n",
    "  theme(plot.title = element_text(hjust = 0.5))\n",
    "\n",
    "p5 <- ggplot(df2, aes(x = location)) +\n",
    "  geom_bar(fill = \"goldenrod\") +\n",
    "  ggtitle(\"Geographic position\")+\n",
    "  theme_minimal()+\n",
    "  theme(plot.title = element_text(hjust = 0.5))\n",
    "\n",
    "grid.arrange(p1, p2, p3, p4, p5, ncol = 2)"
   ]
  },
  {
   "cell_type": "markdown",
   "id": "6dff2641-22fa-48f8-aa8e-a120ed40c457",
   "metadata": {},
   "source": [
    "Compared to the previous graphs, these ones show a slight difference in the gender distribution, with a marginal increase in male responses. The age distribution has also changed showing fewer respondents in the 40-60 age group. The working status distribution remains almost unchanged, as does family size.  In terms of geographic location, while Southern Italy still has a strong presence, there is now a significant presence of respondents from Northern Italy."
   ]
  },
  {
   "cell_type": "markdown",
   "id": "37104507-cfd3-4e7a-b41d-c9f9aab6112d",
   "metadata": {},
   "source": [
    "Analysis of **frozen fish type consumption**:"
   ]
  },
  {
   "cell_type": "code",
   "execution_count": 23,
   "id": "b10a84c7-86e2-4efd-acf6-de6fcf92edef",
   "metadata": {
    "ExecuteTime": {
     "end_time": "2025-02-06T11:12:48.268290Z",
     "start_time": "2025-02-06T11:12:48.163054Z"
    }
   },
   "outputs": [
    {
     "data": {
      "image/png": "[encoded data removed]",
      "text/plain": [
       "plot without title"
      ]
     },
     "metadata": {
      "image/png": {
       "height": 420,
       "width": 420
      }
     },
     "output_type": "display_data"
    }
   ],
   "source": [
    "filtered_survey_raw_exploded <- filtered_survey_raw %>%\n",
    "  separate_rows(frozen_fish_type, sep = \";\") %>%\n",
    "  mutate(frozen_fish_type = trimws(tolower(frozen_fish_type)))\n",
    "\n",
    "p8 <- ggplot(filtered_survey_raw_exploded, aes(x = frozen_fish_type)) +\n",
    "  geom_bar(fill = \"darkorange\") +\n",
    "  ggtitle(\"Frozen Fish Consumption Frequency\") +\n",
    "  theme_minimal() +\n",
    "  theme(\n",
    "    plot.title = element_text(hjust = 0.5),\n",
    "    axis.text.x = element_text(angle = 30, hjust = 1)\n",
    "  ) +\n",
    "  scale_x_discrete(expand = expansion(mult = 0.2)) \n",
    "\n",
    "p8"
   ]
  },
  {
   "cell_type": "markdown",
   "id": "847ec1c1-b52d-4f59-b263-720ddc44152a",
   "metadata": {},
   "source": [
    "The preferred frozen fish type is \"*Tranci/Filetti di pesce*\", followed by \"*Condimenti per pasta o riso*\" and \"*Piatti pronti*\". Although some of the other responses can be included into the ones already citated (e.g. \"frutti di mare\" in \"condimenti per pasta o riso\"), this doesn't change the distribution."
   ]
  },
  {
   "cell_type": "markdown",
   "id": "4ec52cd5-a16e-420a-bf73-17a31a00ab01",
   "metadata": {},
   "source": [
    "---\n",
    "\n",
    "## **3. Conjoint Analysis**"
   ]
  },
  {
   "cell_type": "markdown",
   "id": "148ed067-d47f-4158-b7fb-4e7a166d20d2",
   "metadata": {},
   "source": [
    "### **3.1 Dataset creation and adjustments**"
   ]
  },
  {
   "cell_type": "markdown",
   "id": "861a2368-d3d4-4da5-9d91-5ecb457adcf0",
   "metadata": {},
   "source": [
    "We added an **ID** for every respondent."
   ]
  },
  {
   "cell_type": "code",
   "execution_count": 24,
   "id": "702d94fe-9e26-4c42-b6e5-7ea0729b5486",
   "metadata": {
    "ExecuteTime": {
     "end_time": "2025-02-06T11:12:48.317266Z",
     "start_time": "2025-02-06T11:12:48.309639Z"
    }
   },
   "outputs": [],
   "source": [
    "filtered_survey_raw <- filtered_survey_raw %>%\n",
    "  mutate(id_respondent = 1:n())"
   ]
  },
  {
   "cell_type": "markdown",
   "id": "786470f0-beec-4390-b409-0db293bf5bf3",
   "metadata": {},
   "source": [
    "We selected relevant columns for the conjoint analysis: id_respondent and the 18 bundles."
   ]
  },
  {
   "cell_type": "code",
   "execution_count": 25,
   "id": "9b33ee57-16c7-4a4b-8744-3ad1185c2940",
   "metadata": {
    "ExecuteTime": {
     "end_time": "2025-02-06T11:12:48.349574Z",
     "start_time": "2025-02-06T11:12:48.338083Z"
    }
   },
   "outputs": [],
   "source": [
    "relevant_columns <- c(14:31, ncol(filtered_survey_raw))  \n",
    "survey_data <- filtered_survey_raw[, relevant_columns]  "
   ]
  },
  {
   "cell_type": "code",
   "execution_count": 26,
   "id": "916e5284-e31f-436f-95ad-fe8775bae56f",
   "metadata": {
    "ExecuteTime": {
     "end_time": "2025-02-06T11:12:48.379064Z",
     "start_time": "2025-02-06T11:12:48.362050Z"
    }
   },
   "outputs": [
    {
     "data": {
      "text/html": [
       "<table class=\"dataframe\">\n",
       "<caption>A data.frame: 6 × 19</caption>\n",
       "<thead>\n",
       "\t<tr><th></th><th scope=col>Gambero_Nessuna_Nessuna_MenoDi8_Famiglia</th><th scope=col>Gambero_Nessuna_SalviaRosmarino_8-15_Doppia</th><th scope=col>Salmone_Nessuna_PrezzemoloBasilico_MenoDi8_Mono</th><th scope=col>Salmone_Nessuna_Nessuna_PiùDi15_Mono</th><th scope=col>Calamaro_Nessuna_PrezzemoloBasilico_8-15_Famiglia</th><th scope=col>Calamaro_Nessuna_SalviaRosmarino_PiùDi15_Doppia</th><th scope=col>Gambero_Panko_PrezzemoloBasilico_MenoDi8_Doppia</th><th scope=col>Gambero_Panko_Nessuna_PiùDi15_Famiglia</th><th scope=col>Salmone_Panko_SalviaRosmarino_8-15_Famiglia</th><th scope=col>Salmone_Panko_PrezzemoloBasilico_PiùDi15_Doppia</th><th scope=col>Calamaro_Panko_SalviaRosmarino_MenoDi8_Mono</th><th scope=col>Calamaro_Panko_Nessuna_8-15_Mono</th><th scope=col>Gambero_Gratinato_PrezzemoloBasilico_8-15_Mono</th><th scope=col>Gambero_Gratinato_SalviaRosmarino_PiùDi15_Mono</th><th scope=col>Salmone_Gratinato_SalviaRosmarino_MenoDi8_Famiglia</th><th scope=col>Salmone_Gratinato_Nessuna_8-15_Doppia</th><th scope=col>Calamaro_Gratinato_Nessuna_MenoDi8_Doppia</th><th scope=col>Calamaro_Gratinato_PrezzemoloBasilico_PiùDi15_Famiglia</th><th scope=col>id_respondent</th></tr>\n",
       "\t<tr><th></th><th scope=col>&lt;int&gt;</th><th scope=col>&lt;int&gt;</th><th scope=col>&lt;int&gt;</th><th scope=col>&lt;int&gt;</th><th scope=col>&lt;int&gt;</th><th scope=col>&lt;int&gt;</th><th scope=col>&lt;int&gt;</th><th scope=col>&lt;int&gt;</th><th scope=col>&lt;int&gt;</th><th scope=col>&lt;int&gt;</th><th scope=col>&lt;int&gt;</th><th scope=col>&lt;int&gt;</th><th scope=col>&lt;int&gt;</th><th scope=col>&lt;int&gt;</th><th scope=col>&lt;int&gt;</th><th scope=col>&lt;int&gt;</th><th scope=col>&lt;int&gt;</th><th scope=col>&lt;int&gt;</th><th scope=col>&lt;int&gt;</th></tr>\n",
       "</thead>\n",
       "<tbody>\n",
       "\t<tr><th scope=row>1</th><td> 4</td><td> 5</td><td> 3</td><td> 2</td><td> 4</td><td> 3</td><td> 9</td><td> 6</td><td> 7</td><td> 9</td><td> 8</td><td> 2</td><td> 8</td><td> 7</td><td> 2</td><td> 8</td><td> 3</td><td> 4</td><td>1</td></tr>\n",
       "\t<tr><th scope=row>2</th><td> 8</td><td> 8</td><td> 6</td><td> 7</td><td> 8</td><td> 6</td><td> 8</td><td> 8</td><td> 7</td><td> 7</td><td>10</td><td> 9</td><td> 8</td><td> 8</td><td> 7</td><td> 8</td><td>10</td><td> 9</td><td>2</td></tr>\n",
       "\t<tr><th scope=row>3</th><td> 5</td><td> 9</td><td>10</td><td> 7</td><td> 0</td><td> 6</td><td>10</td><td> 2</td><td> 0</td><td> 8</td><td> 4</td><td> 2</td><td>10</td><td>10</td><td> 1</td><td> 8</td><td> 3</td><td> 0</td><td>3</td></tr>\n",
       "\t<tr><th scope=row>4</th><td>10</td><td> 8</td><td> 6</td><td> 5</td><td> 8</td><td> 7</td><td> 8</td><td>10</td><td> 9</td><td> 7</td><td> 6</td><td> 6</td><td> 5</td><td> 5</td><td> 9</td><td> 7</td><td> 7</td><td> 9</td><td>4</td></tr>\n",
       "\t<tr><th scope=row>5</th><td> 6</td><td> 7</td><td> 6</td><td> 5</td><td> 8</td><td> 8</td><td> 6</td><td> 8</td><td> 6</td><td> 6</td><td> 8</td><td> 6</td><td> 7</td><td> 6</td><td> 7</td><td> 5</td><td> 8</td><td> 8</td><td>5</td></tr>\n",
       "\t<tr><th scope=row>6</th><td>10</td><td>10</td><td>10</td><td>10</td><td>10</td><td>10</td><td>10</td><td>10</td><td>10</td><td>10</td><td>10</td><td>10</td><td>10</td><td>10</td><td>10</td><td>10</td><td>10</td><td>10</td><td>6</td></tr>\n",
       "</tbody>\n",
       "</table>\n"
      ],
      "text/latex": [
       "A data.frame: 6 × 19\n",
       "\\begin{tabular}{r|lllllllllllllllllll}\n",
       "  & Gambero\\_Nessuna\\_Nessuna\\_MenoDi8\\_Famiglia & Gambero\\_Nessuna\\_SalviaRosmarino\\_8-15\\_Doppia & Salmone\\_Nessuna\\_PrezzemoloBasilico\\_MenoDi8\\_Mono & Salmone\\_Nessuna\\_Nessuna\\_PiùDi15\\_Mono & Calamaro\\_Nessuna\\_PrezzemoloBasilico\\_8-15\\_Famiglia & Calamaro\\_Nessuna\\_SalviaRosmarino\\_PiùDi15\\_Doppia & Gambero\\_Panko\\_PrezzemoloBasilico\\_MenoDi8\\_Doppia & Gambero\\_Panko\\_Nessuna\\_PiùDi15\\_Famiglia & Salmone\\_Panko\\_SalviaRosmarino\\_8-15\\_Famiglia & Salmone\\_Panko\\_PrezzemoloBasilico\\_PiùDi15\\_Doppia & Calamaro\\_Panko\\_SalviaRosmarino\\_MenoDi8\\_Mono & Calamaro\\_Panko\\_Nessuna\\_8-15\\_Mono & Gambero\\_Gratinato\\_PrezzemoloBasilico\\_8-15\\_Mono & Gambero\\_Gratinato\\_SalviaRosmarino\\_PiùDi15\\_Mono & Salmone\\_Gratinato\\_SalviaRosmarino\\_MenoDi8\\_Famiglia & Salmone\\_Gratinato\\_Nessuna\\_8-15\\_Doppia & Calamaro\\_Gratinato\\_Nessuna\\_MenoDi8\\_Doppia & Calamaro\\_Gratinato\\_PrezzemoloBasilico\\_PiùDi15\\_Famiglia & id\\_respondent\\\\\n",
       "  & <int> & <int> & <int> & <int> & <int> & <int> & <int> & <int> & <int> & <int> & <int> & <int> & <int> & <int> & <int> & <int> & <int> & <int> & <int>\\\\\n",
       "\\hline\n",
       "\t1 &  4 &  5 &  3 &  2 &  4 &  3 &  9 &  6 &  7 &  9 &  8 &  2 &  8 &  7 &  2 &  8 &  3 &  4 & 1\\\\\n",
       "\t2 &  8 &  8 &  6 &  7 &  8 &  6 &  8 &  8 &  7 &  7 & 10 &  9 &  8 &  8 &  7 &  8 & 10 &  9 & 2\\\\\n",
       "\t3 &  5 &  9 & 10 &  7 &  0 &  6 & 10 &  2 &  0 &  8 &  4 &  2 & 10 & 10 &  1 &  8 &  3 &  0 & 3\\\\\n",
       "\t4 & 10 &  8 &  6 &  5 &  8 &  7 &  8 & 10 &  9 &  7 &  6 &  6 &  5 &  5 &  9 &  7 &  7 &  9 & 4\\\\\n",
       "\t5 &  6 &  7 &  6 &  5 &  8 &  8 &  6 &  8 &  6 &  6 &  8 &  6 &  7 &  6 &  7 &  5 &  8 &  8 & 5\\\\\n",
       "\t6 & 10 & 10 & 10 & 10 & 10 & 10 & 10 & 10 & 10 & 10 & 10 & 10 & 10 & 10 & 10 & 10 & 10 & 10 & 6\\\\\n",
       "\\end{tabular}\n"
      ],
      "text/markdown": [
       "\n",
       "A data.frame: 6 × 19\n",
       "\n",
       "| <!--/--> | Gambero_Nessuna_Nessuna_MenoDi8_Famiglia &lt;int&gt; | Gambero_Nessuna_SalviaRosmarino_8-15_Doppia &lt;int&gt; | Salmone_Nessuna_PrezzemoloBasilico_MenoDi8_Mono &lt;int&gt; | Salmone_Nessuna_Nessuna_PiùDi15_Mono &lt;int&gt; | Calamaro_Nessuna_PrezzemoloBasilico_8-15_Famiglia &lt;int&gt; | Calamaro_Nessuna_SalviaRosmarino_PiùDi15_Doppia &lt;int&gt; | Gambero_Panko_PrezzemoloBasilico_MenoDi8_Doppia &lt;int&gt; | Gambero_Panko_Nessuna_PiùDi15_Famiglia &lt;int&gt; | Salmone_Panko_SalviaRosmarino_8-15_Famiglia &lt;int&gt; | Salmone_Panko_PrezzemoloBasilico_PiùDi15_Doppia &lt;int&gt; | Calamaro_Panko_SalviaRosmarino_MenoDi8_Mono &lt;int&gt; | Calamaro_Panko_Nessuna_8-15_Mono &lt;int&gt; | Gambero_Gratinato_PrezzemoloBasilico_8-15_Mono &lt;int&gt; | Gambero_Gratinato_SalviaRosmarino_PiùDi15_Mono &lt;int&gt; | Salmone_Gratinato_SalviaRosmarino_MenoDi8_Famiglia &lt;int&gt; | Salmone_Gratinato_Nessuna_8-15_Doppia &lt;int&gt; | Calamaro_Gratinato_Nessuna_MenoDi8_Doppia &lt;int&gt; | Calamaro_Gratinato_PrezzemoloBasilico_PiùDi15_Famiglia &lt;int&gt; | id_respondent &lt;int&gt; |\n",
       "|---|---|---|---|---|---|---|---|---|---|---|---|---|---|---|---|---|---|---|---|\n",
       "| 1 |  4 |  5 |  3 |  2 |  4 |  3 |  9 |  6 |  7 |  9 |  8 |  2 |  8 |  7 |  2 |  8 |  3 |  4 | 1 |\n",
       "| 2 |  8 |  8 |  6 |  7 |  8 |  6 |  8 |  8 |  7 |  7 | 10 |  9 |  8 |  8 |  7 |  8 | 10 |  9 | 2 |\n",
       "| 3 |  5 |  9 | 10 |  7 |  0 |  6 | 10 |  2 |  0 |  8 |  4 |  2 | 10 | 10 |  1 |  8 |  3 |  0 | 3 |\n",
       "| 4 | 10 |  8 |  6 |  5 |  8 |  7 |  8 | 10 |  9 |  7 |  6 |  6 |  5 |  5 |  9 |  7 |  7 |  9 | 4 |\n",
       "| 5 |  6 |  7 |  6 |  5 |  8 |  8 |  6 |  8 |  6 |  6 |  8 |  6 |  7 |  6 |  7 |  5 |  8 |  8 | 5 |\n",
       "| 6 | 10 | 10 | 10 | 10 | 10 | 10 | 10 | 10 | 10 | 10 | 10 | 10 | 10 | 10 | 10 | 10 | 10 | 10 | 6 |\n",
       "\n"
      ],
      "text/plain": [
       "  Gambero_Nessuna_Nessuna_MenoDi8_Famiglia\n",
       "1  4                                      \n",
       "2  8                                      \n",
       "3  5                                      \n",
       "4 10                                      \n",
       "5  6                                      \n",
       "6 10                                      \n",
       "  Gambero_Nessuna_SalviaRosmarino_8-15_Doppia\n",
       "1  5                                         \n",
       "2  8                                         \n",
       "3  9                                         \n",
       "4  8                                         \n",
       "5  7                                         \n",
       "6 10                                         \n",
       "  Salmone_Nessuna_PrezzemoloBasilico_MenoDi8_Mono\n",
       "1  3                                             \n",
       "2  6                                             \n",
       "3 10                                             \n",
       "4  6                                             \n",
       "5  6                                             \n",
       "6 10                                             \n",
       "  Salmone_Nessuna_Nessuna_PiùDi15_Mono\n",
       "1  2                                  \n",
       "2  7                                  \n",
       "3  7                                  \n",
       "4  5                                  \n",
       "5  5                                  \n",
       "6 10                                  \n",
       "  Calamaro_Nessuna_PrezzemoloBasilico_8-15_Famiglia\n",
       "1  4                                               \n",
       "2  8                                               \n",
       "3  0                                               \n",
       "4  8                                               \n",
       "5  8                                               \n",
       "6 10                                               \n",
       "  Calamaro_Nessuna_SalviaRosmarino_PiùDi15_Doppia\n",
       "1  3                                             \n",
       "2  6                                             \n",
       "3  6                                             \n",
       "4  7                                             \n",
       "5  8                                             \n",
       "6 10                                             \n",
       "  Gambero_Panko_PrezzemoloBasilico_MenoDi8_Doppia\n",
       "1  9                                             \n",
       "2  8                                             \n",
       "3 10                                             \n",
       "4  8                                             \n",
       "5  6                                             \n",
       "6 10                                             \n",
       "  Gambero_Panko_Nessuna_PiùDi15_Famiglia\n",
       "1  6                                    \n",
       "2  8                                    \n",
       "3  2                                    \n",
       "4 10                                    \n",
       "5  8                                    \n",
       "6 10                                    \n",
       "  Salmone_Panko_SalviaRosmarino_8-15_Famiglia\n",
       "1  7                                         \n",
       "2  7                                         \n",
       "3  0                                         \n",
       "4  9                                         \n",
       "5  6                                         \n",
       "6 10                                         \n",
       "  Salmone_Panko_PrezzemoloBasilico_PiùDi15_Doppia\n",
       "1  9                                             \n",
       "2  7                                             \n",
       "3  8                                             \n",
       "4  7                                             \n",
       "5  6                                             \n",
       "6 10                                             \n",
       "  Calamaro_Panko_SalviaRosmarino_MenoDi8_Mono Calamaro_Panko_Nessuna_8-15_Mono\n",
       "1  8                                           2                              \n",
       "2 10                                           9                              \n",
       "3  4                                           2                              \n",
       "4  6                                           6                              \n",
       "5  8                                           6                              \n",
       "6 10                                          10                              \n",
       "  Gambero_Gratinato_PrezzemoloBasilico_8-15_Mono\n",
       "1  8                                            \n",
       "2  8                                            \n",
       "3 10                                            \n",
       "4  5                                            \n",
       "5  7                                            \n",
       "6 10                                            \n",
       "  Gambero_Gratinato_SalviaRosmarino_PiùDi15_Mono\n",
       "1  7                                            \n",
       "2  8                                            \n",
       "3 10                                            \n",
       "4  5                                            \n",
       "5  6                                            \n",
       "6 10                                            \n",
       "  Salmone_Gratinato_SalviaRosmarino_MenoDi8_Famiglia\n",
       "1  2                                                \n",
       "2  7                                                \n",
       "3  1                                                \n",
       "4  9                                                \n",
       "5  7                                                \n",
       "6 10                                                \n",
       "  Salmone_Gratinato_Nessuna_8-15_Doppia\n",
       "1  8                                   \n",
       "2  8                                   \n",
       "3  8                                   \n",
       "4  7                                   \n",
       "5  5                                   \n",
       "6 10                                   \n",
       "  Calamaro_Gratinato_Nessuna_MenoDi8_Doppia\n",
       "1  3                                       \n",
       "2 10                                       \n",
       "3  3                                       \n",
       "4  7                                       \n",
       "5  8                                       \n",
       "6 10                                       \n",
       "  Calamaro_Gratinato_PrezzemoloBasilico_PiùDi15_Famiglia id_respondent\n",
       "1  4                                                     1            \n",
       "2  9                                                     2            \n",
       "3  0                                                     3            \n",
       "4  9                                                     4            \n",
       "5  8                                                     5            \n",
       "6 10                                                     6            "
      ]
     },
     "metadata": {},
     "output_type": "display_data"
    }
   ],
   "source": [
    "head(survey_data)"
   ]
  },
  {
   "cell_type": "markdown",
   "id": "76159099-d842-46ca-85f0-2e73c86a74be",
   "metadata": {},
   "source": [
    "The following steps aim to create the final dataset used for the conjoint analysis:"
   ]
  },
  {
   "cell_type": "code",
   "execution_count": 27,
   "id": "5b4024ba-2634-4906-8e7d-164224c52dab",
   "metadata": {
    "ExecuteTime": {
     "end_time": "2025-02-06T11:12:48.450448Z",
     "start_time": "2025-02-06T11:12:48.423943Z"
    }
   },
   "outputs": [],
   "source": [
    "# Transformation of columns forease of analysis\n",
    "columns_to_melt <- names(survey_data)[1:(ncol(survey_data) - 1)]  \n",
    "columns_to_keep <- names(survey_data)[ncol(survey_data)] \n",
    "\n",
    "conjoint_data <- survey_data %>%\n",
    "  pivot_longer(cols = all_of(columns_to_melt), \n",
    "               names_to = \"Question\", \n",
    "               values_to = \"Rating\") %>%\n",
    "  arrange(id_respondent)\n",
    "\n",
    "row.names(conjoint_data) <- NULL\n",
    "\n",
    "\n",
    "#Split of preferred bundles in order to obtain different answers for each attribute of the bundle\n",
    "split_columns <- strsplit(as.character(conjoint_data$Question), \"_\")\n",
    "\n",
    "split_columns_df <- do.call(rbind, split_columns)\n",
    "colnames(split_columns_df) <- c(\"Tipo_di_Pesce\", \"Panatura\", \"Spezie\", \"Tempo_di_Preparazione\", \"Formato_Confezione\")\n",
    "\n",
    "conjoint_data <- cbind(conjoint_data, split_columns_df)\n",
    "\n",
    "conjoint_data$Question <- NULL\n",
    "\n",
    "\n",
    "#The ratings transformed from 0-10 scale to a 0-100 scale for ease of analysis\n",
    "conjoint_data$Rating <- conjoint_data$Rating * 10"
   ]
  },
  {
   "cell_type": "code",
   "execution_count": 28,
   "id": "e005b49e-fa7f-49ee-805b-bcf0956c00b5",
   "metadata": {
    "ExecuteTime": {
     "end_time": "2025-02-06T11:12:48.729756Z",
     "start_time": "2025-02-06T11:12:48.715977Z"
    }
   },
   "outputs": [
    {
     "data": {
      "text/html": [
       "<table class=\"dataframe\">\n",
       "<caption>A data.frame: 6 × 7</caption>\n",
       "<thead>\n",
       "\t<tr><th></th><th scope=col>id_respondent</th><th scope=col>Rating</th><th scope=col>Tipo_di_Pesce</th><th scope=col>Panatura</th><th scope=col>Spezie</th><th scope=col>Tempo_di_Preparazione</th><th scope=col>Formato_Confezione</th></tr>\n",
       "\t<tr><th></th><th scope=col>&lt;int&gt;</th><th scope=col>&lt;dbl&gt;</th><th scope=col>&lt;chr&gt;</th><th scope=col>&lt;chr&gt;</th><th scope=col>&lt;chr&gt;</th><th scope=col>&lt;chr&gt;</th><th scope=col>&lt;chr&gt;</th></tr>\n",
       "</thead>\n",
       "<tbody>\n",
       "\t<tr><th scope=row>1</th><td>1</td><td>40</td><td>Gambero </td><td>Nessuna</td><td>Nessuna           </td><td>MenoDi8</td><td>Famiglia</td></tr>\n",
       "\t<tr><th scope=row>2</th><td>1</td><td>50</td><td>Gambero </td><td>Nessuna</td><td>SalviaRosmarino   </td><td>8-15   </td><td>Doppia  </td></tr>\n",
       "\t<tr><th scope=row>3</th><td>1</td><td>30</td><td>Salmone </td><td>Nessuna</td><td>PrezzemoloBasilico</td><td>MenoDi8</td><td>Mono    </td></tr>\n",
       "\t<tr><th scope=row>4</th><td>1</td><td>20</td><td>Salmone </td><td>Nessuna</td><td>Nessuna           </td><td>PiùDi15</td><td>Mono    </td></tr>\n",
       "\t<tr><th scope=row>5</th><td>1</td><td>40</td><td>Calamaro</td><td>Nessuna</td><td>PrezzemoloBasilico</td><td>8-15   </td><td>Famiglia</td></tr>\n",
       "\t<tr><th scope=row>6</th><td>1</td><td>30</td><td>Calamaro</td><td>Nessuna</td><td>SalviaRosmarino   </td><td>PiùDi15</td><td>Doppia  </td></tr>\n",
       "</tbody>\n",
       "</table>\n"
      ],
      "text/latex": [
       "A data.frame: 6 × 7\n",
       "\\begin{tabular}{r|lllllll}\n",
       "  & id\\_respondent & Rating & Tipo\\_di\\_Pesce & Panatura & Spezie & Tempo\\_di\\_Preparazione & Formato\\_Confezione\\\\\n",
       "  & <int> & <dbl> & <chr> & <chr> & <chr> & <chr> & <chr>\\\\\n",
       "\\hline\n",
       "\t1 & 1 & 40 & Gambero  & Nessuna & Nessuna            & MenoDi8 & Famiglia\\\\\n",
       "\t2 & 1 & 50 & Gambero  & Nessuna & SalviaRosmarino    & 8-15    & Doppia  \\\\\n",
       "\t3 & 1 & 30 & Salmone  & Nessuna & PrezzemoloBasilico & MenoDi8 & Mono    \\\\\n",
       "\t4 & 1 & 20 & Salmone  & Nessuna & Nessuna            & PiùDi15 & Mono    \\\\\n",
       "\t5 & 1 & 40 & Calamaro & Nessuna & PrezzemoloBasilico & 8-15    & Famiglia\\\\\n",
       "\t6 & 1 & 30 & Calamaro & Nessuna & SalviaRosmarino    & PiùDi15 & Doppia  \\\\\n",
       "\\end{tabular}\n"
      ],
      "text/markdown": [
       "\n",
       "A data.frame: 6 × 7\n",
       "\n",
       "| <!--/--> | id_respondent &lt;int&gt; | Rating &lt;dbl&gt; | Tipo_di_Pesce &lt;chr&gt; | Panatura &lt;chr&gt; | Spezie &lt;chr&gt; | Tempo_di_Preparazione &lt;chr&gt; | Formato_Confezione &lt;chr&gt; |\n",
       "|---|---|---|---|---|---|---|---|\n",
       "| 1 | 1 | 40 | Gambero  | Nessuna | Nessuna            | MenoDi8 | Famiglia |\n",
       "| 2 | 1 | 50 | Gambero  | Nessuna | SalviaRosmarino    | 8-15    | Doppia   |\n",
       "| 3 | 1 | 30 | Salmone  | Nessuna | PrezzemoloBasilico | MenoDi8 | Mono     |\n",
       "| 4 | 1 | 20 | Salmone  | Nessuna | Nessuna            | PiùDi15 | Mono     |\n",
       "| 5 | 1 | 40 | Calamaro | Nessuna | PrezzemoloBasilico | 8-15    | Famiglia |\n",
       "| 6 | 1 | 30 | Calamaro | Nessuna | SalviaRosmarino    | PiùDi15 | Doppia   |\n",
       "\n"
      ],
      "text/plain": [
       "  id_respondent Rating Tipo_di_Pesce Panatura Spezie            \n",
       "1 1             40     Gambero       Nessuna  Nessuna           \n",
       "2 1             50     Gambero       Nessuna  SalviaRosmarino   \n",
       "3 1             30     Salmone       Nessuna  PrezzemoloBasilico\n",
       "4 1             20     Salmone       Nessuna  Nessuna           \n",
       "5 1             40     Calamaro      Nessuna  PrezzemoloBasilico\n",
       "6 1             30     Calamaro      Nessuna  SalviaRosmarino   \n",
       "  Tempo_di_Preparazione Formato_Confezione\n",
       "1 MenoDi8               Famiglia          \n",
       "2 8-15                  Doppia            \n",
       "3 MenoDi8               Mono              \n",
       "4 PiùDi15               Mono              \n",
       "5 8-15                  Famiglia          \n",
       "6 PiùDi15               Doppia            "
      ]
     },
     "metadata": {},
     "output_type": "display_data"
    }
   ],
   "source": [
    "# FINAL DATASET \n",
    "head(conjoint_data)"
   ]
  },
  {
   "cell_type": "markdown",
   "id": "30a6112d-b885-4112-b63c-0428d8a4ff11",
   "metadata": {},
   "source": [
    "The table obtained above allows us to understand the rating given by each respondent for each combination of attributes proposed (=bundle). This will enable us to conduct the conjoint analysis, aiming to understand which characteristics consumers consider most relevant."
   ]
  },
  {
   "cell_type": "markdown",
   "id": "9a114c05-0a72-4024-a674-954551673575",
   "metadata": {},
   "source": [
    "The **average of total ratings** is computed to have an idea of general evaluation of products."
   ]
  },
  {
   "cell_type": "code",
   "execution_count": 29,
   "id": "bc9143a2-8d31-4b95-a8e3-1e5fbfb59947",
   "metadata": {
    "ExecuteTime": {
     "end_time": "2025-02-06T11:12:48.968820Z",
     "start_time": "2025-02-06T11:12:48.959945Z"
    }
   },
   "outputs": [
    {
     "data": {
      "text/html": [
       "43.7894736842105"
      ],
      "text/latex": [
       "43.7894736842105"
      ],
      "text/markdown": [
       "43.7894736842105"
      ],
      "text/plain": [
       "[1] 43.78947"
      ]
     },
     "metadata": {},
     "output_type": "display_data"
    }
   ],
   "source": [
    "mean(conjoint_data$Rating, na.rm = TRUE)"
   ]
  },
  {
   "cell_type": "markdown",
   "id": "a1f66c1c-e2be-43a0-a95b-0d9875a20371",
   "metadata": {},
   "source": [
    "We have observed that the average rating of the product considered is **quite low** (43) on a scale from 1 to 100. This could already serve as an indicator that the product may **not be very appealing** in the market for the consumers included in our survey sample. \n",
    "\n",
    "To better understand this, we plotted the distribution of ratings.The following graph clearly shows that there was a high percentage of **ratings equal to 0** in the responses."
   ]
  },
  {
   "cell_type": "code",
   "execution_count": 30,
   "id": "2df9476ca972e6a7",
   "metadata": {
    "ExecuteTime": {
     "end_time": "2025-02-06T11:12:49.283974Z",
     "start_time": "2025-02-06T11:12:49.156791Z"
    }
   },
   "outputs": [
    {
     "name": "stderr",
     "output_type": "stream",
     "text": [
      "Warning message:\n",
      "\"\u001b[1m\u001b[22mThe dot-dot notation (`..density..`) was deprecated in ggplot2 3.4.0.\n",
      "\u001b[36mℹ\u001b[39m Please use `after_stat(density)` instead.\"\n"
     ]
    },
    {
     "data": {
      "image/png": "[encoded data removed]",
      "text/plain": [
       "plot without title"
      ]
     },
     "metadata": {
      "image/png": {
       "height": 420,
       "width": 420
      }
     },
     "output_type": "display_data"
    }
   ],
   "source": [
    "ggplot(conjoint_data, aes(x = Rating)) +\n",
    "  geom_histogram(aes(y = ..density..), bins = 30, fill = \"skyblue\", color = \"black\", alpha = 0.7) +\n",
    "  labs(title = \"Distribution of Ratings\",\n",
    "       x = \"Rating\",\n",
    "       y = \"Density\") +\n",
    "  theme_minimal(base_size = 14)"
   ]
  },
  {
   "cell_type": "markdown",
   "id": "d8961362-eb39-482a-90c7-fe57ea69a700",
   "metadata": {},
   "source": [
    "---\n",
    "\n",
    "### **3.2 Analysis**"
   ]
  },
  {
   "cell_type": "markdown",
   "id": "72a7100b-39f6-4001-9033-d1f3afade90c",
   "metadata": {},
   "source": [
    "#### **3.2.1 Single Respondent**"
   ]
  },
  {
   "cell_type": "markdown",
   "id": "1b699fd2-11a7-4392-a831-c7189fe402cb",
   "metadata": {},
   "source": [
    "Initially, the conjoint function is applied to a **single respondent**, randomly selected, in order to obtain the relative importance of each attribute for that respondent. This step is used to validate the model and understand individual variability.\n",
    "\n",
    "Additionally, it helps assess whether the analysis for a single respondent generates results that are consistent with the overall analysis. If the results are consistent, then the model is correctly set up."
   ]
  },
  {
   "cell_type": "code",
   "execution_count": 31,
   "id": "9d1ba965-c92a-4ff6-b4da-abe32e6fb857",
   "metadata": {
    "ExecuteTime": {
     "end_time": "2025-02-06T11:12:49.798623Z",
     "start_time": "2025-02-06T11:12:49.778326Z"
    }
   },
   "outputs": [
    {
     "data": {
      "text/html": [
       "66"
      ],
      "text/latex": [
       "66"
      ],
      "text/markdown": [
       "66"
      ],
      "text/plain": [
       "[1] 66"
      ]
     },
     "metadata": {},
     "output_type": "display_data"
    }
   ],
   "source": [
    "set.seed(12)\n",
    "random_num <- sample(1:95,1)\n",
    "random_num"
   ]
  },
  {
   "cell_type": "code",
   "execution_count": 32,
   "id": "bd72af0572464930",
   "metadata": {
    "ExecuteTime": {
     "end_time": "2025-02-06T11:12:50.097748Z",
     "start_time": "2025-02-06T11:12:50.016011Z"
    }
   },
   "outputs": [
    {
     "name": "stdout",
     "output_type": "stream",
     "text": [
      "Conjoint analysis\n",
      "Data                 : respondent \n",
      "Response variable    : Rating \n",
      "Explanatory variables: Tipo_di_Pesce, Panatura, Spezie, Tempo_di_Preparazione, Formato_Confezione \n",
      "\n",
      "Conjoint part-worths:\n",
      "            Attributes             Levels     PW\n",
      " Tipo_di_Pesce         Calamaro            0.000\n",
      " Tipo_di_Pesce         Gambero             8.333\n",
      " Tipo_di_Pesce         Salmone             6.667\n",
      " Panatura              Gratinato           0.000\n",
      " Panatura              Nessuna            -1.667\n",
      " Panatura              Panko              -3.333\n",
      " Spezie                Nessuna             0.000\n",
      " Spezie                PrezzemoloBasilico  3.333\n",
      " Spezie                SalviaRosmarino     1.667\n",
      " Tempo_di_Preparazione 8-15                0.000\n",
      " Tempo_di_Preparazione MenoDi8             1.667\n",
      " Tempo_di_Preparazione PiùDi15            -1.667\n",
      " Formato_Confezione    Doppia              0.000\n",
      " Formato_Confezione    Famiglia           -3.333\n",
      " Formato_Confezione    Mono               -1.667\n",
      " Base utility          ~                   1.667\n",
      "\n",
      "Conjoint importance weights:\n",
      "            Attributes    IW\n",
      " Tipo_di_Pesce         0.385\n",
      " Panatura              0.154\n",
      " Spezie                0.154\n",
      " Tempo_di_Preparazione 0.154\n",
      " Formato_Confezione    0.154\n",
      "\n",
      "Conjoint regression results:\n",
      "\n",
      "                               coefficient\n",
      " (Intercept)                         1.667\n",
      " Tipo_di_Pesce|Gambero               8.333\n",
      " Tipo_di_Pesce|Salmone               6.667\n",
      " Panatura|Nessuna                   -1.667\n",
      " Panatura|Panko                     -3.333\n",
      " Spezie|PrezzemoloBasilico           3.333\n",
      " Spezie|SalviaRosmarino              1.667\n",
      " Tempo_di_Preparazione|MenoDi8       1.667\n",
      " Tempo_di_Preparazione|PiùDi15      -1.667\n",
      " Formato_Confezione|Famiglia        -3.333\n",
      " Formato_Confezione|Mono            -1.667\n",
      "\n"
     ]
    }
   ],
   "source": [
    "respondent <- conjoint_data %>% filter(id_respondent == random_num)\n",
    "conjoint_respondent <- conjoint(respondent, rvar=\"Rating\", evar=c(\"Tipo_di_Pesce\", \"Panatura\", \"Spezie\", \"Tempo_di_Preparazione\", \"Formato_Confezione\"))\n",
    "summary(conjoint_respondent)"
   ]
  },
  {
   "cell_type": "markdown",
   "id": "cd14a0a7-ca18-488f-b210-8c1ea895ca1e",
   "metadata": {},
   "source": [
    "**Visual representation** of Respondent 66 relative preferences for each attribute:"
   ]
  },
  {
   "cell_type": "code",
   "execution_count": 33,
   "id": "57f136f000084b1c",
   "metadata": {
    "ExecuteTime": {
     "end_time": "2025-02-06T11:12:50.683701Z",
     "start_time": "2025-02-06T11:12:50.180954Z"
    }
   },
   "outputs": [
    {
     "data": {
      "image/png": "[encoded data removed]",
      "text/plain": [
       "plot without title"
      ]
     },
     "metadata": {
      "image/png": {
       "height": 420,
       "width": 420
      }
     },
     "output_type": "display_data"
    }
   ],
   "source": [
    "plot(conjoint_respondent)"
   ]
  },
  {
   "cell_type": "markdown",
   "id": "28dc4000-45d8-48c6-ab7d-464afe876e09",
   "metadata": {},
   "source": [
    "The coefficients of the conjoint analysis represent the utility values assigned to different levels of each attribute relative to the level with a utility of 0.\n",
    "\n",
    "In this analysis, the levels with utility 0 are:\n",
    "- \"Calamaro\" for \"Tipo_di_Pesce\",\n",
    "- \"Gratinato\" for \"Panatura\",\n",
    "- \"Nessuna\" for \"Spezie\",\n",
    "- \"8-15\" for \"Tempo_di_Preparazione\",\n",
    "- \"Doppia\" for \"Formato_Confezione\".\n",
    "\n",
    "The **base utility** for this respondent is **1.667**. \n",
    "\n",
    "From the results, the following considerations can be done:\n",
    "- The preferred type of fish is \"Gambero\", followed by \"Salmone\" and than \"Calamaro\". \n",
    "- \"Gratinato\" is the preferred one, while \"Nessuna Panatura\" and \"Panko\" have a negative utility.\n",
    "- Same consideration for \"Formato_Confezione\", where \"Doppia\" is the preferred option.\n",
    "- Both \"PrezzemoloBasilico\" and \"SalviaRosmarino\" are preferred than \"Nessuna Spezia\" with the first level having the highest value.\n",
    "- The preferred \"Tempo_di_Preparazione\" is the \"Meno di 8 min\" while \"Più di 15\" has a value smaller than 0. "
   ]
  },
  {
   "cell_type": "markdown",
   "id": "9f133fa1-de1b-43cc-b3c0-ed3ca4c4db95",
   "metadata": {
    "ExecuteTime": {
     "end_time": "2025-01-31T15:30:03.812993Z",
     "start_time": "2025-01-31T15:30:03.808851Z"
    }
   },
   "source": [
    "---\n",
    "\n",
    "#### **3.2.2 Total Conjoint**"
   ]
  },
  {
   "cell_type": "markdown",
   "id": "594b0c2e-ae7d-4d8d-974c-2b2711b01f18",
   "metadata": {},
   "source": [
    "Conversion of variables into factors, representing product features and their levels:"
   ]
  },
  {
   "cell_type": "code",
   "execution_count": 34,
   "id": "01c4a826-9453-4a86-836b-2b8760d1d371",
   "metadata": {
    "ExecuteTime": {
     "end_time": "2025-02-06T11:12:50.705399Z",
     "start_time": "2025-02-06T11:12:50.695472Z"
    }
   },
   "outputs": [],
   "source": [
    "conjoint_data$Tipo_di_Pesce <- as.factor(conjoint_data$Tipo_di_Pesce)\n",
    "conjoint_data$Panatura <- as.factor(conjoint_data$Panatura)\n",
    "conjoint_data$Spezie <- as.factor(conjoint_data$Spezie)\n",
    "conjoint_data$Tempo_di_Preparazione <- as.factor(conjoint_data$Tempo_di_Preparazione)\n",
    "conjoint_data$Formato_Confezione<- as.factor(conjoint_data$Formato_Confezione)"
   ]
  },
  {
   "cell_type": "code",
   "execution_count": 35,
   "id": "3265ed3b-a6b5-4f45-974c-3b1122d6b371",
   "metadata": {
    "ExecuteTime": {
     "end_time": "2025-02-06T11:12:50.738040Z",
     "start_time": "2025-02-06T11:12:50.725549Z"
    }
   },
   "outputs": [
    {
     "data": {
      "text/html": [
       "<table class=\"dataframe\">\n",
       "<caption>A data.frame: 6 × 7</caption>\n",
       "<thead>\n",
       "\t<tr><th></th><th scope=col>id_respondent</th><th scope=col>Rating</th><th scope=col>Tipo_di_Pesce</th><th scope=col>Panatura</th><th scope=col>Spezie</th><th scope=col>Tempo_di_Preparazione</th><th scope=col>Formato_Confezione</th></tr>\n",
       "\t<tr><th></th><th scope=col>&lt;int&gt;</th><th scope=col>&lt;dbl&gt;</th><th scope=col>&lt;fct&gt;</th><th scope=col>&lt;fct&gt;</th><th scope=col>&lt;fct&gt;</th><th scope=col>&lt;fct&gt;</th><th scope=col>&lt;fct&gt;</th></tr>\n",
       "</thead>\n",
       "<tbody>\n",
       "\t<tr><th scope=row>1</th><td>1</td><td>40</td><td>Gambero </td><td>Nessuna</td><td>Nessuna           </td><td>MenoDi8</td><td>Famiglia</td></tr>\n",
       "\t<tr><th scope=row>2</th><td>1</td><td>50</td><td>Gambero </td><td>Nessuna</td><td>SalviaRosmarino   </td><td>8-15   </td><td>Doppia  </td></tr>\n",
       "\t<tr><th scope=row>3</th><td>1</td><td>30</td><td>Salmone </td><td>Nessuna</td><td>PrezzemoloBasilico</td><td>MenoDi8</td><td>Mono    </td></tr>\n",
       "\t<tr><th scope=row>4</th><td>1</td><td>20</td><td>Salmone </td><td>Nessuna</td><td>Nessuna           </td><td>PiùDi15</td><td>Mono    </td></tr>\n",
       "\t<tr><th scope=row>5</th><td>1</td><td>40</td><td>Calamaro</td><td>Nessuna</td><td>PrezzemoloBasilico</td><td>8-15   </td><td>Famiglia</td></tr>\n",
       "\t<tr><th scope=row>6</th><td>1</td><td>30</td><td>Calamaro</td><td>Nessuna</td><td>SalviaRosmarino   </td><td>PiùDi15</td><td>Doppia  </td></tr>\n",
       "</tbody>\n",
       "</table>\n"
      ],
      "text/latex": [
       "A data.frame: 6 × 7\n",
       "\\begin{tabular}{r|lllllll}\n",
       "  & id\\_respondent & Rating & Tipo\\_di\\_Pesce & Panatura & Spezie & Tempo\\_di\\_Preparazione & Formato\\_Confezione\\\\\n",
       "  & <int> & <dbl> & <fct> & <fct> & <fct> & <fct> & <fct>\\\\\n",
       "\\hline\n",
       "\t1 & 1 & 40 & Gambero  & Nessuna & Nessuna            & MenoDi8 & Famiglia\\\\\n",
       "\t2 & 1 & 50 & Gambero  & Nessuna & SalviaRosmarino    & 8-15    & Doppia  \\\\\n",
       "\t3 & 1 & 30 & Salmone  & Nessuna & PrezzemoloBasilico & MenoDi8 & Mono    \\\\\n",
       "\t4 & 1 & 20 & Salmone  & Nessuna & Nessuna            & PiùDi15 & Mono    \\\\\n",
       "\t5 & 1 & 40 & Calamaro & Nessuna & PrezzemoloBasilico & 8-15    & Famiglia\\\\\n",
       "\t6 & 1 & 30 & Calamaro & Nessuna & SalviaRosmarino    & PiùDi15 & Doppia  \\\\\n",
       "\\end{tabular}\n"
      ],
      "text/markdown": [
       "\n",
       "A data.frame: 6 × 7\n",
       "\n",
       "| <!--/--> | id_respondent &lt;int&gt; | Rating &lt;dbl&gt; | Tipo_di_Pesce &lt;fct&gt; | Panatura &lt;fct&gt; | Spezie &lt;fct&gt; | Tempo_di_Preparazione &lt;fct&gt; | Formato_Confezione &lt;fct&gt; |\n",
       "|---|---|---|---|---|---|---|---|\n",
       "| 1 | 1 | 40 | Gambero  | Nessuna | Nessuna            | MenoDi8 | Famiglia |\n",
       "| 2 | 1 | 50 | Gambero  | Nessuna | SalviaRosmarino    | 8-15    | Doppia   |\n",
       "| 3 | 1 | 30 | Salmone  | Nessuna | PrezzemoloBasilico | MenoDi8 | Mono     |\n",
       "| 4 | 1 | 20 | Salmone  | Nessuna | Nessuna            | PiùDi15 | Mono     |\n",
       "| 5 | 1 | 40 | Calamaro | Nessuna | PrezzemoloBasilico | 8-15    | Famiglia |\n",
       "| 6 | 1 | 30 | Calamaro | Nessuna | SalviaRosmarino    | PiùDi15 | Doppia   |\n",
       "\n"
      ],
      "text/plain": [
       "  id_respondent Rating Tipo_di_Pesce Panatura Spezie            \n",
       "1 1             40     Gambero       Nessuna  Nessuna           \n",
       "2 1             50     Gambero       Nessuna  SalviaRosmarino   \n",
       "3 1             30     Salmone       Nessuna  PrezzemoloBasilico\n",
       "4 1             20     Salmone       Nessuna  Nessuna           \n",
       "5 1             40     Calamaro      Nessuna  PrezzemoloBasilico\n",
       "6 1             30     Calamaro      Nessuna  SalviaRosmarino   \n",
       "  Tempo_di_Preparazione Formato_Confezione\n",
       "1 MenoDi8               Famiglia          \n",
       "2 8-15                  Doppia            \n",
       "3 MenoDi8               Mono              \n",
       "4 PiùDi15               Mono              \n",
       "5 8-15                  Famiglia          \n",
       "6 PiùDi15               Doppia            "
      ]
     },
     "metadata": {},
     "output_type": "display_data"
    }
   ],
   "source": [
    "head(conjoint_data)"
   ]
  },
  {
   "cell_type": "markdown",
   "id": "d00f9d17-8de3-47bc-9395-a923465cb94d",
   "metadata": {},
   "source": [
    "After evaluating the model for a single respondent, we conduct the **analysis on the overall dataset**, obtaining the average preference of each attribute."
   ]
  },
  {
   "cell_type": "code",
   "execution_count": 36,
   "id": "567bcb0f52e77f3c",
   "metadata": {
    "ExecuteTime": {
     "end_time": "2025-02-06T11:12:50.850928Z",
     "start_time": "2025-02-06T11:12:50.823931Z"
    }
   },
   "outputs": [],
   "source": [
    "conjoint_total <- conjoint(conjoint_data, rvar=\"Rating\", evar=c(\"Tipo_di_Pesce\", \"Panatura\", \"Spezie\", \"Tempo_di_Preparazione\", \"Formato_Confezione\"))"
   ]
  },
  {
   "cell_type": "code",
   "execution_count": 37,
   "id": "81490a1673e2d0f4",
   "metadata": {
    "ExecuteTime": {
     "end_time": "2025-02-06T11:12:51.062870Z",
     "start_time": "2025-02-06T11:12:51.048679Z"
    }
   },
   "outputs": [
    {
     "name": "stdout",
     "output_type": "stream",
     "text": [
      "Conjoint analysis\n",
      "Data                 : conjoint_data \n",
      "Response variable    : Rating \n",
      "Explanatory variables: Tipo_di_Pesce, Panatura, Spezie, Tempo_di_Preparazione, Formato_Confezione \n",
      "\n",
      "Conjoint part-worths:\n",
      "            Attributes             Levels     PW\n",
      " Tipo_di_Pesce         Calamaro            0.000\n",
      " Tipo_di_Pesce         Gambero             8.088\n",
      " Tipo_di_Pesce         Salmone             1.754\n",
      " Panatura              Gratinato           0.000\n",
      " Panatura              Nessuna            -0.667\n",
      " Panatura              Panko              -1.070\n",
      " Spezie                Nessuna             0.000\n",
      " Spezie                PrezzemoloBasilico  1.649\n",
      " Spezie                SalviaRosmarino     0.667\n",
      " Tempo_di_Preparazione 8-15                0.000\n",
      " Tempo_di_Preparazione MenoDi8             1.316\n",
      " Tempo_di_Preparazione PiùDi15             0.579\n",
      " Formato_Confezione    Doppia              0.000\n",
      " Formato_Confezione    Famiglia           -1.737\n",
      " Formato_Confezione    Mono               -4.737\n",
      " Base utility          ~                  41.842\n",
      "\n",
      "Conjoint importance weights:\n",
      "            Attributes    IW\n",
      " Tipo_di_Pesce         0.480\n",
      " Panatura              0.063\n",
      " Spezie                0.098\n",
      " Tempo_di_Preparazione 0.078\n",
      " Formato_Confezione    0.281\n",
      "\n",
      "Conjoint regression results:\n",
      "\n",
      "                               coefficient\n",
      " (Intercept)                        41.842\n",
      " Tipo_di_Pesce|Gambero               8.088\n",
      " Tipo_di_Pesce|Salmone               1.754\n",
      " Panatura|Nessuna                   -0.667\n",
      " Panatura|Panko                     -1.070\n",
      " Spezie|PrezzemoloBasilico           1.649\n",
      " Spezie|SalviaRosmarino              0.667\n",
      " Tempo_di_Preparazione|MenoDi8       1.316\n",
      " Tempo_di_Preparazione|PiùDi15       0.579\n",
      " Formato_Confezione|Famiglia        -1.737\n",
      " Formato_Confezione|Mono            -4.737\n",
      "\n"
     ]
    }
   ],
   "source": [
    "summary(conjoint_total)"
   ]
  },
  {
   "cell_type": "markdown",
   "id": "b2a40a3f-f7cf-4c23-a45b-768405a4f7f7",
   "metadata": {},
   "source": [
    "**Visual representation** of overall relative preferences for each attribute:"
   ]
  },
  {
   "cell_type": "code",
   "execution_count": 38,
   "id": "cba00a64-3ac1-48a6-a2de-8569bc016a71",
   "metadata": {
    "ExecuteTime": {
     "end_time": "2025-02-06T11:12:51.563076Z",
     "start_time": "2025-02-06T11:12:51.168998Z"
    }
   },
   "outputs": [
    {
     "data": {
      "image/png": "[encoded data removed]",
      "text/plain": [
       "plot without title"
      ]
     },
     "metadata": {
      "image/png": {
       "height": 420,
       "width": 420
      }
     },
     "output_type": "display_data"
    }
   ],
   "source": [
    "plot(conjoint_total)"
   ]
  },
  {
   "cell_type": "markdown",
   "id": "73969cc3-a714-436a-8dd5-0c837e15a868",
   "metadata": {},
   "source": [
    "After conducting the conjoint analysis on the entire set of respondents, we noticed that the base utility changes significantly. This could indicate that there is considerable variability in how different consumer segments value the product attributes. A large fluctuation in the base utility may suggest that the product's appeal is not uniform across all respondents, and it might be more appealing to some groups while less appealing to others."
   ]
  },
  {
   "cell_type": "markdown",
   "id": "5fd0881b-6aec-4828-9f44-0d8f43ce7617",
   "metadata": {},
   "source": [
    "All combinations of attributes are created:"
   ]
  },
  {
   "cell_type": "code",
   "execution_count": 39,
   "id": "dfd7becf-7959-4901-aa9c-fa7038084341",
   "metadata": {
    "ExecuteTime": {
     "end_time": "2025-02-06T11:12:51.613060Z",
     "start_time": "2025-02-06T11:12:51.599114Z"
    }
   },
   "outputs": [
    {
     "data": {
      "text/html": [
       "<table class=\"dataframe\">\n",
       "<caption>A data.frame: 6 × 5</caption>\n",
       "<thead>\n",
       "\t<tr><th></th><th scope=col>Tipo_di_Pesce</th><th scope=col>Panatura</th><th scope=col>Spezie</th><th scope=col>Tempo_di_Preparazione</th><th scope=col>Formato_Confezione</th></tr>\n",
       "\t<tr><th></th><th scope=col>&lt;fct&gt;</th><th scope=col>&lt;fct&gt;</th><th scope=col>&lt;fct&gt;</th><th scope=col>&lt;fct&gt;</th><th scope=col>&lt;fct&gt;</th></tr>\n",
       "</thead>\n",
       "<tbody>\n",
       "\t<tr><th scope=row>1</th><td>Calamaro</td><td>Gratinato</td><td>Nessuna</td><td>8-15</td><td>Doppia</td></tr>\n",
       "\t<tr><th scope=row>2</th><td>Gambero </td><td>Gratinato</td><td>Nessuna</td><td>8-15</td><td>Doppia</td></tr>\n",
       "\t<tr><th scope=row>3</th><td>Salmone </td><td>Gratinato</td><td>Nessuna</td><td>8-15</td><td>Doppia</td></tr>\n",
       "\t<tr><th scope=row>4</th><td>Calamaro</td><td>Nessuna  </td><td>Nessuna</td><td>8-15</td><td>Doppia</td></tr>\n",
       "\t<tr><th scope=row>5</th><td>Gambero </td><td>Nessuna  </td><td>Nessuna</td><td>8-15</td><td>Doppia</td></tr>\n",
       "\t<tr><th scope=row>6</th><td>Salmone </td><td>Nessuna  </td><td>Nessuna</td><td>8-15</td><td>Doppia</td></tr>\n",
       "</tbody>\n",
       "</table>\n"
      ],
      "text/latex": [
       "A data.frame: 6 × 5\n",
       "\\begin{tabular}{r|lllll}\n",
       "  & Tipo\\_di\\_Pesce & Panatura & Spezie & Tempo\\_di\\_Preparazione & Formato\\_Confezione\\\\\n",
       "  & <fct> & <fct> & <fct> & <fct> & <fct>\\\\\n",
       "\\hline\n",
       "\t1 & Calamaro & Gratinato & Nessuna & 8-15 & Doppia\\\\\n",
       "\t2 & Gambero  & Gratinato & Nessuna & 8-15 & Doppia\\\\\n",
       "\t3 & Salmone  & Gratinato & Nessuna & 8-15 & Doppia\\\\\n",
       "\t4 & Calamaro & Nessuna   & Nessuna & 8-15 & Doppia\\\\\n",
       "\t5 & Gambero  & Nessuna   & Nessuna & 8-15 & Doppia\\\\\n",
       "\t6 & Salmone  & Nessuna   & Nessuna & 8-15 & Doppia\\\\\n",
       "\\end{tabular}\n"
      ],
      "text/markdown": [
       "\n",
       "A data.frame: 6 × 5\n",
       "\n",
       "| <!--/--> | Tipo_di_Pesce &lt;fct&gt; | Panatura &lt;fct&gt; | Spezie &lt;fct&gt; | Tempo_di_Preparazione &lt;fct&gt; | Formato_Confezione &lt;fct&gt; |\n",
       "|---|---|---|---|---|---|\n",
       "| 1 | Calamaro | Gratinato | Nessuna | 8-15 | Doppia |\n",
       "| 2 | Gambero  | Gratinato | Nessuna | 8-15 | Doppia |\n",
       "| 3 | Salmone  | Gratinato | Nessuna | 8-15 | Doppia |\n",
       "| 4 | Calamaro | Nessuna   | Nessuna | 8-15 | Doppia |\n",
       "| 5 | Gambero  | Nessuna   | Nessuna | 8-15 | Doppia |\n",
       "| 6 | Salmone  | Nessuna   | Nessuna | 8-15 | Doppia |\n",
       "\n"
      ],
      "text/plain": [
       "  Tipo_di_Pesce Panatura  Spezie  Tempo_di_Preparazione Formato_Confezione\n",
       "1 Calamaro      Gratinato Nessuna 8-15                  Doppia            \n",
       "2 Gambero       Gratinato Nessuna 8-15                  Doppia            \n",
       "3 Salmone       Gratinato Nessuna 8-15                  Doppia            \n",
       "4 Calamaro      Nessuna   Nessuna 8-15                  Doppia            \n",
       "5 Gambero       Nessuna   Nessuna 8-15                  Doppia            \n",
       "6 Salmone       Nessuna   Nessuna 8-15                  Doppia            "
      ]
     },
     "metadata": {},
     "output_type": "display_data"
    }
   ],
   "source": [
    "profiles.all <- expand.grid(levels(conjoint_data$Tipo_di_Pesce),levels(conjoint_data$Panatura), levels(conjoint_data$Spezie), levels(conjoint_data$Tempo_di_Preparazione), levels(conjoint_data$Formato_Confezione))\n",
    "profiles.all <- profiles.all %>% rename('Tipo_di_Pesce' = 'Var1', 'Panatura' = 'Var2' , 'Spezie' = 'Var3', 'Tempo_di_Preparazione' = 'Var4', 'Formato_Confezione' = 'Var5')\n",
    "head(profiles.all)"
   ]
  },
  {
   "cell_type": "markdown",
   "id": "cea54f5c-d1cc-48ef-9a5e-0af657232868",
   "metadata": {},
   "source": [
    "The rating for each combination is predicted:"
   ]
  },
  {
   "cell_type": "code",
   "execution_count": 40,
   "id": "6ead063e-c913-4b7d-ac8d-e2e2df2c3527",
   "metadata": {
    "ExecuteTime": {
     "end_time": "2025-02-06T11:12:51.676796Z",
     "start_time": "2025-02-06T11:12:51.654175Z"
    }
   },
   "outputs": [
    {
     "data": {
      "text/html": [
       "<table class=\"dataframe\">\n",
       "<caption>A conjoint.predict: 6 × 6</caption>\n",
       "<thead>\n",
       "\t<tr><th></th><th scope=col>Tipo_di_Pesce</th><th scope=col>Panatura</th><th scope=col>Spezie</th><th scope=col>Tempo_di_Preparazione</th><th scope=col>Formato_Confezione</th><th scope=col>Prediction</th></tr>\n",
       "\t<tr><th></th><th scope=col>&lt;fct&gt;</th><th scope=col>&lt;fct&gt;</th><th scope=col>&lt;fct&gt;</th><th scope=col>&lt;fct&gt;</th><th scope=col>&lt;fct&gt;</th><th scope=col>&lt;dbl&gt;</th></tr>\n",
       "</thead>\n",
       "<tbody>\n",
       "\t<tr><th scope=row>1</th><td>Gambero</td><td>Gratinato</td><td>PrezzemoloBasilico</td><td>MenoDi8</td><td>Doppia</td><td>52.89474</td></tr>\n",
       "\t<tr><th scope=row>2</th><td>Gambero</td><td>Nessuna  </td><td>PrezzemoloBasilico</td><td>MenoDi8</td><td>Doppia</td><td>52.22807</td></tr>\n",
       "\t<tr><th scope=row>3</th><td>Gambero</td><td>Gratinato</td><td>PrezzemoloBasilico</td><td>PiùDi15</td><td>Doppia</td><td>52.15789</td></tr>\n",
       "\t<tr><th scope=row>4</th><td>Gambero</td><td>Gratinato</td><td>SalviaRosmarino   </td><td>MenoDi8</td><td>Doppia</td><td>51.91228</td></tr>\n",
       "\t<tr><th scope=row>5</th><td>Gambero</td><td>Panko    </td><td>PrezzemoloBasilico</td><td>MenoDi8</td><td>Doppia</td><td>51.82456</td></tr>\n",
       "\t<tr><th scope=row>6</th><td>Gambero</td><td>Gratinato</td><td>PrezzemoloBasilico</td><td>8-15   </td><td>Doppia</td><td>51.57895</td></tr>\n",
       "</tbody>\n",
       "</table>\n"
      ],
      "text/latex": [
       "A conjoint.predict: 6 × 6\n",
       "\\begin{tabular}{r|llllll}\n",
       "  & Tipo\\_di\\_Pesce & Panatura & Spezie & Tempo\\_di\\_Preparazione & Formato\\_Confezione & Prediction\\\\\n",
       "  & <fct> & <fct> & <fct> & <fct> & <fct> & <dbl>\\\\\n",
       "\\hline\n",
       "\t1 & Gambero & Gratinato & PrezzemoloBasilico & MenoDi8 & Doppia & 52.89474\\\\\n",
       "\t2 & Gambero & Nessuna   & PrezzemoloBasilico & MenoDi8 & Doppia & 52.22807\\\\\n",
       "\t3 & Gambero & Gratinato & PrezzemoloBasilico & PiùDi15 & Doppia & 52.15789\\\\\n",
       "\t4 & Gambero & Gratinato & SalviaRosmarino    & MenoDi8 & Doppia & 51.91228\\\\\n",
       "\t5 & Gambero & Panko     & PrezzemoloBasilico & MenoDi8 & Doppia & 51.82456\\\\\n",
       "\t6 & Gambero & Gratinato & PrezzemoloBasilico & 8-15    & Doppia & 51.57895\\\\\n",
       "\\end{tabular}\n"
      ],
      "text/markdown": [
       "\n",
       "A conjoint.predict: 6 × 6\n",
       "\n",
       "| <!--/--> | Tipo_di_Pesce &lt;fct&gt; | Panatura &lt;fct&gt; | Spezie &lt;fct&gt; | Tempo_di_Preparazione &lt;fct&gt; | Formato_Confezione &lt;fct&gt; | Prediction &lt;dbl&gt; |\n",
       "|---|---|---|---|---|---|---|\n",
       "| 1 | Gambero | Gratinato | PrezzemoloBasilico | MenoDi8 | Doppia | 52.89474 |\n",
       "| 2 | Gambero | Nessuna   | PrezzemoloBasilico | MenoDi8 | Doppia | 52.22807 |\n",
       "| 3 | Gambero | Gratinato | PrezzemoloBasilico | PiùDi15 | Doppia | 52.15789 |\n",
       "| 4 | Gambero | Gratinato | SalviaRosmarino    | MenoDi8 | Doppia | 51.91228 |\n",
       "| 5 | Gambero | Panko     | PrezzemoloBasilico | MenoDi8 | Doppia | 51.82456 |\n",
       "| 6 | Gambero | Gratinato | PrezzemoloBasilico | 8-15    | Doppia | 51.57895 |\n",
       "\n"
      ],
      "text/plain": [
       "  Tipo_di_Pesce Panatura  Spezie             Tempo_di_Preparazione\n",
       "1 Gambero       Gratinato PrezzemoloBasilico MenoDi8              \n",
       "2 Gambero       Nessuna   PrezzemoloBasilico MenoDi8              \n",
       "3 Gambero       Gratinato PrezzemoloBasilico PiùDi15              \n",
       "4 Gambero       Gratinato SalviaRosmarino    MenoDi8              \n",
       "5 Gambero       Panko     PrezzemoloBasilico MenoDi8              \n",
       "6 Gambero       Gratinato PrezzemoloBasilico 8-15                 \n",
       "  Formato_Confezione Prediction\n",
       "1 Doppia             52.89474  \n",
       "2 Doppia             52.22807  \n",
       "3 Doppia             52.15789  \n",
       "4 Doppia             51.91228  \n",
       "5 Doppia             51.82456  \n",
       "6 Doppia             51.57895  "
      ]
     },
     "metadata": {},
     "output_type": "display_data"
    }
   ],
   "source": [
    "conjoint_prediction <- predict(conjoint_total, profiles.all) %>% arrange(desc(Prediction))\n",
    "head(conjoint_prediction)"
   ]
  },
  {
   "cell_type": "markdown",
   "id": "00dd6d7b-70b3-410b-9c6e-83aedc80a036",
   "metadata": {},
   "source": [
    "The **highest rating** results to be **52.89** for the following combination:\n",
    "\n",
    "Spiedino di **gambero**, **Gratinato**, speziato al **prezzemolo e basilico**, pronto in **meno di 8 minuti** e venduto in **confezione doppia**."
   ]
  },
  {
   "cell_type": "markdown",
   "id": "66a485aa-afca-483e-a7af-de9ba0e6d8de",
   "metadata": {},
   "source": [
    "The highest rating might be considered low, and there are several possible reasons for this:\n",
    "\n",
    "1. *Market Appeal*: the product (fish skewer) might not be highly appealing to our sample, as indicated by the low base utility and the distribution of ratings in the conjoint analysis. \n",
    "   \n",
    "2. *Attribute Importance*: the attributes considered in the conjoint model might not be significant enough to drive high preference. If the chosen attributes do not strongly influence the decision-making process of consumers, the predicted score will be lower.\n",
    "\n",
    "3. *Consumer Segmentation*: a lack of differentiation among consumer segments in terms of their preferences could lead to lower predicted scores, as the conjoint model may not capture distinct consumer needs and behaviors effectively.\n"
   ]
  },
  {
   "cell_type": "markdown",
   "id": "a1cc0520-679b-4d59-b6b7-894302e6d0c5",
   "metadata": {},
   "source": [
    "---\n",
    "\n",
    "#### **3.2.3. Existing products comparison**\n",
    "To complete this part of the analysis, we aimed to evaluate the actual product combinations offered by MarePiù to B2B customers and assess their scores. Our objective is to determine which combination of attributes is the best, helping us identify the most viable product to launch on the market.  \n",
    "\n",
    "After establishing that the **\"Spiedino di **gambero gratinato speziato al prezzemolo e basilico, pronto in meno di 8 minuti e venduto in confezione doppia\"** is generally the best combination, we also want to explore cost-saving opportunities. \n",
    "\n",
    "Specifically, we aim to identify **existing B2B products** that could be adapted for the **B2C market**, reducing production costs.  \n",
    "\n",
    "To determine which products are already available, we referred to MarePiù’s official website at the following link:  \n",
    "[Catalog - MarePiù Food Service](https://www.marepiusrl.com/catalogo-food-service/) "
   ]
  },
  {
   "cell_type": "code",
   "execution_count": 41,
   "id": "df0cd8b2-aab3-4c25-bb80-e2acdab64dd2",
   "metadata": {
    "ExecuteTime": {
     "end_time": "2025-02-06T11:12:51.738845Z",
     "start_time": "2025-02-06T11:12:51.731744Z"
    }
   },
   "outputs": [],
   "source": [
    "find_rating <- function(tipo, panatura, spezie, tempo, formato) {\n",
    "  filtro <- conjoint_prediction[conjoint_prediction$Tipo_di_Pesce == tipo &\n",
    "                 conjoint_prediction$Panatura == panatura &\n",
    "                 conjoint_prediction$Spezie == spezie &\n",
    "                 conjoint_prediction$Tempo_di_Preparazione == tempo &\n",
    "                 conjoint_prediction$Formato_Confezione == formato, ]\n",
    "  \n",
    "  if (nrow(filtro) == 0) {\n",
    "    return(\"Nessuna corrispondenza trovata.\")\n",
    "  }\n",
    "  \n",
    "  punteggio <- filtro$Prediction\n",
    "  classifica <- rank(-conjoint_prediction$Prediction) \n",
    "  posizione <- classifica[conjoint_prediction$Prediction == punteggio]\n",
    "  totale <- nrow(conjoint_prediction)\n",
    "  \n",
    "  return(paste(\"Rating:\", punteggio, \"- Position:\", posizione, \"out of\", totale))\n",
    "}"
   ]
  },
  {
   "cell_type": "markdown",
   "id": "1e47599c-aa00-4bb6-a002-cc2a01cdcb5f",
   "metadata": {},
   "source": [
    "Based on the results of the conjoint analysis, where the **\"Doppia\"** format achieved the highest scores keeping other combinations of attributes fixed, we will consider this format as the standard for all other attribute combinations moving forward."
   ]
  },
  {
   "cell_type": "markdown",
   "id": "1495fd00-df51-4a67-ab9c-87556705dc1f",
   "metadata": {},
   "source": [
    "- <a href=\"https://www.marepiusrl.com/portfolio-item/salmone-allo-spiedo-con-panko-alle-erbe-aromatiche/\" style=\"color:black;\"> 🔗:  SALMONE ALLO SPIEDO CON PANKO ALLE ERBE AROMATICHE</a>\n"
   ]
  },
  {
   "cell_type": "code",
   "execution_count": 42,
   "id": "606f33f7-30e3-4739-8a8b-39b38dc26a2b",
   "metadata": {
    "ExecuteTime": {
     "end_time": "2025-02-06T11:12:51.938894Z",
     "start_time": "2025-02-06T11:12:51.917715Z"
    }
   },
   "outputs": [
    {
     "data": {
      "text/html": [
       "'Rating: 44.5087719298247 - Position: 95 out of 243'"
      ],
      "text/latex": [
       "'Rating: 44.5087719298247 - Position: 95 out of 243'"
      ],
      "text/markdown": [
       "'Rating: 44.5087719298247 - Position: 95 out of 243'"
      ],
      "text/plain": [
       "[1] \"Rating: 44.5087719298247 - Position: 95 out of 243\""
      ]
     },
     "metadata": {},
     "output_type": "display_data"
    }
   ],
   "source": [
    "find_rating(\"Salmone\", \"Panko\", \"SalviaRosmarino\", \"MenoDi8\", \"Doppia\")"
   ]
  },
  {
   "cell_type": "markdown",
   "id": "ff7ac09f-f4a2-40f9-b895-e694c2cdc960",
   "metadata": {},
   "source": [
    "- <a href=\"https://www.marepiusrl.com/portfolio-item/spiedino-di-gambero-argentino-sgusciato-gratinato/\" style=\"color:black;\"> 🔗: SPIEDINO DI GAMBERO ARGENTINO SGUSCIATO GRATINATO</a> "
   ]
  },
  {
   "cell_type": "code",
   "execution_count": 43,
   "id": "0fcdf8a4-c3e5-4bc9-9cd4-93729c9684f8",
   "metadata": {
    "ExecuteTime": {
     "end_time": "2025-02-06T11:12:52.170634Z",
     "start_time": "2025-02-06T11:12:52.156620Z"
    }
   },
   "outputs": [
    {
     "data": {
      "text/html": [
       "'Rating: 52.8947368421056 - Position: 1 out of 243'"
      ],
      "text/latex": [
       "'Rating: 52.8947368421056 - Position: 1 out of 243'"
      ],
      "text/markdown": [
       "'Rating: 52.8947368421056 - Position: 1 out of 243'"
      ],
      "text/plain": [
       "[1] \"Rating: 52.8947368421056 - Position: 1 out of 243\""
      ]
     },
     "metadata": {},
     "output_type": "display_data"
    }
   ],
   "source": [
    "find_rating(\"Gambero\", \"Gratinato\", \"PrezzemoloBasilico\", \"MenoDi8\", \"Doppia\")"
   ]
  },
  {
   "cell_type": "markdown",
   "id": "ef4cc66f-bca1-407b-a2a2-a95fb81526c8",
   "metadata": {},
   "source": [
    "- <a href=\"https://www.marepiusrl.com/portfolio-item/spiedino-di-filetto-di-calamaro-gratinato/\" style=\"color:black;\">🔗: SPIEDINO DI FILETTO DI CALAMARO PATAGONICO GRATINATO</a>"
   ]
  },
  {
   "cell_type": "code",
   "execution_count": 44,
   "id": "d2126e44-3703-4b94-a92c-1b652b466d21",
   "metadata": {
    "ExecuteTime": {
     "end_time": "2025-02-06T11:12:52.238890Z",
     "start_time": "2025-02-06T11:12:52.228262Z"
    }
   },
   "outputs": [
    {
     "data": {
      "text/html": [
       "'Rating: 43.4912280701756 - Position: 116 out of 243'"
      ],
      "text/latex": [
       "'Rating: 43.4912280701756 - Position: 116 out of 243'"
      ],
      "text/markdown": [
       "'Rating: 43.4912280701756 - Position: 116 out of 243'"
      ],
      "text/plain": [
       "[1] \"Rating: 43.4912280701756 - Position: 116 out of 243\""
      ]
     },
     "metadata": {},
     "output_type": "display_data"
    }
   ],
   "source": [
    "find_rating(\"Calamaro\", \"Gratinato\", \"PrezzemoloBasilico\", \"8-15\", \"Doppia\")"
   ]
  },
  {
   "cell_type": "markdown",
   "id": "d45daf80-c267-48cb-a342-3203e7828499",
   "metadata": {},
   "source": [
    "- <a href=\"https://www.marepiusrl.com/portfolio-item/arrosticini-di-salmone-gratinati/\" style=\"color:black;\"> 🔗: ARROSTICINI DI SALMONE GRATINATI</a>"
   ]
  },
  {
   "cell_type": "code",
   "execution_count": 45,
   "id": "3994d215-7d4e-4b7c-a3f8-86393380bca6",
   "metadata": {
    "ExecuteTime": {
     "end_time": "2025-02-06T11:12:52.316077Z",
     "start_time": "2025-02-06T11:12:52.307387Z"
    }
   },
   "outputs": [
    {
     "data": {
      "text/html": [
       "'Rating: 45.2456140350878 - Position: 80 out of 243'"
      ],
      "text/latex": [
       "'Rating: 45.2456140350878 - Position: 80 out of 243'"
      ],
      "text/markdown": [
       "'Rating: 45.2456140350878 - Position: 80 out of 243'"
      ],
      "text/plain": [
       "[1] \"Rating: 45.2456140350878 - Position: 80 out of 243\""
      ]
     },
     "metadata": {},
     "output_type": "display_data"
    }
   ],
   "source": [
    "find_rating(\"Salmone\", \"Gratinato\", \"PrezzemoloBasilico\", \"8-15\", \"Doppia\")"
   ]
  },
  {
   "cell_type": "markdown",
   "id": "a60ba3a0-bbd9-4037-a3b6-a6745e31a92f",
   "metadata": {},
   "source": [
    "- <a href=\"https://www.marepiusrl.com/portfolio-item/spiedino-di-gambero-argentina/\" style=\"color:black;\"> 🔗: SPIEDINO DI GAMBERO ARGENTINO SGUSCIATO</a> "
   ]
  },
  {
   "cell_type": "code",
   "execution_count": 46,
   "id": "e759deda-2600-435f-b410-f7b0389728d8",
   "metadata": {
    "ExecuteTime": {
     "end_time": "2025-02-06T11:12:52.383086Z",
     "start_time": "2025-02-06T11:12:52.374288Z"
    }
   },
   "outputs": [
    {
     "data": {
      "text/html": [
       "'Rating: 50.5789473684214 - Position: 16 out of 243'"
      ],
      "text/latex": [
       "'Rating: 50.5789473684214 - Position: 16 out of 243'"
      ],
      "text/markdown": [
       "'Rating: 50.5789473684214 - Position: 16 out of 243'"
      ],
      "text/plain": [
       "[1] \"Rating: 50.5789473684214 - Position: 16 out of 243\""
      ]
     },
     "metadata": {},
     "output_type": "display_data"
    }
   ],
   "source": [
    "find_rating(\"Gambero\", \"Nessuna\", \"Nessuna\", \"MenoDi8\", \"Doppia\")"
   ]
  },
  {
   "cell_type": "markdown",
   "id": "29786c67-2592-40c0-99bc-a5890e7a47de",
   "metadata": {},
   "source": [
    "- <a href=\"https://www.marepiusrl.com/portfolio-item/spiedino-di-calamro-patagonia-rustico-xl/\" style=\"color:black;\">🔗: SPIEDINO DI CALAMARO PATAGONICO RUSTICO</a> "
   ]
  },
  {
   "cell_type": "code",
   "execution_count": 47,
   "id": "31ca3866-89de-443c-8a4e-24d85399e95f",
   "metadata": {
    "ExecuteTime": {
     "end_time": "2025-02-06T11:12:52.438286Z",
     "start_time": "2025-02-06T11:12:52.429127Z"
    }
   },
   "outputs": [
    {
     "data": {
      "text/html": [
       "'Rating: 41.1754385964914 - Position: 172 out of 243'"
      ],
      "text/latex": [
       "'Rating: 41.1754385964914 - Position: 172 out of 243'"
      ],
      "text/markdown": [
       "'Rating: 41.1754385964914 - Position: 172 out of 243'"
      ],
      "text/plain": [
       "[1] \"Rating: 41.1754385964914 - Position: 172 out of 243\""
      ]
     },
     "metadata": {},
     "output_type": "display_data"
    }
   ],
   "source": [
    "find_rating(\"Calamaro\", \"Nessuna\", \"Nessuna\", \"8-15\", \"Doppia\")"
   ]
  },
  {
   "cell_type": "markdown",
   "id": "c8e8fa4007757a9e",
   "metadata": {},
   "source": [
    "Comparing the existing MarePiù products with the best-performing product from the conjoint analysis, we found that the **top product is already part of the catalog**. This simplifies the process of extending it to the B2C market."
   ]
  },
  {
   "cell_type": "markdown",
   "id": "7ac4d7b8-92d1-4625-9cfe-fb5fee417eea",
   "metadata": {},
   "source": [
    "---\n",
    "\n",
    "#### **3.2.4 Attributes' Influences**"
   ]
  },
  {
   "cell_type": "markdown",
   "id": "5cdf424a-1010-49fe-860a-b3678aa3c4a1",
   "metadata": {},
   "source": [
    "In our survey, we asked respondents which factors they considered most important when making their choice, and we compared these results with the **importance weights** of the attributes obtained from the conjoint analysis."
   ]
  },
  {
   "cell_type": "code",
   "execution_count": 48,
   "id": "e96c0831-c2d7-4d38-bb0f-56ea0fab0c60",
   "metadata": {
    "ExecuteTime": {
     "end_time": "2025-02-06T11:12:52.551635Z",
     "start_time": "2025-02-06T11:12:52.519973Z"
    }
   },
   "outputs": [
    {
     "data": {
      "text/html": [
       "<table class=\"dataframe\">\n",
       "<caption>A tibble: 5 × 3</caption>\n",
       "<thead>\n",
       "\t<tr><th scope=col>major_influences</th><th scope=col>Survey percentage</th><th scope=col>Conjoint weights</th></tr>\n",
       "\t<tr><th scope=col>&lt;chr&gt;</th><th scope=col>&lt;dbl&gt;</th><th scope=col>&lt;dbl&gt;</th></tr>\n",
       "</thead>\n",
       "<tbody>\n",
       "\t<tr><td>Tipo_di_Pesce        </td><td>32.5</td><td>0.480</td></tr>\n",
       "\t<tr><td>Panatura             </td><td>26.0</td><td>0.063</td></tr>\n",
       "\t<tr><td>Formato_Confezione   </td><td>18.0</td><td>0.281</td></tr>\n",
       "\t<tr><td>Spezie               </td><td>16.5</td><td>0.098</td></tr>\n",
       "\t<tr><td>Tempo_di_Preparazione</td><td> 6.5</td><td>0.078</td></tr>\n",
       "</tbody>\n",
       "</table>\n"
      ],
      "text/latex": [
       "A tibble: 5 × 3\n",
       "\\begin{tabular}{lll}\n",
       " major\\_influences & Survey percentage & Conjoint weights\\\\\n",
       " <chr> & <dbl> & <dbl>\\\\\n",
       "\\hline\n",
       "\t Tipo\\_di\\_Pesce         & 32.5 & 0.480\\\\\n",
       "\t Panatura              & 26.0 & 0.063\\\\\n",
       "\t Formato\\_Confezione    & 18.0 & 0.281\\\\\n",
       "\t Spezie                & 16.5 & 0.098\\\\\n",
       "\t Tempo\\_di\\_Preparazione &  6.5 & 0.078\\\\\n",
       "\\end{tabular}\n"
      ],
      "text/markdown": [
       "\n",
       "A tibble: 5 × 3\n",
       "\n",
       "| major_influences &lt;chr&gt; | Survey percentage &lt;dbl&gt; | Conjoint weights &lt;dbl&gt; |\n",
       "|---|---|---|\n",
       "| Tipo_di_Pesce         | 32.5 | 0.480 |\n",
       "| Panatura              | 26.0 | 0.063 |\n",
       "| Formato_Confezione    | 18.0 | 0.281 |\n",
       "| Spezie                | 16.5 | 0.098 |\n",
       "| Tempo_di_Preparazione |  6.5 | 0.078 |\n",
       "\n"
      ],
      "text/plain": [
       "  major_influences      Survey percentage Conjoint weights\n",
       "1 Tipo_di_Pesce         32.5              0.480           \n",
       "2 Panatura              26.0              0.063           \n",
       "3 Formato_Confezione    18.0              0.281           \n",
       "4 Spezie                16.5              0.098           \n",
       "5 Tempo_di_Preparazione  6.5              0.078           "
      ]
     },
     "metadata": {},
     "output_type": "display_data"
    }
   ],
   "source": [
    "conjoint_weights <- data.frame(\n",
    "  major_influences = c(\"Tipo_di_Pesce\", \"Panatura\", \"Spezie\", \"Tempo_di_Preparazione\", \"Formato_Confezione\"),\n",
    "  IW = c(0.480, 0.063, 0.098, 0.078, 0.281)\n",
    ")\n",
    "\n",
    "influences <- filtered_survey_raw %>%\n",
    "  select(major_influences) %>%            \n",
    "  separate_rows(major_influences, sep = \";\") %>%  \n",
    "  count(major_influences, sort = TRUE) %>%   \n",
    "  mutate(percentuale = round(n / sum(n) * 100, 2)) %>%\n",
    "  slice(-n()) %>%\n",
    "  mutate(\n",
    "    major_influences = case_when(\n",
    "      major_influences == \"Tipo di pesce utilizzato per lo spiedino surgelato\" ~ \"Tipo_di_Pesce\",\n",
    "      major_influences == \"Presenza e tipo di panatura\" ~ \"Panatura\",\n",
    "      major_influences == \"Presenza e combinazione di spezie\" ~ \"Spezie\",\n",
    "      major_influences == \"Tempo di preparazione\" ~ \"Tempo_di_Preparazione\",\n",
    "      major_influences == \"Formato confezione\" ~ \"Formato_Confezione\",\n",
    "      TRUE ~ major_influences\n",
    "  ))\n",
    "\n",
    "final_table <- influences %>%\n",
    "  left_join(conjoint_weights, by = \"major_influences\") %>%\n",
    "  rename(\"Survey percentage\" = percentuale, \"Conjoint weights\" = IW) %>% select(-n)\n",
    "\n",
    "final_table"
   ]
  },
  {
   "cell_type": "markdown",
   "id": "8f96e06d-144d-4514-bf8d-034b03557058",
   "metadata": {},
   "source": [
    "The findings were as follows:\n",
    "\n",
    "- *Fish Type*: the most relevant attribute for consumers when making their choice, which is also confirmed by the conjoint analysis.\n",
    "  \n",
    "- *Panatura*: this was ranked as the second most important factor by consumers. However, the conjoint results do not confirm this, as it was considered the least important attribute.\n",
    "\n",
    "- *Packaging Format, Spices, and Cooking Time*: according to consumers, these were the least relevant factors in their decision-making process. This result is also validated by the conjoint analysis."
   ]
  },
  {
   "cell_type": "markdown",
   "id": "396d6245-ca90-4b84-aa55-c6801100e06a",
   "metadata": {},
   "source": [
    "\n",
    "\n",
    "### **3.3 Market Share Estimation**"
   ]
  },
  {
   "cell_type": "markdown",
   "id": "029fa709-6e5c-4e88-bb77-a2f407b8b062",
   "metadata": {},
   "source": [
    "Building on the previous analysis, we aim to evaluate the hypothetical market share that different products currently available within the company would achieve if launched in the market."
   ]
  },
  {
   "cell_type": "markdown",
   "id": "8b079741-bf45-4767-80ee-66cb84494763",
   "metadata": {},
   "source": [
    "#### **3.3.1 Market shares using the share-of-preference rule**"
   ]
  },
  {
   "cell_type": "code",
   "execution_count": 49,
   "id": "9af956af-7ebd-43ff-bb53-e61ecbf356a8",
   "metadata": {
    "ExecuteTime": {
     "end_time": "2025-02-06T11:12:52.590729Z",
     "start_time": "2025-02-06T11:12:52.577943Z"
    }
   },
   "outputs": [
    {
     "data": {
      "text/html": [
       "<table class=\"dataframe\">\n",
       "<caption>A data.frame: 6 × 5</caption>\n",
       "<thead>\n",
       "\t<tr><th scope=col>Tipo_di_Pesce</th><th scope=col>Panatura</th><th scope=col>Spezie</th><th scope=col>Tempo_di_Preparazione</th><th scope=col>Formato_Confezione</th></tr>\n",
       "\t<tr><th scope=col>&lt;fct&gt;</th><th scope=col>&lt;fct&gt;</th><th scope=col>&lt;fct&gt;</th><th scope=col>&lt;fct&gt;</th><th scope=col>&lt;fct&gt;</th></tr>\n",
       "</thead>\n",
       "<tbody>\n",
       "\t<tr><td>Calamaro</td><td>Nessuna  </td><td>Nessuna           </td><td>8-15   </td><td>Doppia</td></tr>\n",
       "\t<tr><td>Calamaro</td><td>Gratinato</td><td>PrezzemoloBasilico</td><td>8-15   </td><td>Doppia</td></tr>\n",
       "\t<tr><td>Salmone </td><td>Gratinato</td><td>PrezzemoloBasilico</td><td>8-15   </td><td>Doppia</td></tr>\n",
       "\t<tr><td>Gambero </td><td>Nessuna  </td><td>Nessuna           </td><td>MenoDi8</td><td>Doppia</td></tr>\n",
       "\t<tr><td>Gambero </td><td>Gratinato</td><td>PrezzemoloBasilico</td><td>MenoDi8</td><td>Doppia</td></tr>\n",
       "\t<tr><td>Salmone </td><td>Panko    </td><td>SalviaRosmarino   </td><td>MenoDi8</td><td>Doppia</td></tr>\n",
       "</tbody>\n",
       "</table>\n"
      ],
      "text/latex": [
       "A data.frame: 6 × 5\n",
       "\\begin{tabular}{lllll}\n",
       " Tipo\\_di\\_Pesce & Panatura & Spezie & Tempo\\_di\\_Preparazione & Formato\\_Confezione\\\\\n",
       " <fct> & <fct> & <fct> & <fct> & <fct>\\\\\n",
       "\\hline\n",
       "\t Calamaro & Nessuna   & Nessuna            & 8-15    & Doppia\\\\\n",
       "\t Calamaro & Gratinato & PrezzemoloBasilico & 8-15    & Doppia\\\\\n",
       "\t Salmone  & Gratinato & PrezzemoloBasilico & 8-15    & Doppia\\\\\n",
       "\t Gambero  & Nessuna   & Nessuna            & MenoDi8 & Doppia\\\\\n",
       "\t Gambero  & Gratinato & PrezzemoloBasilico & MenoDi8 & Doppia\\\\\n",
       "\t Salmone  & Panko     & SalviaRosmarino    & MenoDi8 & Doppia\\\\\n",
       "\\end{tabular}\n"
      ],
      "text/markdown": [
       "\n",
       "A data.frame: 6 × 5\n",
       "\n",
       "| Tipo_di_Pesce &lt;fct&gt; | Panatura &lt;fct&gt; | Spezie &lt;fct&gt; | Tempo_di_Preparazione &lt;fct&gt; | Formato_Confezione &lt;fct&gt; |\n",
       "|---|---|---|---|---|\n",
       "| Calamaro | Nessuna   | Nessuna            | 8-15    | Doppia |\n",
       "| Calamaro | Gratinato | PrezzemoloBasilico | 8-15    | Doppia |\n",
       "| Salmone  | Gratinato | PrezzemoloBasilico | 8-15    | Doppia |\n",
       "| Gambero  | Nessuna   | Nessuna            | MenoDi8 | Doppia |\n",
       "| Gambero  | Gratinato | PrezzemoloBasilico | MenoDi8 | Doppia |\n",
       "| Salmone  | Panko     | SalviaRosmarino    | MenoDi8 | Doppia |\n",
       "\n"
      ],
      "text/plain": [
       "  Tipo_di_Pesce Panatura  Spezie             Tempo_di_Preparazione\n",
       "1 Calamaro      Nessuna   Nessuna            8-15                 \n",
       "2 Calamaro      Gratinato PrezzemoloBasilico 8-15                 \n",
       "3 Salmone       Gratinato PrezzemoloBasilico 8-15                 \n",
       "4 Gambero       Nessuna   Nessuna            MenoDi8              \n",
       "5 Gambero       Gratinato PrezzemoloBasilico MenoDi8              \n",
       "6 Salmone       Panko     SalviaRosmarino    MenoDi8              \n",
       "  Formato_Confezione\n",
       "1 Doppia            \n",
       "2 Doppia            \n",
       "3 Doppia            \n",
       "4 Doppia            \n",
       "5 Doppia            \n",
       "6 Doppia            "
      ]
     },
     "metadata": {},
     "output_type": "display_data"
    }
   ],
   "source": [
    "profiles <- profiles.all %>% slice(c(4,10,12,32,38,54))\n",
    "profiles"
   ]
  },
  {
   "cell_type": "markdown",
   "id": "26b5d801-ecdd-4c09-9e54-f4eff6ad70a6",
   "metadata": {},
   "source": [
    "This table contains a subset of **6 product profiles**, each defined by a combination of fish type, breading, spices, preparation time, and packaging format. This selection will be used to estimate consumer preferences and market share."
   ]
  },
  {
   "cell_type": "code",
   "execution_count": 50,
   "id": "63b74624-9e5e-4e93-873b-f3ceda9031f6",
   "metadata": {
    "ExecuteTime": {
     "end_time": "2025-02-06T11:12:52.672719Z",
     "start_time": "2025-02-06T11:12:52.653825Z"
    }
   },
   "outputs": [
    {
     "data": {
      "text/html": [
       "<table class=\"dataframe\">\n",
       "<caption>A conjoint.predict: 6 × 7</caption>\n",
       "<thead>\n",
       "\t<tr><th scope=col>Tipo_di_Pesce</th><th scope=col>Panatura</th><th scope=col>Spezie</th><th scope=col>Tempo_di_Preparazione</th><th scope=col>Formato_Confezione</th><th scope=col>Prediction</th><th scope=col>Perc</th></tr>\n",
       "\t<tr><th scope=col>&lt;fct&gt;</th><th scope=col>&lt;fct&gt;</th><th scope=col>&lt;fct&gt;</th><th scope=col>&lt;fct&gt;</th><th scope=col>&lt;fct&gt;</th><th scope=col>&lt;dbl&gt;</th><th scope=col>&lt;dbl&gt;</th></tr>\n",
       "</thead>\n",
       "<tbody>\n",
       "\t<tr><td>Gambero </td><td>Gratinato</td><td>PrezzemoloBasilico</td><td>MenoDi8</td><td>Doppia</td><td>52.89474</td><td>19.03409</td></tr>\n",
       "\t<tr><td>Gambero </td><td>Nessuna  </td><td>Nessuna           </td><td>MenoDi8</td><td>Doppia</td><td>50.57895</td><td>18.20076</td></tr>\n",
       "\t<tr><td>Salmone </td><td>Gratinato</td><td>PrezzemoloBasilico</td><td>8-15   </td><td>Doppia</td><td>45.24561</td><td>16.28157</td></tr>\n",
       "\t<tr><td>Salmone </td><td>Panko    </td><td>SalviaRosmarino   </td><td>MenoDi8</td><td>Doppia</td><td>44.50877</td><td>16.01641</td></tr>\n",
       "\t<tr><td>Calamaro</td><td>Gratinato</td><td>PrezzemoloBasilico</td><td>8-15   </td><td>Doppia</td><td>43.49123</td><td>15.65025</td></tr>\n",
       "\t<tr><td>Calamaro</td><td>Nessuna  </td><td>Nessuna           </td><td>8-15   </td><td>Doppia</td><td>41.17544</td><td>14.81692</td></tr>\n",
       "</tbody>\n",
       "</table>\n"
      ],
      "text/latex": [
       "A conjoint.predict: 6 × 7\n",
       "\\begin{tabular}{lllllll}\n",
       " Tipo\\_di\\_Pesce & Panatura & Spezie & Tempo\\_di\\_Preparazione & Formato\\_Confezione & Prediction & Perc\\\\\n",
       " <fct> & <fct> & <fct> & <fct> & <fct> & <dbl> & <dbl>\\\\\n",
       "\\hline\n",
       "\t Gambero  & Gratinato & PrezzemoloBasilico & MenoDi8 & Doppia & 52.89474 & 19.03409\\\\\n",
       "\t Gambero  & Nessuna   & Nessuna            & MenoDi8 & Doppia & 50.57895 & 18.20076\\\\\n",
       "\t Salmone  & Gratinato & PrezzemoloBasilico & 8-15    & Doppia & 45.24561 & 16.28157\\\\\n",
       "\t Salmone  & Panko     & SalviaRosmarino    & MenoDi8 & Doppia & 44.50877 & 16.01641\\\\\n",
       "\t Calamaro & Gratinato & PrezzemoloBasilico & 8-15    & Doppia & 43.49123 & 15.65025\\\\\n",
       "\t Calamaro & Nessuna   & Nessuna            & 8-15    & Doppia & 41.17544 & 14.81692\\\\\n",
       "\\end{tabular}\n"
      ],
      "text/markdown": [
       "\n",
       "A conjoint.predict: 6 × 7\n",
       "\n",
       "| Tipo_di_Pesce &lt;fct&gt; | Panatura &lt;fct&gt; | Spezie &lt;fct&gt; | Tempo_di_Preparazione &lt;fct&gt; | Formato_Confezione &lt;fct&gt; | Prediction &lt;dbl&gt; | Perc &lt;dbl&gt; |\n",
       "|---|---|---|---|---|---|---|\n",
       "| Gambero  | Gratinato | PrezzemoloBasilico | MenoDi8 | Doppia | 52.89474 | 19.03409 |\n",
       "| Gambero  | Nessuna   | Nessuna            | MenoDi8 | Doppia | 50.57895 | 18.20076 |\n",
       "| Salmone  | Gratinato | PrezzemoloBasilico | 8-15    | Doppia | 45.24561 | 16.28157 |\n",
       "| Salmone  | Panko     | SalviaRosmarino    | MenoDi8 | Doppia | 44.50877 | 16.01641 |\n",
       "| Calamaro | Gratinato | PrezzemoloBasilico | 8-15    | Doppia | 43.49123 | 15.65025 |\n",
       "| Calamaro | Nessuna   | Nessuna            | 8-15    | Doppia | 41.17544 | 14.81692 |\n",
       "\n"
      ],
      "text/plain": [
       "  Tipo_di_Pesce Panatura  Spezie             Tempo_di_Preparazione\n",
       "1 Gambero       Gratinato PrezzemoloBasilico MenoDi8              \n",
       "2 Gambero       Nessuna   Nessuna            MenoDi8              \n",
       "3 Salmone       Gratinato PrezzemoloBasilico 8-15                 \n",
       "4 Salmone       Panko     SalviaRosmarino    MenoDi8              \n",
       "5 Calamaro      Gratinato PrezzemoloBasilico 8-15                 \n",
       "6 Calamaro      Nessuna   Nessuna            8-15                 \n",
       "  Formato_Confezione Prediction Perc    \n",
       "1 Doppia             52.89474   19.03409\n",
       "2 Doppia             50.57895   18.20076\n",
       "3 Doppia             45.24561   16.28157\n",
       "4 Doppia             44.50877   16.01641\n",
       "5 Doppia             43.49123   15.65025\n",
       "6 Doppia             41.17544   14.81692"
      ]
     },
     "metadata": {},
     "output_type": "display_data"
    }
   ],
   "source": [
    "predict(conjoint_total, profiles) %>% arrange(desc(Prediction)) %>% mutate(Perc=Prediction/sum(Prediction)*100)"
   ]
  },
  {
   "cell_type": "markdown",
   "id": "e6d3efbf-2f51-4c0a-8816-a9929ddb0968",
   "metadata": {},
   "source": [
    "This table presents the predicted preference scores for the selected product profiles,ranked in descending order. The 'Perc' column represents the estimated market share, calculated as the proportion of total preference. Higher 'Prediction' values indicate stronger consumer preference for that product.\n",
    "\n",
    "The most preferred product is **'Gambero Gratinato with Prezzemolo and Basilico'** with a **19.03%** market share, while products without breading and spices tend to have lower preference scores.\n",
    "These insights help identify the most competitive product combinations for the market."
   ]
  },
  {
   "cell_type": "markdown",
   "id": "e086398f-3ac6-48ce-8f22-f4983022c76c",
   "metadata": {},
   "source": [
    "---\n",
    "\n",
    "#### **3.3.2 Creating a competitive market scenario**"
   ]
  },
  {
   "cell_type": "markdown",
   "id": "cd9ea91e-4e21-4034-b2f6-f9a9714f1c14",
   "metadata": {},
   "source": [
    "Suppose we are evaluating whether to introduce the new product with the highest utility: **'Gambero Gratinato with Prezzemolo and Basilico'** into B2C market.\n",
    "\n",
    "To simulate the competitive landscape, since we can't get real data about competitors, we assume that two competitor products are already present in the market anf we randomly select them.\n",
    "\n",
    "These **competitor products** will be used in the market simulation."
   ]
  },
  {
   "cell_type": "code",
   "execution_count": 51,
   "id": "a607dc03-c9ae-4826-bebc-12bb0489874e",
   "metadata": {
    "ExecuteTime": {
     "end_time": "2025-02-06T11:12:52.907655Z",
     "start_time": "2025-02-06T11:12:52.897957Z"
    }
   },
   "outputs": [
    {
     "data": {
      "text/html": [
       "<style>\n",
       ".list-inline {list-style: none; margin:0; padding: 0}\n",
       ".list-inline>li {display: inline-block}\n",
       ".list-inline>li:not(:last-child)::after {content: \"\\00b7\"; padding: 0 .5ex}\n",
       "</style>\n",
       "<ol class=list-inline><li>194</li><li>90</li></ol>\n"
      ],
      "text/latex": [
       "\\begin{enumerate*}\n",
       "\\item 194\n",
       "\\item 90\n",
       "\\end{enumerate*}\n"
      ],
      "text/markdown": [
       "1. 194\n",
       "2. 90\n",
       "\n",
       "\n"
      ],
      "text/plain": [
       "[1] 194  90"
      ]
     },
     "metadata": {},
     "output_type": "display_data"
    }
   ],
   "source": [
    "set.seed(12)\n",
    "random_num2 <- sample(1:243,2)\n",
    "random_num2"
   ]
  },
  {
   "cell_type": "code",
   "execution_count": 52,
   "id": "77a9957e-9983-43a7-8099-792bdd1b23bc",
   "metadata": {
    "ExecuteTime": {
     "end_time": "2025-02-06T11:12:53.292985Z",
     "start_time": "2025-02-06T11:12:53.279058Z"
    }
   },
   "outputs": [
    {
     "data": {
      "text/html": [
       "<table class=\"dataframe\">\n",
       "<caption>A data.frame: 2 × 5</caption>\n",
       "<thead>\n",
       "\t<tr><th></th><th scope=col>Tipo_di_Pesce</th><th scope=col>Panatura</th><th scope=col>Spezie</th><th scope=col>Tempo_di_Preparazione</th><th scope=col>Formato_Confezione</th></tr>\n",
       "\t<tr><th></th><th scope=col>&lt;fct&gt;</th><th scope=col>&lt;fct&gt;</th><th scope=col>&lt;fct&gt;</th><th scope=col>&lt;fct&gt;</th><th scope=col>&lt;fct&gt;</th></tr>\n",
       "</thead>\n",
       "<tbody>\n",
       "\t<tr><th scope=row>Prod A</th><td>Gambero</td><td>Nessuna</td><td>Nessuna</td><td>MenoDi8</td><td>Mono    </td></tr>\n",
       "\t<tr><th scope=row>Prod B</th><td>Salmone</td><td>Panko  </td><td>Nessuna</td><td>8-15   </td><td>Famiglia</td></tr>\n",
       "</tbody>\n",
       "</table>\n"
      ],
      "text/latex": [
       "A data.frame: 2 × 5\n",
       "\\begin{tabular}{r|lllll}\n",
       "  & Tipo\\_di\\_Pesce & Panatura & Spezie & Tempo\\_di\\_Preparazione & Formato\\_Confezione\\\\\n",
       "  & <fct> & <fct> & <fct> & <fct> & <fct>\\\\\n",
       "\\hline\n",
       "\tProd A & Gambero & Nessuna & Nessuna & MenoDi8 & Mono    \\\\\n",
       "\tProd B & Salmone & Panko   & Nessuna & 8-15    & Famiglia\\\\\n",
       "\\end{tabular}\n"
      ],
      "text/markdown": [
       "\n",
       "A data.frame: 2 × 5\n",
       "\n",
       "| <!--/--> | Tipo_di_Pesce &lt;fct&gt; | Panatura &lt;fct&gt; | Spezie &lt;fct&gt; | Tempo_di_Preparazione &lt;fct&gt; | Formato_Confezione &lt;fct&gt; |\n",
       "|---|---|---|---|---|---|\n",
       "| Prod A | Gambero | Nessuna | Nessuna | MenoDi8 | Mono     |\n",
       "| Prod B | Salmone | Panko   | Nessuna | 8-15    | Famiglia |\n",
       "\n"
      ],
      "text/plain": [
       "       Tipo_di_Pesce Panatura Spezie  Tempo_di_Preparazione Formato_Confezione\n",
       "Prod A Gambero       Nessuna  Nessuna MenoDi8               Mono              \n",
       "Prod B Salmone       Panko    Nessuna 8-15                  Famiglia          "
      ]
     },
     "metadata": {},
     "output_type": "display_data"
    }
   ],
   "source": [
    "competitor_profiles <- profiles.all %>% slice(c(random_num2))\n",
    "rownames(competitor_profiles) <- c(\"Prod A\",\"Prod B\") \n",
    "competitor_profiles"
   ]
  },
  {
   "cell_type": "markdown",
   "id": "0d2a96ed-95f7-402c-a40c-a704c6e83345",
   "metadata": {},
   "source": [
    "This table displays a selection of competitor products currently available on the market, chosen at random from the complete dataset. \n",
    "\n",
    "The second table shows their predicted preference scores and estimated market shares: 'Prod A' holds a slightly higher market share (52.92%) compared to 'Prod B'."
   ]
  },
  {
   "cell_type": "code",
   "execution_count": 53,
   "id": "6d22c2dd-b08a-45de-8d43-ceef31a95d5e",
   "metadata": {
    "ExecuteTime": {
     "end_time": "2025-02-06T11:12:53.633730Z",
     "start_time": "2025-02-06T11:12:53.608258Z"
    }
   },
   "outputs": [
    {
     "data": {
      "text/html": [
       "<table class=\"dataframe\">\n",
       "<caption>A conjoint.predict: 2 × 7</caption>\n",
       "<thead>\n",
       "\t<tr><th></th><th scope=col>Tipo_di_Pesce</th><th scope=col>Panatura</th><th scope=col>Spezie</th><th scope=col>Tempo_di_Preparazione</th><th scope=col>Formato_Confezione</th><th scope=col>Prediction</th><th scope=col>Perc</th></tr>\n",
       "\t<tr><th></th><th scope=col>&lt;fct&gt;</th><th scope=col>&lt;fct&gt;</th><th scope=col>&lt;fct&gt;</th><th scope=col>&lt;fct&gt;</th><th scope=col>&lt;fct&gt;</th><th scope=col>&lt;dbl&gt;</th><th scope=col>&lt;dbl&gt;</th></tr>\n",
       "</thead>\n",
       "<tbody>\n",
       "\t<tr><th scope=row>Prod A</th><td>Gambero</td><td>Nessuna</td><td>Nessuna</td><td>MenoDi8</td><td>Mono    </td><td>45.84211</td><td>52.91616</td></tr>\n",
       "\t<tr><th scope=row>Prod B</th><td>Salmone</td><td>Panko  </td><td>Nessuna</td><td>8-15   </td><td>Famiglia</td><td>40.78947</td><td>47.08384</td></tr>\n",
       "</tbody>\n",
       "</table>\n"
      ],
      "text/latex": [
       "A conjoint.predict: 2 × 7\n",
       "\\begin{tabular}{r|lllllll}\n",
       "  & Tipo\\_di\\_Pesce & Panatura & Spezie & Tempo\\_di\\_Preparazione & Formato\\_Confezione & Prediction & Perc\\\\\n",
       "  & <fct> & <fct> & <fct> & <fct> & <fct> & <dbl> & <dbl>\\\\\n",
       "\\hline\n",
       "\tProd A & Gambero & Nessuna & Nessuna & MenoDi8 & Mono     & 45.84211 & 52.91616\\\\\n",
       "\tProd B & Salmone & Panko   & Nessuna & 8-15    & Famiglia & 40.78947 & 47.08384\\\\\n",
       "\\end{tabular}\n"
      ],
      "text/markdown": [
       "\n",
       "A conjoint.predict: 2 × 7\n",
       "\n",
       "| <!--/--> | Tipo_di_Pesce &lt;fct&gt; | Panatura &lt;fct&gt; | Spezie &lt;fct&gt; | Tempo_di_Preparazione &lt;fct&gt; | Formato_Confezione &lt;fct&gt; | Prediction &lt;dbl&gt; | Perc &lt;dbl&gt; |\n",
       "|---|---|---|---|---|---|---|---|\n",
       "| Prod A | Gambero | Nessuna | Nessuna | MenoDi8 | Mono     | 45.84211 | 52.91616 |\n",
       "| Prod B | Salmone | Panko   | Nessuna | 8-15    | Famiglia | 40.78947 | 47.08384 |\n",
       "\n"
      ],
      "text/plain": [
       "       Tipo_di_Pesce Panatura Spezie  Tempo_di_Preparazione Formato_Confezione\n",
       "Prod A Gambero       Nessuna  Nessuna MenoDi8               Mono              \n",
       "Prod B Salmone       Panko    Nessuna 8-15                  Famiglia          \n",
       "       Prediction Perc    \n",
       "Prod A 45.84211   52.91616\n",
       "Prod B 40.78947   47.08384"
      ]
     },
     "metadata": {},
     "output_type": "display_data"
    }
   ],
   "source": [
    "predict(conjoint_total, competitor_profiles) %>% arrange(desc(Prediction)) %>% mutate(Perc=Prediction/sum(Prediction)*100)"
   ]
  },
  {
   "cell_type": "code",
   "execution_count": 54,
   "id": "53557643-0344-4480-836a-bca0c4282720",
   "metadata": {
    "ExecuteTime": {
     "end_time": "2025-02-06T11:12:53.722836Z",
     "start_time": "2025-02-06T11:12:53.707233Z"
    }
   },
   "outputs": [
    {
     "data": {
      "text/html": [
       "<table class=\"dataframe\">\n",
       "<caption>A data.frame: 1 × 5</caption>\n",
       "<thead>\n",
       "\t<tr><th scope=col>Tipo_di_Pesce</th><th scope=col>Panatura</th><th scope=col>Spezie</th><th scope=col>Tempo_di_Preparazione</th><th scope=col>Formato_Confezione</th></tr>\n",
       "\t<tr><th scope=col>&lt;fct&gt;</th><th scope=col>&lt;fct&gt;</th><th scope=col>&lt;fct&gt;</th><th scope=col>&lt;fct&gt;</th><th scope=col>&lt;fct&gt;</th></tr>\n",
       "</thead>\n",
       "<tbody>\n",
       "\t<tr><td>Gambero</td><td>Gratinato</td><td>PrezzemoloBasilico</td><td>MenoDi8</td><td>Doppia</td></tr>\n",
       "</tbody>\n",
       "</table>\n"
      ],
      "text/latex": [
       "A data.frame: 1 × 5\n",
       "\\begin{tabular}{lllll}\n",
       " Tipo\\_di\\_Pesce & Panatura & Spezie & Tempo\\_di\\_Preparazione & Formato\\_Confezione\\\\\n",
       " <fct> & <fct> & <fct> & <fct> & <fct>\\\\\n",
       "\\hline\n",
       "\t Gambero & Gratinato & PrezzemoloBasilico & MenoDi8 & Doppia\\\\\n",
       "\\end{tabular}\n"
      ],
      "text/markdown": [
       "\n",
       "A data.frame: 1 × 5\n",
       "\n",
       "| Tipo_di_Pesce &lt;fct&gt; | Panatura &lt;fct&gt; | Spezie &lt;fct&gt; | Tempo_di_Preparazione &lt;fct&gt; | Formato_Confezione &lt;fct&gt; |\n",
       "|---|---|---|---|---|\n",
       "| Gambero | Gratinato | PrezzemoloBasilico | MenoDi8 | Doppia |\n",
       "\n"
      ],
      "text/plain": [
       "  Tipo_di_Pesce Panatura  Spezie             Tempo_di_Preparazione\n",
       "1 Gambero       Gratinato PrezzemoloBasilico MenoDi8              \n",
       "  Formato_Confezione\n",
       "1 Doppia            "
      ]
     },
     "metadata": {},
     "output_type": "display_data"
    }
   ],
   "source": [
    "profiles.all %>% slice(c(38))"
   ]
  },
  {
   "cell_type": "markdown",
   "id": "21a1bb93-649e-48e8-96f7-ab71ef45d3be",
   "metadata": {},
   "source": [
    "In this market scenario, 'Prod MarePiù' represents the new product to be launched."
   ]
  },
  {
   "cell_type": "code",
   "execution_count": 55,
   "id": "0cd00a8e-d570-4a77-bae3-47eaa0894a83",
   "metadata": {
    "ExecuteTime": {
     "end_time": "2025-02-06T11:12:53.999135Z",
     "start_time": "2025-02-06T11:12:53.944271Z"
    }
   },
   "outputs": [
    {
     "data": {
      "text/html": [
       "<table class=\"dataframe\">\n",
       "<caption>A data.frame: 3 × 5</caption>\n",
       "<thead>\n",
       "\t<tr><th></th><th scope=col>Tipo_di_Pesce</th><th scope=col>Panatura</th><th scope=col>Spezie</th><th scope=col>Tempo_di_Preparazione</th><th scope=col>Formato_Confezione</th></tr>\n",
       "\t<tr><th></th><th scope=col>&lt;fct&gt;</th><th scope=col>&lt;fct&gt;</th><th scope=col>&lt;fct&gt;</th><th scope=col>&lt;fct&gt;</th><th scope=col>&lt;fct&gt;</th></tr>\n",
       "</thead>\n",
       "<tbody>\n",
       "\t<tr><th scope=row>Prod A</th><td>Gambero</td><td>Nessuna  </td><td>Nessuna           </td><td>MenoDi8</td><td>Mono    </td></tr>\n",
       "\t<tr><th scope=row>Prod B</th><td>Salmone</td><td>Panko    </td><td>Nessuna           </td><td>8-15   </td><td>Famiglia</td></tr>\n",
       "\t<tr><th scope=row>Prod MarePiù</th><td>Gambero</td><td>Gratinato</td><td>PrezzemoloBasilico</td><td>MenoDi8</td><td>Doppia  </td></tr>\n",
       "</tbody>\n",
       "</table>\n"
      ],
      "text/latex": [
       "A data.frame: 3 × 5\n",
       "\\begin{tabular}{r|lllll}\n",
       "  & Tipo\\_di\\_Pesce & Panatura & Spezie & Tempo\\_di\\_Preparazione & Formato\\_Confezione\\\\\n",
       "  & <fct> & <fct> & <fct> & <fct> & <fct>\\\\\n",
       "\\hline\n",
       "\tProd A & Gambero & Nessuna   & Nessuna            & MenoDi8 & Mono    \\\\\n",
       "\tProd B & Salmone & Panko     & Nessuna            & 8-15    & Famiglia\\\\\n",
       "\tProd MarePiù & Gambero & Gratinato & PrezzemoloBasilico & MenoDi8 & Doppia  \\\\\n",
       "\\end{tabular}\n"
      ],
      "text/markdown": [
       "\n",
       "A data.frame: 3 × 5\n",
       "\n",
       "| <!--/--> | Tipo_di_Pesce &lt;fct&gt; | Panatura &lt;fct&gt; | Spezie &lt;fct&gt; | Tempo_di_Preparazione &lt;fct&gt; | Formato_Confezione &lt;fct&gt; |\n",
       "|---|---|---|---|---|---|\n",
       "| Prod A | Gambero | Nessuna   | Nessuna            | MenoDi8 | Mono     |\n",
       "| Prod B | Salmone | Panko     | Nessuna            | 8-15    | Famiglia |\n",
       "| Prod MarePiù | Gambero | Gratinato | PrezzemoloBasilico | MenoDi8 | Doppia   |\n",
       "\n"
      ],
      "text/plain": [
       "             Tipo_di_Pesce Panatura  Spezie             Tempo_di_Preparazione\n",
       "Prod A       Gambero       Nessuna   Nessuna            MenoDi8              \n",
       "Prod B       Salmone       Panko     Nessuna            8-15                 \n",
       "Prod MarePiù Gambero       Gratinato PrezzemoloBasilico MenoDi8              \n",
       "             Formato_Confezione\n",
       "Prod A       Mono              \n",
       "Prod B       Famiglia          \n",
       "Prod MarePiù Doppia            "
      ]
     },
     "metadata": {},
     "output_type": "display_data"
    }
   ],
   "source": [
    "market_sim <- profiles.all %>% slice(c(random_num2, 38))\n",
    "rownames(market_sim) <- c(\"Prod A\",\"Prod B\",\"Prod MarePiù\") \n",
    "\n",
    "market_sim"
   ]
  },
  {
   "cell_type": "code",
   "execution_count": 56,
   "id": "9fcd707b-b3d9-4deb-9db8-1616716c6ea2",
   "metadata": {
    "ExecuteTime": {
     "end_time": "2025-02-06T11:12:54.307624Z",
     "start_time": "2025-02-06T11:12:54.284725Z"
    }
   },
   "outputs": [
    {
     "data": {
      "text/html": [
       "<table class=\"dataframe\">\n",
       "<caption>A conjoint.predict: 3 × 7</caption>\n",
       "<thead>\n",
       "\t<tr><th></th><th scope=col>Tipo_di_Pesce</th><th scope=col>Panatura</th><th scope=col>Spezie</th><th scope=col>Tempo_di_Preparazione</th><th scope=col>Formato_Confezione</th><th scope=col>Prediction</th><th scope=col>Perc</th></tr>\n",
       "\t<tr><th></th><th scope=col>&lt;fct&gt;</th><th scope=col>&lt;fct&gt;</th><th scope=col>&lt;fct&gt;</th><th scope=col>&lt;fct&gt;</th><th scope=col>&lt;fct&gt;</th><th scope=col>&lt;dbl&gt;</th><th scope=col>&lt;dbl&gt;</th></tr>\n",
       "</thead>\n",
       "<tbody>\n",
       "\t<tr><th scope=row>Prod MarePiù</th><td>Gambero</td><td>Gratinato</td><td>PrezzemoloBasilico</td><td>MenoDi8</td><td>Doppia  </td><td>52.89474</td><td>37.91022</td></tr>\n",
       "\t<tr><th scope=row>Prod A</th><td>Gambero</td><td>Nessuna  </td><td>Nessuna           </td><td>MenoDi8</td><td>Mono    </td><td>45.84211</td><td>32.85553</td></tr>\n",
       "\t<tr><th scope=row>Prod B</th><td>Salmone</td><td>Panko    </td><td>Nessuna           </td><td>8-15   </td><td>Famiglia</td><td>40.78947</td><td>29.23425</td></tr>\n",
       "</tbody>\n",
       "</table>\n"
      ],
      "text/latex": [
       "A conjoint.predict: 3 × 7\n",
       "\\begin{tabular}{r|lllllll}\n",
       "  & Tipo\\_di\\_Pesce & Panatura & Spezie & Tempo\\_di\\_Preparazione & Formato\\_Confezione & Prediction & Perc\\\\\n",
       "  & <fct> & <fct> & <fct> & <fct> & <fct> & <dbl> & <dbl>\\\\\n",
       "\\hline\n",
       "\tProd MarePiù & Gambero & Gratinato & PrezzemoloBasilico & MenoDi8 & Doppia   & 52.89474 & 37.91022\\\\\n",
       "\tProd A & Gambero & Nessuna   & Nessuna            & MenoDi8 & Mono     & 45.84211 & 32.85553\\\\\n",
       "\tProd B & Salmone & Panko     & Nessuna            & 8-15    & Famiglia & 40.78947 & 29.23425\\\\\n",
       "\\end{tabular}\n"
      ],
      "text/markdown": [
       "\n",
       "A conjoint.predict: 3 × 7\n",
       "\n",
       "| <!--/--> | Tipo_di_Pesce &lt;fct&gt; | Panatura &lt;fct&gt; | Spezie &lt;fct&gt; | Tempo_di_Preparazione &lt;fct&gt; | Formato_Confezione &lt;fct&gt; | Prediction &lt;dbl&gt; | Perc &lt;dbl&gt; |\n",
       "|---|---|---|---|---|---|---|---|\n",
       "| Prod MarePiù | Gambero | Gratinato | PrezzemoloBasilico | MenoDi8 | Doppia   | 52.89474 | 37.91022 |\n",
       "| Prod A | Gambero | Nessuna   | Nessuna            | MenoDi8 | Mono     | 45.84211 | 32.85553 |\n",
       "| Prod B | Salmone | Panko     | Nessuna            | 8-15    | Famiglia | 40.78947 | 29.23425 |\n",
       "\n"
      ],
      "text/plain": [
       "             Tipo_di_Pesce Panatura  Spezie             Tempo_di_Preparazione\n",
       "Prod MarePiù Gambero       Gratinato PrezzemoloBasilico MenoDi8              \n",
       "Prod A       Gambero       Nessuna   Nessuna            MenoDi8              \n",
       "Prod B       Salmone       Panko     Nessuna            8-15                 \n",
       "             Formato_Confezione Prediction Perc    \n",
       "Prod MarePiù Doppia             52.89474   37.91022\n",
       "Prod A       Mono               45.84211   32.85553\n",
       "Prod B       Famiglia           40.78947   29.23425"
      ]
     },
     "metadata": {},
     "output_type": "display_data"
    }
   ],
   "source": [
    "competitor <- predict(conjoint_total, market_sim) %>% arrange(desc(Prediction)) %>% mutate(Perc=Prediction/sum(Prediction)*100)\n",
    " \n",
    "competitor"
   ]
  },
  {
   "cell_type": "markdown",
   "id": "f56b32c8-8cca-4aab-a71d-c6ab40320a0e",
   "metadata": {},
   "source": [
    "This table presents the estimated market share for the new product ('Prod MarePiù') compared to existing competitors.\n",
    "\n",
    "  - *'Prod MarePiù'* (Gambero Gratinato with Prezzemolo and Basilico) achieves the **highest market share** (37.91%), confirming its strong attractiveness to consumers.  \n",
    " \n",
    "This result suggest that introducing 'Prod MarePiù' could be a strategically  advantageous decision, offering a more attractive option than existing competitors."
   ]
  },
  {
   "cell_type": "markdown",
   "id": "8f3b8cbd-6646-4555-b2e5-e6285d75a8a4",
   "metadata": {},
   "source": [
    "---\n",
    "\n",
    "#### **3.3.3 Market shares using the first-choice rule**"
   ]
  },
  {
   "cell_type": "markdown",
   "id": "08938556-e4c1-4611-bd3c-19fef7f1bea8",
   "metadata": {},
   "source": [
    "Before proceeding with the conjoint analysis using the first-choice rule, we need to prepare the data in order to be able to performe this analysis. To do this, we group the data by respondent and calculates essential statistics such as the number of observations and the standard deviation of the ratings to assess response variability. "
   ]
  },
  {
   "cell_type": "code",
   "execution_count": 57,
   "id": "157477bd06eef06c",
   "metadata": {
    "ExecuteTime": {
     "end_time": "2025-02-06T11:12:54.614099Z",
     "start_time": "2025-02-06T11:12:54.571383Z"
    }
   },
   "outputs": [
    {
     "data": {
      "text/html": [
       "<table class=\"dataframe\">\n",
       "<caption>A tibble: 8 × 8</caption>\n",
       "<thead>\n",
       "\t<tr><th scope=col>id_respondent</th><th scope=col>n_osservazioni</th><th scope=col>sd_rating</th><th scope=col>n_panatura</th><th scope=col>n_tipo_di_pesce</th><th scope=col>n_tempo_di_preparazione</th><th scope=col>n_formato_confezione</th><th scope=col>n_spezie</th></tr>\n",
       "\t<tr><th scope=col>&lt;int&gt;</th><th scope=col>&lt;int&gt;</th><th scope=col>&lt;dbl&gt;</th><th scope=col>&lt;int&gt;</th><th scope=col>&lt;int&gt;</th><th scope=col>&lt;int&gt;</th><th scope=col>&lt;int&gt;</th><th scope=col>&lt;int&gt;</th></tr>\n",
       "</thead>\n",
       "<tbody>\n",
       "\t<tr><td> 6</td><td>18</td><td>0</td><td>3</td><td>3</td><td>3</td><td>3</td><td>3</td></tr>\n",
       "\t<tr><td>16</td><td>18</td><td>0</td><td>3</td><td>3</td><td>3</td><td>3</td><td>3</td></tr>\n",
       "\t<tr><td>41</td><td>18</td><td>0</td><td>3</td><td>3</td><td>3</td><td>3</td><td>3</td></tr>\n",
       "\t<tr><td>42</td><td>18</td><td>0</td><td>3</td><td>3</td><td>3</td><td>3</td><td>3</td></tr>\n",
       "\t<tr><td>54</td><td>18</td><td>0</td><td>3</td><td>3</td><td>3</td><td>3</td><td>3</td></tr>\n",
       "\t<tr><td>62</td><td>18</td><td>0</td><td>3</td><td>3</td><td>3</td><td>3</td><td>3</td></tr>\n",
       "\t<tr><td>79</td><td>18</td><td>0</td><td>3</td><td>3</td><td>3</td><td>3</td><td>3</td></tr>\n",
       "\t<tr><td>90</td><td>18</td><td>0</td><td>3</td><td>3</td><td>3</td><td>3</td><td>3</td></tr>\n",
       "</tbody>\n",
       "</table>\n"
      ],
      "text/latex": [
       "A tibble: 8 × 8\n",
       "\\begin{tabular}{llllllll}\n",
       " id\\_respondent & n\\_osservazioni & sd\\_rating & n\\_panatura & n\\_tipo\\_di\\_pesce & n\\_tempo\\_di\\_preparazione & n\\_formato\\_confezione & n\\_spezie\\\\\n",
       " <int> & <int> & <dbl> & <int> & <int> & <int> & <int> & <int>\\\\\n",
       "\\hline\n",
       "\t  6 & 18 & 0 & 3 & 3 & 3 & 3 & 3\\\\\n",
       "\t 16 & 18 & 0 & 3 & 3 & 3 & 3 & 3\\\\\n",
       "\t 41 & 18 & 0 & 3 & 3 & 3 & 3 & 3\\\\\n",
       "\t 42 & 18 & 0 & 3 & 3 & 3 & 3 & 3\\\\\n",
       "\t 54 & 18 & 0 & 3 & 3 & 3 & 3 & 3\\\\\n",
       "\t 62 & 18 & 0 & 3 & 3 & 3 & 3 & 3\\\\\n",
       "\t 79 & 18 & 0 & 3 & 3 & 3 & 3 & 3\\\\\n",
       "\t 90 & 18 & 0 & 3 & 3 & 3 & 3 & 3\\\\\n",
       "\\end{tabular}\n"
      ],
      "text/markdown": [
       "\n",
       "A tibble: 8 × 8\n",
       "\n",
       "| id_respondent &lt;int&gt; | n_osservazioni &lt;int&gt; | sd_rating &lt;dbl&gt; | n_panatura &lt;int&gt; | n_tipo_di_pesce &lt;int&gt; | n_tempo_di_preparazione &lt;int&gt; | n_formato_confezione &lt;int&gt; | n_spezie &lt;int&gt; |\n",
       "|---|---|---|---|---|---|---|---|\n",
       "|  6 | 18 | 0 | 3 | 3 | 3 | 3 | 3 |\n",
       "| 16 | 18 | 0 | 3 | 3 | 3 | 3 | 3 |\n",
       "| 41 | 18 | 0 | 3 | 3 | 3 | 3 | 3 |\n",
       "| 42 | 18 | 0 | 3 | 3 | 3 | 3 | 3 |\n",
       "| 54 | 18 | 0 | 3 | 3 | 3 | 3 | 3 |\n",
       "| 62 | 18 | 0 | 3 | 3 | 3 | 3 | 3 |\n",
       "| 79 | 18 | 0 | 3 | 3 | 3 | 3 | 3 |\n",
       "| 90 | 18 | 0 | 3 | 3 | 3 | 3 | 3 |\n",
       "\n"
      ],
      "text/plain": [
       "  id_respondent n_osservazioni sd_rating n_panatura n_tipo_di_pesce\n",
       "1  6            18             0         3          3              \n",
       "2 16            18             0         3          3              \n",
       "3 41            18             0         3          3              \n",
       "4 42            18             0         3          3              \n",
       "5 54            18             0         3          3              \n",
       "6 62            18             0         3          3              \n",
       "7 79            18             0         3          3              \n",
       "8 90            18             0         3          3              \n",
       "  n_tempo_di_preparazione n_formato_confezione n_spezie\n",
       "1 3                       3                    3       \n",
       "2 3                       3                    3       \n",
       "3 3                       3                    3       \n",
       "4 3                       3                    3       \n",
       "5 3                       3                    3       \n",
       "6 3                       3                    3       \n",
       "7 3                       3                    3       \n",
       "8 3                       3                    3       "
      ]
     },
     "metadata": {},
     "output_type": "display_data"
    }
   ],
   "source": [
    "check_respondents <- conjoint_data %>%\n",
    "  group_by(id_respondent) %>%\n",
    "  summarise(\n",
    "    n_osservazioni             = n(),                                   \n",
    "    sd_rating                  = sd(Rating, na.rm = TRUE),              \n",
    "    n_panatura                 = n_distinct(Panatura),                  \n",
    "    n_tipo_di_pesce            = n_distinct(Tipo_di_Pesce),             \n",
    "    n_tempo_di_preparazione    = n_distinct(Tempo_di_Preparazione),     \n",
    "    n_formato_confezione       = n_distinct(Formato_Confezione),        \n",
    "    n_spezie                   = n_distinct(Spezie)                     \n",
    "  )\n",
    "\n",
    "wrong <- check_respondents %>%\n",
    "  filter(\n",
    "    sd_rating == 0 |\n",
    "    n_panatura == 1 |\n",
    "    n_tipo_di_pesce == 1 |\n",
    "    n_tempo_di_preparazione == 1 |\n",
    "    n_formato_confezione == 1 |\n",
    "    n_spezie == 1\n",
    "  )\n",
    "\n",
    "wrong"
   ]
  },
  {
   "cell_type": "markdown",
   "id": "982840f63de7cd44",
   "metadata": {},
   "source": [
    "Since we identified problematic respondents showing a lack of variability in product attributes, we excluded those whose ratings or attributes are invariant. This filtering is crucial to ensure the reliability of the conjoint analysis results."
   ]
  },
  {
   "cell_type": "code",
   "execution_count": 58,
   "id": "bff16fe6-454b-402c-9139-18971ca9d3c9",
   "metadata": {
    "ExecuteTime": {
     "end_time": "2025-02-06T11:12:54.810324Z",
     "start_time": "2025-02-06T11:12:54.790755Z"
    }
   },
   "outputs": [],
   "source": [
    "valid_respondents <- check_respondents %>%\n",
    "  filter(\n",
    "    sd_rating > 0,\n",
    "    n_panatura > 1,\n",
    "    n_tipo_di_pesce > 1,\n",
    "    n_tempo_di_preparazione > 1,\n",
    "    n_formato_confezione > 1,\n",
    "    n_spezie > 1\n",
    "  ) %>%\n",
    "  pull(id_respondent)\n",
    "\n",
    "conjoint_data_valid <- conjoint_data %>%\n",
    "  filter(id_respondent %in% valid_respondents)"
   ]
  },
  {
   "cell_type": "markdown",
   "id": "b32afe7330bcecd6",
   "metadata": {},
   "source": [
    "We then performed a conjoint analysis by respondent on the validated dataset to analyze individual preferences."
   ]
  },
  {
   "cell_type": "code",
   "execution_count": 59,
   "id": "9a48fe24-6a02-4973-b58a-4ce98579a282",
   "metadata": {
    "ExecuteTime": {
     "end_time": "2025-02-06T11:12:56.777595Z",
     "start_time": "2025-02-06T11:12:55.126389Z"
    }
   },
   "outputs": [],
   "source": [
    "conjoint_byrespondent <- conjoint(conjoint_data_valid,\n",
    "                                   rvar = \"Rating\",\n",
    "                                   evar = c(\"Tipo_di_Pesce\",'Panatura', 'Spezie', 'Tempo_di_Preparazione','Formato_Confezione'),\n",
    "                                   by = \"id_respondent\")"
   ]
  },
  {
   "cell_type": "code",
   "execution_count": 60,
   "id": "2cd17a83-7a45-418e-b38c-254fec1aa0c3",
   "metadata": {
    "ExecuteTime": {
     "end_time": "2025-02-06T11:12:57.157074Z",
     "start_time": "2025-02-06T11:12:56.783402Z"
    }
   },
   "outputs": [],
   "source": [
    "predicted <- predict(conjoint_byrespondent, market_sim) %>% arrange(desc(Prediction))"
   ]
  },
  {
   "cell_type": "code",
   "execution_count": 61,
   "id": "9ca03242-c1ff-42ee-8e1a-2ffcd32e1ed2",
   "metadata": {
    "ExecuteTime": {
     "end_time": "2025-02-06T11:12:57.215986Z",
     "start_time": "2025-02-06T11:12:57.193037Z"
    }
   },
   "outputs": [
    {
     "data": {
      "text/html": [
       "<table class=\"dataframe\">\n",
       "<caption>A conjoint.predict: 6 × 7</caption>\n",
       "<thead>\n",
       "\t<tr><th></th><th scope=col>id_respondent</th><th scope=col>Tipo_di_Pesce</th><th scope=col>Panatura</th><th scope=col>Spezie</th><th scope=col>Tempo_di_Preparazione</th><th scope=col>Formato_Confezione</th><th scope=col>Prediction</th></tr>\n",
       "\t<tr><th></th><th scope=col>&lt;chr&gt;</th><th scope=col>&lt;fct&gt;</th><th scope=col>&lt;fct&gt;</th><th scope=col>&lt;fct&gt;</th><th scope=col>&lt;fct&gt;</th><th scope=col>&lt;fct&gt;</th><th scope=col>&lt;dbl&gt;</th></tr>\n",
       "</thead>\n",
       "<tbody>\n",
       "\t<tr><th scope=row>1</th><td>1 </td><td>Gambero</td><td>Gratinato</td><td>PrezzemoloBasilico</td><td>MenoDi8</td><td>Doppia  </td><td>81.11</td></tr>\n",
       "\t<tr><th scope=row>2</th><td>1 </td><td>Salmone</td><td>Panko    </td><td>Nessuna           </td><td>8-15   </td><td>Famiglia</td><td>54.44</td></tr>\n",
       "\t<tr><th scope=row>3</th><td>1 </td><td>Gambero</td><td>Nessuna  </td><td>Nessuna           </td><td>MenoDi8</td><td>Mono    </td><td>31.11</td></tr>\n",
       "\t<tr><th scope=row>4</th><td>10</td><td>Salmone</td><td>Panko    </td><td>Nessuna           </td><td>8-15   </td><td>Famiglia</td><td>90.56</td></tr>\n",
       "\t<tr><th scope=row>5</th><td>10</td><td>Gambero</td><td>Gratinato</td><td>PrezzemoloBasilico</td><td>MenoDi8</td><td>Doppia  </td><td>82.22</td></tr>\n",
       "\t<tr><th scope=row>6</th><td>10</td><td>Gambero</td><td>Nessuna  </td><td>Nessuna           </td><td>MenoDi8</td><td>Mono    </td><td>30.56</td></tr>\n",
       "</tbody>\n",
       "</table>\n"
      ],
      "text/latex": [
       "A conjoint.predict: 6 × 7\n",
       "\\begin{tabular}{r|lllllll}\n",
       "  & id\\_respondent & Tipo\\_di\\_Pesce & Panatura & Spezie & Tempo\\_di\\_Preparazione & Formato\\_Confezione & Prediction\\\\\n",
       "  & <chr> & <fct> & <fct> & <fct> & <fct> & <fct> & <dbl>\\\\\n",
       "\\hline\n",
       "\t1 & 1  & Gambero & Gratinato & PrezzemoloBasilico & MenoDi8 & Doppia   & 81.11\\\\\n",
       "\t2 & 1  & Salmone & Panko     & Nessuna            & 8-15    & Famiglia & 54.44\\\\\n",
       "\t3 & 1  & Gambero & Nessuna   & Nessuna            & MenoDi8 & Mono     & 31.11\\\\\n",
       "\t4 & 10 & Salmone & Panko     & Nessuna            & 8-15    & Famiglia & 90.56\\\\\n",
       "\t5 & 10 & Gambero & Gratinato & PrezzemoloBasilico & MenoDi8 & Doppia   & 82.22\\\\\n",
       "\t6 & 10 & Gambero & Nessuna   & Nessuna            & MenoDi8 & Mono     & 30.56\\\\\n",
       "\\end{tabular}\n"
      ],
      "text/markdown": [
       "\n",
       "A conjoint.predict: 6 × 7\n",
       "\n",
       "| <!--/--> | id_respondent &lt;chr&gt; | Tipo_di_Pesce &lt;fct&gt; | Panatura &lt;fct&gt; | Spezie &lt;fct&gt; | Tempo_di_Preparazione &lt;fct&gt; | Formato_Confezione &lt;fct&gt; | Prediction &lt;dbl&gt; |\n",
       "|---|---|---|---|---|---|---|---|\n",
       "| 1 | 1  | Gambero | Gratinato | PrezzemoloBasilico | MenoDi8 | Doppia   | 81.11 |\n",
       "| 2 | 1  | Salmone | Panko     | Nessuna            | 8-15    | Famiglia | 54.44 |\n",
       "| 3 | 1  | Gambero | Nessuna   | Nessuna            | MenoDi8 | Mono     | 31.11 |\n",
       "| 4 | 10 | Salmone | Panko     | Nessuna            | 8-15    | Famiglia | 90.56 |\n",
       "| 5 | 10 | Gambero | Gratinato | PrezzemoloBasilico | MenoDi8 | Doppia   | 82.22 |\n",
       "| 6 | 10 | Gambero | Nessuna   | Nessuna            | MenoDi8 | Mono     | 30.56 |\n",
       "\n"
      ],
      "text/plain": [
       "  id_respondent Tipo_di_Pesce Panatura  Spezie            \n",
       "1 1             Gambero       Gratinato PrezzemoloBasilico\n",
       "2 1             Salmone       Panko     Nessuna           \n",
       "3 1             Gambero       Nessuna   Nessuna           \n",
       "4 10            Salmone       Panko     Nessuna           \n",
       "5 10            Gambero       Gratinato PrezzemoloBasilico\n",
       "6 10            Gambero       Nessuna   Nessuna           \n",
       "  Tempo_di_Preparazione Formato_Confezione Prediction\n",
       "1 MenoDi8               Doppia             81.11     \n",
       "2 8-15                  Famiglia           54.44     \n",
       "3 MenoDi8               Mono               31.11     \n",
       "4 8-15                  Famiglia           90.56     \n",
       "5 MenoDi8               Doppia             82.22     \n",
       "6 MenoDi8               Mono               30.56     "
      ]
     },
     "metadata": {},
     "output_type": "display_data"
    }
   ],
   "source": [
    "predicted <- predicted %>% mutate(Prediction = round(Prediction, 2)) %>% arrange(id_respondent, desc(Prediction))  \n",
    "head(predicted)"
   ]
  },
  {
   "cell_type": "code",
   "execution_count": 62,
   "id": "a59f4b62-b26f-4ffb-b494-8e6365ae8615",
   "metadata": {
    "ExecuteTime": {
     "end_time": "2025-02-06T11:12:57.258387Z",
     "start_time": "2025-02-06T11:12:57.229374Z"
    }
   },
   "outputs": [
    {
     "data": {
      "text/html": [
       "<table class=\"dataframe\">\n",
       "<caption>A grouped_df: 6 × 8</caption>\n",
       "<thead>\n",
       "\t<tr><th scope=col>id_respondent</th><th scope=col>Tipo_di_Pesce</th><th scope=col>Panatura</th><th scope=col>Spezie</th><th scope=col>Tempo_di_Preparazione</th><th scope=col>Formato_Confezione</th><th scope=col>Prediction</th><th scope=col>Ranking</th></tr>\n",
       "\t<tr><th scope=col>&lt;chr&gt;</th><th scope=col>&lt;fct&gt;</th><th scope=col>&lt;fct&gt;</th><th scope=col>&lt;fct&gt;</th><th scope=col>&lt;fct&gt;</th><th scope=col>&lt;fct&gt;</th><th scope=col>&lt;dbl&gt;</th><th scope=col>&lt;int&gt;</th></tr>\n",
       "</thead>\n",
       "<tbody>\n",
       "\t<tr><td>1 </td><td>Gambero</td><td>Nessuna  </td><td>Nessuna           </td><td>MenoDi8</td><td>Mono    </td><td>31.11</td><td>1</td></tr>\n",
       "\t<tr><td>1 </td><td>Salmone</td><td>Panko    </td><td>Nessuna           </td><td>8-15   </td><td>Famiglia</td><td>54.44</td><td>2</td></tr>\n",
       "\t<tr><td>1 </td><td>Gambero</td><td>Gratinato</td><td>PrezzemoloBasilico</td><td>MenoDi8</td><td>Doppia  </td><td>81.11</td><td>3</td></tr>\n",
       "\t<tr><td>10</td><td>Gambero</td><td>Nessuna  </td><td>Nessuna           </td><td>MenoDi8</td><td>Mono    </td><td>30.56</td><td>1</td></tr>\n",
       "\t<tr><td>10</td><td>Gambero</td><td>Gratinato</td><td>PrezzemoloBasilico</td><td>MenoDi8</td><td>Doppia  </td><td>82.22</td><td>2</td></tr>\n",
       "\t<tr><td>10</td><td>Salmone</td><td>Panko    </td><td>Nessuna           </td><td>8-15   </td><td>Famiglia</td><td>90.56</td><td>3</td></tr>\n",
       "</tbody>\n",
       "</table>\n"
      ],
      "text/latex": [
       "A grouped\\_df: 6 × 8\n",
       "\\begin{tabular}{llllllll}\n",
       " id\\_respondent & Tipo\\_di\\_Pesce & Panatura & Spezie & Tempo\\_di\\_Preparazione & Formato\\_Confezione & Prediction & Ranking\\\\\n",
       " <chr> & <fct> & <fct> & <fct> & <fct> & <fct> & <dbl> & <int>\\\\\n",
       "\\hline\n",
       "\t 1  & Gambero & Nessuna   & Nessuna            & MenoDi8 & Mono     & 31.11 & 1\\\\\n",
       "\t 1  & Salmone & Panko     & Nessuna            & 8-15    & Famiglia & 54.44 & 2\\\\\n",
       "\t 1  & Gambero & Gratinato & PrezzemoloBasilico & MenoDi8 & Doppia   & 81.11 & 3\\\\\n",
       "\t 10 & Gambero & Nessuna   & Nessuna            & MenoDi8 & Mono     & 30.56 & 1\\\\\n",
       "\t 10 & Gambero & Gratinato & PrezzemoloBasilico & MenoDi8 & Doppia   & 82.22 & 2\\\\\n",
       "\t 10 & Salmone & Panko     & Nessuna            & 8-15    & Famiglia & 90.56 & 3\\\\\n",
       "\\end{tabular}\n"
      ],
      "text/markdown": [
       "\n",
       "A grouped_df: 6 × 8\n",
       "\n",
       "| id_respondent &lt;chr&gt; | Tipo_di_Pesce &lt;fct&gt; | Panatura &lt;fct&gt; | Spezie &lt;fct&gt; | Tempo_di_Preparazione &lt;fct&gt; | Formato_Confezione &lt;fct&gt; | Prediction &lt;dbl&gt; | Ranking &lt;int&gt; |\n",
       "|---|---|---|---|---|---|---|---|\n",
       "| 1  | Gambero | Nessuna   | Nessuna            | MenoDi8 | Mono     | 31.11 | 1 |\n",
       "| 1  | Salmone | Panko     | Nessuna            | 8-15    | Famiglia | 54.44 | 2 |\n",
       "| 1  | Gambero | Gratinato | PrezzemoloBasilico | MenoDi8 | Doppia   | 81.11 | 3 |\n",
       "| 10 | Gambero | Nessuna   | Nessuna            | MenoDi8 | Mono     | 30.56 | 1 |\n",
       "| 10 | Gambero | Gratinato | PrezzemoloBasilico | MenoDi8 | Doppia   | 82.22 | 2 |\n",
       "| 10 | Salmone | Panko     | Nessuna            | 8-15    | Famiglia | 90.56 | 3 |\n",
       "\n"
      ],
      "text/plain": [
       "  id_respondent Tipo_di_Pesce Panatura  Spezie            \n",
       "1 1             Gambero       Nessuna   Nessuna           \n",
       "2 1             Salmone       Panko     Nessuna           \n",
       "3 1             Gambero       Gratinato PrezzemoloBasilico\n",
       "4 10            Gambero       Nessuna   Nessuna           \n",
       "5 10            Gambero       Gratinato PrezzemoloBasilico\n",
       "6 10            Salmone       Panko     Nessuna           \n",
       "  Tempo_di_Preparazione Formato_Confezione Prediction Ranking\n",
       "1 MenoDi8               Mono               31.11      1      \n",
       "2 8-15                  Famiglia           54.44      2      \n",
       "3 MenoDi8               Doppia             81.11      3      \n",
       "4 MenoDi8               Mono               30.56      1      \n",
       "5 MenoDi8               Doppia             82.22      2      \n",
       "6 8-15                  Famiglia           90.56      3      "
      ]
     },
     "metadata": {},
     "output_type": "display_data"
    }
   ],
   "source": [
    "highest_rated <- predicted %>% group_by(id_respondent) %>% \n",
    "  mutate(Ranking = rank(Prediction, ties.method = \"first\"))  \n",
    "highest_rated <- highest_rated %>% arrange(id_respondent, Ranking)\n",
    "head(highest_rated)"
   ]
  },
  {
   "cell_type": "code",
   "execution_count": 63,
   "id": "8bffbf8e-4f82-439b-b691-589f7686d712",
   "metadata": {
    "ExecuteTime": {
     "end_time": "2025-02-06T11:12:57.393703Z",
     "start_time": "2025-02-06T11:12:57.369050Z"
    }
   },
   "outputs": [
    {
     "data": {
      "text/html": [
       "<table class=\"dataframe\">\n",
       "<caption>A grouped_df: 6 × 8</caption>\n",
       "<thead>\n",
       "\t<tr><th scope=col>id_respondent</th><th scope=col>Tipo_di_Pesce</th><th scope=col>Panatura</th><th scope=col>Spezie</th><th scope=col>Tempo_di_Preparazione</th><th scope=col>Formato_Confezione</th><th scope=col>Prediction</th><th scope=col>Ranking</th></tr>\n",
       "\t<tr><th scope=col>&lt;chr&gt;</th><th scope=col>&lt;fct&gt;</th><th scope=col>&lt;fct&gt;</th><th scope=col>&lt;fct&gt;</th><th scope=col>&lt;fct&gt;</th><th scope=col>&lt;fct&gt;</th><th scope=col>&lt;dbl&gt;</th><th scope=col>&lt;int&gt;</th></tr>\n",
       "</thead>\n",
       "<tbody>\n",
       "\t<tr><td>1 </td><td>Gambero</td><td>Gratinato</td><td>PrezzemoloBasilico</td><td>MenoDi8</td><td>Doppia  </td><td>81.11</td><td>3</td></tr>\n",
       "\t<tr><td>10</td><td>Salmone</td><td>Panko    </td><td>Nessuna           </td><td>8-15   </td><td>Famiglia</td><td>90.56</td><td>3</td></tr>\n",
       "\t<tr><td>11</td><td>Gambero</td><td>Gratinato</td><td>PrezzemoloBasilico</td><td>MenoDi8</td><td>Doppia  </td><td>58.33</td><td>3</td></tr>\n",
       "\t<tr><td>12</td><td>Salmone</td><td>Panko    </td><td>Nessuna           </td><td>8-15   </td><td>Famiglia</td><td>52.22</td><td>3</td></tr>\n",
       "\t<tr><td>13</td><td>Gambero</td><td>Gratinato</td><td>PrezzemoloBasilico</td><td>MenoDi8</td><td>Doppia  </td><td>70.00</td><td>3</td></tr>\n",
       "\t<tr><td>14</td><td>Gambero</td><td>Nessuna  </td><td>Nessuna           </td><td>MenoDi8</td><td>Mono    </td><td>66.11</td><td>3</td></tr>\n",
       "</tbody>\n",
       "</table>\n"
      ],
      "text/latex": [
       "A grouped\\_df: 6 × 8\n",
       "\\begin{tabular}{llllllll}\n",
       " id\\_respondent & Tipo\\_di\\_Pesce & Panatura & Spezie & Tempo\\_di\\_Preparazione & Formato\\_Confezione & Prediction & Ranking\\\\\n",
       " <chr> & <fct> & <fct> & <fct> & <fct> & <fct> & <dbl> & <int>\\\\\n",
       "\\hline\n",
       "\t 1  & Gambero & Gratinato & PrezzemoloBasilico & MenoDi8 & Doppia   & 81.11 & 3\\\\\n",
       "\t 10 & Salmone & Panko     & Nessuna            & 8-15    & Famiglia & 90.56 & 3\\\\\n",
       "\t 11 & Gambero & Gratinato & PrezzemoloBasilico & MenoDi8 & Doppia   & 58.33 & 3\\\\\n",
       "\t 12 & Salmone & Panko     & Nessuna            & 8-15    & Famiglia & 52.22 & 3\\\\\n",
       "\t 13 & Gambero & Gratinato & PrezzemoloBasilico & MenoDi8 & Doppia   & 70.00 & 3\\\\\n",
       "\t 14 & Gambero & Nessuna   & Nessuna            & MenoDi8 & Mono     & 66.11 & 3\\\\\n",
       "\\end{tabular}\n"
      ],
      "text/markdown": [
       "\n",
       "A grouped_df: 6 × 8\n",
       "\n",
       "| id_respondent &lt;chr&gt; | Tipo_di_Pesce &lt;fct&gt; | Panatura &lt;fct&gt; | Spezie &lt;fct&gt; | Tempo_di_Preparazione &lt;fct&gt; | Formato_Confezione &lt;fct&gt; | Prediction &lt;dbl&gt; | Ranking &lt;int&gt; |\n",
       "|---|---|---|---|---|---|---|---|\n",
       "| 1  | Gambero | Gratinato | PrezzemoloBasilico | MenoDi8 | Doppia   | 81.11 | 3 |\n",
       "| 10 | Salmone | Panko     | Nessuna            | 8-15    | Famiglia | 90.56 | 3 |\n",
       "| 11 | Gambero | Gratinato | PrezzemoloBasilico | MenoDi8 | Doppia   | 58.33 | 3 |\n",
       "| 12 | Salmone | Panko     | Nessuna            | 8-15    | Famiglia | 52.22 | 3 |\n",
       "| 13 | Gambero | Gratinato | PrezzemoloBasilico | MenoDi8 | Doppia   | 70.00 | 3 |\n",
       "| 14 | Gambero | Nessuna   | Nessuna            | MenoDi8 | Mono     | 66.11 | 3 |\n",
       "\n"
      ],
      "text/plain": [
       "  id_respondent Tipo_di_Pesce Panatura  Spezie            \n",
       "1 1             Gambero       Gratinato PrezzemoloBasilico\n",
       "2 10            Salmone       Panko     Nessuna           \n",
       "3 11            Gambero       Gratinato PrezzemoloBasilico\n",
       "4 12            Salmone       Panko     Nessuna           \n",
       "5 13            Gambero       Gratinato PrezzemoloBasilico\n",
       "6 14            Gambero       Nessuna   Nessuna           \n",
       "  Tempo_di_Preparazione Formato_Confezione Prediction Ranking\n",
       "1 MenoDi8               Doppia             81.11      3      \n",
       "2 8-15                  Famiglia           90.56      3      \n",
       "3 MenoDi8               Doppia             58.33      3      \n",
       "4 8-15                  Famiglia           52.22      3      \n",
       "5 MenoDi8               Doppia             70.00      3      \n",
       "6 MenoDi8               Mono               66.11      3      "
      ]
     },
     "metadata": {},
     "output_type": "display_data"
    }
   ],
   "source": [
    "highest_rated <- highest_rated %>% arrange(id_respondent, Ranking) %>% filter(Ranking == 3)\n",
    "head(highest_rated)"
   ]
  },
  {
   "cell_type": "markdown",
   "id": "a57b495d-94d8-44ca-9366-fec6e5d5c93a",
   "metadata": {},
   "source": [
    "The previous table represents the most popular attribute combinations for each respondents."
   ]
  },
  {
   "cell_type": "code",
   "execution_count": 82,
   "id": "e660624b-2f3f-410c-aca1-da8219793c7f",
   "metadata": {},
   "outputs": [
    {
     "data": {
      "text/html": [
       "<table class=\"dataframe\">\n",
       "<caption>A data.frame: 3 × 7</caption>\n",
       "<thead>\n",
       "\t<tr><th></th><th scope=col>Tipo_di_Pesce</th><th scope=col>Panatura</th><th scope=col>Spezie</th><th scope=col>Tempo_di_Preparazione</th><th scope=col>Formato_Confezione</th><th scope=col>Num</th><th scope=col>Share</th></tr>\n",
       "\t<tr><th></th><th scope=col>&lt;fct&gt;</th><th scope=col>&lt;fct&gt;</th><th scope=col>&lt;fct&gt;</th><th scope=col>&lt;fct&gt;</th><th scope=col>&lt;fct&gt;</th><th scope=col>&lt;int&gt;</th><th scope=col>&lt;dbl&gt;</th></tr>\n",
       "</thead>\n",
       "<tbody>\n",
       "\t<tr><th scope=row>Prod MarePiù</th><td>Gambero</td><td>Gratinato</td><td>PrezzemoloBasilico</td><td>MenoDi8</td><td>Doppia  </td><td>50</td><td>57.47126</td></tr>\n",
       "\t<tr><th scope=row>Prod B</th><td>Salmone</td><td>Panko    </td><td>Nessuna           </td><td>8-15   </td><td>Famiglia</td><td>19</td><td>21.83908</td></tr>\n",
       "\t<tr><th scope=row>Prod A</th><td>Gambero</td><td>Nessuna  </td><td>Nessuna           </td><td>MenoDi8</td><td>Mono    </td><td>18</td><td>20.68966</td></tr>\n",
       "</tbody>\n",
       "</table>\n"
      ],
      "text/latex": [
       "A data.frame: 3 × 7\n",
       "\\begin{tabular}{r|lllllll}\n",
       "  & Tipo\\_di\\_Pesce & Panatura & Spezie & Tempo\\_di\\_Preparazione & Formato\\_Confezione & Num & Share\\\\\n",
       "  & <fct> & <fct> & <fct> & <fct> & <fct> & <int> & <dbl>\\\\\n",
       "\\hline\n",
       "\tProd MarePiù & Gambero & Gratinato & PrezzemoloBasilico & MenoDi8 & Doppia   & 50 & 57.47126\\\\\n",
       "\tProd B & Salmone & Panko     & Nessuna            & 8-15    & Famiglia & 19 & 21.83908\\\\\n",
       "\tProd A & Gambero & Nessuna   & Nessuna            & MenoDi8 & Mono     & 18 & 20.68966\\\\\n",
       "\\end{tabular}\n"
      ],
      "text/markdown": [
       "\n",
       "A data.frame: 3 × 7\n",
       "\n",
       "| <!--/--> | Tipo_di_Pesce &lt;fct&gt; | Panatura &lt;fct&gt; | Spezie &lt;fct&gt; | Tempo_di_Preparazione &lt;fct&gt; | Formato_Confezione &lt;fct&gt; | Num &lt;int&gt; | Share &lt;dbl&gt; |\n",
       "|---|---|---|---|---|---|---|---|\n",
       "| Prod MarePiù | Gambero | Gratinato | PrezzemoloBasilico | MenoDi8 | Doppia   | 50 | 57.47126 |\n",
       "| Prod B | Salmone | Panko     | Nessuna            | 8-15    | Famiglia | 19 | 21.83908 |\n",
       "| Prod A | Gambero | Nessuna   | Nessuna            | MenoDi8 | Mono     | 18 | 20.68966 |\n",
       "\n"
      ],
      "text/plain": [
       "             Tipo_di_Pesce Panatura  Spezie             Tempo_di_Preparazione\n",
       "Prod MarePiù Gambero       Gratinato PrezzemoloBasilico MenoDi8              \n",
       "Prod B       Salmone       Panko     Nessuna            8-15                 \n",
       "Prod A       Gambero       Nessuna   Nessuna            MenoDi8              \n",
       "             Formato_Confezione Num Share   \n",
       "Prod MarePiù Doppia             50  57.47126\n",
       "Prod B       Famiglia           19  21.83908\n",
       "Prod A       Mono               18  20.68966"
      ]
     },
     "metadata": {},
     "output_type": "display_data"
    }
   ],
   "source": [
    "options(dplyr.summarise.inform = FALSE) \n",
    "market_share <- highest_rated %>% group_by(Tipo_di_Pesce, Panatura, Spezie, Tempo_di_Preparazione, Formato_Confezione) %>%\n",
    "    summarise(Num = n(), Share = n()/nrow(highest_rated)*100) %>% arrange(desc(Num)) %>%\n",
    "    as.data.frame()\n",
    "    \n",
    "rownames(market_share) <- c(\"Prod MarePiù\", \"Prod B\", \"Prod A\")\n",
    "\n",
    "market_share"
   ]
  },
  {
   "cell_type": "markdown",
   "id": "8c2d986ad8bdfd7e",
   "metadata": {},
   "source": [
    "The table reveals that 'Prod MarePiù' dominates the market with a **57.47%** share, followed by 'Prod B' at **21.84%**, while 'Prod A' holds the smallest share at **20.69%**. \n",
    "\n",
    "This suggests that, in this scenario, Marepiù would likely launch the product since these results indicate a good market potential."
   ]
  },
  {
   "cell_type": "markdown",
   "id": "014cfdf9-944d-4eb4-9da8-081db0bb5079",
   "metadata": {},
   "source": [
    "---\n",
    "\n",
    "### **3.4 Potential Customers Analysis**"
   ]
  },
  {
   "cell_type": "markdown",
   "id": "c3b794a1-2f5f-45c0-9729-4e575fdb0f89",
   "metadata": {},
   "source": [
    "Since we have obtained a generally low rating in the conjoint analysis, we want to analyze the average scores given by each respondent to better understand this outcome."
   ]
  },
  {
   "cell_type": "code",
   "execution_count": 65,
   "id": "6390f233-fb1b-4436-a84d-6c4e68595bf0",
   "metadata": {
    "ExecuteTime": {
     "end_time": "2025-02-06T11:12:57.998574Z",
     "start_time": "2025-02-06T11:12:57.980040Z"
    }
   },
   "outputs": [
    {
     "data": {
      "text/html": [
       "<table class=\"dataframe\">\n",
       "<caption>A tibble: 6 × 2</caption>\n",
       "<thead>\n",
       "\t<tr><th scope=col>id_respondent</th><th scope=col>average_rating</th></tr>\n",
       "\t<tr><th scope=col>&lt;int&gt;</th><th scope=col>&lt;dbl&gt;</th></tr>\n",
       "</thead>\n",
       "<tbody>\n",
       "\t<tr><td>16</td><td>0</td></tr>\n",
       "\t<tr><td>42</td><td>0</td></tr>\n",
       "\t<tr><td>54</td><td>0</td></tr>\n",
       "\t<tr><td>62</td><td>0</td></tr>\n",
       "\t<tr><td>79</td><td>0</td></tr>\n",
       "\t<tr><td>90</td><td>0</td></tr>\n",
       "</tbody>\n",
       "</table>\n"
      ],
      "text/latex": [
       "A tibble: 6 × 2\n",
       "\\begin{tabular}{ll}\n",
       " id\\_respondent & average\\_rating\\\\\n",
       " <int> & <dbl>\\\\\n",
       "\\hline\n",
       "\t 16 & 0\\\\\n",
       "\t 42 & 0\\\\\n",
       "\t 54 & 0\\\\\n",
       "\t 62 & 0\\\\\n",
       "\t 79 & 0\\\\\n",
       "\t 90 & 0\\\\\n",
       "\\end{tabular}\n"
      ],
      "text/markdown": [
       "\n",
       "A tibble: 6 × 2\n",
       "\n",
       "| id_respondent &lt;int&gt; | average_rating &lt;dbl&gt; |\n",
       "|---|---|\n",
       "| 16 | 0 |\n",
       "| 42 | 0 |\n",
       "| 54 | 0 |\n",
       "| 62 | 0 |\n",
       "| 79 | 0 |\n",
       "| 90 | 0 |\n",
       "\n"
      ],
      "text/plain": [
       "  id_respondent average_rating\n",
       "1 16            0             \n",
       "2 42            0             \n",
       "3 54            0             \n",
       "4 62            0             \n",
       "5 79            0             \n",
       "6 90            0             "
      ]
     },
     "metadata": {},
     "output_type": "display_data"
    }
   ],
   "source": [
    "avg_rating <- conjoint_data %>%\n",
    "  group_by(id_respondent) %>%\n",
    "  summarise(average_rating = mean(Rating, na.rm = TRUE)) %>%\n",
    "  arrange(average_rating)\n",
    "\n",
    "head(avg_rating)"
   ]
  },
  {
   "cell_type": "markdown",
   "id": "800150ef-ba70-43fd-b7d6-f0f62085276a",
   "metadata": {},
   "source": [
    "This table shows that many respondents gave low ratings for all combinations, resulting in a very low average rating (some even gave all zero).\n",
    "\n",
    "We are now trying to filter out respondents with an average rating below 30, which correspond to the respondents, who would purchase the product with a probability lower than 30%. \n",
    "This suggests they are unlikely to purchase any of the offered options, meaning they are not part of our target market. By removing them, we can focus our analysis on respondents who have shown interest in at least some product combinations. This helps us to obtain more meaningful insights for product optimization and marketing strategies."
   ]
  },
  {
   "cell_type": "code",
   "execution_count": 66,
   "id": "42b4fb80-5100-4e6d-9dd3-18328b960cbb",
   "metadata": {
    "ExecuteTime": {
     "end_time": "2025-02-06T11:12:58.361886Z",
     "start_time": "2025-02-06T11:12:58.348263Z"
    }
   },
   "outputs": [],
   "source": [
    "df_filtered <- conjoint_data %>%\n",
    "  group_by(id_respondent) %>%\n",
    "  summarise(average_rating = mean(Rating, na.rm = TRUE)) %>%\n",
    "  filter(average_rating > 30) %>%\n",
    "  arrange(desc(average_rating))"
   ]
  },
  {
   "cell_type": "markdown",
   "id": "1ad41035-bfc5-4463-96fe-d5ac38f9a1d2",
   "metadata": {},
   "source": [
    "We run again the Conjoint Analysis with this new dataset:"
   ]
  },
  {
   "cell_type": "code",
   "execution_count": 67,
   "id": "a17146de-d75b-4bbe-b308-bb1c1a8647a9",
   "metadata": {
    "ExecuteTime": {
     "end_time": "2025-02-06T11:12:58.496670Z",
     "start_time": "2025-02-06T11:12:58.483022Z"
    }
   },
   "outputs": [],
   "source": [
    "conjoint_data2 <- conjoint_data %>%\n",
    "  semi_join(df_filtered, by = \"id_respondent\") "
   ]
  },
  {
   "cell_type": "code",
   "execution_count": 68,
   "id": "91507135-7d64-46bf-a813-8a2a45f6f15f",
   "metadata": {
    "ExecuteTime": {
     "end_time": "2025-02-06T11:12:58.623598Z",
     "start_time": "2025-02-06T11:12:58.613753Z"
    }
   },
   "outputs": [],
   "source": [
    "conjoint_data2$Tipo_di_Pesce <- as.factor(conjoint_data2$Tipo_di_Pesce)\n",
    "conjoint_data2$Panatura <- as.factor(conjoint_data2$Panatura)\n",
    "conjoint_data2$Spezie <- as.factor(conjoint_data2$Spezie)\n",
    "conjoint_data2$Tempo_di_Preparazione <- as.factor(conjoint_data2$Tempo_di_Preparazione)\n",
    "conjoint_data2$Formato_Confezione<- as.factor(conjoint_data2$Formato_Confezione)"
   ]
  },
  {
   "cell_type": "code",
   "execution_count": 69,
   "id": "2ed0df16-8fd1-440a-ba83-3cf2f18dfb83",
   "metadata": {
    "ExecuteTime": {
     "end_time": "2025-02-06T11:12:58.776350Z",
     "start_time": "2025-02-06T11:12:58.745389Z"
    }
   },
   "outputs": [],
   "source": [
    "conjoint_total2 <- conjoint(conjoint_data2, rvar=\"Rating\", evar=c(\"Tipo_di_Pesce\", \"Panatura\", \"Spezie\", \"Tempo_di_Preparazione\", \"Formato_Confezione\"))"
   ]
  },
  {
   "cell_type": "code",
   "execution_count": 70,
   "id": "aa2ffa32-385f-4d6a-9a83-827b22966524",
   "metadata": {
    "ExecuteTime": {
     "end_time": "2025-02-06T11:12:58.867811Z",
     "start_time": "2025-02-06T11:12:58.848089Z"
    }
   },
   "outputs": [
    {
     "name": "stdout",
     "output_type": "stream",
     "text": [
      "Conjoint analysis\n",
      "Data                 : conjoint_data2 \n",
      "Response variable    : Rating \n",
      "Explanatory variables: Tipo_di_Pesce, Panatura, Spezie, Tempo_di_Preparazione, Formato_Confezione \n",
      "\n",
      "Conjoint part-worths:\n",
      "            Attributes             Levels     PW\n",
      " Tipo_di_Pesce         Calamaro            0.000\n",
      " Tipo_di_Pesce         Gambero             6.909\n",
      " Tipo_di_Pesce         Salmone             1.129\n",
      " Panatura              Gratinato           0.000\n",
      " Panatura              Nessuna            -3.817\n",
      " Panatura              Panko              -0.242\n",
      " Spezie                Nessuna             0.000\n",
      " Spezie                PrezzemoloBasilico  3.199\n",
      " Spezie                SalviaRosmarino     1.855\n",
      " Tempo_di_Preparazione 8-15                0.000\n",
      " Tempo_di_Preparazione MenoDi8             0.538\n",
      " Tempo_di_Preparazione PiùDi15             1.694\n",
      " Formato_Confezione    Doppia              0.000\n",
      " Formato_Confezione    Famiglia           -3.145\n",
      " Formato_Confezione    Mono               -6.882\n",
      " Base utility          ~                  58.584\n",
      "\n",
      "Conjoint importance weights:\n",
      "            Attributes    IW\n",
      " Tipo_di_Pesce         0.307\n",
      " Panatura              0.170\n",
      " Spezie                0.142\n",
      " Tempo_di_Preparazione 0.075\n",
      " Formato_Confezione    0.306\n",
      "\n",
      "Conjoint regression results:\n",
      "\n",
      "                               coefficient\n",
      " (Intercept)                        58.584\n",
      " Tipo_di_Pesce|Gambero               6.909\n",
      " Tipo_di_Pesce|Salmone               1.129\n",
      " Panatura|Nessuna                   -3.817\n",
      " Panatura|Panko                     -0.242\n",
      " Spezie|PrezzemoloBasilico           3.199\n",
      " Spezie|SalviaRosmarino              1.855\n",
      " Tempo_di_Preparazione|MenoDi8       0.538\n",
      " Tempo_di_Preparazione|PiùDi15       1.694\n",
      " Formato_Confezione|Famiglia        -3.145\n",
      " Formato_Confezione|Mono            -6.882\n",
      "\n"
     ]
    }
   ],
   "source": [
    "summary(conjoint_total2)"
   ]
  },
  {
   "cell_type": "code",
   "execution_count": 71,
   "id": "9613344f-bc68-48fa-a68f-b4082e79254f",
   "metadata": {
    "ExecuteTime": {
     "end_time": "2025-02-06T11:12:58.970010Z",
     "start_time": "2025-02-06T11:12:58.948170Z"
    }
   },
   "outputs": [
    {
     "data": {
      "text/html": [
       "<table class=\"dataframe\">\n",
       "<caption>A conjoint.predict: 6 × 6</caption>\n",
       "<thead>\n",
       "\t<tr><th></th><th scope=col>Tipo_di_Pesce</th><th scope=col>Panatura</th><th scope=col>Spezie</th><th scope=col>Tempo_di_Preparazione</th><th scope=col>Formato_Confezione</th><th scope=col>Prediction</th></tr>\n",
       "\t<tr><th></th><th scope=col>&lt;fct&gt;</th><th scope=col>&lt;fct&gt;</th><th scope=col>&lt;fct&gt;</th><th scope=col>&lt;fct&gt;</th><th scope=col>&lt;fct&gt;</th><th scope=col>&lt;dbl&gt;</th></tr>\n",
       "</thead>\n",
       "<tbody>\n",
       "\t<tr><th scope=row>1</th><td>Gambero</td><td>Gratinato</td><td>PrezzemoloBasilico</td><td>PiùDi15</td><td>Doppia</td><td>70.38530</td></tr>\n",
       "\t<tr><th scope=row>2</th><td>Gambero</td><td>Panko    </td><td>PrezzemoloBasilico</td><td>PiùDi15</td><td>Doppia</td><td>70.14337</td></tr>\n",
       "\t<tr><th scope=row>3</th><td>Gambero</td><td>Gratinato</td><td>PrezzemoloBasilico</td><td>MenoDi8</td><td>Doppia</td><td>69.22939</td></tr>\n",
       "\t<tr><th scope=row>4</th><td>Gambero</td><td>Gratinato</td><td>SalviaRosmarino   </td><td>PiùDi15</td><td>Doppia</td><td>69.04122</td></tr>\n",
       "\t<tr><th scope=row>5</th><td>Gambero</td><td>Panko    </td><td>PrezzemoloBasilico</td><td>MenoDi8</td><td>Doppia</td><td>68.98746</td></tr>\n",
       "\t<tr><th scope=row>6</th><td>Gambero</td><td>Panko    </td><td>SalviaRosmarino   </td><td>PiùDi15</td><td>Doppia</td><td>68.79928</td></tr>\n",
       "</tbody>\n",
       "</table>\n"
      ],
      "text/latex": [
       "A conjoint.predict: 6 × 6\n",
       "\\begin{tabular}{r|llllll}\n",
       "  & Tipo\\_di\\_Pesce & Panatura & Spezie & Tempo\\_di\\_Preparazione & Formato\\_Confezione & Prediction\\\\\n",
       "  & <fct> & <fct> & <fct> & <fct> & <fct> & <dbl>\\\\\n",
       "\\hline\n",
       "\t1 & Gambero & Gratinato & PrezzemoloBasilico & PiùDi15 & Doppia & 70.38530\\\\\n",
       "\t2 & Gambero & Panko     & PrezzemoloBasilico & PiùDi15 & Doppia & 70.14337\\\\\n",
       "\t3 & Gambero & Gratinato & PrezzemoloBasilico & MenoDi8 & Doppia & 69.22939\\\\\n",
       "\t4 & Gambero & Gratinato & SalviaRosmarino    & PiùDi15 & Doppia & 69.04122\\\\\n",
       "\t5 & Gambero & Panko     & PrezzemoloBasilico & MenoDi8 & Doppia & 68.98746\\\\\n",
       "\t6 & Gambero & Panko     & SalviaRosmarino    & PiùDi15 & Doppia & 68.79928\\\\\n",
       "\\end{tabular}\n"
      ],
      "text/markdown": [
       "\n",
       "A conjoint.predict: 6 × 6\n",
       "\n",
       "| <!--/--> | Tipo_di_Pesce &lt;fct&gt; | Panatura &lt;fct&gt; | Spezie &lt;fct&gt; | Tempo_di_Preparazione &lt;fct&gt; | Formato_Confezione &lt;fct&gt; | Prediction &lt;dbl&gt; |\n",
       "|---|---|---|---|---|---|---|\n",
       "| 1 | Gambero | Gratinato | PrezzemoloBasilico | PiùDi15 | Doppia | 70.38530 |\n",
       "| 2 | Gambero | Panko     | PrezzemoloBasilico | PiùDi15 | Doppia | 70.14337 |\n",
       "| 3 | Gambero | Gratinato | PrezzemoloBasilico | MenoDi8 | Doppia | 69.22939 |\n",
       "| 4 | Gambero | Gratinato | SalviaRosmarino    | PiùDi15 | Doppia | 69.04122 |\n",
       "| 5 | Gambero | Panko     | PrezzemoloBasilico | MenoDi8 | Doppia | 68.98746 |\n",
       "| 6 | Gambero | Panko     | SalviaRosmarino    | PiùDi15 | Doppia | 68.79928 |\n",
       "\n"
      ],
      "text/plain": [
       "  Tipo_di_Pesce Panatura  Spezie             Tempo_di_Preparazione\n",
       "1 Gambero       Gratinato PrezzemoloBasilico PiùDi15              \n",
       "2 Gambero       Panko     PrezzemoloBasilico PiùDi15              \n",
       "3 Gambero       Gratinato PrezzemoloBasilico MenoDi8              \n",
       "4 Gambero       Gratinato SalviaRosmarino    PiùDi15              \n",
       "5 Gambero       Panko     PrezzemoloBasilico MenoDi8              \n",
       "6 Gambero       Panko     SalviaRosmarino    PiùDi15              \n",
       "  Formato_Confezione Prediction\n",
       "1 Doppia             70.38530  \n",
       "2 Doppia             70.14337  \n",
       "3 Doppia             69.22939  \n",
       "4 Doppia             69.04122  \n",
       "5 Doppia             68.98746  \n",
       "6 Doppia             68.79928  "
      ]
     },
     "metadata": {},
     "output_type": "display_data"
    }
   ],
   "source": [
    "conjoint_prediction2 <- predict(conjoint_total2, profiles.all) %>% arrange(desc(Prediction))\n",
    "head(conjoint_prediction2)"
   ]
  },
  {
   "cell_type": "markdown",
   "id": "ec4d6a02-ca0d-4342-9c4d-5a7d8d871be8",
   "metadata": {},
   "source": [
    "We can see a noticeable improvement in the highest rating, **from 52.89 to 70.38**.\n",
    "\n",
    "By analyzing the variance of the two conjoint processes we can add some considerations:"
   ]
  },
  {
   "cell_type": "code",
   "execution_count": 72,
   "id": "5171a9d4-3443-4ff7-823a-4f8380957a0d",
   "metadata": {
    "ExecuteTime": {
     "end_time": "2025-02-06T11:12:59.053900Z",
     "start_time": "2025-02-06T11:12:59.043544Z"
    }
   },
   "outputs": [
    {
     "name": "stdout",
     "output_type": "stream",
     "text": [
      "[1] 16.90799\n"
     ]
    }
   ],
   "source": [
    "# Variance of the ratings of the first conjoint analysis\n",
    "variance_prediction <- var(conjoint_prediction$Prediction, na.rm = TRUE)\n",
    "print(variance_prediction)"
   ]
  },
  {
   "cell_type": "code",
   "execution_count": 73,
   "id": "647238fa-f52c-4fea-a738-2ff5269b66c5",
   "metadata": {
    "ExecuteTime": {
     "end_time": "2025-02-06T11:12:59.170389Z",
     "start_time": "2025-02-06T11:12:59.158119Z"
    }
   },
   "outputs": [
    {
     "name": "stdout",
     "output_type": "stream",
     "text": [
      "[1] 22.42612\n"
     ]
    }
   ],
   "source": [
    "# Variance of the ratings of the second conjoint analysis (without respondents who have avg_rating <= 30)\n",
    "variance_prediction <- var(conjoint_prediction2$Prediction, na.rm = TRUE)\n",
    "print(variance_prediction)"
   ]
  },
  {
   "cell_type": "markdown",
   "id": "3aabb690-9bf6-49cb-9920-470b0178835c",
   "metadata": {},
   "source": [
    "After removing respondents with an average rating lower than 30, the variance of the predicted ratings increased **from 16.9 to 22.4**.\n",
    "A higher variance indicates that preferences among profiles are now more distinct.\n",
    "\n",
    "The increased variance in the second conjoint analysis suggests that the remaining data reveal more defined consumer preferences, leading to a more precise understanding of key decision drivers."
   ]
  },
  {
   "cell_type": "code",
   "execution_count": 74,
   "id": "f57c4b02-3fd6-4e76-9bed-068442b820c1",
   "metadata": {
    "ExecuteTime": {
     "end_time": "2025-02-06T11:13:00.181782Z",
     "start_time": "2025-02-06T11:12:59.404063Z"
    }
   },
   "outputs": [
    {
     "data": {
      "image/png": "[encoded data removed]",
      "text/plain": [
       "plot without title"
      ]
     },
     "metadata": {
      "image/png": {
       "height": 420,
       "width": 420
      }
     },
     "output_type": "display_data"
    }
   ],
   "source": [
    "plot(conjoint_total2)"
   ]
  },
  {
   "cell_type": "code",
   "execution_count": 75,
   "id": "26edc0f6-d393-453d-be6a-29a128796bd7",
   "metadata": {
    "ExecuteTime": {
     "end_time": "2025-02-06T11:13:00.360258Z",
     "start_time": "2025-02-06T11:13:00.324985Z"
    }
   },
   "outputs": [
    {
     "data": {
      "text/html": [
       "<table class=\"dataframe\">\n",
       "<caption>A tibble: 5 × 3</caption>\n",
       "<thead>\n",
       "\t<tr><th scope=col>major_influences</th><th scope=col>Survey percentage</th><th scope=col>Conjoint weights</th></tr>\n",
       "\t<tr><th scope=col>&lt;chr&gt;</th><th scope=col>&lt;dbl&gt;</th><th scope=col>&lt;dbl&gt;</th></tr>\n",
       "</thead>\n",
       "<tbody>\n",
       "\t<tr><td>Tipo_di_Pesce        </td><td>32.5</td><td>0.307</td></tr>\n",
       "\t<tr><td>Panatura             </td><td>26.0</td><td>0.170</td></tr>\n",
       "\t<tr><td>Formato_Confezione   </td><td>18.0</td><td>0.306</td></tr>\n",
       "\t<tr><td>Spezie               </td><td>16.5</td><td>0.142</td></tr>\n",
       "\t<tr><td>Tempo_di_Preparazione</td><td> 6.5</td><td>0.075</td></tr>\n",
       "</tbody>\n",
       "</table>\n"
      ],
      "text/latex": [
       "A tibble: 5 × 3\n",
       "\\begin{tabular}{lll}\n",
       " major\\_influences & Survey percentage & Conjoint weights\\\\\n",
       " <chr> & <dbl> & <dbl>\\\\\n",
       "\\hline\n",
       "\t Tipo\\_di\\_Pesce         & 32.5 & 0.307\\\\\n",
       "\t Panatura              & 26.0 & 0.170\\\\\n",
       "\t Formato\\_Confezione    & 18.0 & 0.306\\\\\n",
       "\t Spezie                & 16.5 & 0.142\\\\\n",
       "\t Tempo\\_di\\_Preparazione &  6.5 & 0.075\\\\\n",
       "\\end{tabular}\n"
      ],
      "text/markdown": [
       "\n",
       "A tibble: 5 × 3\n",
       "\n",
       "| major_influences &lt;chr&gt; | Survey percentage &lt;dbl&gt; | Conjoint weights &lt;dbl&gt; |\n",
       "|---|---|---|\n",
       "| Tipo_di_Pesce         | 32.5 | 0.307 |\n",
       "| Panatura              | 26.0 | 0.170 |\n",
       "| Formato_Confezione    | 18.0 | 0.306 |\n",
       "| Spezie                | 16.5 | 0.142 |\n",
       "| Tempo_di_Preparazione |  6.5 | 0.075 |\n",
       "\n"
      ],
      "text/plain": [
       "  major_influences      Survey percentage Conjoint weights\n",
       "1 Tipo_di_Pesce         32.5              0.307           \n",
       "2 Panatura              26.0              0.170           \n",
       "3 Formato_Confezione    18.0              0.306           \n",
       "4 Spezie                16.5              0.142           \n",
       "5 Tempo_di_Preparazione  6.5              0.075           "
      ]
     },
     "metadata": {},
     "output_type": "display_data"
    }
   ],
   "source": [
    "conjoint_weights <- data.frame(\n",
    "  major_influences = c(\"Tipo_di_Pesce\", \"Panatura\", \"Spezie\", \"Tempo_di_Preparazione\", \"Formato_Confezione\"),\n",
    "  IW = c(0.307, 0.170, 0.142, 0.075, 0.306)\n",
    ")\n",
    "\n",
    "influences <- filtered_survey_raw %>%\n",
    "  select(major_influences) %>%            \n",
    "  separate_rows(major_influences, sep = \";\") %>%  \n",
    "  count(major_influences, sort = TRUE) %>%   \n",
    "  mutate(percentuale = round(n / sum(n) * 100, 2)) %>%\n",
    "  slice(-n()) %>%\n",
    "  mutate(\n",
    "    major_influences = case_when(\n",
    "      major_influences == \"Tipo di pesce utilizzato per lo spiedino surgelato\" ~ \"Tipo_di_Pesce\",\n",
    "      major_influences == \"Presenza e tipo di panatura\" ~ \"Panatura\",\n",
    "      major_influences == \"Presenza e combinazione di spezie\" ~ \"Spezie\",\n",
    "      major_influences == \"Tempo di preparazione\" ~ \"Tempo_di_Preparazione\",\n",
    "      major_influences == \"Formato confezione\" ~ \"Formato_Confezione\",\n",
    "      TRUE ~ major_influences\n",
    "  ))\n",
    "\n",
    "final_table <- influences %>%\n",
    "  left_join(conjoint_weights, by = \"major_influences\") %>%\n",
    "  rename(\"Survey percentage\" = percentuale, \"Conjoint weights\" = IW) %>% select(-n)\n",
    "\n",
    "final_table"
   ]
  },
  {
   "cell_type": "markdown",
   "id": "f7449d50-9957-4327-bbc7-0b3959af8fb1",
   "metadata": {},
   "source": [
    "- **Tipo di Pesce** is the most influential factor.  \n",
    "- **Formato Confezione** has some importance for the respondents as confirmed in the conjoint weights.  \n",
    "- **Panatura** is highly relevant in the survey but this importance is not enough highlighted in the conjoint results.  \n",
    "- **Tempo di Preparazione** is the least important, showing it’s not a priority for consumers.  "
   ]
  },
  {
   "cell_type": "markdown",
   "id": "dd44a83b-2b3e-4920-aadf-7f9d04221e7b",
   "metadata": {},
   "source": [
    "To conclude this part of the analysis, we will once again examine the ratings and positions following the conjoint analysis predictions for the products in the B2B catalog in order to assess their potential in the B2C market."
   ]
  },
  {
   "cell_type": "code",
   "execution_count": 76,
   "id": "bbc433d5-b03d-415e-9b59-e91c998f1254",
   "metadata": {
    "ExecuteTime": {
     "end_time": "2025-02-06T11:12:57.620373Z",
     "start_time": "2025-02-06T11:12:57.600187Z"
    }
   },
   "outputs": [
    {
     "data": {
      "text/html": [
       "<table class=\"dataframe\">\n",
       "<caption>A data.frame: 3 × 7</caption>\n",
       "<thead>\n",
       "\t<tr><th></th><th scope=col>Tipo_di_Pesce</th><th scope=col>Panatura</th><th scope=col>Spezie</th><th scope=col>Tempo_di_Preparazione</th><th scope=col>Formato_Confezione</th><th scope=col>Num</th><th scope=col>Share</th></tr>\n",
       "\t<tr><th></th><th scope=col>&lt;fct&gt;</th><th scope=col>&lt;fct&gt;</th><th scope=col>&lt;fct&gt;</th><th scope=col>&lt;fct&gt;</th><th scope=col>&lt;fct&gt;</th><th scope=col>&lt;int&gt;</th><th scope=col>&lt;dbl&gt;</th></tr>\n",
       "</thead>\n",
       "<tbody>\n",
       "\t<tr><th scope=row>Prod 1</th><td>Gambero</td><td>Gratinato</td><td>PrezzemoloBasilico</td><td>MenoDi8</td><td>Doppia  </td><td>50</td><td>57.47126</td></tr>\n",
       "\t<tr><th scope=row>Prod 2</th><td>Salmone</td><td>Panko    </td><td>Nessuna           </td><td>8-15   </td><td>Famiglia</td><td>19</td><td>21.83908</td></tr>\n",
       "\t<tr><th scope=row>Prod 3</th><td>Gambero</td><td>Nessuna  </td><td>Nessuna           </td><td>MenoDi8</td><td>Mono    </td><td>18</td><td>20.68966</td></tr>\n",
       "</tbody>\n",
       "</table>\n"
      ],
      "text/latex": [
       "A data.frame: 3 × 7\n",
       "\\begin{tabular}{r|lllllll}\n",
       "  & Tipo\\_di\\_Pesce & Panatura & Spezie & Tempo\\_di\\_Preparazione & Formato\\_Confezione & Num & Share\\\\\n",
       "  & <fct> & <fct> & <fct> & <fct> & <fct> & <int> & <dbl>\\\\\n",
       "\\hline\n",
       "\tProd 1 & Gambero & Gratinato & PrezzemoloBasilico & MenoDi8 & Doppia   & 50 & 57.47126\\\\\n",
       "\tProd 2 & Salmone & Panko     & Nessuna            & 8-15    & Famiglia & 19 & 21.83908\\\\\n",
       "\tProd 3 & Gambero & Nessuna   & Nessuna            & MenoDi8 & Mono     & 18 & 20.68966\\\\\n",
       "\\end{tabular}\n"
      ],
      "text/markdown": [
       "\n",
       "A data.frame: 3 × 7\n",
       "\n",
       "| <!--/--> | Tipo_di_Pesce &lt;fct&gt; | Panatura &lt;fct&gt; | Spezie &lt;fct&gt; | Tempo_di_Preparazione &lt;fct&gt; | Formato_Confezione &lt;fct&gt; | Num &lt;int&gt; | Share &lt;dbl&gt; |\n",
       "|---|---|---|---|---|---|---|---|\n",
       "| Prod 1 | Gambero | Gratinato | PrezzemoloBasilico | MenoDi8 | Doppia   | 50 | 57.47126 |\n",
       "| Prod 2 | Salmone | Panko     | Nessuna            | 8-15    | Famiglia | 19 | 21.83908 |\n",
       "| Prod 3 | Gambero | Nessuna   | Nessuna            | MenoDi8 | Mono     | 18 | 20.68966 |\n",
       "\n"
      ],
      "text/plain": [
       "       Tipo_di_Pesce Panatura  Spezie             Tempo_di_Preparazione\n",
       "Prod 1 Gambero       Gratinato PrezzemoloBasilico MenoDi8              \n",
       "Prod 2 Salmone       Panko     Nessuna            8-15                 \n",
       "Prod 3 Gambero       Nessuna   Nessuna            MenoDi8              \n",
       "       Formato_Confezione Num Share   \n",
       "Prod 1 Doppia             50  57.47126\n",
       "Prod 2 Famiglia           19  21.83908\n",
       "Prod 3 Mono               18  20.68966"
      ]
     },
     "metadata": {},
     "output_type": "display_data"
    }
   ],
   "source": [
    "options(dplyr.summarise.inform = FALSE) \n",
    "market_share <- highest_rated %>% group_by(Tipo_di_Pesce, Panatura, Spezie, Tempo_di_Preparazione, Formato_Confezione) %>%\n",
    "    summarise(Num = n(), Share = n()/nrow(highest_rated)*100) %>% arrange(desc(Num)) %>%\n",
    "    as.data.frame()\n",
    "    \n",
    "rownames(market_share) <- c(\"Prod 1\", \"Prod 2\", \"Prod 3\")\n",
    "\n",
    "market_share"
   ]
  },
  {
   "cell_type": "code",
   "execution_count": 77,
   "id": "5482e807-00a8-4a8c-b870-323dbe083930",
   "metadata": {
    "ExecuteTime": {
     "end_time": "2025-02-06T11:13:00.420310Z",
     "start_time": "2025-02-06T11:13:00.396286Z"
    }
   },
   "outputs": [
    {
     "data": {
      "text/html": [
       "<table class=\"dataframe\">\n",
       "<caption>A conjoint.predict: 6 × 6</caption>\n",
       "<thead>\n",
       "\t<tr><th scope=col>Tipo_di_Pesce</th><th scope=col>Panatura</th><th scope=col>Spezie</th><th scope=col>Tempo_di_Preparazione</th><th scope=col>Formato_Confezione</th><th scope=col>Prediction</th></tr>\n",
       "\t<tr><th scope=col>&lt;fct&gt;</th><th scope=col>&lt;fct&gt;</th><th scope=col>&lt;fct&gt;</th><th scope=col>&lt;fct&gt;</th><th scope=col>&lt;fct&gt;</th><th scope=col>&lt;dbl&gt;</th></tr>\n",
       "</thead>\n",
       "<tbody>\n",
       "\t<tr><td>Gambero </td><td>Gratinato</td><td>PrezzemoloBasilico</td><td>MenoDi8</td><td>Doppia</td><td>69.22939</td></tr>\n",
       "\t<tr><td>Salmone </td><td>Gratinato</td><td>PrezzemoloBasilico</td><td>8-15   </td><td>Doppia</td><td>62.91219</td></tr>\n",
       "\t<tr><td>Gambero </td><td>Nessuna  </td><td>Nessuna           </td><td>MenoDi8</td><td>Doppia</td><td>62.21326</td></tr>\n",
       "\t<tr><td>Salmone </td><td>Panko    </td><td>SalviaRosmarino   </td><td>MenoDi8</td><td>Doppia</td><td>61.86380</td></tr>\n",
       "\t<tr><td>Calamaro</td><td>Gratinato</td><td>PrezzemoloBasilico</td><td>8-15   </td><td>Doppia</td><td>61.78315</td></tr>\n",
       "\t<tr><td>Calamaro</td><td>Nessuna  </td><td>Nessuna           </td><td>8-15   </td><td>Doppia</td><td>54.76703</td></tr>\n",
       "</tbody>\n",
       "</table>\n"
      ],
      "text/latex": [
       "A conjoint.predict: 6 × 6\n",
       "\\begin{tabular}{llllll}\n",
       " Tipo\\_di\\_Pesce & Panatura & Spezie & Tempo\\_di\\_Preparazione & Formato\\_Confezione & Prediction\\\\\n",
       " <fct> & <fct> & <fct> & <fct> & <fct> & <dbl>\\\\\n",
       "\\hline\n",
       "\t Gambero  & Gratinato & PrezzemoloBasilico & MenoDi8 & Doppia & 69.22939\\\\\n",
       "\t Salmone  & Gratinato & PrezzemoloBasilico & 8-15    & Doppia & 62.91219\\\\\n",
       "\t Gambero  & Nessuna   & Nessuna            & MenoDi8 & Doppia & 62.21326\\\\\n",
       "\t Salmone  & Panko     & SalviaRosmarino    & MenoDi8 & Doppia & 61.86380\\\\\n",
       "\t Calamaro & Gratinato & PrezzemoloBasilico & 8-15    & Doppia & 61.78315\\\\\n",
       "\t Calamaro & Nessuna   & Nessuna            & 8-15    & Doppia & 54.76703\\\\\n",
       "\\end{tabular}\n"
      ],
      "text/markdown": [
       "\n",
       "A conjoint.predict: 6 × 6\n",
       "\n",
       "| Tipo_di_Pesce &lt;fct&gt; | Panatura &lt;fct&gt; | Spezie &lt;fct&gt; | Tempo_di_Preparazione &lt;fct&gt; | Formato_Confezione &lt;fct&gt; | Prediction &lt;dbl&gt; |\n",
       "|---|---|---|---|---|---|\n",
       "| Gambero  | Gratinato | PrezzemoloBasilico | MenoDi8 | Doppia | 69.22939 |\n",
       "| Salmone  | Gratinato | PrezzemoloBasilico | 8-15    | Doppia | 62.91219 |\n",
       "| Gambero  | Nessuna   | Nessuna            | MenoDi8 | Doppia | 62.21326 |\n",
       "| Salmone  | Panko     | SalviaRosmarino    | MenoDi8 | Doppia | 61.86380 |\n",
       "| Calamaro | Gratinato | PrezzemoloBasilico | 8-15    | Doppia | 61.78315 |\n",
       "| Calamaro | Nessuna   | Nessuna            | 8-15    | Doppia | 54.76703 |\n",
       "\n"
      ],
      "text/plain": [
       "  Tipo_di_Pesce Panatura  Spezie             Tempo_di_Preparazione\n",
       "1 Gambero       Gratinato PrezzemoloBasilico MenoDi8              \n",
       "2 Salmone       Gratinato PrezzemoloBasilico 8-15                 \n",
       "3 Gambero       Nessuna   Nessuna            MenoDi8              \n",
       "4 Salmone       Panko     SalviaRosmarino    MenoDi8              \n",
       "5 Calamaro      Gratinato PrezzemoloBasilico 8-15                 \n",
       "6 Calamaro      Nessuna   Nessuna            8-15                 \n",
       "  Formato_Confezione Prediction\n",
       "1 Doppia             69.22939  \n",
       "2 Doppia             62.91219  \n",
       "3 Doppia             62.21326  \n",
       "4 Doppia             61.86380  \n",
       "5 Doppia             61.78315  \n",
       "6 Doppia             54.76703  "
      ]
     },
     "metadata": {},
     "output_type": "display_data"
    }
   ],
   "source": [
    "prediction2 <- predict(conjoint_total2, profiles) %>% arrange(desc(Prediction))\n",
    "prediction2"
   ]
  },
  {
   "cell_type": "code",
   "execution_count": 78,
   "id": "c8de92b0-23a9-477f-8611-a335727b5cc9",
   "metadata": {
    "ExecuteTime": {
     "end_time": "2025-02-06T11:13:00.514892Z",
     "start_time": "2025-02-06T11:13:00.499079Z"
    }
   },
   "outputs": [
    {
     "data": {
      "text/html": [
       "<table class=\"dataframe\">\n",
       "<caption>A conjoint.predict: 6 × 7</caption>\n",
       "<thead>\n",
       "\t<tr><th scope=col>Tipo_di_Pesce</th><th scope=col>Panatura</th><th scope=col>Spezie</th><th scope=col>Tempo_di_Preparazione</th><th scope=col>Formato_Confezione</th><th scope=col>Prediction</th><th scope=col>Position</th></tr>\n",
       "\t<tr><th scope=col>&lt;fct&gt;</th><th scope=col>&lt;fct&gt;</th><th scope=col>&lt;fct&gt;</th><th scope=col>&lt;fct&gt;</th><th scope=col>&lt;fct&gt;</th><th scope=col>&lt;dbl&gt;</th><th scope=col>&lt;int&gt;</th></tr>\n",
       "</thead>\n",
       "<tbody>\n",
       "\t<tr><td>Gambero </td><td>Gratinato</td><td>PrezzemoloBasilico</td><td>MenoDi8</td><td>Doppia</td><td>69.22939</td><td>  3</td></tr>\n",
       "\t<tr><td>Salmone </td><td>Gratinato</td><td>PrezzemoloBasilico</td><td>8-15   </td><td>Doppia</td><td>62.91219</td><td> 51</td></tr>\n",
       "\t<tr><td>Gambero </td><td>Nessuna  </td><td>Nessuna           </td><td>MenoDi8</td><td>Doppia</td><td>62.21326</td><td> 59</td></tr>\n",
       "\t<tr><td>Salmone </td><td>Panko    </td><td>SalviaRosmarino   </td><td>MenoDi8</td><td>Doppia</td><td>61.86380</td><td> 69</td></tr>\n",
       "\t<tr><td>Calamaro</td><td>Gratinato</td><td>PrezzemoloBasilico</td><td>8-15   </td><td>Doppia</td><td>61.78315</td><td> 71</td></tr>\n",
       "\t<tr><td>Calamaro</td><td>Nessuna  </td><td>Nessuna           </td><td>8-15   </td><td>Doppia</td><td>54.76703</td><td>197</td></tr>\n",
       "</tbody>\n",
       "</table>\n"
      ],
      "text/latex": [
       "A conjoint.predict: 6 × 7\n",
       "\\begin{tabular}{lllllll}\n",
       " Tipo\\_di\\_Pesce & Panatura & Spezie & Tempo\\_di\\_Preparazione & Formato\\_Confezione & Prediction & Position\\\\\n",
       " <fct> & <fct> & <fct> & <fct> & <fct> & <dbl> & <int>\\\\\n",
       "\\hline\n",
       "\t Gambero  & Gratinato & PrezzemoloBasilico & MenoDi8 & Doppia & 69.22939 &   3\\\\\n",
       "\t Salmone  & Gratinato & PrezzemoloBasilico & 8-15    & Doppia & 62.91219 &  51\\\\\n",
       "\t Gambero  & Nessuna   & Nessuna            & MenoDi8 & Doppia & 62.21326 &  59\\\\\n",
       "\t Salmone  & Panko     & SalviaRosmarino    & MenoDi8 & Doppia & 61.86380 &  69\\\\\n",
       "\t Calamaro & Gratinato & PrezzemoloBasilico & 8-15    & Doppia & 61.78315 &  71\\\\\n",
       "\t Calamaro & Nessuna   & Nessuna            & 8-15    & Doppia & 54.76703 & 197\\\\\n",
       "\\end{tabular}\n"
      ],
      "text/markdown": [
       "\n",
       "A conjoint.predict: 6 × 7\n",
       "\n",
       "| Tipo_di_Pesce &lt;fct&gt; | Panatura &lt;fct&gt; | Spezie &lt;fct&gt; | Tempo_di_Preparazione &lt;fct&gt; | Formato_Confezione &lt;fct&gt; | Prediction &lt;dbl&gt; | Position &lt;int&gt; |\n",
       "|---|---|---|---|---|---|---|\n",
       "| Gambero  | Gratinato | PrezzemoloBasilico | MenoDi8 | Doppia | 69.22939 |   3 |\n",
       "| Salmone  | Gratinato | PrezzemoloBasilico | 8-15    | Doppia | 62.91219 |  51 |\n",
       "| Gambero  | Nessuna   | Nessuna            | MenoDi8 | Doppia | 62.21326 |  59 |\n",
       "| Salmone  | Panko     | SalviaRosmarino    | MenoDi8 | Doppia | 61.86380 |  69 |\n",
       "| Calamaro | Gratinato | PrezzemoloBasilico | 8-15    | Doppia | 61.78315 |  71 |\n",
       "| Calamaro | Nessuna   | Nessuna            | 8-15    | Doppia | 54.76703 | 197 |\n",
       "\n"
      ],
      "text/plain": [
       "  Tipo_di_Pesce Panatura  Spezie             Tempo_di_Preparazione\n",
       "1 Gambero       Gratinato PrezzemoloBasilico MenoDi8              \n",
       "2 Salmone       Gratinato PrezzemoloBasilico 8-15                 \n",
       "3 Gambero       Nessuna   Nessuna            MenoDi8              \n",
       "4 Salmone       Panko     SalviaRosmarino    MenoDi8              \n",
       "5 Calamaro      Gratinato PrezzemoloBasilico 8-15                 \n",
       "6 Calamaro      Nessuna   Nessuna            8-15                 \n",
       "  Formato_Confezione Prediction Position\n",
       "1 Doppia             69.22939     3     \n",
       "2 Doppia             62.91219    51     \n",
       "3 Doppia             62.21326    59     \n",
       "4 Doppia             61.86380    69     \n",
       "5 Doppia             61.78315    71     \n",
       "6 Doppia             54.76703   197     "
      ]
     },
     "metadata": {},
     "output_type": "display_data"
    }
   ],
   "source": [
    "prediction2 <- prediction2 %>%\n",
    "  mutate(Position = match(Prediction, conjoint_prediction2$Prediction))\n",
    "prediction2"
   ]
  },
  {
   "cell_type": "markdown",
   "id": "36fe924e-20c4-40cf-a235-8bc17446c905",
   "metadata": {},
   "source": [
    "In the end, although the most appreciated products remain the same, there are noticeable differences in their overall position (e.g., the top combination already produced is no longer the most preferred overall)."
   ]
  },
  {
   "cell_type": "markdown",
   "id": "49c1d1ab-4972-4362-80d5-1de61e7fa440",
   "metadata": {},
   "source": [
    "---\n",
    "\n",
    "## **4. Choice-Based Conjoint Analysis** "
   ]
  },
  {
   "cell_type": "markdown",
   "id": "b463513a-7f36-4810-a957-f66dd3f90842",
   "metadata": {},
   "source": [
    "In our previous study, we conducted a **Rating-Based Conjoint Analysis** (RBC) to evaluate consumer preferences. While this method provided valuable insights, it has certain limitations, particularly in capturing real-world decision-making behavior. To enhance the robustness of our findings, we are now exploring the use of **Choice-Based Conjoint Analysis** (CBC)."
   ]
  },
  {
   "cell_type": "markdown",
   "id": "8fbc997a-b8cb-41f6-938c-62560c0ec5e6",
   "metadata": {},
   "source": [
    "#### **3.4.1. Survey Design and Data Collection**\n",
    "\n",
    "The survey design for the Choice-Based Conjoint (CBC) Analysis was developed using **Sawtooth Software**, ensuring a structured approach. To maintain consistency and facilitate comparison with the previous Rating-Based Conjoint (RBC) study, we retained the **same attributes and levels**.\n",
    "\n",
    "Sawtooth recommended selecting **between 11 and 17 choice tasks**, and we opted for *12*, balancing respondent engagement and data robustness. Additionally, we set each task to include **3 choice alternatives**, a common practice that helps simulate realistic decision-making without overwhelming participants.\n",
    "\n",
    "This is an example of how the survey looks:\n",
    "\n",
    "\n",
    "![Esempio Survey](images/surveyCBC.jpeg)\n",
    "\n",
    "\n",
    "For this CBC section, we relied on a convenience sample consisting of our survey designers and a few acquaintances, resulting in **21 responses**. This approach was not intended for drawing definitive conclusions but rather to assess the efficiency of the method and evaluate its feasibility for future studies."
   ]
  },
  {
   "cell_type": "markdown",
   "id": "ef19af3f-2368-4041-a114-51809e737c62",
   "metadata": {},
   "source": [
    "---\n",
    "#### **3.4.2. Analysis of Results**\n",
    "\n",
    "At first, we exported the summary of **utility** for each level of each attribute."
   ]
  },
  {
   "cell_type": "code",
   "execution_count": 79,
   "id": "52e591fd-bfd4-4fdc-80a8-9a0a132f52e8",
   "metadata": {
    "ExecuteTime": {
     "end_time": "2025-02-06T11:13:00.770250Z",
     "start_time": "2025-02-06T11:13:00.743397Z"
    }
   },
   "outputs": [
    {
     "data": {
      "text/html": [
       "<table class=\"dataframe\">\n",
       "<caption>A tibble: 15 × 5</caption>\n",
       "<thead>\n",
       "\t<tr><th scope=col>Attribute #</th><th scope=col>Attribute</th><th scope=col>Level #</th><th scope=col>Level</th><th scope=col>Utility</th></tr>\n",
       "\t<tr><th scope=col>&lt;dbl&gt;</th><th scope=col>&lt;chr&gt;</th><th scope=col>&lt;dbl&gt;</th><th scope=col>&lt;chr&gt;</th><th scope=col>&lt;dbl&gt;</th></tr>\n",
       "</thead>\n",
       "<tbody>\n",
       "\t<tr><td> 1</td><td>Panatura                         </td><td>1</td><td>Nessuna              </td><td>-39.684014</td></tr>\n",
       "\t<tr><td>NA</td><td>NA                               </td><td>2</td><td>Panko                </td><td> 14.873072</td></tr>\n",
       "\t<tr><td>NA</td><td>NA                               </td><td>3</td><td>Gratinati            </td><td> 24.810942</td></tr>\n",
       "\t<tr><td> 2</td><td>Tipo di pesce                    </td><td>1</td><td>Gambero              </td><td> 19.805719</td></tr>\n",
       "\t<tr><td>NA</td><td>NA                               </td><td>2</td><td>Salmone              </td><td> 14.759057</td></tr>\n",
       "\t<tr><td>NA</td><td>NA                               </td><td>3</td><td>Calamaro             </td><td>-34.564776</td></tr>\n",
       "\t<tr><td> 3</td><td>Tempo di preparazione (in minuti)</td><td>1</td><td>Meno di 8            </td><td> 33.536479</td></tr>\n",
       "\t<tr><td>NA</td><td>NA                               </td><td>2</td><td>Tra 8 e 15           </td><td> 15.278062</td></tr>\n",
       "\t<tr><td>NA</td><td>NA                               </td><td>3</td><td>Più di 15            </td><td>-48.814542</td></tr>\n",
       "\t<tr><td> 4</td><td>Formato confezione               </td><td>1</td><td>Monoporzione         </td><td>-14.537763</td></tr>\n",
       "\t<tr><td>NA</td><td>NA                               </td><td>2</td><td>Doppia porzione      </td><td>  8.397786</td></tr>\n",
       "\t<tr><td>NA</td><td>NA                               </td><td>3</td><td>Formato famiglia     </td><td>  6.139977</td></tr>\n",
       "\t<tr><td> 5</td><td>Spezie                           </td><td>1</td><td>Nessuna              </td><td>-10.749618</td></tr>\n",
       "\t<tr><td>NA</td><td>NA                               </td><td>2</td><td>Prezzemolo e basilico</td><td> -9.177168</td></tr>\n",
       "\t<tr><td>NA</td><td>NA                               </td><td>3</td><td>Salvia e rosmarino   </td><td> 19.926786</td></tr>\n",
       "</tbody>\n",
       "</table>\n"
      ],
      "text/latex": [
       "A tibble: 15 × 5\n",
       "\\begin{tabular}{lllll}\n",
       " Attribute \\# & Attribute & Level \\# & Level & Utility\\\\\n",
       " <dbl> & <chr> & <dbl> & <chr> & <dbl>\\\\\n",
       "\\hline\n",
       "\t  1 & Panatura                          & 1 & Nessuna               & -39.684014\\\\\n",
       "\t NA & NA                                & 2 & Panko                 &  14.873072\\\\\n",
       "\t NA & NA                                & 3 & Gratinati             &  24.810942\\\\\n",
       "\t  2 & Tipo di pesce                     & 1 & Gambero               &  19.805719\\\\\n",
       "\t NA & NA                                & 2 & Salmone               &  14.759057\\\\\n",
       "\t NA & NA                                & 3 & Calamaro              & -34.564776\\\\\n",
       "\t  3 & Tempo di preparazione (in minuti) & 1 & Meno di 8             &  33.536479\\\\\n",
       "\t NA & NA                                & 2 & Tra 8 e 15            &  15.278062\\\\\n",
       "\t NA & NA                                & 3 & Più di 15             & -48.814542\\\\\n",
       "\t  4 & Formato confezione                & 1 & Monoporzione          & -14.537763\\\\\n",
       "\t NA & NA                                & 2 & Doppia porzione       &   8.397786\\\\\n",
       "\t NA & NA                                & 3 & Formato famiglia      &   6.139977\\\\\n",
       "\t  5 & Spezie                            & 1 & Nessuna               & -10.749618\\\\\n",
       "\t NA & NA                                & 2 & Prezzemolo e basilico &  -9.177168\\\\\n",
       "\t NA & NA                                & 3 & Salvia e rosmarino    &  19.926786\\\\\n",
       "\\end{tabular}\n"
      ],
      "text/markdown": [
       "\n",
       "A tibble: 15 × 5\n",
       "\n",
       "| Attribute # &lt;dbl&gt; | Attribute &lt;chr&gt; | Level # &lt;dbl&gt; | Level &lt;chr&gt; | Utility &lt;dbl&gt; |\n",
       "|---|---|---|---|---|\n",
       "|  1 | Panatura                          | 1 | Nessuna               | -39.684014 |\n",
       "| NA | NA                                | 2 | Panko                 |  14.873072 |\n",
       "| NA | NA                                | 3 | Gratinati             |  24.810942 |\n",
       "|  2 | Tipo di pesce                     | 1 | Gambero               |  19.805719 |\n",
       "| NA | NA                                | 2 | Salmone               |  14.759057 |\n",
       "| NA | NA                                | 3 | Calamaro              | -34.564776 |\n",
       "|  3 | Tempo di preparazione (in minuti) | 1 | Meno di 8             |  33.536479 |\n",
       "| NA | NA                                | 2 | Tra 8 e 15            |  15.278062 |\n",
       "| NA | NA                                | 3 | Più di 15             | -48.814542 |\n",
       "|  4 | Formato confezione                | 1 | Monoporzione          | -14.537763 |\n",
       "| NA | NA                                | 2 | Doppia porzione       |   8.397786 |\n",
       "| NA | NA                                | 3 | Formato famiglia      |   6.139977 |\n",
       "|  5 | Spezie                            | 1 | Nessuna               | -10.749618 |\n",
       "| NA | NA                                | 2 | Prezzemolo e basilico |  -9.177168 |\n",
       "| NA | NA                                | 3 | Salvia e rosmarino    |  19.926786 |\n",
       "\n"
      ],
      "text/plain": [
       "   Attribute # Attribute                         Level # Level                \n",
       "1   1          Panatura                          1       Nessuna              \n",
       "2  NA          NA                                2       Panko                \n",
       "3  NA          NA                                3       Gratinati            \n",
       "4   2          Tipo di pesce                     1       Gambero              \n",
       "5  NA          NA                                2       Salmone              \n",
       "6  NA          NA                                3       Calamaro             \n",
       "7   3          Tempo di preparazione (in minuti) 1       Meno di 8            \n",
       "8  NA          NA                                2       Tra 8 e 15           \n",
       "9  NA          NA                                3       Più di 15            \n",
       "10  4          Formato confezione                1       Monoporzione         \n",
       "11 NA          NA                                2       Doppia porzione      \n",
       "12 NA          NA                                3       Formato famiglia     \n",
       "13  5          Spezie                            1       Nessuna              \n",
       "14 NA          NA                                2       Prezzemolo e basilico\n",
       "15 NA          NA                                3       Salvia e rosmarino   \n",
       "   Utility   \n",
       "1  -39.684014\n",
       "2   14.873072\n",
       "3   24.810942\n",
       "4   19.805719\n",
       "5   14.759057\n",
       "6  -34.564776\n",
       "7   33.536479\n",
       "8   15.278062\n",
       "9  -48.814542\n",
       "10 -14.537763\n",
       "11   8.397786\n",
       "12   6.139977\n",
       "13 -10.749618\n",
       "14  -9.177168\n",
       "15  19.926786"
      ]
     },
     "metadata": {},
     "output_type": "display_data"
    }
   ],
   "source": [
    "utilityCBC <- read_excel(\"CBC/CBC1_Attribute_Summary.xlsx\")\n",
    "utilityCBC"
   ]
  },
  {
   "cell_type": "markdown",
   "id": "1d6f4a7b-3fae-4c01-945c-c83f4935aee6",
   "metadata": {},
   "source": [
    "The CBC results show the utility values assigned to different attribute levels. Higher utility values indicate stronger preferences. Key findings:\n",
    "\n",
    "- **Panatura:** *Panko* and *Gratinati* are preferred over *Nessuna Panatura*.  \n",
    "- **Tipo di Pesce:** *Gambero* and *Salmone* have positive utility, while *Calamaro* is the least preferred.  \n",
    "- **Tempo di Preparazione:** Shorter times are preferred, while longer times are less desirable.  \n",
    "- **Formato Confezione:** *Monoporzione* has lower utility compared to larger formats.  \n",
    "- **Spezie:** *Salvia e Rosmarino* is the most favored, while *Nessuna Spezia* are the least preferred.  \n",
    "\n",
    "Respondents show a clear preference for **pre-breaded options, shrimp or salmon, quick preparation, and strong seasoning**.\n",
    "\n",
    "Now, we move on with analysis checking attribute importances and comparing it with Importance Weights computed in RBC.\n",
    "\n",
    "![Importance_attributes](images/IW.jpg)\n",
    "\n",
    "Comparing RBC and CBC results, we get following results:\n",
    "\n",
    "1. **Tipo di Pesce (Type of Fish)**  \n",
    "   - RBC: 0.480 (48.0%)  \n",
    "   - CBC: 31.84%  \n",
    "   - In both methods, \"Tipo di Pesce\" is the most important attribute, but RBC assigns it a significantly higher importance compared to CBC.  \n",
    "\n",
    "2. **Formato Confezione (Package Format)**  \n",
    "   - RBC: 0.281 (28.1%)  \n",
    "   - CBC: 19.92%  \n",
    "   - This attribute ranks second in both methods, though CBC gives it slightly lower importance.  \n",
    "\n",
    "3. **Panatura (Breading)**  \n",
    "   - RBC: 0.063 (6.3%)  \n",
    "   - CBC: 16.72%  \n",
    "   - A major difference is observed here: CBC considers \"Panatura\" more important than RBC does.  \n",
    "\n",
    "4. **Tempo di Preparazione (Preparation Time)**  \n",
    "   - RBC: 0.078 (7.8%)  \n",
    "   - CBC: 18.26%  \n",
    "   - Similar to \"Panatura,\" CBC assigns much greater importance to this attribute than RBC.  \n",
    "\n",
    "5. **Spezie (Spices)**  \n",
    "   - RBC: 0.098 (9.8%)  \n",
    "   - CBC: 13.27%  \n",
    "   - The difference between the two methods is less pronounced for this attribute.  \n",
    "\n",
    "Both methods identify \"Tipo di Pesce\" and \"Formato Confezione\" as the most influential attributes. On the other hand, CBC distributes importance more evenly across all attributes, assigning greater relevance to \"Panatura\" and \"Tempo di Preparazione.\" These discrepancies suggest that RBC and CBC may capture consumer preferences differently, potentially due to variations in the underlying statistical models or survey methodologies."
   ]
  },
  {
   "cell_type": "markdown",
   "id": "349b970a-850e-4f12-aee5-cf5be51bfd37",
   "metadata": {},
   "source": [
    "#### **3.4.3. Market Shares**\n",
    "\n",
    "\n",
    "To estimate the market shares of potential B2C products, we used **Sawtooth Software**. \n",
    "\n",
    "\n",
    "As before, we included **six existing B2B products** in the simulation to assess their potential appeal in the B2C market.  \n",
    "\n",
    "\n",
    "The table below presents the **Share of Preference** for each product considered:  \n",
    "\n",
    "\n",
    "| Product  | Share of Preference | Panatura  | Tipo di Pesce | Tempo di Preparazione | Formato Confezione | Spezie                 |\n",
    "|----------|--------------------|----------|---------------|-----------------------|---------------------|------------------------|\n",
    "| Product1 | **33.28%**          | Panko    | Salmone       | Meno di 8             | Doppia porzione     | Salvia e rosmarino     |\n",
    "| Product2 | **29.84%**          | Gratinati| Gambero       | Meno di 8             | Doppia porzione     | Prezzemolo e basilico  |\n",
    "| Product3 | **11.10%**          | Gratinati| Calamaro      | Tra 8 e 15            | Doppia porzione     | Prezzemolo e basilico  |\n",
    "| Product4 | **14.33%**          | Gratinati| Salmone       | Tra 8 e 15            | Doppia porzione     | Prezzemolo e basilico  |\n",
    "| Product5 | **5.19%**           | Nessuna  | Gambero       | Meno di 8             | Doppia porzione     | Nessuna                |\n",
    "| Product6 | **6.26%**           | Nessuna  | Calamaro      | Tra 8 e 15            | Doppia porzione     | Nessuna                |\n",
    "\n",
    "Key takeaways:\n",
    "1. **Product1 and Product2** dominate the market, together capturing over 63% of preferences.  \n",
    "2. **Panatura and Tipo di Pesce** seem to influence preference significantly, as the top two products have different combinations of these attributes.  \n",
    "3. **Formato Confezione** remains consistent across all products (Doppia Porzione), suggesting that this is not a differentiating factor in preference.  \n",
    "4. **Spezie** and **Tempo di Preparazione** contribute but appear to have a secondary effect compared to the main ingredients.  \n",
    "\n",
    "\n",
    "Then, we tried to compute market shares using the products included in previous analysis of competitors market scenario. This led to the following results:\n",
    "\n",
    "![Market shares](images/CBC_marketshares.png)\n",
    "\n",
    "The two methodologies yield different market share results, influenced by both the approach and sample size. In the **Rating-Based Conjoint (RBC)** (90 respondents), **ProdMarePiù** captures **37.91%**, while **Product A** and **Product B** follow closely with **32.86%** and **29.23%**, respectively. In contrast, the **Choice-Based Conjoint (CBC)** (21 respondents) shows a stronger preference for **ProdMarePiù** (**54.17%**), with **Product A at 30.16%** and **Product B at 15.66%**. The **smaller CBC sample size may amplify differences**, while RBC distributes shares more evenly due to rating-based evaluations. Despite this, **CBC better reflects real-world choices**, making it more predictive of actual consumer behavior.\n",
    "\n",
    "\n",
    "Overall, using CBC we capture a **greater variability** in share of preferences and this results in **clearer insights**.\n",
    "\n",
    "These insights will guide strategic decisions on product positioning and marketing efforts for a potential B2C launch.  "
   ]
  },
  {
   "cell_type": "markdown",
   "id": "74ea9b1acf8839be",
   "metadata": {},
   "source": [
    "---\n",
    "## **5. Conclusion**\n",
    "For the **Conjoint Analysis for MarePiù**, we conducted a survey that revealed a very low average rating for skewers. Although 95 out of 122 respondents do purchase frozen fish, skewers do not appear to be particularly appealing, as indicated by the large number of zero ratings, presenting a **significant limitation** to our analysis.\n",
    "\n",
    "Nevertheless, we continued with further conjoint analysis which highlighted:\n",
    "- **Tipo di Pesce**: *Gambero* and *Salmone* are the most relevant types of fish, with *Calamaro* being less preferred. This attribute is the one to which consumers have given the most importance in their choices.\n",
    "- **Panatura**: from the conjoint, it is the least important attribute, but this does not coincide with what was stated by the respondents in the survey. The most appreciated breading is *gratinato*.\n",
    "- **Formato Confezione, Spezie, and Tempo di Preparazione**: these have intermediate utility and respectively the preferred ones are '*Doppia*', '*Prezzemolo e Basilico* and '*Meno di 8 Minuti*'.\n",
    "\n",
    "The **highest utility score** for all bundles recorded was **52.89**, emphasizing the need to acknowledge the limitations of our data. Particularly, the **low appeal of skewers** suggests that removing extremely high scores could refine the insights and provide a more accurate representation of consumer preferences. We tried to *exclude respondents with an average rating below 30*, which helped us understand whether their presence negatively influenced overall results.\n",
    "\n",
    "Moreover, we analyzed the **importance of existing products** considering all responses (initial conjoint) identifying **'Gambero Gratinato con Prezzemolo e Basilico pronto in meno di 8 minuti e venduta in confezione doppia'** as the best-performing option in terms of overall preference. It could be convenient for the company to introduce it to B2C as it would not entail excessive costs being already in production.\n",
    "\n",
    "Subsequently, to test this hypothesis, we used **Market Share forecasts** computed through the conjoint. We simulated the market, lacking access to competitor information. The product shows good positioning under both evaluation methods, which were the *share-of-rule* and *first-choice rule* preferences.\n",
    "\n",
    "Finally, to consider the bias in our data, to further validate these findings, we also explored a **Choice-Based Conjoint (CBC) analysis**, even with fewer respondents. This offers a more precise measure of consumer preferences and can support strategic decisions regarding product positioning."
   ]
  },
  {
   "cell_type": "markdown",
   "id": "77a07d0c-c358-47cd-be51-6d61b1f9c66e",
   "metadata": {},
   "source": [
    "---"
   ]
  },
  {
   "cell_type": "code",
   "execution_count": null,
   "id": "fac675b4-14c4-4299-a5b0-6d2869b2dd11",
   "metadata": {},
   "outputs": [],
   "source": []
  }
 ],
 "metadata": {
  "kernelspec": {
   "display_name": "R",
   "language": "R",
   "name": "ir"
  },
  "language_info": {
   "codemirror_mode": "r",
   "file_extension": ".r",
   "mimetype": "text/x-r-source",
   "name": "R",
   "pygments_lexer": "r",
   "version": "4.4.2"
  }
 },
 "nbformat": 4,
 "nbformat_minor": 5
}
