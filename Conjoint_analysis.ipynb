{
 "cells": [
  {
   "cell_type": "markdown",
   "id": "f3a597a2-278f-4bea-8503-b3fce671136c",
   "metadata": {},
   "source": [
    "## Conjoint survey\n",
    "\n",
    "The second questionnaire is structured to gather comprehensive data for conducting a conjoint analysis aimed at understanding consumer preferences for frozen fish skewers. Its purpose is to identify the most appealing combinations of product attributes to optimize the offering and align it with market demand. The key elements of the questionnaire are:\n",
    "\n",
    "**1. Demographics**\n",
    "Basic respondent information such as age, gender and location is collected to understand the consumer profile.\n",
    "\n",
    "**2. Consumption Habits**\n",
    "This section explores consumer behavior related to frozen fish products. Respondents are asked how frequently they purchase such products and what factors most influence their purchasing decisions. This part also includes some questions related to brand perception, exploring how brand recognition and trust influence purchase decisions. \n",
    "\n",
    "**3. Evaluation of Possible Bundles**\n",
    "Participants are asked to indicate the likelihood of purchasing frozen fish skewers with different combinations of characteristics. A table is provided where each row represents a specific combination of attributes, including coating, type of seafood, price per kilogram, oven cooking time, packaging format and seasoning. Participants are required to assign a score from 0 to 100 to each combination in the table, reflecting their relative preference compared to the other proposed options.\n",
    "\n",
    "**4. Factors Influencing Ratings**\n",
    "Participants are asked to identify which characteristics most influenced their evaluations of the frozen fish skewer combinations and they can select multiple factors. This section helps to pinpoint the attributes that drive consumer preferences and provides insights into what aspects are most critical for decision-making.\n",
    "\n",
    "Overall, the questionnaire is designed to provide a detailed understanding of consumer preferences and trade-offs, enabling the company to design and market frozen fish skewers that resonate with its target audience. The insights gained will inform product development and strategic decision-making, ensuring a competitive and consumer-centric product offering."
   ]
  },
  {
   "cell_type": "code",
   "execution_count": 2,
   "id": "250fdd1a-8862-43a8-b1a1-9996b028c511",
   "metadata": {
    "ExecuteTime": {
     "end_time": "2025-01-22T16:11:03.036780Z",
     "start_time": "2025-01-22T16:11:01.739801Z"
    }
   },
   "outputs": [
    {
     "ename": "NameError",
     "evalue": "name 'library' is not defined",
     "output_type": "error",
     "traceback": [
      "\u001b[1;31m---------------------------------------------------------------------------\u001b[0m",
      "\u001b[1;31mNameError\u001b[0m                                 Traceback (most recent call last)",
      "Cell \u001b[1;32mIn[2], line 1\u001b[0m\n\u001b[1;32m----> 1\u001b[0m \u001b[43mlibrary\u001b[49m(radiant)\n",
      "\u001b[1;31mNameError\u001b[0m: name 'library' is not defined"
     ]
    }
   ],
   "source": [
    "library(radiant)"
   ]
  },
  {
   "cell_type": "code",
   "execution_count": null,
   "id": "7344e14a-cad2-4b45-83fc-dd23140fa96a",
   "metadata": {
    "ExecuteTime": {
     "end_time": "2025-01-22T16:11:05.735897Z",
     "start_time": "2025-01-22T16:11:05.720421Z"
    }
   },
   "outputs": [],
   "source": [
    "data.attribute1 <- \"Panatura; Nessuna; Panko; Gratinati\"\n",
    "data.attribute2 <- \"Tipo di pesce; Gambero; Salmone; Calamaro\"\n",
    "#data.attribute3 <- \"Prezzo al kg; 12-18; 19-25; Più di 25\"\n",
    "data.attribute4 <- \"Tempo di Preparazione; Meno di 8; Tra 8 e 15; Più di 15\"\n",
    "data.attribute5 <- \"Formato confezione; monoporzione; doppia porzione; formato famiglia\"\n",
    "data.attribute6 <- 'Spezie; Nessuna; Prezzemolo e Basilico; Salvia e Rosmarino'\n",
    "#data.attribute7 <- 'Origine; Italia; Albania'\n",
    "\n",
    "data.attributes <- c(data.attribute1, data.attribute2, data.attribute4, data.attribute5, data.attribute6)"
   ]
  },
  {
   "cell_type": "code",
   "execution_count": null,
   "id": "de8eb9d0-f173-4607-88a1-4b3113bc3307",
   "metadata": {
    "ExecuteTime": {
     "end_time": "2025-01-22T16:11:09.598036Z",
     "start_time": "2025-01-22T16:11:08.364814Z"
    }
   },
   "outputs": [],
   "source": [
    "summary(doe(data.attributes, seed = 42, trials = 15))"
   ]
  },
  {
   "cell_type": "code",
   "execution_count": null,
   "id": "116ecf77-2482-4455-b91e-03ed010c47a4",
   "metadata": {},
   "outputs": [],
   "source": []
  },
  {
   "cell_type": "code",
   "execution_count": null,
   "id": "76cd704e-af94-43ab-b928-0d350cdcc180",
   "metadata": {},
   "outputs": [],
   "source": []
  }
 ],
 "metadata": {
  "kernelspec": {
   "display_name": "Python 3 (ipykernel)",
   "language": "python",
   "name": "python3"
  },
  "language_info": {
   "codemirror_mode": {
    "name": "ipython",
    "version": 3
   },
   "file_extension": ".py",
   "mimetype": "text/x-python",
   "name": "python",
   "nbconvert_exporter": "python",
   "pygments_lexer": "ipython3",
   "version": "3.10.4"
  }
 },
 "nbformat": 4,
 "nbformat_minor": 5
}
