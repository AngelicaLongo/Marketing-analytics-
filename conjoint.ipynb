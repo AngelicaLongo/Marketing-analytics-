{
 "cells": [
  {
   "cell_type": "code",
   "execution_count": null,
   "id": "initial_id",
   "metadata": {
    "collapsed": true
   },
   "outputs": [],
   "source": [
    "data_attribute1 = ''\n",
    "data_attribute2 = ''\n",
    "data_attribute3 = ''\n",
    "data_attribute4 = ''\n"
   ]
  },
  {
   "metadata": {},
   "cell_type": "code",
   "outputs": [],
   "execution_count": null,
   "source": [
    "import radiant\n",
    "# attribute1, attribute2, etc. are vectors with one element in which we first provide the name of the attribute followed by a semi-colon and then provide all the levels of the attributes separated by semi-colons\n",
    "officestar.attribute1 <- \"Location; Less than 2 miles; Within 2 to 5 miles; Within 5 to 10 miles\"\n",
    "officestar.attribute2 <- \"OfficeSupplies; Limited assortment; Large assortment; Very large assortment\"\n",
    "officestar.attribute3 <- \"Furniture; No furniture; Office furniture\"\n",
    "officestar.attribute4 <- \"Computers; No computers; Software only; Software and computers\"\n",
    "\n",
    "# now combine these different attributes into one vector with c()\n",
    "officestar.attributes <- c(officestar.attribute1, officestar.attribute2, officest"
   ],
   "id": "1490db9ab141cf4d"
  }
 ],
 "metadata": {
  "kernelspec": {
   "display_name": "Python 3",
   "language": "python",
   "name": "python3"
  },
  "language_info": {
   "codemirror_mode": {
    "name": "ipython",
    "version": 2
   },
   "file_extension": ".py",
   "mimetype": "text/x-python",
   "name": "python",
   "nbconvert_exporter": "python",
   "pygments_lexer": "ipython2",
   "version": "2.7.6"
  }
 },
 "nbformat": 4,
 "nbformat_minor": 5
}
